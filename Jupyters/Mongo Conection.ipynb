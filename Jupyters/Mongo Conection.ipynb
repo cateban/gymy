{
 "cells": [
  {
   "cell_type": "code",
   "execution_count": 1,
   "metadata": {},
   "outputs": [],
   "source": [
    "import re\n",
    "import requests\n",
    "from bs4 import BeautifulSoup\n",
    "import unidecode\n",
    "import numpy as np\n",
    "from selenium import webdriver\n",
    "from webdriver_manager.chrome import ChromeDriverManager\n",
    "import pandas as pd\n",
    "import numpy as np\n",
    "from slugify import slugify\n",
    "from opencage.geocoder import OpenCageGeocode\n",
    "import pymongo\n",
    "from pymongo import MongoClient\n",
    "from tqdm import tqdm\n",
    "from tqdm import trange\n",
    "import folium\n",
    "from folium import plugins"
   ]
  },
  {
   "cell_type": "code",
   "execution_count": 2,
   "metadata": {},
   "outputs": [],
   "source": [
    "#creating the Mongo conection\n",
    "cliente=MongoClient('mongodb://localhost:27017')\n",
    "db = cliente.gymy\n",
    "col = db.gymy"
   ]
  },
  {
   "cell_type": "code",
   "execution_count": 5,
   "metadata": {},
   "outputs": [],
   "source": [
    "gymy = pd.read_csv('gymy_latlong.csv')\n",
    "gymy.drop(columns = 'Unnamed: 0',inplace=True)"
   ]
  },
  {
   "cell_type": "code",
   "execution_count": 14,
   "metadata": {},
   "outputs": [
    {
     "name": "stdout",
     "output_type": "stream",
     "text": [
      "<class 'pandas.core.frame.DataFrame'>\n",
      "RangeIndex: 188 entries, 0 to 187\n",
      "Data columns (total 11 columns):\n",
      " #   Column       Non-Null Count  Dtype  \n",
      "---  ------       --------------  -----  \n",
      " 0   names        188 non-null    object \n",
      " 1   address      188 non-null    object \n",
      " 2   phone        163 non-null    object \n",
      " 3   web          117 non-null    object \n",
      " 4   description  123 non-null    object \n",
      " 5   category     173 non-null    object \n",
      " 6   city         173 non-null    object \n",
      " 7   link         188 non-null    object \n",
      " 8   long         188 non-null    float64\n",
      " 9   lat          188 non-null    float64\n",
      " 10  principal    188 non-null    object \n",
      "dtypes: float64(2), object(9)\n",
      "memory usage: 16.3+ KB\n"
     ]
    }
   ],
   "source": [
    "gymy.info()"
   ]
  },
  {
   "cell_type": "code",
   "execution_count": 15,
   "metadata": {},
   "outputs": [
    {
     "name": "stderr",
     "output_type": "stream",
     "text": [
      "100%|██████████| 188/188 [00:00<00:00, 7815.73it/s]\n"
     ]
    }
   ],
   "source": [
    "lista_points = []\n",
    "for i in tqdm(range(len(gymy))):\n",
    "    \n",
    "    lista_points.append(dict({'type':'Point',\n",
    "                          'coordinates': [gymy.long[i],\n",
    "                                         gymy.lat[i]]}))"
   ]
  },
  {
   "cell_type": "code",
   "execution_count": 16,
   "metadata": {},
   "outputs": [],
   "source": [
    "gymy['principal'] = pd.Series(lista_points)"
   ]
  },
  {
   "cell_type": "code",
   "execution_count": 17,
   "metadata": {},
   "outputs": [
    {
     "data": {
      "text/plain": [
       "dict"
      ]
     },
     "execution_count": 17,
     "metadata": {},
     "output_type": "execute_result"
    }
   ],
   "source": [
    "type(gymy.head().principal[0])"
   ]
  },
  {
   "cell_type": "code",
   "execution_count": 18,
   "metadata": {},
   "outputs": [
    {
     "data": {
      "text/plain": [
       "<pymongo.results.InsertManyResult at 0x10338a200>"
      ]
     },
     "execution_count": 18,
     "metadata": {},
     "output_type": "execute_result"
    }
   ],
   "source": [
    "\n",
    "db.gymy.insert_many(gymy.to_dict('records'))"
   ]
  },
  {
   "cell_type": "code",
   "execution_count": 19,
   "metadata": {},
   "outputs": [
    {
     "data": {
      "text/plain": [
       "'principal_2dsphere'"
      ]
     },
     "execution_count": 19,
     "metadata": {},
     "output_type": "execute_result"
    }
   ],
   "source": [
    "#creo el índice 2dsphere para poder hacer geoqueries\n",
    "db.gymy.create_index([('principal', '2dsphere')])"
   ]
  },
  {
   "cell_type": "code",
   "execution_count": null,
   "metadata": {},
   "outputs": [],
   "source": [
    "def token(token):\n",
    "    with open(token, 'r') as f:\n",
    "        t=f.readlines()[0].split('\\n')[0]\n",
    "    return t\n"
   ]
  },
  {
   "cell_type": "code",
   "execution_count": 43,
   "metadata": {},
   "outputs": [],
   "source": [
    "geocoder = OpenCageGeocode(token('geocagetoken.txt'))"
   ]
  },
  {
   "cell_type": "code",
   "execution_count": 63,
   "metadata": {},
   "outputs": [],
   "source": [
    "prueba = geocoder.geocode('zona 11, guatemala')"
   ]
  },
  {
   "cell_type": "code",
   "execution_count": null,
   "metadata": {},
   "outputs": [],
   "source": []
  },
  {
   "cell_type": "code",
   "execution_count": 59,
   "metadata": {},
   "outputs": [
    {
     "data": {
      "text/plain": [
       "{'ISO_3166-1_alpha-2': 'GT',\n",
       " 'ISO_3166-1_alpha-3': 'GTM',\n",
       " '_category': 'place',\n",
       " '_type': 'country',\n",
       " 'continent': 'North America',\n",
       " 'country': 'Guatemala',\n",
       " 'country_code': 'gt'}"
      ]
     },
     "execution_count": 59,
     "metadata": {},
     "output_type": "execute_result"
    }
   ],
   "source": [
    "prueba[0]['components']"
   ]
  },
  {
   "cell_type": "code",
   "execution_count": 54,
   "metadata": {},
   "outputs": [
    {
     "data": {
      "text/plain": [
       "'Guatemala City'"
      ]
     },
     "execution_count": 54,
     "metadata": {},
     "output_type": "execute_result"
    }
   ],
   "source": [
    "ciudad = prueba[0]['components']['city']\n"
   ]
  },
  {
   "cell_type": "code",
   "execution_count": 75,
   "metadata": {},
   "outputs": [],
   "source": [
    "#funcion que me permite encontrar puntos cercanos con radio por default de 1000 metros\n",
    "def find_near(geopoint, radio=1000):\n",
    "    \n",
    "    return col.find({'principal':{\n",
    "        '$near': {'$geometry': geopoint, '$maxDistance':radio}\n",
    "    }})"
   ]
  },
  {
   "cell_type": "code",
   "execution_count": 76,
   "metadata": {},
   "outputs": [],
   "source": [
    "#función que permite al usuario elegir una dirección y en base a la misma devuelve los datos necesarios para hacer la geoquery\n",
    "def getting_coor():\n",
    "    try:\n",
    "        x = input('Where would you like your office? ')\n",
    "        m = 5000\n",
    "        results = geocoder.geocode(x)\n",
    "        fcoordinates=[]\n",
    "        coordinates=[]\n",
    "        coordinates.append(results[0]['geometry']['lng'])\n",
    "        coordinates.append(results[0]['geometry']['lat']) \n",
    "        bandera = results[0]['annotations']['flag']\n",
    "        country = results[0]['components']['country']\n",
    "        city=results[0]['components']['city']\n",
    "        localidad = country+', '+city\n",
    "        fcoordinates.append(coordinates)\n",
    "        fcoordinates.append(m)\n",
    "        fcoordinates.append(localidad)\n",
    "        fcoordinates.append(x)\n",
    "        fcoordinates.append(bandera)\n",
    "        return fcoordinates\n",
    "    except:\n",
    "        return 'Not a valid address'"
   ]
  },
  {
   "cell_type": "code",
   "execution_count": 77,
   "metadata": {},
   "outputs": [
    {
     "data": {
      "text/plain": [
       "'Not a valid address'"
      ]
     },
     "execution_count": 77,
     "metadata": {},
     "output_type": "execute_result"
    }
   ],
   "source": [
    "getting_coor()"
   ]
  },
  {
   "cell_type": "code",
   "execution_count": 79,
   "metadata": {},
   "outputs": [
    {
     "name": "stdout",
     "output_type": "stream",
     "text": [
      "Where would you like your office? zona 14 guatemala\n"
     ]
    },
    {
     "name": "stderr",
     "output_type": "stream",
     "text": [
      "<ipython-input-79-c197b9febaeb>:15: DeprecationWarning: count is deprecated. Use Collection.count_documents instead.\n",
      "  n_ofi=find_near(address, ratio).count()\n"
     ]
    },
    {
     "name": "stdout",
     "output_type": "stream",
     "text": [
      "Amount of offices near zona 14 guatemala are: 81\n"
     ]
    },
    {
     "data": {
      "text/html": [
       "<div style=\"width:100%;\"><div style=\"position:relative;width:100%;height:0;padding-bottom:60%;\"><iframe src=\"about:blank\" style=\"position:absolute;width:100%;height:100%;left:0;top:0;border:none !important;\" data-html=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 onload=\"this.contentDocument.open();this.contentDocument.write(atob(this.getAttribute('data-html')));this.contentDocument.close();\" allowfullscreen webkitallowfullscreen mozallowfullscreen></iframe></div></div>"
      ],
      "text/plain": [
       "<folium.folium.Map at 0x10e99a3a0>"
      ]
     },
     "execution_count": 79,
     "metadata": {},
     "output_type": "execute_result"
    }
   ],
   "source": [
    "#este podría ser el código principal que solicita el input del usuario y devuelve el mapa\n",
    "\n",
    "coordenadas = getting_coor() #acá inicializa la funcion creada arriba\n",
    "longlat = coordenadas[0]\n",
    "latlong = longlat[::-1]\n",
    "radio = coordenadas[1]\n",
    "pais = coordenadas[4]\n",
    "localidad = coordenadas[2]\n",
    "direccion_solicitud = coordenadas[3]\n",
    "\n",
    "address={'type': 'Point', 'coordinates':longlat}  # geopoint\n",
    "\n",
    "ratio=radio  # radio de busqueda\n",
    "\n",
    "n_ofi=find_near(address, ratio).count()\n",
    "ofi = find_near(address, ratio)\n",
    "ofi=pd.DataFrame(ofi)\n",
    "\n",
    "#creating map object\n",
    "tooltip = 'Location you chose: {} \\n {}'.format(direccion_solicitud,localidad)\n",
    "mapa=folium.Map(latlong, zoom_start=14, width='100%', height='100%')\n",
    "datamapa=ofi[['lat', 'long']].values\n",
    "mapa.add_child(plugins.HeatMap(datamapa, radius=15))\n",
    "folium.Marker(latlong, tooltip=tooltip, icon=folium.Icon()).add_to(mapa)\n",
    "mapa.save('MapaFinal.html')\n",
    "print('Amount of offices near {} are: {}'.format(direccion_solicitud,n_ofi))\n",
    "mapa"
   ]
  },
  {
   "cell_type": "code",
   "execution_count": 30,
   "metadata": {},
   "outputs": [
    {
     "name": "stdout",
     "output_type": "stream",
     "text": [
      "Where would you like your office? zona 14 guatemala\n"
     ]
    }
   ],
   "source": [
    "x = getting_coor()"
   ]
  },
  {
   "cell_type": "code",
   "execution_count": 31,
   "metadata": {},
   "outputs": [
    {
     "data": {
      "text/plain": [
       "[[-90.5184938, 14.5795823],\n",
       " 5000,\n",
       " 'Guatemala, Guatemala City',\n",
       " 'zona 14 guatemala',\n",
       " '🇬🇹']"
      ]
     },
     "execution_count": 31,
     "metadata": {},
     "output_type": "execute_result"
    }
   ],
   "source": [
    "x"
   ]
  },
  {
   "cell_type": "code",
   "execution_count": 36,
   "metadata": {},
   "outputs": [
    {
     "data": {
      "text/html": [
       "<div>\n",
       "<style scoped>\n",
       "    .dataframe tbody tr th:only-of-type {\n",
       "        vertical-align: middle;\n",
       "    }\n",
       "\n",
       "    .dataframe tbody tr th {\n",
       "        vertical-align: top;\n",
       "    }\n",
       "\n",
       "    .dataframe thead th {\n",
       "        text-align: right;\n",
       "    }\n",
       "</style>\n",
       "<table border=\"1\" class=\"dataframe\">\n",
       "  <thead>\n",
       "    <tr style=\"text-align: right;\">\n",
       "      <th></th>\n",
       "      <th>_id</th>\n",
       "      <th>names</th>\n",
       "      <th>address</th>\n",
       "      <th>phone</th>\n",
       "      <th>web</th>\n",
       "      <th>description</th>\n",
       "      <th>category</th>\n",
       "      <th>city</th>\n",
       "      <th>link</th>\n",
       "      <th>long</th>\n",
       "      <th>lat</th>\n",
       "      <th>principal</th>\n",
       "    </tr>\n",
       "  </thead>\n",
       "  <tbody>\n",
       "    <tr>\n",
       "      <th>0</th>\n",
       "      <td>5ebdbf30703b9cbb5ec9b0cd</td>\n",
       "      <td>Vitam CrossFit</td>\n",
       "      <td>5a Avenida 12-56 Zona 14</td>\n",
       "      <td>tel:+(502) 2366-6810</td>\n",
       "      <td>https://directorio.guatemala.com/listing_repor...</td>\n",
       "      <td>El mejor y más completo método de acondicionam...</td>\n",
       "      <td>Crossfit</td>\n",
       "      <td>Guatemala - Guatemala</td>\n",
       "      <td>https://www.google.com.ar/maps/place/5+Avenida...</td>\n",
       "      <td>-90.519826</td>\n",
       "      <td>14.584827</td>\n",
       "      <td>{'type': 'Point', 'coordinates': [-90.51982609...</td>\n",
       "    </tr>\n",
       "    <tr>\n",
       "      <th>1</th>\n",
       "      <td>5ebdbf30703b9cbb5ec9b0bf</td>\n",
       "      <td>Squash Zone</td>\n",
       "      <td>10 Avenida 10-50 Zona 14</td>\n",
       "      <td>(+502) 5580 1015</td>\n",
       "      <td>NaN</td>\n",
       "      <td>NaN</td>\n",
       "      <td>entrenamiento fisico</td>\n",
       "      <td>Guatemala - Guatemala</td>\n",
       "      <td>https://www.google.com.ar/maps/place/Futeca+Sp...</td>\n",
       "      <td>-90.523611</td>\n",
       "      <td>14.582833</td>\n",
       "      <td>{'type': 'Point', 'coordinates': [-90.5236105,...</td>\n",
       "    </tr>\n",
       "    <tr>\n",
       "      <th>2</th>\n",
       "      <td>5ebdbf30703b9cbb5ec9b0be</td>\n",
       "      <td>Sporta Gym</td>\n",
       "      <td>La Noria</td>\n",
       "      <td>NaN</td>\n",
       "      <td>NaN</td>\n",
       "      <td>NaN</td>\n",
       "      <td>NaN</td>\n",
       "      <td>NaN</td>\n",
       "      <td>https://www.google.com/maps/place/Sporta+La+No...</td>\n",
       "      <td>-90.524555</td>\n",
       "      <td>14.581316</td>\n",
       "      <td>{'type': 'Point', 'coordinates': [-90.52455479...</td>\n",
       "    </tr>\n",
       "    <tr>\n",
       "      <th>3</th>\n",
       "      <td>5ebdbf30703b9cbb5ec9b03e</td>\n",
       "      <td>Club La Villa</td>\n",
       "      <td>20 Avenida 8-81</td>\n",
       "      <td>(+502) 2333 7324</td>\n",
       "      <td>NaN</td>\n",
       "      <td>NaN</td>\n",
       "      <td>deportes</td>\n",
       "      <td>Guatemala - Guatemala</td>\n",
       "      <td>https://www.google.com/maps/place/Club+la+Vill...</td>\n",
       "      <td>-90.512070</td>\n",
       "      <td>14.580398</td>\n",
       "      <td>{'type': 'Point', 'coordinates': [-90.51206979...</td>\n",
       "    </tr>\n",
       "    <tr>\n",
       "      <th>4</th>\n",
       "      <td>5ebdbf30703b9cbb5ec9b08c</td>\n",
       "      <td>Micheo Boxing by Futeca Zona 14</td>\n",
       "      <td>10a Avenida 10-50 Zona 14</td>\n",
       "      <td>tel:+(502) 2366-8052</td>\n",
       "      <td>NaN</td>\n",
       "      <td>En Micheo Boxing by Futeca somos una academia ...</td>\n",
       "      <td>Boxeo</td>\n",
       "      <td>Guatemala - Guatemala</td>\n",
       "      <td>https://www.google.com/maps/place/Futeca,+Cdad...</td>\n",
       "      <td>-90.523159</td>\n",
       "      <td>14.584182</td>\n",
       "      <td>{'type': 'Point', 'coordinates': [-90.5231594,...</td>\n",
       "    </tr>\n",
       "    <tr>\n",
       "      <th>...</th>\n",
       "      <td>...</td>\n",
       "      <td>...</td>\n",
       "      <td>...</td>\n",
       "      <td>...</td>\n",
       "      <td>...</td>\n",
       "      <td>...</td>\n",
       "      <td>...</td>\n",
       "      <td>...</td>\n",
       "      <td>...</td>\n",
       "      <td>...</td>\n",
       "      <td>...</td>\n",
       "      <td>...</td>\n",
       "    </tr>\n",
       "    <tr>\n",
       "      <th>76</th>\n",
       "      <td>5ebdbf30703b9cbb5ec9b05f</td>\n",
       "      <td>Federacion Nacional De Baloncesto</td>\n",
       "      <td>Gimnasio Nacional Teodoro Palacios Flores Z.5</td>\n",
       "      <td>(+502) 2361 9851</td>\n",
       "      <td>NaN</td>\n",
       "      <td>NaN</td>\n",
       "      <td>federaciones deportivas</td>\n",
       "      <td>Guatemala - Guatemala</td>\n",
       "      <td>https://www.google.com/maps/place/Gimnasio+Teo...</td>\n",
       "      <td>-90.518809</td>\n",
       "      <td>14.623166</td>\n",
       "      <td>{'type': 'Point', 'coordinates': [-90.51880909...</td>\n",
       "    </tr>\n",
       "    <tr>\n",
       "      <th>77</th>\n",
       "      <td>5ebdbf30703b9cbb5ec9b063</td>\n",
       "      <td>Federación Nacional De Esgrima C.D.A.G.</td>\n",
       "      <td>12 Av 25 Cl Zona 5</td>\n",
       "      <td>(+502) 2331 2680</td>\n",
       "      <td>NaN</td>\n",
       "      <td>NaN</td>\n",
       "      <td>federaciones deportivas</td>\n",
       "      <td>Guatemala - Guatemala</td>\n",
       "      <td>https://www.google.com/maps/place/CDAG/@14.623...</td>\n",
       "      <td>-90.521432</td>\n",
       "      <td>14.623381</td>\n",
       "      <td>{'type': 'Point', 'coordinates': [-90.52143170...</td>\n",
       "    </tr>\n",
       "    <tr>\n",
       "      <th>78</th>\n",
       "      <td>5ebdbf30703b9cbb5ec9b061</td>\n",
       "      <td>Federación Nacional De Boxeo De Guatemala</td>\n",
       "      <td>24 Cl Palacio De Los Deportes 9-31 Zona 4</td>\n",
       "      <td>(+502) 2361 8263</td>\n",
       "      <td>NaN</td>\n",
       "      <td>NaN</td>\n",
       "      <td>federaciones deportivas</td>\n",
       "      <td>Guatemala - Guatemala</td>\n",
       "      <td>https://www.google.com/maps/place/CDAG/@14.623...</td>\n",
       "      <td>-90.521432</td>\n",
       "      <td>14.623381</td>\n",
       "      <td>{'type': 'Point', 'coordinates': [-90.52143170...</td>\n",
       "    </tr>\n",
       "    <tr>\n",
       "      <th>79</th>\n",
       "      <td>5ebdbf30703b9cbb5ec9b05e</td>\n",
       "      <td>Federación Nacional De Ajedrez De Guatemala</td>\n",
       "      <td>Av 10 A 25-01 Z 5</td>\n",
       "      <td>(+502) 2360 8267</td>\n",
       "      <td>NaN</td>\n",
       "      <td>NaN</td>\n",
       "      <td>deportes</td>\n",
       "      <td>Guatemala - Guatemala</td>\n",
       "      <td>https://www.google.com/maps/place/Federacion+N...</td>\n",
       "      <td>-90.518789</td>\n",
       "      <td>14.623939</td>\n",
       "      <td>{'type': 'Point', 'coordinates': [-90.5187886,...</td>\n",
       "    </tr>\n",
       "    <tr>\n",
       "      <th>80</th>\n",
       "      <td>5ebdbf30703b9cbb5ec9b066</td>\n",
       "      <td>Federación Nacional De Remo Y Canotaje De Guat...</td>\n",
       "      <td>26 Cl 9-31 Zona 5</td>\n",
       "      <td>(+502) 2339 3376</td>\n",
       "      <td>NaN</td>\n",
       "      <td>NaN</td>\n",
       "      <td>federaciones deportivas</td>\n",
       "      <td>Guatemala - Guatemala</td>\n",
       "      <td>https://www.google.com/maps/place/FEDERACION+N...</td>\n",
       "      <td>-90.519771</td>\n",
       "      <td>14.623977</td>\n",
       "      <td>{'type': 'Point', 'coordinates': [-90.5197708,...</td>\n",
       "    </tr>\n",
       "  </tbody>\n",
       "</table>\n",
       "<p>81 rows × 12 columns</p>\n",
       "</div>"
      ],
      "text/plain": [
       "                         _id  \\\n",
       "0   5ebdbf30703b9cbb5ec9b0cd   \n",
       "1   5ebdbf30703b9cbb5ec9b0bf   \n",
       "2   5ebdbf30703b9cbb5ec9b0be   \n",
       "3   5ebdbf30703b9cbb5ec9b03e   \n",
       "4   5ebdbf30703b9cbb5ec9b08c   \n",
       "..                       ...   \n",
       "76  5ebdbf30703b9cbb5ec9b05f   \n",
       "77  5ebdbf30703b9cbb5ec9b063   \n",
       "78  5ebdbf30703b9cbb5ec9b061   \n",
       "79  5ebdbf30703b9cbb5ec9b05e   \n",
       "80  5ebdbf30703b9cbb5ec9b066   \n",
       "\n",
       "                                                names  \\\n",
       "0                                      Vitam CrossFit   \n",
       "1                                         Squash Zone   \n",
       "2                                          Sporta Gym   \n",
       "3                                       Club La Villa   \n",
       "4                     Micheo Boxing by Futeca Zona 14   \n",
       "..                                                ...   \n",
       "76                  Federacion Nacional De Baloncesto   \n",
       "77            Federación Nacional De Esgrima C.D.A.G.   \n",
       "78          Federación Nacional De Boxeo De Guatemala   \n",
       "79        Federación Nacional De Ajedrez De Guatemala   \n",
       "80  Federación Nacional De Remo Y Canotaje De Guat...   \n",
       "\n",
       "                                          address                 phone  \\\n",
       "0                        5a Avenida 12-56 Zona 14  tel:+(502) 2366-6810   \n",
       "1                        10 Avenida 10-50 Zona 14      (+502) 5580 1015   \n",
       "2                                        La Noria                   NaN   \n",
       "3                                 20 Avenida 8-81      (+502) 2333 7324   \n",
       "4                       10a Avenida 10-50 Zona 14  tel:+(502) 2366-8052   \n",
       "..                                            ...                   ...   \n",
       "76  Gimnasio Nacional Teodoro Palacios Flores Z.5      (+502) 2361 9851   \n",
       "77                             12 Av 25 Cl Zona 5      (+502) 2331 2680   \n",
       "78      24 Cl Palacio De Los Deportes 9-31 Zona 4      (+502) 2361 8263   \n",
       "79                              Av 10 A 25-01 Z 5      (+502) 2360 8267   \n",
       "80                              26 Cl 9-31 Zona 5      (+502) 2339 3376   \n",
       "\n",
       "                                                  web  \\\n",
       "0   https://directorio.guatemala.com/listing_repor...   \n",
       "1                                                 NaN   \n",
       "2                                                 NaN   \n",
       "3                                                 NaN   \n",
       "4                                                 NaN   \n",
       "..                                                ...   \n",
       "76                                                NaN   \n",
       "77                                                NaN   \n",
       "78                                                NaN   \n",
       "79                                                NaN   \n",
       "80                                                NaN   \n",
       "\n",
       "                                          description  \\\n",
       "0   El mejor y más completo método de acondicionam...   \n",
       "1                                                 NaN   \n",
       "2                                                 NaN   \n",
       "3                                                 NaN   \n",
       "4   En Micheo Boxing by Futeca somos una academia ...   \n",
       "..                                                ...   \n",
       "76                                                NaN   \n",
       "77                                                NaN   \n",
       "78                                                NaN   \n",
       "79                                                NaN   \n",
       "80                                                NaN   \n",
       "\n",
       "                   category                   city  \\\n",
       "0                  Crossfit  Guatemala - Guatemala   \n",
       "1      entrenamiento fisico  Guatemala - Guatemala   \n",
       "2                       NaN                    NaN   \n",
       "3                  deportes  Guatemala - Guatemala   \n",
       "4                     Boxeo  Guatemala - Guatemala   \n",
       "..                      ...                    ...   \n",
       "76  federaciones deportivas  Guatemala - Guatemala   \n",
       "77  federaciones deportivas  Guatemala - Guatemala   \n",
       "78  federaciones deportivas  Guatemala - Guatemala   \n",
       "79                 deportes  Guatemala - Guatemala   \n",
       "80  federaciones deportivas  Guatemala - Guatemala   \n",
       "\n",
       "                                                 link       long        lat  \\\n",
       "0   https://www.google.com.ar/maps/place/5+Avenida... -90.519826  14.584827   \n",
       "1   https://www.google.com.ar/maps/place/Futeca+Sp... -90.523611  14.582833   \n",
       "2   https://www.google.com/maps/place/Sporta+La+No... -90.524555  14.581316   \n",
       "3   https://www.google.com/maps/place/Club+la+Vill... -90.512070  14.580398   \n",
       "4   https://www.google.com/maps/place/Futeca,+Cdad... -90.523159  14.584182   \n",
       "..                                                ...        ...        ...   \n",
       "76  https://www.google.com/maps/place/Gimnasio+Teo... -90.518809  14.623166   \n",
       "77  https://www.google.com/maps/place/CDAG/@14.623... -90.521432  14.623381   \n",
       "78  https://www.google.com/maps/place/CDAG/@14.623... -90.521432  14.623381   \n",
       "79  https://www.google.com/maps/place/Federacion+N... -90.518789  14.623939   \n",
       "80  https://www.google.com/maps/place/FEDERACION+N... -90.519771  14.623977   \n",
       "\n",
       "                                            principal  \n",
       "0   {'type': 'Point', 'coordinates': [-90.51982609...  \n",
       "1   {'type': 'Point', 'coordinates': [-90.5236105,...  \n",
       "2   {'type': 'Point', 'coordinates': [-90.52455479...  \n",
       "3   {'type': 'Point', 'coordinates': [-90.51206979...  \n",
       "4   {'type': 'Point', 'coordinates': [-90.5231594,...  \n",
       "..                                                ...  \n",
       "76  {'type': 'Point', 'coordinates': [-90.51880909...  \n",
       "77  {'type': 'Point', 'coordinates': [-90.52143170...  \n",
       "78  {'type': 'Point', 'coordinates': [-90.52143170...  \n",
       "79  {'type': 'Point', 'coordinates': [-90.5187886,...  \n",
       "80  {'type': 'Point', 'coordinates': [-90.5197708,...  \n",
       "\n",
       "[81 rows x 12 columns]"
      ]
     },
     "execution_count": 36,
     "metadata": {},
     "output_type": "execute_result"
    }
   ],
   "source": [
    "ofi"
   ]
  },
  {
   "cell_type": "code",
   "execution_count": 41,
   "metadata": {},
   "outputs": [],
   "source": []
  },
  {
   "cell_type": "code",
   "execution_count": 42,
   "metadata": {},
   "outputs": [
    {
     "data": {
      "text/plain": [
       "'d8314354b31d46a298e0f21ffb920a34'"
      ]
     },
     "execution_count": 42,
     "metadata": {},
     "output_type": "execute_result"
    }
   ],
   "source": [
    "token('geocagetoken.txt')"
   ]
  },
  {
   "cell_type": "code",
   "execution_count": null,
   "metadata": {},
   "outputs": [],
   "source": []
  }
 ],
 "metadata": {
  "kernelspec": {
   "display_name": "Python 3",
   "language": "python",
   "name": "python3"
  },
  "language_info": {
   "codemirror_mode": {
    "name": "ipython",
    "version": 3
   },
   "file_extension": ".py",
   "mimetype": "text/x-python",
   "name": "python",
   "nbconvert_exporter": "python",
   "pygments_lexer": "ipython3",
   "version": "3.8.0"
  }
 },
 "nbformat": 4,
 "nbformat_minor": 4
}
