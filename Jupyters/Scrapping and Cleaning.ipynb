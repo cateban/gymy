{
 "cells": [
  {
   "cell_type": "code",
   "execution_count": 100,
   "metadata": {},
   "outputs": [],
   "source": [
    "import re\n",
    "import requests\n",
    "from bs4 import BeautifulSoup\n",
    "import unidecode\n",
    "import numpy as np\n",
    "from selenium import webdriver\n",
    "from selenium.webdriver.common.keys import Keys\n",
    "from webdriver_manager.chrome import ChromeDriverManager\n",
    "import pandas as pd\n",
    "from tqdm import tqdm\n",
    "from tqdm import trange\n",
    "import time\n",
    "from slugify import slugify"
   ]
  },
  {
   "cell_type": "markdown",
   "metadata": {},
   "source": [
    "# Getting Data\n",
    "\n",
    "Each establishment will initially consist of following fields:\n",
    "- id\n",
    "- name\n",
    "- description\n",
    "- phone\n",
    "- website\n",
    "- hours\n",
    "- category\n",
    "- address\n",
    "- zip code\n",
    "- city\n",
    "- country\n",
    "- latitude\n",
    "- longitude"
   ]
  },
  {
   "cell_type": "markdown",
   "metadata": {},
   "source": [
    "### Yellow Pages"
   ]
  },
  {
   "cell_type": "code",
   "execution_count": 89,
   "metadata": {},
   "outputs": [],
   "source": [
    "def get_yellow_info(url,category):\n",
    "    \n",
    "    names=[]\n",
    "    city=[]\n",
    "    address=[]\n",
    "    phone=[]\n",
    "    web=[]\n",
    "    description=[]\n",
    "    \n",
    "    response = requests.get(url)\n",
    "    \n",
    "    #get soup\n",
    "    soup = BeautifulSoup(response.text,'lxml')\n",
    "    \n",
    "    #getting main box\n",
    "    general = soup.find_all('div', itemtype=\"https://schema.org/LocalBusiness\")\n",
    "\n",
    "    \n",
    "    if len(general)>0:\n",
    "        for i in range(len(general)):\n",
    "\n",
    "            #NAMES\n",
    "            try:\n",
    "                names.append(general[i].find('a', class_='companyName').text.split('\\n')[1].strip())\n",
    "            except:\n",
    "                names.append(np.nan)\n",
    "\n",
    "           #CITY\n",
    "            try:\n",
    "                city.append(general[i].find('span', class_='city').text.strip())\n",
    "            except:\n",
    "                city.append(np.nan)\n",
    "\n",
    "            #Address\n",
    "            try:\n",
    "                address.append(general[i].find('span', class_='directionFig').text.split('\\n')[1].strip())\n",
    "            except:\n",
    "                address.append(np.nan)\n",
    "\n",
    "\n",
    "            #phone\n",
    "            try:\n",
    "                phone.append(general[i].find('span', class_='phoneFig hide').text.strip())\n",
    "            except:\n",
    "                phone.append(np.nan)\n",
    "\n",
    "            #web\n",
    "            try:\n",
    "                web.append(general[i].find('a', class_='webLink').text.strip())\n",
    "\n",
    "            except:\n",
    "                web.append(np.nan)\n",
    "\n",
    "            #description\n",
    "            try:\n",
    "                description.append(general[i].find('div', class_='col-sm-12 infoBox').text.strip())\n",
    "            except:\n",
    "                description.append(np.nan)\n",
    "                \n",
    "        \n",
    "        #creating dataframe\n",
    "        df = pd.DataFrame(zip(names, city, address,phone,web,description),\n",
    "                              columns=['names','city','address','phone','web','description'])\n",
    "        \n",
    "        df['category'] = category\n",
    "        \n",
    "        return df\n",
    "                \n",
    "            \n",
    "    else:\n",
    "        return print('no se pudo, response:', response.status_code)"
   ]
  },
  {
   "cell_type": "code",
   "execution_count": 90,
   "metadata": {},
   "outputs": [],
   "source": [
    "lista_url = [\n",
    "        ['https://www.paginasamarillas.com.gt/servicios/gimnasios-de-educacion-fisica?page=1',\n",
    "         'Gimnasios de Educación Física'],\n",
    "    \n",
    "        ['https://www.paginasamarillas.com.gt/servicios/gimnasios-de-educacion-fisica?page=2',\n",
    "         'Gimnasios de Educación Física'],\n",
    "    \n",
    "        ['https://www.paginasamarillas.com.gt/servicios/gimnasios-de-educacion-fisica?page=3',\n",
    "         'Gimnasios de Educación Física'],\n",
    "    \n",
    "        ['https://www.paginasamarillas.com.gt/servicios/federaciones-deportivas',\n",
    "         'federaciones deportivas'],\n",
    "    \n",
    "        ['https://www.paginasamarillas.com.gt/servicios/federaciones',\n",
    "         'federaciones deportivas'],\n",
    "    \n",
    "        ['https://www.paginasamarillas.com.gt/servicios/academias-de-ballet', \n",
    "         'ballet'],\n",
    "    \n",
    "        ['https://www.paginasamarillas.com.gt/servicios/bolos',\n",
    "         'boliche'],\n",
    "    \n",
    "        ['https://www.paginasamarillas.com.gt/servicios/artes-marciales-ensenanza-de',\n",
    "         'artes marciales'],\n",
    "    \n",
    "        ['https://www.paginasamarillas.com.gt/servicios/deportes?page=1',\n",
    "         'deportes'],\n",
    "    \n",
    "        ['https://www.paginasamarillas.com.gt/servicios/deportes?page=2',\n",
    "         'deportes'],\n",
    "    \n",
    "        ['https://www.paginasamarillas.com.gt/servicios/deportes?page=3',\n",
    "         'deportes'],\n",
    "    \n",
    "        ['https://www.paginasamarillas.com.gt/servicios/deportes?page=4',\n",
    "         'deportes'],\n",
    "    \n",
    "        ['https://www.paginasamarillas.com.gt/servicios/entrenamiento-fisico',\n",
    "         'entrenamiento fisico'],\n",
    "        \n",
    "        ['https://www.paginasamarillas.com.gt/servicios/escuelas-de-artes-marciales',\n",
    "         'artes marciales'],\n",
    "\n",
    "        ['https://www.paginasamarillas.com.gt/servicios/escuelas-de-karate',\n",
    "         'artes marciales'],\n",
    "\n",
    "        ['https://www.paginasamarillas.com.gt/servicios/escuelas-de-natacion',\n",
    "         'natacion'],\n",
    "\n",
    "        ['https://www.paginasamarillas.com.gt/servicios/escuelas-de-vuelo-libre',\n",
    "         'aviacion'],\n",
    "\n",
    "        ['https://www.paginasamarillas.com.gt/servicios/escuelas-de-aviacion',\n",
    "         'aviacion'],\n",
    "\n",
    "        ['https://www.paginasamarillas.com.gt/servicios/golf',\n",
    "         'golf'],\n",
    "\n",
    "        ['https://www.paginasamarillas.com.gt/servicios/hipodromos',\n",
    "         'hipodromos']\n",
    "        ]"
   ]
  },
  {
   "cell_type": "code",
   "execution_count": 91,
   "metadata": {},
   "outputs": [],
   "source": [
    "yellow = pd.DataFrame()\n",
    "for url in lista_url:\n",
    "    bucle = get_yellow_info(url[0],url[1])\n",
    "    yellow = pd.concat([yellow,bucle],ignore_index=True)"
   ]
  },
  {
   "cell_type": "code",
   "execution_count": null,
   "metadata": {},
   "outputs": [],
   "source": [
    "yellow.head()"
   ]
  },
  {
   "cell_type": "markdown",
   "metadata": {},
   "source": [
    "### Dance Academys"
   ]
  },
  {
   "cell_type": "code",
   "execution_count": 12,
   "metadata": {},
   "outputs": [],
   "source": [
    "url = 'https://www.guatemala.com/guias/pasatiempos/academias-de-baile-en-guatemala/scenic-dance-guatemala.html'"
   ]
  },
  {
   "cell_type": "code",
   "execution_count": 13,
   "metadata": {},
   "outputs": [],
   "source": [
    "def baile(url,category,web):\n",
    "    response = requests.get(url)\n",
    "    soup = BeautifulSoup(response.text, 'lxml')\n",
    "    names = [soup.find('h1').text]\n",
    "    city = ['Guatemala - Guatemala']\n",
    "    address = [soup.find('p',class_='address').text]\n",
    "    phone = [soup.find('div',class_='schedule-box span_mobile12 span_tablet3 span3').text.strip().split('\\n')[1]]\n",
    "    description = [soup.find('div',class_='single-content').p.text.strip()]\n",
    "    category = [category]\n",
    "    web = [web]\n",
    "    return pd.DataFrame(zip(names, city, address,phone,web,description,category),\n",
    "                              columns=['names','city','address','phone','web','description','category'])\n",
    "    \n",
    "    "
   ]
  },
  {
   "cell_type": "code",
   "execution_count": 14,
   "metadata": {},
   "outputs": [],
   "source": [
    "lista_url = [\n",
    "        ['https://www.guatemala.com/guias/pasatiempos/academias-de-baile-en-guatemala/scenic-dance-guatemala.html',\n",
    "         'Baile','https://es-la.facebook.com/ScenicDance/'],\n",
    "    \n",
    "        ['https://www.guatemala.com/guias/pasatiempos/academias-de-baile-en-guatemala/salsa-latin-guatemala.html',\n",
    "        'Baile','https://www.facebook.com/Salsa-Latin-Guatemala-178268719078/'],\n",
    "        \n",
    "        ['https://www.guatemala.com/guias/pasatiempos/academias-de-baile-en-guatemala/academia-dance-art.html',\n",
    "         'Baile','https://es-la.facebook.com/Danceartguatemala/'],\n",
    "    \n",
    "        ['https://www.guatemala.com/guias/pasatiempos/academias-de-baile-en-guatemala/academia-bellydance-rashida.html',\n",
    "        'Baile', 'https://es-la.facebook.com/Rashidaacademy/'],\n",
    "        \n",
    "        ['https://www.guatemala.com/guias/pasatiempos/academias-de-baile-en-guatemala/addiction-dance-studio.html',\n",
    "        'Baile','https://es-la.facebook.com/adsgt/'],\n",
    "    \n",
    "        ['https://www.guatemala.com/guias/pasatiempos/academias-de-baile-en-guatemala/escuela-cubana-de-baile-.html',\n",
    "        'Baile','https://es-la.facebook.com/Escuela-Cubana-de-Baile-110562958135/'],\n",
    "    \n",
    "        ['https://www.guatemala.com/guias/pasatiempos/academias-de-baile-en-guatemala/in-motion-dance-fitness-guatemala.html',\n",
    "        'Baile','http://www.inmotiongt.com/'],\n",
    "    \n",
    "        ['https://www.guatemala.com/guias/pasatiempos/academias-de-baile-en-guatemala/academia-de-ballet-danzarte.html',\n",
    "        'Baile','https://es-la.facebook.com/Danzarte.ballet/'],\n",
    "    \n",
    "        ['https://www.guatemala.com/guias/pasatiempos/academias-de-baile-en-guatemala/ritmo-y-sabor-guatemala.html',\n",
    "        'Baile','https://es-la.facebook.com/ritmoysaborgt/'],\n",
    "    \n",
    "        ['https://www.guatemala.com/guias/pasatiempos/academias-de-baile-en-guatemala/escuela-municipal-de-danza-clasica.html',\n",
    "        'Baile','https://es-la.facebook.com/EMDCgt/'],\n",
    "    \n",
    "        ['https://www.guatemala.com/guias/pasatiempos/academias-de-baile-en-guatemala/heroes-academy-guatemala-.html',\n",
    "        'Baile','https://es-la.facebook.com/HeroesCompanyGT/'],\n",
    "    \n",
    "        ['https://www.guatemala.com/guias/pasatiempos/academias-de-baile-en-guatemala/unidanza-guatemala-.html',\n",
    "        'Baile','http://unidanza.net/'],\n",
    "    \n",
    "        ['https://www.guatemala.com/guias/pasatiempos/academias-de-baile-en-guatemala/unlimited-dance-academy.html',\n",
    "        'Baile','https://unlimited-dance.com.gt/'],\n",
    "    \n",
    "        ['https://www.guatemala.com/guias/pasatiempos/academias-de-baile-en-guatemala/the-dance-factory.html',\n",
    "        'Baile','https://es-la.facebook.com/DanceFactoryGT/']\n",
    "    \n",
    "\n",
    "        ]"
   ]
  },
  {
   "cell_type": "code",
   "execution_count": 15,
   "metadata": {},
   "outputs": [],
   "source": [
    "df=pd.DataFrame()\n",
    "for url in lista_url:\n",
    "    bucle = baile(url[0],url[1],url[2])\n",
    "    df2 = pd.concat([df2,bucle],ignore_index=True)"
   ]
  },
  {
   "cell_type": "code",
   "execution_count": 16,
   "metadata": {},
   "outputs": [
    {
     "data": {
      "text/html": [
       "<div>\n",
       "<style scoped>\n",
       "    .dataframe tbody tr th:only-of-type {\n",
       "        vertical-align: middle;\n",
       "    }\n",
       "\n",
       "    .dataframe tbody tr th {\n",
       "        vertical-align: top;\n",
       "    }\n",
       "\n",
       "    .dataframe thead th {\n",
       "        text-align: right;\n",
       "    }\n",
       "</style>\n",
       "<table border=\"1\" class=\"dataframe\">\n",
       "  <thead>\n",
       "    <tr style=\"text-align: right;\">\n",
       "      <th></th>\n",
       "      <th>names</th>\n",
       "      <th>city</th>\n",
       "      <th>address</th>\n",
       "      <th>phone</th>\n",
       "      <th>web</th>\n",
       "      <th>description</th>\n",
       "      <th>categoría</th>\n",
       "      <th>category</th>\n",
       "    </tr>\n",
       "  </thead>\n",
       "  <tbody>\n",
       "    <tr>\n",
       "      <th>0</th>\n",
       "      <td>Cosenza Academy</td>\n",
       "      <td>San José Pinula - Guatemala</td>\n",
       "      <td>Km 18.9 Carretera A San José Pinula, C.C. la P...</td>\n",
       "      <td>(+502) 6637 5035</td>\n",
       "      <td>www.cosenzaacademy.com</td>\n",
       "      <td>Buscamos poder contribuir a la formación integ...</td>\n",
       "      <td>artes marciales</td>\n",
       "      <td>NaN</td>\n",
       "    </tr>\n",
       "    <tr>\n",
       "      <th>1</th>\n",
       "      <td>Cosenza Academy</td>\n",
       "      <td>San José Pinula - Guatemala</td>\n",
       "      <td>Km 18.9 Carretera A San José Pinula, C.C. la P...</td>\n",
       "      <td>(+502) 6637 5035</td>\n",
       "      <td>www.cosenzaacademy.com</td>\n",
       "      <td>Buscamos poder contribuir a la formación integ...</td>\n",
       "      <td>artes marciales</td>\n",
       "      <td>NaN</td>\n",
       "    </tr>\n",
       "    <tr>\n",
       "      <th>2</th>\n",
       "      <td>Schumann'S Cordova</td>\n",
       "      <td>Guatemala - Guatemala</td>\n",
       "      <td>Blvd San Cristobal Centro Comercial San Cristo...</td>\n",
       "      <td>(+502) 2478 1097</td>\n",
       "      <td>http://www.schumanscordova.com</td>\n",
       "      <td></td>\n",
       "      <td>artes marciales</td>\n",
       "      <td>NaN</td>\n",
       "    </tr>\n",
       "    <tr>\n",
       "      <th>3</th>\n",
       "      <td>Empresas De Competencia, Sociedad Anonima</td>\n",
       "      <td>Guatemala - Guatemala</td>\n",
       "      <td>Boulevard Rafael Landivar Paseo Cayala L 209</td>\n",
       "      <td>(+502) 2493 8000</td>\n",
       "      <td>NaN</td>\n",
       "      <td></td>\n",
       "      <td>artes marciales</td>\n",
       "      <td>NaN</td>\n",
       "    </tr>\n",
       "    <tr>\n",
       "      <th>4</th>\n",
       "      <td>Grupo Aquatic, S.A.</td>\n",
       "      <td>Guatemala - Guatemala</td>\n",
       "      <td>Km 17.5 Boulevard San José Villa Nueva, Frente...</td>\n",
       "      <td>(+502) 2312 0808</td>\n",
       "      <td>www.aquaticcenterguate.com</td>\n",
       "      <td>Clases de natación para bebés, niños y adultos...</td>\n",
       "      <td>natacion</td>\n",
       "      <td>NaN</td>\n",
       "    </tr>\n",
       "  </tbody>\n",
       "</table>\n",
       "</div>"
      ],
      "text/plain": [
       "                                       names                         city  \\\n",
       "0                            Cosenza Academy  San José Pinula - Guatemala   \n",
       "1                            Cosenza Academy  San José Pinula - Guatemala   \n",
       "2                         Schumann'S Cordova        Guatemala - Guatemala   \n",
       "3  Empresas De Competencia, Sociedad Anonima        Guatemala - Guatemala   \n",
       "4                        Grupo Aquatic, S.A.        Guatemala - Guatemala   \n",
       "\n",
       "                                             address             phone  \\\n",
       "0  Km 18.9 Carretera A San José Pinula, C.C. la P...  (+502) 6637 5035   \n",
       "1  Km 18.9 Carretera A San José Pinula, C.C. la P...  (+502) 6637 5035   \n",
       "2  Blvd San Cristobal Centro Comercial San Cristo...  (+502) 2478 1097   \n",
       "3       Boulevard Rafael Landivar Paseo Cayala L 209  (+502) 2493 8000   \n",
       "4  Km 17.5 Boulevard San José Villa Nueva, Frente...  (+502) 2312 0808   \n",
       "\n",
       "                              web  \\\n",
       "0          www.cosenzaacademy.com   \n",
       "1          www.cosenzaacademy.com   \n",
       "2  http://www.schumanscordova.com   \n",
       "3                             NaN   \n",
       "4      www.aquaticcenterguate.com   \n",
       "\n",
       "                                         description        categoría category  \n",
       "0  Buscamos poder contribuir a la formación integ...  artes marciales      NaN  \n",
       "1  Buscamos poder contribuir a la formación integ...  artes marciales      NaN  \n",
       "2                                                     artes marciales      NaN  \n",
       "3                                                     artes marciales      NaN  \n",
       "4  Clases de natación para bebés, niños y adultos...         natacion      NaN  "
      ]
     },
     "execution_count": 16,
     "metadata": {},
     "output_type": "execute_result"
    }
   ],
   "source": [
    "df2.head()"
   ]
  },
  {
   "cell_type": "markdown",
   "metadata": {},
   "source": [
    "### Crossfit"
   ]
  },
  {
   "cell_type": "code",
   "execution_count": 17,
   "metadata": {},
   "outputs": [],
   "source": [
    "url = 'https://www.guatemala.com/deportes/crossfit/gimnasios-box-para-hacer-crossfit-guatemala.html'"
   ]
  },
  {
   "cell_type": "code",
   "execution_count": 18,
   "metadata": {},
   "outputs": [],
   "source": [
    "response = requests.get(url)\n",
    "soup = BeautifulSoup(response.text,'lxml')"
   ]
  },
  {
   "cell_type": "code",
   "execution_count": 19,
   "metadata": {},
   "outputs": [],
   "source": [
    "names = [soup.find_all('h3')[i].text for i in range(len(soup.find_all('h3'))-2)]\n",
    "names.insert(2,'CrossFit 502')\n",
    "names.insert(4,'Crossfit FD6')\n",
    "names.insert(9,'CrossFit Spring City Once')"
   ]
  },
  {
   "cell_type": "code",
   "execution_count": 20,
   "metadata": {},
   "outputs": [],
   "source": [
    "address = [soup.find_all('ul')[i].li.text.strip() for i in range(2,len(soup.find_all('ul'))-3)]"
   ]
  },
  {
   "cell_type": "code",
   "execution_count": 21,
   "metadata": {},
   "outputs": [],
   "source": [
    "address.insert(1,address[1].split('|')[0])\n",
    "address[2] = address[2].split('|')[1]\n",
    "address.insert(3,address[3].split('|')[0])\n",
    "address[4] = address[4].split('|')[1]\n",
    "address.insert(8,address[8].split('|')[0])\n",
    "address[9] = address[9].split('|')[1]"
   ]
  },
  {
   "cell_type": "code",
   "execution_count": 22,
   "metadata": {},
   "outputs": [],
   "source": [
    "phone = [soup.find_all('ul')[i].find_all('li')[1].text.strip().split('Contacto:')[1].split('Facebook')[0].strip() for i in range(2,len(soup.find_all('ul'))-3)]\n",
    "phone.insert(1,phone[1].split('|')[0])\n",
    "phone[2] = phone[2].split('|')[1]\n",
    "phone.insert(3,phone[3].split('|')[0])\n",
    "phone[4] = phone[4].split('|')[1]\n",
    "phone.insert(8,phone[8].split('|')[0])\n",
    "phone[9] = phone[9].split('|')[1]"
   ]
  },
  {
   "cell_type": "code",
   "execution_count": 23,
   "metadata": {},
   "outputs": [
    {
     "data": {
      "text/plain": [
       "'https://www.facebook.com/invictusperformance/'"
      ]
     },
     "execution_count": 23,
     "metadata": {},
     "output_type": "execute_result"
    }
   ],
   "source": [
    "soup.find_all('a', href=True)[72]['href']"
   ]
  },
  {
   "cell_type": "code",
   "execution_count": 24,
   "metadata": {},
   "outputs": [],
   "source": [
    "web = [soup.find_all('a', href=True)[i]['href'] for i in range(72,79)]"
   ]
  },
  {
   "cell_type": "code",
   "execution_count": 25,
   "metadata": {},
   "outputs": [],
   "source": [
    "web.insert(2,'https://www.facebook.com/CF502/')\n",
    "web.insert(4,'https://www.facebook.com/d6lifechangingfitness/')\n",
    "web.insert(9,'https://www.facebook.com/crossfitspringcity7/')"
   ]
  },
  {
   "cell_type": "code",
   "execution_count": 26,
   "metadata": {},
   "outputs": [],
   "source": [
    "description = ['crossfit' for i in range(len(names))]\n",
    "category = ['crossfit' for i in range(len(names))]\n",
    "city = ['Guatemala - Guatemala' for i in range(len(names))]"
   ]
  },
  {
   "cell_type": "code",
   "execution_count": 27,
   "metadata": {},
   "outputs": [],
   "source": [
    "category = ['crossfit' for i in range(len(names))]"
   ]
  },
  {
   "cell_type": "code",
   "execution_count": 28,
   "metadata": {},
   "outputs": [],
   "source": [
    "city = ['Guatemala - Guatemala' for i in range(len(names))]"
   ]
  },
  {
   "cell_type": "code",
   "execution_count": 29,
   "metadata": {},
   "outputs": [],
   "source": [
    "crossfit = pd.DataFrame(zip(names, city, address,phone,web,description,category),\n",
    "                              columns=['names','city','address','phone','web','description','category'])"
   ]
  },
  {
   "cell_type": "code",
   "execution_count": 30,
   "metadata": {},
   "outputs": [],
   "source": [
    "def numero(x): #si la fecha tiene formaro de dd-mmm-aa devuelve únicamente el año\n",
    "    if re.search(r\"(\\d)\", x.lower()):\n",
    "        ye = re.search(r\"^\\d?\\d-\\w\\w\\w-(\\d\\d\\d?\\d?)$\", x.lower())\n",
    "        x = ye.group(1)\n",
    "        return x\n",
    "    else:\n",
    "        return x"
   ]
  },
  {
   "cell_type": "code",
   "execution_count": 32,
   "metadata": {},
   "outputs": [],
   "source": [
    "crossfit.phone = crossfit.phone.apply(lambda x: re.search(r\"(\\d+\\s\\d+)\",x).group(1))"
   ]
  },
  {
   "cell_type": "code",
   "execution_count": 33,
   "metadata": {},
   "outputs": [
    {
     "data": {
      "text/html": [
       "<div>\n",
       "<style scoped>\n",
       "    .dataframe tbody tr th:only-of-type {\n",
       "        vertical-align: middle;\n",
       "    }\n",
       "\n",
       "    .dataframe tbody tr th {\n",
       "        vertical-align: top;\n",
       "    }\n",
       "\n",
       "    .dataframe thead th {\n",
       "        text-align: right;\n",
       "    }\n",
       "</style>\n",
       "<table border=\"1\" class=\"dataframe\">\n",
       "  <thead>\n",
       "    <tr style=\"text-align: right;\">\n",
       "      <th></th>\n",
       "      <th>names</th>\n",
       "      <th>city</th>\n",
       "      <th>address</th>\n",
       "      <th>phone</th>\n",
       "      <th>web</th>\n",
       "      <th>description</th>\n",
       "      <th>category</th>\n",
       "    </tr>\n",
       "  </thead>\n",
       "  <tbody>\n",
       "    <tr>\n",
       "      <th>0</th>\n",
       "      <td>Invictus Performance Training</td>\n",
       "      <td>Guatemala - Guatemala</td>\n",
       "      <td>Ubicación: 8a. avenida 6-63, Zona 14</td>\n",
       "      <td>2367 1239</td>\n",
       "      <td>https://www.facebook.com/invictusperformance/</td>\n",
       "      <td>crossfit</td>\n",
       "      <td>crossfit</td>\n",
       "    </tr>\n",
       "    <tr>\n",
       "      <th>1</th>\n",
       "      <td>CrossFit 502</td>\n",
       "      <td>Guatemala - Guatemala</td>\n",
       "      <td>Ubicación:  Dinamia Cayalá, Zona 16</td>\n",
       "      <td>2368 5013</td>\n",
       "      <td>https://www.facebook.com/CF502/</td>\n",
       "      <td>crossfit</td>\n",
       "      <td>crossfit</td>\n",
       "    </tr>\n",
       "    <tr>\n",
       "      <th>2</th>\n",
       "      <td>CrossFit 502</td>\n",
       "      <td>Guatemala - Guatemala</td>\n",
       "      <td>C.C. Escala, Carretera a El Salvador</td>\n",
       "      <td>6637 3778</td>\n",
       "      <td>https://www.facebook.com/CF502/</td>\n",
       "      <td>crossfit</td>\n",
       "      <td>crossfit</td>\n",
       "    </tr>\n",
       "    <tr>\n",
       "      <th>3</th>\n",
       "      <td>CrossFit FD6</td>\n",
       "      <td>Guatemala - Guatemala</td>\n",
       "      <td>Ubicación: Plaza Futeca, Zona 14</td>\n",
       "      <td>2213 6900</td>\n",
       "      <td>https://www.facebook.com/d6lifechangingfitness/</td>\n",
       "      <td>crossfit</td>\n",
       "      <td>crossfit</td>\n",
       "    </tr>\n",
       "    <tr>\n",
       "      <th>4</th>\n",
       "      <td>Crossfit FD6</td>\n",
       "      <td>Guatemala - Guatemala</td>\n",
       "      <td>C.C. Miraflores, Zona 11</td>\n",
       "      <td>2225 3200</td>\n",
       "      <td>https://www.facebook.com/d6lifechangingfitness/</td>\n",
       "      <td>crossfit</td>\n",
       "      <td>crossfit</td>\n",
       "    </tr>\n",
       "  </tbody>\n",
       "</table>\n",
       "</div>"
      ],
      "text/plain": [
       "                           names                   city  \\\n",
       "0  Invictus Performance Training  Guatemala - Guatemala   \n",
       "1                   CrossFit 502  Guatemala - Guatemala   \n",
       "2                   CrossFit 502  Guatemala - Guatemala   \n",
       "3                   CrossFit FD6  Guatemala - Guatemala   \n",
       "4                   Crossfit FD6  Guatemala - Guatemala   \n",
       "\n",
       "                                 address      phone  \\\n",
       "0   Ubicación: 8a. avenida 6-63, Zona 14  2367 1239   \n",
       "1   Ubicación:  Dinamia Cayalá, Zona 16   2368 5013   \n",
       "2   C.C. Escala, Carretera a El Salvador  6637 3778   \n",
       "3      Ubicación: Plaza Futeca, Zona 14   2213 6900   \n",
       "4               C.C. Miraflores, Zona 11  2225 3200   \n",
       "\n",
       "                                               web description  category  \n",
       "0    https://www.facebook.com/invictusperformance/    crossfit  crossfit  \n",
       "1                  https://www.facebook.com/CF502/    crossfit  crossfit  \n",
       "2                  https://www.facebook.com/CF502/    crossfit  crossfit  \n",
       "3  https://www.facebook.com/d6lifechangingfitness/    crossfit  crossfit  \n",
       "4  https://www.facebook.com/d6lifechangingfitness/    crossfit  crossfit  "
      ]
     },
     "execution_count": 33,
     "metadata": {},
     "output_type": "execute_result"
    }
   ],
   "source": [
    "crossfit.head()"
   ]
  },
  {
   "cell_type": "markdown",
   "metadata": {},
   "source": [
    "### Futeca"
   ]
  },
  {
   "cell_type": "code",
   "execution_count": 34,
   "metadata": {},
   "outputs": [],
   "source": [
    "url = 'https://futecagym.com/sedes/'\n",
    "response = requests.get(url).text"
   ]
  },
  {
   "cell_type": "code",
   "execution_count": 35,
   "metadata": {},
   "outputs": [],
   "source": [
    "soup = BeautifulSoup(response,'lxml')"
   ]
  },
  {
   "cell_type": "code",
   "execution_count": 36,
   "metadata": {},
   "outputs": [],
   "source": [
    "general = soup.find_all('div', class_='column_attr clearfix')"
   ]
  },
  {
   "cell_type": "code",
   "execution_count": 37,
   "metadata": {},
   "outputs": [],
   "source": [
    "names= ['Futeca Gym - '+general[i].find_all('h4')[0].text for i in range(0,len(general),2) ]"
   ]
  },
  {
   "cell_type": "code",
   "execution_count": 38,
   "metadata": {},
   "outputs": [],
   "source": [
    "address = [general[i].find_all('p')[0].text.split('Dirección')[1].strip() for i in range(0,len(general),2) ]"
   ]
  },
  {
   "cell_type": "code",
   "execution_count": 39,
   "metadata": {},
   "outputs": [],
   "source": [
    "phone = [general[i].find_all('p')[1].text for i in range(0,len(general),2) ]"
   ]
  },
  {
   "cell_type": "code",
   "execution_count": 40,
   "metadata": {},
   "outputs": [],
   "source": [
    "df = pd.DataFrame(zip(names,address,phone),columns=['names','address','phone'])"
   ]
  },
  {
   "cell_type": "code",
   "execution_count": 41,
   "metadata": {},
   "outputs": [],
   "source": [
    "df['city'] = 'Guatemala - Guatemala'\n",
    "df['category'] = 'Gimnasios de Educación Física'\n",
    "df['web'] = 'https://futecagym.com/'\n",
    "df['description'] = '''Futeca Gym, es un gimnasio que nace en el 2010. Enfocado en mejorar la calidad de vida de sus socios, a través del ejercicio, una buena alimentación y la creación de comunidades estrechas entre socios.'''"
   ]
  },
  {
   "cell_type": "code",
   "execution_count": 42,
   "metadata": {},
   "outputs": [],
   "source": [
    "futeca = df[['names','city','address','phone','web','description','category']]"
   ]
  },
  {
   "cell_type": "code",
   "execution_count": 43,
   "metadata": {},
   "outputs": [
    {
     "data": {
      "text/html": [
       "<div>\n",
       "<style scoped>\n",
       "    .dataframe tbody tr th:only-of-type {\n",
       "        vertical-align: middle;\n",
       "    }\n",
       "\n",
       "    .dataframe tbody tr th {\n",
       "        vertical-align: top;\n",
       "    }\n",
       "\n",
       "    .dataframe thead th {\n",
       "        text-align: right;\n",
       "    }\n",
       "</style>\n",
       "<table border=\"1\" class=\"dataframe\">\n",
       "  <thead>\n",
       "    <tr style=\"text-align: right;\">\n",
       "      <th></th>\n",
       "      <th>names</th>\n",
       "      <th>city</th>\n",
       "      <th>address</th>\n",
       "      <th>phone</th>\n",
       "      <th>web</th>\n",
       "      <th>description</th>\n",
       "      <th>category</th>\n",
       "    </tr>\n",
       "  </thead>\n",
       "  <tbody>\n",
       "    <tr>\n",
       "      <th>0</th>\n",
       "      <td>Futeca Gym - Zona 14</td>\n",
       "      <td>Guatemala - Guatemala</td>\n",
       "      <td>10ma. Avenida 10-50 zona 14. Plaza Futeca, Loc...</td>\n",
       "      <td>Teléfono: +502 22136900</td>\n",
       "      <td>https://futecagym.com/</td>\n",
       "      <td>Futeca Gym, es un gimnasio que nace en el 2010...</td>\n",
       "      <td>Gimnasios de Educación Física</td>\n",
       "    </tr>\n",
       "    <tr>\n",
       "      <th>1</th>\n",
       "      <td>Futeca Gym - Pradera Concepción</td>\n",
       "      <td>Guatemala - Guatemala</td>\n",
       "      <td>Km. 15.5 Carretera a El Salvador, Finca Concep...</td>\n",
       "      <td>Teléfono: +502 66339866</td>\n",
       "      <td>https://futecagym.com/</td>\n",
       "      <td>Futeca Gym, es un gimnasio que nace en el 2010...</td>\n",
       "      <td>Gimnasios de Educación Física</td>\n",
       "    </tr>\n",
       "    <tr>\n",
       "      <th>2</th>\n",
       "      <td>Futeca Gym - Miraflores</td>\n",
       "      <td>Guatemala - Guatemala</td>\n",
       "      <td>22 avenida, 7ma. calle zona 11, Paseo Miraflores</td>\n",
       "      <td>Teléfono: +502 22253200</td>\n",
       "      <td>https://futecagym.com/</td>\n",
       "      <td>Futeca Gym, es un gimnasio que nace en el 2010...</td>\n",
       "      <td>Gimnasios de Educación Física</td>\n",
       "    </tr>\n",
       "    <tr>\n",
       "      <th>3</th>\n",
       "      <td>Futeca Gym - San Cristóbal</td>\n",
       "      <td>Guatemala - Guatemala</td>\n",
       "      <td>Blvd. Principal 19-65 sector B1 San Cristóbal ...</td>\n",
       "      <td>Teléfono +502 24796470</td>\n",
       "      <td>https://futecagym.com/</td>\n",
       "      <td>Futeca Gym, es un gimnasio que nace en el 2010...</td>\n",
       "      <td>Gimnasios de Educación Física</td>\n",
       "    </tr>\n",
       "    <tr>\n",
       "      <th>4</th>\n",
       "      <td>Futeca Gym - Naranjo</td>\n",
       "      <td>Guatemala - Guatemala</td>\n",
       "      <td>23 calle 10-00 Zona 4 Condado Naranjo , local ...</td>\n",
       "      <td>Whatsapp: +502 410001310</td>\n",
       "      <td>https://futecagym.com/</td>\n",
       "      <td>Futeca Gym, es un gimnasio que nace en el 2010...</td>\n",
       "      <td>Gimnasios de Educación Física</td>\n",
       "    </tr>\n",
       "  </tbody>\n",
       "</table>\n",
       "</div>"
      ],
      "text/plain": [
       "                             names                   city  \\\n",
       "0             Futeca Gym - Zona 14  Guatemala - Guatemala   \n",
       "1  Futeca Gym - Pradera Concepción  Guatemala - Guatemala   \n",
       "2          Futeca Gym - Miraflores  Guatemala - Guatemala   \n",
       "3       Futeca Gym - San Cristóbal  Guatemala - Guatemala   \n",
       "4             Futeca Gym - Naranjo  Guatemala - Guatemala   \n",
       "\n",
       "                                             address  \\\n",
       "0  10ma. Avenida 10-50 zona 14. Plaza Futeca, Loc...   \n",
       "1  Km. 15.5 Carretera a El Salvador, Finca Concep...   \n",
       "2   22 avenida, 7ma. calle zona 11, Paseo Miraflores   \n",
       "3  Blvd. Principal 19-65 sector B1 San Cristóbal ...   \n",
       "4  23 calle 10-00 Zona 4 Condado Naranjo , local ...   \n",
       "\n",
       "                      phone                     web  \\\n",
       "0   Teléfono: +502 22136900  https://futecagym.com/   \n",
       "1   Teléfono: +502 66339866  https://futecagym.com/   \n",
       "2   Teléfono: +502 22253200  https://futecagym.com/   \n",
       "3    Teléfono +502 24796470  https://futecagym.com/   \n",
       "4  Whatsapp: +502 410001310  https://futecagym.com/   \n",
       "\n",
       "                                         description  \\\n",
       "0  Futeca Gym, es un gimnasio que nace en el 2010...   \n",
       "1  Futeca Gym, es un gimnasio que nace en el 2010...   \n",
       "2  Futeca Gym, es un gimnasio que nace en el 2010...   \n",
       "3  Futeca Gym, es un gimnasio que nace en el 2010...   \n",
       "4  Futeca Gym, es un gimnasio que nace en el 2010...   \n",
       "\n",
       "                        category  \n",
       "0  Gimnasios de Educación Física  \n",
       "1  Gimnasios de Educación Física  \n",
       "2  Gimnasios de Educación Física  \n",
       "3  Gimnasios de Educación Física  \n",
       "4  Gimnasios de Educación Física  "
      ]
     },
     "execution_count": 43,
     "metadata": {},
     "output_type": "execute_result"
    }
   ],
   "source": [
    "futeca.head()"
   ]
  },
  {
   "cell_type": "markdown",
   "metadata": {},
   "source": [
    "### Fitness One"
   ]
  },
  {
   "cell_type": "code",
   "execution_count": 44,
   "metadata": {},
   "outputs": [],
   "source": [
    "url = 'https://fitnessone.com.gt/pradera/'\n",
    "response = requests.get(url).text\n",
    "soup = BeautifulSoup(response,'lxml')"
   ]
  },
  {
   "cell_type": "code",
   "execution_count": 45,
   "metadata": {},
   "outputs": [],
   "source": [
    "general = soup.find_all('h1')"
   ]
  },
  {
   "cell_type": "code",
   "execution_count": 46,
   "metadata": {},
   "outputs": [],
   "source": [
    "locations =['cayala','pradera','rus','sankrismall']\n",
    "names=[]\n",
    "city=[]\n",
    "address =[]\n",
    "phone =[]\n",
    "for location in locations:\n",
    "    url = 'https://fitnessone.com.gt/{}/'.format(location)\n",
    "    response = requests.get(url).text\n",
    "    soup = BeautifulSoup(response,'lxml')\n",
    "    general = soup.find_all('h1')\n",
    "    names.append('Fitness One - '+general[1].text)\n",
    "    city.append('Guatemala-Guatemala')\n",
    "    address.append(soup.find_all('div',class_='et_pb_text_inner')[4].find_all('p')[0].text)\n",
    "    phone.append(soup.find_all('div',class_='et_pb_text_inner')[4].find_all('p')[1].text)"
   ]
  },
  {
   "cell_type": "code",
   "execution_count": 47,
   "metadata": {},
   "outputs": [],
   "source": [
    "df = pd.DataFrame(zip(names,city,address,phone),columns=['names','city','address','phone'])"
   ]
  },
  {
   "cell_type": "code",
   "execution_count": 48,
   "metadata": {},
   "outputs": [],
   "source": [
    "df['city'] = 'Guatemala - Guatemala'\n",
    "df['category'] = 'Gimnasios de Educación Física'\n",
    "df['web'] = 'https://fitnessone.com.gt/'\n",
    "df['description'] = 'Todo lo que necesitas para transformar tu vida y tu cuerpo, las mejores ubicaciones, personal capacitado para hacer del ejercicio parte de tu vida.'\n",
    "fitnessone = df[['names','city','address','phone','web','description','category']]"
   ]
  },
  {
   "cell_type": "code",
   "execution_count": 49,
   "metadata": {},
   "outputs": [
    {
     "data": {
      "text/html": [
       "<div>\n",
       "<style scoped>\n",
       "    .dataframe tbody tr th:only-of-type {\n",
       "        vertical-align: middle;\n",
       "    }\n",
       "\n",
       "    .dataframe tbody tr th {\n",
       "        vertical-align: top;\n",
       "    }\n",
       "\n",
       "    .dataframe thead th {\n",
       "        text-align: right;\n",
       "    }\n",
       "</style>\n",
       "<table border=\"1\" class=\"dataframe\">\n",
       "  <thead>\n",
       "    <tr style=\"text-align: right;\">\n",
       "      <th></th>\n",
       "      <th>names</th>\n",
       "      <th>city</th>\n",
       "      <th>address</th>\n",
       "      <th>phone</th>\n",
       "      <th>web</th>\n",
       "      <th>description</th>\n",
       "      <th>category</th>\n",
       "    </tr>\n",
       "  </thead>\n",
       "  <tbody>\n",
       "    <tr>\n",
       "      <th>0</th>\n",
       "      <td>Fitness One - Cayalá</td>\n",
       "      <td>Guatemala - Guatemala</td>\n",
       "      <td>Diagonal 35 Boulevard Austriaco 16-25 Zona 16 ...</td>\n",
       "      <td>+502 2491-4333</td>\n",
       "      <td>https://fitnessone.com.gt/</td>\n",
       "      <td>Todo lo que necesitas para transformar tu vida...</td>\n",
       "      <td>Gimnasios de Educación Física</td>\n",
       "    </tr>\n",
       "    <tr>\n",
       "      <th>1</th>\n",
       "      <td>Fitness One - Pradera</td>\n",
       "      <td>Guatemala - Guatemala</td>\n",
       "      <td>Boulevar Los Próceres 25-74 Zona 10</td>\n",
       "      <td>+502 2423-6000</td>\n",
       "      <td>https://fitnessone.com.gt/</td>\n",
       "      <td>Todo lo que necesitas para transformar tu vida...</td>\n",
       "      <td>Gimnasios de Educación Física</td>\n",
       "    </tr>\n",
       "    <tr>\n",
       "      <th>2</th>\n",
       "      <td>Fitness One - RUS</td>\n",
       "      <td>Guatemala - Guatemala</td>\n",
       "      <td>Calzada Roosevelt 12-76 zona 7 C.C. RUS</td>\n",
       "      <td>+502 2226-2226</td>\n",
       "      <td>https://fitnessone.com.gt/</td>\n",
       "      <td>Todo lo que necesitas para transformar tu vida...</td>\n",
       "      <td>Gimnasios de Educación Física</td>\n",
       "    </tr>\n",
       "    <tr>\n",
       "      <th>3</th>\n",
       "      <td>Fitness One - Sankris Mall</td>\n",
       "      <td>Guatemala - Guatemala</td>\n",
       "      <td>3ra. Calle Sector A-3 Boulevard San Cristóbal ...</td>\n",
       "      <td>+502 2424-4848</td>\n",
       "      <td>https://fitnessone.com.gt/</td>\n",
       "      <td>Todo lo que necesitas para transformar tu vida...</td>\n",
       "      <td>Gimnasios de Educación Física</td>\n",
       "    </tr>\n",
       "  </tbody>\n",
       "</table>\n",
       "</div>"
      ],
      "text/plain": [
       "                        names                   city  \\\n",
       "0        Fitness One - Cayalá  Guatemala - Guatemala   \n",
       "1       Fitness One - Pradera  Guatemala - Guatemala   \n",
       "2           Fitness One - RUS  Guatemala - Guatemala   \n",
       "3  Fitness One - Sankris Mall  Guatemala - Guatemala   \n",
       "\n",
       "                                             address           phone  \\\n",
       "0  Diagonal 35 Boulevard Austriaco 16-25 Zona 16 ...  +502 2491-4333   \n",
       "1                Boulevar Los Próceres 25-74 Zona 10  +502 2423-6000   \n",
       "2            Calzada Roosevelt 12-76 zona 7 C.C. RUS  +502 2226-2226   \n",
       "3  3ra. Calle Sector A-3 Boulevard San Cristóbal ...  +502 2424-4848   \n",
       "\n",
       "                          web  \\\n",
       "0  https://fitnessone.com.gt/   \n",
       "1  https://fitnessone.com.gt/   \n",
       "2  https://fitnessone.com.gt/   \n",
       "3  https://fitnessone.com.gt/   \n",
       "\n",
       "                                         description  \\\n",
       "0  Todo lo que necesitas para transformar tu vida...   \n",
       "1  Todo lo que necesitas para transformar tu vida...   \n",
       "2  Todo lo que necesitas para transformar tu vida...   \n",
       "3  Todo lo que necesitas para transformar tu vida...   \n",
       "\n",
       "                        category  \n",
       "0  Gimnasios de Educación Física  \n",
       "1  Gimnasios de Educación Física  \n",
       "2  Gimnasios de Educación Física  \n",
       "3  Gimnasios de Educación Física  "
      ]
     },
     "execution_count": 49,
     "metadata": {},
     "output_type": "execute_result"
    }
   ],
   "source": [
    "fitnessone.head()"
   ]
  },
  {
   "cell_type": "markdown",
   "metadata": {},
   "source": [
    "### Scandinavia"
   ]
  },
  {
   "cell_type": "code",
   "execution_count": 50,
   "metadata": {},
   "outputs": [],
   "source": [
    "url = 'https://www.scandinaviagym.com/#gimnasios'\n",
    "#response = requests.get(url).text"
   ]
  },
  {
   "cell_type": "code",
   "execution_count": 51,
   "metadata": {},
   "outputs": [],
   "source": [
    "driver = webdriver.Chrome()\n",
    "\n",
    "driver.get(url)\n",
    "\n",
    "resp = driver.execute_script(\"return document.documentElement.outerHTML\")\n",
    "\n",
    "driver.quit()\n",
    "\n",
    "soup = BeautifulSoup(resp,'lxml')"
   ]
  },
  {
   "cell_type": "code",
   "execution_count": 52,
   "metadata": {},
   "outputs": [],
   "source": [
    "general = soup.find_all('h3')"
   ]
  },
  {
   "cell_type": "code",
   "execution_count": 53,
   "metadata": {},
   "outputs": [],
   "source": [
    "names = ['Scandinavia - '+name.text for name in general]"
   ]
  },
  {
   "cell_type": "code",
   "execution_count": 55,
   "metadata": {},
   "outputs": [],
   "source": [
    "address = [ad.h4.text for ad in soup.find_all('div',class_='team-detail')]"
   ]
  },
  {
   "cell_type": "code",
   "execution_count": 56,
   "metadata": {},
   "outputs": [],
   "source": [
    "phone= [phone.text for phone in soup.find_all('b')]"
   ]
  },
  {
   "cell_type": "code",
   "execution_count": 57,
   "metadata": {},
   "outputs": [],
   "source": [
    "phone = [tel for tel in phone if tel!='']"
   ]
  },
  {
   "cell_type": "code",
   "execution_count": 58,
   "metadata": {},
   "outputs": [],
   "source": [
    "phone[0] = 'Teléfonos: 2459-2586 y 2377-3013'\n",
    "phone[3] = 'Teléfonos: 2269 5605'\n",
    "phone[5] = 'Teléfonos: 3502 1704'\n",
    "phone[6] = 'Teléfonos: 7832 6763'\n",
    "phone[8] = 'Teléfonos: 2478 1566'\n",
    "phone[9] = 'Teléfonos: 2212 7513'\n",
    "phone[10] = 'Teléfonos: 2474 2815'\n",
    "phone[12] = 'Teléfonos: 2335 7683'\n",
    "phone[-3] = 'Teléfonos: 2211 0046'"
   ]
  },
  {
   "cell_type": "code",
   "execution_count": 59,
   "metadata": {},
   "outputs": [],
   "source": [
    "city = ['Guatemala - Guatemala' for i in range(len(phone))]"
   ]
  },
  {
   "cell_type": "code",
   "execution_count": 61,
   "metadata": {},
   "outputs": [],
   "source": [
    "df = pd.DataFrame(zip(names,city,address,phone),columns=['names','city','address','phone'])"
   ]
  },
  {
   "cell_type": "code",
   "execution_count": 62,
   "metadata": {},
   "outputs": [],
   "source": [
    "df['category'] = 'Gimnasios de Educación Física'\n",
    "df['city'] = 'Guatemala - Guatemala'\n",
    "df['web'] = 'https://www.scandinaviagym.com/'\n",
    "df['description'] = 'Cadena de 14 gimnasios. Siempre Cerca de Ti. Amplios Horarios. En las principales ciudades de Guatemala.'\n",
    "scandinavia = df[['names','city','address','phone','web','description','category']]"
   ]
  },
  {
   "cell_type": "code",
   "execution_count": 63,
   "metadata": {},
   "outputs": [
    {
     "data": {
      "text/html": [
       "<div>\n",
       "<style scoped>\n",
       "    .dataframe tbody tr th:only-of-type {\n",
       "        vertical-align: middle;\n",
       "    }\n",
       "\n",
       "    .dataframe tbody tr th {\n",
       "        vertical-align: top;\n",
       "    }\n",
       "\n",
       "    .dataframe thead th {\n",
       "        text-align: right;\n",
       "    }\n",
       "</style>\n",
       "<table border=\"1\" class=\"dataframe\">\n",
       "  <thead>\n",
       "    <tr style=\"text-align: right;\">\n",
       "      <th></th>\n",
       "      <th>names</th>\n",
       "      <th>city</th>\n",
       "      <th>address</th>\n",
       "      <th>phone</th>\n",
       "      <th>web</th>\n",
       "      <th>description</th>\n",
       "      <th>category</th>\n",
       "    </tr>\n",
       "  </thead>\n",
       "  <tbody>\n",
       "    <tr>\n",
       "      <th>0</th>\n",
       "      <td>Scandinavia - Aguilar Batres</td>\n",
       "      <td>Guatemala - Guatemala</td>\n",
       "      <td>Calzada Aguilar Batres14-07, Zona 12</td>\n",
       "      <td>Teléfonos: 2459-2586 y 2377-3013</td>\n",
       "      <td>https://www.scandinaviagym.com/</td>\n",
       "      <td>Cadena de 14 gimnasios. Siempre Cerca de Ti. A...</td>\n",
       "      <td>Gimnasios de Educación Física</td>\n",
       "    </tr>\n",
       "    <tr>\n",
       "      <th>1</th>\n",
       "      <td>Scandinavia - Vista Hermosa</td>\n",
       "      <td>Guatemala - Guatemala</td>\n",
       "      <td>Boulevard Vista Hermosa 21-95 zona 15</td>\n",
       "      <td>Teléfonos: 2277-9296 y 2369-1018</td>\n",
       "      <td>https://www.scandinaviagym.com/</td>\n",
       "      <td>Cadena de 14 gimnasios. Siempre Cerca de Ti. A...</td>\n",
       "      <td>Gimnasios de Educación Física</td>\n",
       "    </tr>\n",
       "    <tr>\n",
       "      <th>2</th>\n",
       "      <td>Scandinavia - Carretera a El Salvador</td>\n",
       "      <td>Guatemala - Guatemala</td>\n",
       "      <td>Km. 16.5, Carretera a El Salvador Salida a San...</td>\n",
       "      <td>Teléfonos: 2277-9297 y 6634-0633</td>\n",
       "      <td>https://www.scandinaviagym.com/</td>\n",
       "      <td>Cadena de 14 gimnasios. Siempre Cerca de Ti. A...</td>\n",
       "      <td>Gimnasios de Educación Física</td>\n",
       "    </tr>\n",
       "    <tr>\n",
       "      <th>3</th>\n",
       "      <td>Scandinavia - Metronorte</td>\n",
       "      <td>Guatemala - Guatemala</td>\n",
       "      <td>Centro Comercial Metronorte</td>\n",
       "      <td>Teléfonos: 2269 5605</td>\n",
       "      <td>https://www.scandinaviagym.com/</td>\n",
       "      <td>Cadena de 14 gimnasios. Siempre Cerca de Ti. A...</td>\n",
       "      <td>Gimnasios de Educación Física</td>\n",
       "    </tr>\n",
       "    <tr>\n",
       "      <th>4</th>\n",
       "      <td>Scandinavia - San Rafael</td>\n",
       "      <td>Guatemala - Guatemala</td>\n",
       "      <td>km. 7.5 Carretera a El Atlántico zona 18, c.c....</td>\n",
       "      <td>Teléfonos: 2267 2919</td>\n",
       "      <td>https://www.scandinaviagym.com/</td>\n",
       "      <td>Cadena de 14 gimnasios. Siempre Cerca de Ti. A...</td>\n",
       "      <td>Gimnasios de Educación Física</td>\n",
       "    </tr>\n",
       "  </tbody>\n",
       "</table>\n",
       "</div>"
      ],
      "text/plain": [
       "                                   names                   city  \\\n",
       "0           Scandinavia - Aguilar Batres  Guatemala - Guatemala   \n",
       "1            Scandinavia - Vista Hermosa  Guatemala - Guatemala   \n",
       "2  Scandinavia - Carretera a El Salvador  Guatemala - Guatemala   \n",
       "3              Scandinavia - Metronorte   Guatemala - Guatemala   \n",
       "4               Scandinavia - San Rafael  Guatemala - Guatemala   \n",
       "\n",
       "                                             address  \\\n",
       "0               Calzada Aguilar Batres14-07, Zona 12   \n",
       "1              Boulevard Vista Hermosa 21-95 zona 15   \n",
       "2  Km. 16.5, Carretera a El Salvador Salida a San...   \n",
       "3                        Centro Comercial Metronorte   \n",
       "4  km. 7.5 Carretera a El Atlántico zona 18, c.c....   \n",
       "\n",
       "                              phone                              web  \\\n",
       "0  Teléfonos: 2459-2586 y 2377-3013  https://www.scandinaviagym.com/   \n",
       "1  Teléfonos: 2277-9296 y 2369-1018  https://www.scandinaviagym.com/   \n",
       "2  Teléfonos: 2277-9297 y 6634-0633  https://www.scandinaviagym.com/   \n",
       "3              Teléfonos: 2269 5605  https://www.scandinaviagym.com/   \n",
       "4              Teléfonos: 2267 2919  https://www.scandinaviagym.com/   \n",
       "\n",
       "                                         description  \\\n",
       "0  Cadena de 14 gimnasios. Siempre Cerca de Ti. A...   \n",
       "1  Cadena de 14 gimnasios. Siempre Cerca de Ti. A...   \n",
       "2  Cadena de 14 gimnasios. Siempre Cerca de Ti. A...   \n",
       "3  Cadena de 14 gimnasios. Siempre Cerca de Ti. A...   \n",
       "4  Cadena de 14 gimnasios. Siempre Cerca de Ti. A...   \n",
       "\n",
       "                        category  \n",
       "0  Gimnasios de Educación Física  \n",
       "1  Gimnasios de Educación Física  \n",
       "2  Gimnasios de Educación Física  \n",
       "3  Gimnasios de Educación Física  \n",
       "4  Gimnasios de Educación Física  "
      ]
     },
     "execution_count": 63,
     "metadata": {},
     "output_type": "execute_result"
    }
   ],
   "source": [
    "scandinavia.head()"
   ]
  },
  {
   "cell_type": "markdown",
   "metadata": {},
   "source": [
    "### Smart Fit"
   ]
  },
  {
   "cell_type": "code",
   "execution_count": 64,
   "metadata": {},
   "outputs": [],
   "source": [
    "url = 'https://www.smartfit.com.gt/gimnasios'\n",
    "response = requests.get(url).text\n",
    "soup = BeautifulSoup(response,'lxml')"
   ]
  },
  {
   "cell_type": "code",
   "execution_count": 65,
   "metadata": {},
   "outputs": [],
   "source": [
    "names = ['Smart Fit - '+soup.find_all('h3')[name].text for name in range(1,len(soup.find_all('h3'))-1)]"
   ]
  },
  {
   "cell_type": "code",
   "execution_count": 66,
   "metadata": {},
   "outputs": [],
   "source": [
    "dires = soup.find_all('p',class_='Text')\n",
    "address = [dires[add].text.split('-',1)[1] for add in range(len(dires))]"
   ]
  },
  {
   "cell_type": "code",
   "execution_count": 67,
   "metadata": {},
   "outputs": [],
   "source": [
    "phone = [np.nan for i in range(len(address))]"
   ]
  },
  {
   "cell_type": "code",
   "execution_count": 68,
   "metadata": {},
   "outputs": [],
   "source": [
    "city = ['Guatemala - Guatemala' for i in range(len(phone))]"
   ]
  },
  {
   "cell_type": "code",
   "execution_count": 69,
   "metadata": {},
   "outputs": [],
   "source": [
    "df = pd.DataFrame(zip(names,city,address,phone),columns=['names','city','address','phone'])"
   ]
  },
  {
   "cell_type": "code",
   "execution_count": 70,
   "metadata": {},
   "outputs": [],
   "source": [
    "df['category'] = 'Gimnasios de Educación Física'\n",
    "df['city'] = 'Guatemala - Guatemala'\n",
    "df['web'] = 'https://www.smartfit.com.gt/'\n",
    "df['description'] = 'Inaugurada en 2009, Smart Fit fue creada con el propósito de democratizar el acceso a la práctica de actividad física de alto nivel, con planes accesibles y adhesión facilitada.'\n",
    "smartfit = df[['names','city','address','phone','web','description','category']]"
   ]
  },
  {
   "cell_type": "code",
   "execution_count": 71,
   "metadata": {},
   "outputs": [
    {
     "data": {
      "text/html": [
       "<div>\n",
       "<style scoped>\n",
       "    .dataframe tbody tr th:only-of-type {\n",
       "        vertical-align: middle;\n",
       "    }\n",
       "\n",
       "    .dataframe tbody tr th {\n",
       "        vertical-align: top;\n",
       "    }\n",
       "\n",
       "    .dataframe thead th {\n",
       "        text-align: right;\n",
       "    }\n",
       "</style>\n",
       "<table border=\"1\" class=\"dataframe\">\n",
       "  <thead>\n",
       "    <tr style=\"text-align: right;\">\n",
       "      <th></th>\n",
       "      <th>names</th>\n",
       "      <th>city</th>\n",
       "      <th>address</th>\n",
       "      <th>phone</th>\n",
       "      <th>web</th>\n",
       "      <th>description</th>\n",
       "      <th>category</th>\n",
       "    </tr>\n",
       "  </thead>\n",
       "  <tbody>\n",
       "    <tr>\n",
       "      <th>0</th>\n",
       "      <td>Smart Fit - El Naranjo</td>\n",
       "      <td>Guatemala - Guatemala</td>\n",
       "      <td>Plaza Kalú, locales R2-R5 - 23 calle 14-50 Zo...</td>\n",
       "      <td>NaN</td>\n",
       "      <td>https://www.smartfit.com.gt/</td>\n",
       "      <td>Inaugurada en 2009, Smart Fit fue creada con e...</td>\n",
       "      <td>Gimnasios de Educación Física</td>\n",
       "    </tr>\n",
       "    <tr>\n",
       "      <th>1</th>\n",
       "      <td>Smart Fit - Tikal Futura</td>\n",
       "      <td>Guatemala - Guatemala</td>\n",
       "      <td>Calzada Roosevelt 23-43 -  Ciudad de Guatemal...</td>\n",
       "      <td>NaN</td>\n",
       "      <td>https://www.smartfit.com.gt/</td>\n",
       "      <td>Inaugurada en 2009, Smart Fit fue creada con e...</td>\n",
       "      <td>Gimnasios de Educación Física</td>\n",
       "    </tr>\n",
       "    <tr>\n",
       "      <th>2</th>\n",
       "      <td>Smart Fit - QUO Zona 4</td>\n",
       "      <td>Guatemala - Guatemala</td>\n",
       "      <td>Via 7, 4-20, Zona 4, Torre Q, Segundo Nivel, ...</td>\n",
       "      <td>NaN</td>\n",
       "      <td>https://www.smartfit.com.gt/</td>\n",
       "      <td>Inaugurada en 2009, Smart Fit fue creada con e...</td>\n",
       "      <td>Gimnasios de Educación Física</td>\n",
       "    </tr>\n",
       "    <tr>\n",
       "      <th>3</th>\n",
       "      <td>Smart Fit - Los Próceres</td>\n",
       "      <td>Guatemala - Guatemala</td>\n",
       "      <td>3ª Avenida 16-52, Z.10 -  Centro Comercial L...</td>\n",
       "      <td>NaN</td>\n",
       "      <td>https://www.smartfit.com.gt/</td>\n",
       "      <td>Inaugurada en 2009, Smart Fit fue creada con e...</td>\n",
       "      <td>Gimnasios de Educación Física</td>\n",
       "    </tr>\n",
       "    <tr>\n",
       "      <th>4</th>\n",
       "      <td>Smart Fit - Rambla</td>\n",
       "      <td>Guatemala - Guatemala</td>\n",
       "      <td>Centro Comercial Rambla 10 - Boulevar Los Pró...</td>\n",
       "      <td>NaN</td>\n",
       "      <td>https://www.smartfit.com.gt/</td>\n",
       "      <td>Inaugurada en 2009, Smart Fit fue creada con e...</td>\n",
       "      <td>Gimnasios de Educación Física</td>\n",
       "    </tr>\n",
       "  </tbody>\n",
       "</table>\n",
       "</div>"
      ],
      "text/plain": [
       "                      names                   city  \\\n",
       "0    Smart Fit - El Naranjo  Guatemala - Guatemala   \n",
       "1  Smart Fit - Tikal Futura  Guatemala - Guatemala   \n",
       "2   Smart Fit - QUO Zona 4   Guatemala - Guatemala   \n",
       "3  Smart Fit - Los Próceres  Guatemala - Guatemala   \n",
       "4        Smart Fit - Rambla  Guatemala - Guatemala   \n",
       "\n",
       "                                             address  phone  \\\n",
       "0   Plaza Kalú, locales R2-R5 - 23 calle 14-50 Zo...    NaN   \n",
       "1   Calzada Roosevelt 23-43 -  Ciudad de Guatemal...    NaN   \n",
       "2   Via 7, 4-20, Zona 4, Torre Q, Segundo Nivel, ...    NaN   \n",
       "3    3ª Avenida 16-52, Z.10 -  Centro Comercial L...    NaN   \n",
       "4   Centro Comercial Rambla 10 - Boulevar Los Pró...    NaN   \n",
       "\n",
       "                            web  \\\n",
       "0  https://www.smartfit.com.gt/   \n",
       "1  https://www.smartfit.com.gt/   \n",
       "2  https://www.smartfit.com.gt/   \n",
       "3  https://www.smartfit.com.gt/   \n",
       "4  https://www.smartfit.com.gt/   \n",
       "\n",
       "                                         description  \\\n",
       "0  Inaugurada en 2009, Smart Fit fue creada con e...   \n",
       "1  Inaugurada en 2009, Smart Fit fue creada con e...   \n",
       "2  Inaugurada en 2009, Smart Fit fue creada con e...   \n",
       "3  Inaugurada en 2009, Smart Fit fue creada con e...   \n",
       "4  Inaugurada en 2009, Smart Fit fue creada con e...   \n",
       "\n",
       "                        category  \n",
       "0  Gimnasios de Educación Física  \n",
       "1  Gimnasios de Educación Física  \n",
       "2  Gimnasios de Educación Física  \n",
       "3  Gimnasios de Educación Física  \n",
       "4  Gimnasios de Educación Física  "
      ]
     },
     "execution_count": 71,
     "metadata": {},
     "output_type": "execute_result"
    }
   ],
   "source": [
    "smartfit.head()"
   ]
  },
  {
   "cell_type": "markdown",
   "metadata": {},
   "source": [
    "### Poltec "
   ]
  },
  {
   "cell_type": "code",
   "execution_count": 72,
   "metadata": {},
   "outputs": [],
   "source": [
    "url = 'http://www.poltecgym.com/'\n",
    "#response = requests.get(url).text\n",
    "#soup = BeautifulSoup(response,'lxml')"
   ]
  },
  {
   "cell_type": "code",
   "execution_count": 73,
   "metadata": {},
   "outputs": [],
   "source": [
    "driver = webdriver.Chrome()\n",
    "\n",
    "driver.get(url)\n",
    "\n",
    "resp = driver.execute_script(\"return document.documentElement.outerHTML\")\n",
    "\n",
    "driver.quit()\n",
    "\n",
    "soup = BeautifulSoup(resp,'lxml')"
   ]
  },
  {
   "cell_type": "code",
   "execution_count": 74,
   "metadata": {},
   "outputs": [],
   "source": [
    "nombres = soup.find_all('h3')\n",
    "\n",
    "names = ['Poltec - '+nombres[i].text.strip() for i in range(4,len(nombres)) ]"
   ]
  },
  {
   "cell_type": "code",
   "execution_count": 75,
   "metadata": {},
   "outputs": [],
   "source": [
    "tel = soup.find_all('address')\n",
    "phone = [tel[i].text.strip().split('T.')[1].split('\\n')[0] for i in range(1,len(tel)-1) ]"
   ]
  },
  {
   "cell_type": "code",
   "execution_count": 76,
   "metadata": {},
   "outputs": [],
   "source": [
    "address = [i for i in range(6)]\n",
    "address[0]='Km. 5 Carretera al Atlántico Zona 17, Guatemala Guatemala'\n",
    "address[1]='Ruta al Atlántico CC. Plaza San Rafael Zona 18 Guatemala'\n",
    "address[2]='45 Calle 19-40, zona 12, C. C. Gran Portal Petapa '\n",
    "address[3]='Calzada Roosevelt 13-88'\n",
    "address[4]='Km. 17.5 Pacifico, Terreno #6, C.C. Santa Clara, Villa Nueva., Guatemala 01011, Guatemala'\n",
    "address[5]='Dirección: Km. 17.9 Carretera a San Jose Pinula, Centro Comercial Local 14, El Faro'"
   ]
  },
  {
   "cell_type": "code",
   "execution_count": 77,
   "metadata": {},
   "outputs": [],
   "source": [
    "df = pd.DataFrame(zip(names,city,address,phone),columns=['names','city','address','phone'])"
   ]
  },
  {
   "cell_type": "code",
   "execution_count": 78,
   "metadata": {},
   "outputs": [],
   "source": [
    "df['category'] = 'Gimnasios de Educación Física'\n",
    "df['city'] = 'Guatemala - Guatemala'\n",
    "df['web'] = 'http://www.poltecgym.com/'\n",
    "df['description'] = 'El ejercicio es parte importante de un estilo de vida saludable. El ejercicio previene los problemas de salud, desarrolla resistencia, brinda más energía y puede ayudar a reducir el estrés.'\n",
    "poltec = df[['names','city','address','phone','web','description','category']]\n"
   ]
  },
  {
   "cell_type": "code",
   "execution_count": 79,
   "metadata": {},
   "outputs": [
    {
     "data": {
      "text/html": [
       "<div>\n",
       "<style scoped>\n",
       "    .dataframe tbody tr th:only-of-type {\n",
       "        vertical-align: middle;\n",
       "    }\n",
       "\n",
       "    .dataframe tbody tr th {\n",
       "        vertical-align: top;\n",
       "    }\n",
       "\n",
       "    .dataframe thead th {\n",
       "        text-align: right;\n",
       "    }\n",
       "</style>\n",
       "<table border=\"1\" class=\"dataframe\">\n",
       "  <thead>\n",
       "    <tr style=\"text-align: right;\">\n",
       "      <th></th>\n",
       "      <th>names</th>\n",
       "      <th>city</th>\n",
       "      <th>address</th>\n",
       "      <th>phone</th>\n",
       "      <th>web</th>\n",
       "      <th>description</th>\n",
       "      <th>category</th>\n",
       "    </tr>\n",
       "  </thead>\n",
       "  <tbody>\n",
       "    <tr>\n",
       "      <th>0</th>\n",
       "      <td>Poltec - CC METRONORTE</td>\n",
       "      <td>Guatemala - Guatemala</td>\n",
       "      <td>Km. 5 Carretera al Atlántico Zona 17, Guatemal...</td>\n",
       "      <td>2256-0882</td>\n",
       "      <td>http://www.poltecgym.com/</td>\n",
       "      <td>El ejercicio es parte importante de un estilo ...</td>\n",
       "      <td>Gimnasios de Educación Física</td>\n",
       "    </tr>\n",
       "    <tr>\n",
       "      <th>1</th>\n",
       "      <td>Poltec - CC PLAZA SAN RAFAEL</td>\n",
       "      <td>Guatemala - Guatemala</td>\n",
       "      <td>Ruta al Atlántico CC. Plaza San Rafael Zona 18...</td>\n",
       "      <td>2261-6391</td>\n",
       "      <td>http://www.poltecgym.com/</td>\n",
       "      <td>El ejercicio es parte importante de un estilo ...</td>\n",
       "      <td>Gimnasios de Educación Física</td>\n",
       "    </tr>\n",
       "    <tr>\n",
       "      <th>2</th>\n",
       "      <td>Poltec - CC GRAN PORTAL PETAPA</td>\n",
       "      <td>Guatemala - Guatemala</td>\n",
       "      <td>45 Calle 19-40, zona 12, C. C. Gran Portal Pet...</td>\n",
       "      <td>2460-3185</td>\n",
       "      <td>http://www.poltecgym.com/</td>\n",
       "      <td>El ejercicio es parte importante de un estilo ...</td>\n",
       "      <td>Gimnasios de Educación Física</td>\n",
       "    </tr>\n",
       "    <tr>\n",
       "      <th>3</th>\n",
       "      <td>Poltec - CC ASIA MALL (ROOSEVELT)</td>\n",
       "      <td>Guatemala - Guatemala</td>\n",
       "      <td>Calzada Roosevelt 13-88</td>\n",
       "      <td>24743214</td>\n",
       "      <td>http://www.poltecgym.com/</td>\n",
       "      <td>El ejercicio es parte importante de un estilo ...</td>\n",
       "      <td>Gimnasios de Educación Física</td>\n",
       "    </tr>\n",
       "    <tr>\n",
       "      <th>4</th>\n",
       "      <td>Poltec - CC SANTA CLARA</td>\n",
       "      <td>Guatemala - Guatemala</td>\n",
       "      <td>Km. 17.5 Pacifico, Terreno #6, C.C. Santa Clar...</td>\n",
       "      <td>6644-8279</td>\n",
       "      <td>http://www.poltecgym.com/</td>\n",
       "      <td>El ejercicio es parte importante de un estilo ...</td>\n",
       "      <td>Gimnasios de Educación Física</td>\n",
       "    </tr>\n",
       "  </tbody>\n",
       "</table>\n",
       "</div>"
      ],
      "text/plain": [
       "                               names                   city  \\\n",
       "0             Poltec - CC METRONORTE  Guatemala - Guatemala   \n",
       "1       Poltec - CC PLAZA SAN RAFAEL  Guatemala - Guatemala   \n",
       "2     Poltec - CC GRAN PORTAL PETAPA  Guatemala - Guatemala   \n",
       "3  Poltec - CC ASIA MALL (ROOSEVELT)  Guatemala - Guatemala   \n",
       "4            Poltec - CC SANTA CLARA  Guatemala - Guatemala   \n",
       "\n",
       "                                             address        phone  \\\n",
       "0  Km. 5 Carretera al Atlántico Zona 17, Guatemal...   2256-0882    \n",
       "1  Ruta al Atlántico CC. Plaza San Rafael Zona 18...    2261-6391   \n",
       "2  45 Calle 19-40, zona 12, C. C. Gran Portal Pet...    2460-3185   \n",
       "3                            Calzada Roosevelt 13-88    24743214    \n",
       "4  Km. 17.5 Pacifico, Terreno #6, C.C. Santa Clar...   6644-8279    \n",
       "\n",
       "                         web  \\\n",
       "0  http://www.poltecgym.com/   \n",
       "1  http://www.poltecgym.com/   \n",
       "2  http://www.poltecgym.com/   \n",
       "3  http://www.poltecgym.com/   \n",
       "4  http://www.poltecgym.com/   \n",
       "\n",
       "                                         description  \\\n",
       "0  El ejercicio es parte importante de un estilo ...   \n",
       "1  El ejercicio es parte importante de un estilo ...   \n",
       "2  El ejercicio es parte importante de un estilo ...   \n",
       "3  El ejercicio es parte importante de un estilo ...   \n",
       "4  El ejercicio es parte importante de un estilo ...   \n",
       "\n",
       "                        category  \n",
       "0  Gimnasios de Educación Física  \n",
       "1  Gimnasios de Educación Física  \n",
       "2  Gimnasios de Educación Física  \n",
       "3  Gimnasios de Educación Física  \n",
       "4  Gimnasios de Educación Física  "
      ]
     },
     "execution_count": 79,
     "metadata": {},
     "output_type": "execute_result"
    }
   ],
   "source": [
    "poltec.head()"
   ]
  },
  {
   "cell_type": "markdown",
   "metadata": {},
   "source": [
    "### Curves"
   ]
  },
  {
   "cell_type": "code",
   "execution_count": 80,
   "metadata": {},
   "outputs": [],
   "source": [
    "url = 'https://www.curveslatinoamerica.com/guatemala.html#'\n",
    "driver = webdriver.Chrome()\n",
    "\n",
    "driver.get(url)\n",
    "\n",
    "resp = driver.execute_script(\"return document.documentElement.outerHTML\")\n",
    "\n",
    "driver.quit()\n",
    "\n",
    "soup = BeautifulSoup(resp,'lxml')"
   ]
  },
  {
   "cell_type": "code",
   "execution_count": 81,
   "metadata": {},
   "outputs": [],
   "source": [
    "general = soup.find_all('div', class_='col-xs-12 col-sm-12 col-md-6 col-lg-6')"
   ]
  },
  {
   "cell_type": "code",
   "execution_count": 82,
   "metadata": {},
   "outputs": [],
   "source": [
    "names = ['Curves - '+general[i].find('p').text.strip() for i in range(len(general)) ]"
   ]
  },
  {
   "cell_type": "code",
   "execution_count": 83,
   "metadata": {},
   "outputs": [],
   "source": [
    "address = [general[i].find('small').text.strip().split('\\n')[0] for i in range(len(general)) ]"
   ]
  },
  {
   "cell_type": "code",
   "execution_count": 84,
   "metadata": {},
   "outputs": [],
   "source": [
    "phone = [general[i].find('small').text.strip().split('\\n')[1].strip() for i in range(len(general)) ]"
   ]
  },
  {
   "cell_type": "code",
   "execution_count": 85,
   "metadata": {},
   "outputs": [],
   "source": [
    "city = ['Guatemala - Guatemala', 'Quetzaltenango']"
   ]
  },
  {
   "cell_type": "code",
   "execution_count": 86,
   "metadata": {},
   "outputs": [],
   "source": [
    "df = pd.DataFrame(zip(names,city,address,phone),columns=['names','city','address','phone'])"
   ]
  },
  {
   "cell_type": "code",
   "execution_count": 87,
   "metadata": {},
   "outputs": [],
   "source": [
    "df['category'] = 'Gimnasios de Educación Física'\n",
    "df['city'] = 'Guatemala - Guatemala'\n",
    "df['web'] = 'https://www.curveslatinoamerica.com/guatemala.html#'\n",
    "df['description'] = 'Curves es un gimnasio para mujeres, la franquicia ofrece un programa de perdida de peso saludable y razonable.'\n",
    "curves = df[['names','city','address','phone','web','description','category']]"
   ]
  },
  {
   "cell_type": "code",
   "execution_count": 88,
   "metadata": {},
   "outputs": [
    {
     "data": {
      "text/html": [
       "<div>\n",
       "<style scoped>\n",
       "    .dataframe tbody tr th:only-of-type {\n",
       "        vertical-align: middle;\n",
       "    }\n",
       "\n",
       "    .dataframe tbody tr th {\n",
       "        vertical-align: top;\n",
       "    }\n",
       "\n",
       "    .dataframe thead th {\n",
       "        text-align: right;\n",
       "    }\n",
       "</style>\n",
       "<table border=\"1\" class=\"dataframe\">\n",
       "  <thead>\n",
       "    <tr style=\"text-align: right;\">\n",
       "      <th></th>\n",
       "      <th>names</th>\n",
       "      <th>city</th>\n",
       "      <th>address</th>\n",
       "      <th>phone</th>\n",
       "      <th>web</th>\n",
       "      <th>description</th>\n",
       "      <th>category</th>\n",
       "    </tr>\n",
       "  </thead>\n",
       "  <tbody>\n",
       "    <tr>\n",
       "      <th>0</th>\n",
       "      <td>Curves - Reforma Zona 15</td>\n",
       "      <td>Guatemala - Guatemala</td>\n",
       "      <td>1a calle 22-13 zona 15 Vista Hermosa II C.P. 1...</td>\n",
       "      <td>Teléfonos: (502) 2369 2622 | (502) 2369 2644 |...</td>\n",
       "      <td>https://www.curveslatinoamerica.com/guatemala....</td>\n",
       "      <td>Curves es un gimnasio para mujeres, la franqui...</td>\n",
       "      <td>Gimnasios de Educación Física</td>\n",
       "    </tr>\n",
       "    <tr>\n",
       "      <th>1</th>\n",
       "      <td>Curves - Quetzaltenango</td>\n",
       "      <td>Guatemala - Guatemala</td>\n",
       "      <td>Avenida 9-66 Zona 3, Plaza Delco C.P. 9001</td>\n",
       "      <td>Teléfono: (502) 7763 6831</td>\n",
       "      <td>https://www.curveslatinoamerica.com/guatemala....</td>\n",
       "      <td>Curves es un gimnasio para mujeres, la franqui...</td>\n",
       "      <td>Gimnasios de Educación Física</td>\n",
       "    </tr>\n",
       "  </tbody>\n",
       "</table>\n",
       "</div>"
      ],
      "text/plain": [
       "                      names                   city  \\\n",
       "0  Curves - Reforma Zona 15  Guatemala - Guatemala   \n",
       "1   Curves - Quetzaltenango  Guatemala - Guatemala   \n",
       "\n",
       "                                             address  \\\n",
       "0  1a calle 22-13 zona 15 Vista Hermosa II C.P. 1...   \n",
       "1        Avenida 9-66 Zona 3, Plaza Delco C.P. 9001    \n",
       "\n",
       "                                               phone  \\\n",
       "0  Teléfonos: (502) 2369 2622 | (502) 2369 2644 |...   \n",
       "1                          Teléfono: (502) 7763 6831   \n",
       "\n",
       "                                                 web  \\\n",
       "0  https://www.curveslatinoamerica.com/guatemala....   \n",
       "1  https://www.curveslatinoamerica.com/guatemala....   \n",
       "\n",
       "                                         description  \\\n",
       "0  Curves es un gimnasio para mujeres, la franqui...   \n",
       "1  Curves es un gimnasio para mujeres, la franqui...   \n",
       "\n",
       "                        category  \n",
       "0  Gimnasios de Educación Física  \n",
       "1  Gimnasios de Educación Física  "
      ]
     },
     "execution_count": 88,
     "metadata": {},
     "output_type": "execute_result"
    }
   ],
   "source": [
    "curves"
   ]
  },
  {
   "cell_type": "markdown",
   "metadata": {},
   "source": [
    "### Dinamic Fitness"
   ]
  },
  {
   "cell_type": "code",
   "execution_count": 93,
   "metadata": {},
   "outputs": [],
   "source": [
    "dinamic_fitness_url= ['https://dinamic.com.gt/naranjo/',\n",
    "                      'https://dinamic.com.gt/forum-zona-10/',\n",
    "                      'https://dinamic.com.gt/san-juan/',\n",
    "                      'https://dinamic.com.gt/villa-hermosa/',\n",
    "                      'https://dinamic.com.gt/portales/',\n",
    "                      'https://dinamic.com.gt/roosevelt/']"
   ]
  },
  {
   "cell_type": "code",
   "execution_count": 94,
   "metadata": {},
   "outputs": [],
   "source": [
    "def dinamic_fitness(url):\n",
    "    response = requests.get(url)\n",
    "    soup = BeautifulSoup(response.text,'lxml')\n",
    "    names = ['Dinamic Fitness - ' + soup.find('h2').text]\n",
    "    city = ['Guatemala - Guatemala']\n",
    "    \n",
    "    if len(soup.find_all('h3'))<=2:\n",
    "        address = soup.find_all('h3')[0]\n",
    "        phone = soup.find_all('h3')[1]\n",
    "    elif len(soup.find_all('h3'))==4:\n",
    "        address = soup.find_all('h3')[0]\n",
    "        phone = soup.find_all('h3')[3]\n",
    "    else:\n",
    "        address = soup.find_all('h3')[0]\n",
    "        phone = soup.find_all('h3')[2]\n",
    "        \n",
    "    web = ['https://dinamic.com.gt/']\n",
    "    description = ['Somos un nuevo tipo de gym, un lugar para ponerte en forma. ¡Un lugar para ser feliz!Nuestros programas de ejercicios están diseñados bajo una planificación de entrenamiento cardiovascular y de fuerza. Todo con un soporte científico que garantiza que obtendrás resultados de forma segura.']\n",
    "    category = ['Gimnasios de Educación Física']\n",
    "    return pd.DataFrame(zip(names, city, address,phone,web,description,category),\n",
    "                              columns=['names','city','address','phone','web','description','category'])"
   ]
  },
  {
   "cell_type": "code",
   "execution_count": 95,
   "metadata": {},
   "outputs": [],
   "source": [
    "dinamicfitness=pd.DataFrame()\n",
    "for url in dinamic_fitness_url:\n",
    "    bucle = dinamic_fitness(url)\n",
    "    dinamicfitness = pd.concat([dinamicfitness,bucle],ignore_index=True)"
   ]
  },
  {
   "cell_type": "code",
   "execution_count": 96,
   "metadata": {},
   "outputs": [],
   "source": [
    "dinamicfitness.phone[0] = np.nan"
   ]
  },
  {
   "cell_type": "code",
   "execution_count": 97,
   "metadata": {},
   "outputs": [
    {
     "data": {
      "text/html": [
       "<div>\n",
       "<style scoped>\n",
       "    .dataframe tbody tr th:only-of-type {\n",
       "        vertical-align: middle;\n",
       "    }\n",
       "\n",
       "    .dataframe tbody tr th {\n",
       "        vertical-align: top;\n",
       "    }\n",
       "\n",
       "    .dataframe thead th {\n",
       "        text-align: right;\n",
       "    }\n",
       "</style>\n",
       "<table border=\"1\" class=\"dataframe\">\n",
       "  <thead>\n",
       "    <tr style=\"text-align: right;\">\n",
       "      <th></th>\n",
       "      <th>names</th>\n",
       "      <th>city</th>\n",
       "      <th>address</th>\n",
       "      <th>phone</th>\n",
       "      <th>web</th>\n",
       "      <th>description</th>\n",
       "      <th>category</th>\n",
       "    </tr>\n",
       "  </thead>\n",
       "  <tbody>\n",
       "    <tr>\n",
       "      <th>0</th>\n",
       "      <td>Dinamic Fitness - PASAJE NARANJO</td>\n",
       "      <td>Guatemala - Guatemala</td>\n",
       "      <td>10 avenida 18-58 zona 4 de mixco Condado Naran...</td>\n",
       "      <td>NaN</td>\n",
       "      <td>https://dinamic.com.gt/</td>\n",
       "      <td>Somos un nuevo tipo de gym, un lugar para pone...</td>\n",
       "      <td>Gimnasios de Educación Física</td>\n",
       "    </tr>\n",
       "    <tr>\n",
       "      <th>1</th>\n",
       "      <td>Dinamic Fitness - FORUM ZONA 10</td>\n",
       "      <td>Guatemala - Guatemala</td>\n",
       "      <td>3ra ave 10-80 Zona 10 Edificio Forum Zona Viva...</td>\n",
       "      <td>TEL: 2214-0707</td>\n",
       "      <td>https://dinamic.com.gt/</td>\n",
       "      <td>Somos un nuevo tipo de gym, un lugar para pone...</td>\n",
       "      <td>Gimnasios de Educación Física</td>\n",
       "    </tr>\n",
       "    <tr>\n",
       "      <th>2</th>\n",
       "      <td>Dinamic Fitness - CENTRO 21</td>\n",
       "      <td>Guatemala - Guatemala</td>\n",
       "      <td>[CALZADA SAN JUAN 21-14 ]</td>\n",
       "      <td>[TEL: 2243-0003]</td>\n",
       "      <td>https://dinamic.com.gt/</td>\n",
       "      <td>Somos un nuevo tipo de gym, un lugar para pone...</td>\n",
       "      <td>Gimnasios de Educación Física</td>\n",
       "    </tr>\n",
       "    <tr>\n",
       "      <th>3</th>\n",
       "      <td>Dinamic Fitness - VILLA HERMOSA</td>\n",
       "      <td>Guatemala - Guatemala</td>\n",
       "      <td>CENTRO COMERCIAL PACIFIC VILLA HERMOSA</td>\n",
       "      <td>TEL: 2214-0505</td>\n",
       "      <td>https://dinamic.com.gt/</td>\n",
       "      <td>Somos un nuevo tipo de gym, un lugar para pone...</td>\n",
       "      <td>Gimnasios de Educación Física</td>\n",
       "    </tr>\n",
       "    <tr>\n",
       "      <th>4</th>\n",
       "      <td>Dinamic Fitness - ZONA PORTALES</td>\n",
       "      <td>Guatemala - Guatemala</td>\n",
       "      <td>3ra. Av. 10-10 Zona 17 km. 4.5 Ruta al Atlanti...</td>\n",
       "      <td>TEL: 2217-1111</td>\n",
       "      <td>https://dinamic.com.gt/</td>\n",
       "      <td>Somos un nuevo tipo de gym, un lugar para pone...</td>\n",
       "      <td>Gimnasios de Educación Física</td>\n",
       "    </tr>\n",
       "  </tbody>\n",
       "</table>\n",
       "</div>"
      ],
      "text/plain": [
       "                              names                   city  \\\n",
       "0  Dinamic Fitness - PASAJE NARANJO  Guatemala - Guatemala   \n",
       "1   Dinamic Fitness - FORUM ZONA 10  Guatemala - Guatemala   \n",
       "2       Dinamic Fitness - CENTRO 21  Guatemala - Guatemala   \n",
       "3   Dinamic Fitness - VILLA HERMOSA  Guatemala - Guatemala   \n",
       "4   Dinamic Fitness - ZONA PORTALES  Guatemala - Guatemala   \n",
       "\n",
       "                                             address             phone  \\\n",
       "0  10 avenida 18-58 zona 4 de mixco Condado Naran...               NaN   \n",
       "1  3ra ave 10-80 Zona 10 Edificio Forum Zona Viva...    TEL: 2214-0707   \n",
       "2                          [CALZADA SAN JUAN 21-14 ]  [TEL: 2243-0003]   \n",
       "3             CENTRO COMERCIAL PACIFIC VILLA HERMOSA    TEL: 2214-0505   \n",
       "4  3ra. Av. 10-10 Zona 17 km. 4.5 Ruta al Atlanti...    TEL: 2217-1111   \n",
       "\n",
       "                       web                                        description  \\\n",
       "0  https://dinamic.com.gt/  Somos un nuevo tipo de gym, un lugar para pone...   \n",
       "1  https://dinamic.com.gt/  Somos un nuevo tipo de gym, un lugar para pone...   \n",
       "2  https://dinamic.com.gt/  Somos un nuevo tipo de gym, un lugar para pone...   \n",
       "3  https://dinamic.com.gt/  Somos un nuevo tipo de gym, un lugar para pone...   \n",
       "4  https://dinamic.com.gt/  Somos un nuevo tipo de gym, un lugar para pone...   \n",
       "\n",
       "                        category  \n",
       "0  Gimnasios de Educación Física  \n",
       "1  Gimnasios de Educación Física  \n",
       "2  Gimnasios de Educación Física  \n",
       "3  Gimnasios de Educación Física  \n",
       "4  Gimnasios de Educación Física  "
      ]
     },
     "execution_count": 97,
     "metadata": {},
     "output_type": "execute_result"
    }
   ],
   "source": [
    "dinamicfitness.head()"
   ]
  },
  {
   "cell_type": "code",
   "execution_count": null,
   "metadata": {},
   "outputs": [],
   "source": [
    "gt = pd.read_csv('gt_V1.csv')\n",
    "gt.drop(columns='Unnamed: 0',inplace=True)\n",
    "gt"
   ]
  },
  {
   "cell_type": "markdown",
   "metadata": {},
   "source": [
    "### GT "
   ]
  },
  {
   "cell_type": "code",
   "execution_count": 102,
   "metadata": {},
   "outputs": [],
   "source": [
    "paginas = [i for i in range(1,12)]"
   ]
  },
  {
   "cell_type": "code",
   "execution_count": 103,
   "metadata": {},
   "outputs": [],
   "source": [
    "h2s=[]\n",
    "for p in paginas:\n",
    "    response = requests.get('https://directorio.guatemala.com/listado/guia/gimnasios/pagina/{}'.format(p))\n",
    "    h2s.append(BeautifulSoup(response.text,'lxml').find_all('h2'))"
   ]
  },
  {
   "cell_type": "code",
   "execution_count": 104,
   "metadata": {},
   "outputs": [],
   "source": [
    "directorio = []\n",
    "for h2 in h2s:\n",
    "    for h in h2:\n",
    "        directorio.append(h.text.strip())"
   ]
  },
  {
   "cell_type": "code",
   "execution_count": 105,
   "metadata": {},
   "outputs": [],
   "source": [
    "directorio = set(directorio)\n",
    "directorio = list(directorio)"
   ]
  },
  {
   "cell_type": "code",
   "execution_count": 106,
   "metadata": {},
   "outputs": [],
   "source": [
    "slug = [slugify(i) for i in directorio]"
   ]
  },
  {
   "cell_type": "code",
   "execution_count": 107,
   "metadata": {},
   "outputs": [],
   "source": [
    "url = 'https://directorio.guatemala.com/listado/{}.html'.format(slug[0])\n",
    "response = requests.get(url)\n",
    "soup = BeautifulSoup(response.text,'lxml')"
   ]
  },
  {
   "cell_type": "code",
   "execution_count": 108,
   "metadata": {},
   "outputs": [],
   "source": [
    "def gtcom(url):\n",
    "    malos=[]\n",
    "    response = requests.get(url)\n",
    "    soup = BeautifulSoup(response.text,'lxml')\n",
    "    business = soup.find('div',class_='content-info-business')\n",
    "    try:\n",
    "        names = [business.find('h1').text]\n",
    "    except:\n",
    "        names = [np.nan]\n",
    "        malos.append(sl)\n",
    "    try:\n",
    "        address = [business.find('span').text]\n",
    "        city = ['Guatemala - Guatemala']\n",
    "    except:\n",
    "        address =[np.nan]\n",
    "        city=[np.nan]\n",
    "    try:\n",
    "        phone = [soup.find('div',class_='business-buttons').find('a',href=True)['href']]\n",
    "    except:\n",
    "        phone=[np.nan]\n",
    "    try:\n",
    "        web = [soup.find('div',class_='business-buttons').find_all('a',href=True)[2]['href']]\n",
    "    except:\n",
    "        web=[np.nan]\n",
    "    try:\n",
    "        description = [soup.find('div',class_='info-description').text.strip().split('Sobre la empresa\\n')[1].strip()]\n",
    "    except:\n",
    "        description =[np.nan]\n",
    "    try:\n",
    "        category = [soup.find('div',class_='business-categories').text.strip().split('Listado en: \\n\\n')[1].strip()]\n",
    "    except:\n",
    "        category=[np.nan]\n",
    "    \n",
    "    return pd.DataFrame(zip(names, city, address,phone,web,description,category),\n",
    "                              columns=['names','city','address','phone','web','description','category'])"
   ]
  },
  {
   "cell_type": "code",
   "execution_count": 109,
   "metadata": {},
   "outputs": [],
   "source": [
    "gt = pd.DataFrame()\n",
    "for sl in slug:\n",
    "    bucle = gtcom('https://directorio.guatemala.com/listado/{}.html'.format(sl))\n",
    "    \n",
    "    gt = pd.concat([gt,bucle],ignore_index=True)\n",
    "    "
   ]
  },
  {
   "cell_type": "code",
   "execution_count": 110,
   "metadata": {},
   "outputs": [
    {
     "data": {
      "text/html": [
       "<div>\n",
       "<style scoped>\n",
       "    .dataframe tbody tr th:only-of-type {\n",
       "        vertical-align: middle;\n",
       "    }\n",
       "\n",
       "    .dataframe tbody tr th {\n",
       "        vertical-align: top;\n",
       "    }\n",
       "\n",
       "    .dataframe thead th {\n",
       "        text-align: right;\n",
       "    }\n",
       "</style>\n",
       "<table border=\"1\" class=\"dataframe\">\n",
       "  <thead>\n",
       "    <tr style=\"text-align: right;\">\n",
       "      <th></th>\n",
       "      <th>names</th>\n",
       "      <th>city</th>\n",
       "      <th>address</th>\n",
       "      <th>phone</th>\n",
       "      <th>web</th>\n",
       "      <th>description</th>\n",
       "      <th>category</th>\n",
       "    </tr>\n",
       "  </thead>\n",
       "  <tbody>\n",
       "    <tr>\n",
       "      <th>0</th>\n",
       "      <td>Zenith Training Center</td>\n",
       "      <td>Guatemala - Guatemala</td>\n",
       "      <td>18 avenida \"A\", 1-17 Vista Hermosa II, Zona 15</td>\n",
       "      <td>tel:+(502) 2310-0546</td>\n",
       "      <td>https://directorio.guatemala.com/listing_repor...</td>\n",
       "      <td>¡Ya olvídate de los gimnasios convencionales! ...</td>\n",
       "      <td>TRX\\n                                    \\n\\n ...</td>\n",
       "    </tr>\n",
       "    <tr>\n",
       "      <th>1</th>\n",
       "      <td>Active Mom</td>\n",
       "      <td>Guatemala - Guatemala</td>\n",
       "      <td>13 calle A 7-19 Centro Comercial Tiffany</td>\n",
       "      <td>tel:+(502) 2363-6424</td>\n",
       "      <td>NaN</td>\n",
       "      <td>Active Mom es un gimnasio diseñado para mujere...</td>\n",
       "      <td>Yoga</td>\n",
       "    </tr>\n",
       "    <tr>\n",
       "      <th>2</th>\n",
       "      <td>Micheo Boxing by Futeca Zona 14</td>\n",
       "      <td>Guatemala - Guatemala</td>\n",
       "      <td>10a Avenida 10-50 Zona 14</td>\n",
       "      <td>tel:+(502) 2366-8052</td>\n",
       "      <td>NaN</td>\n",
       "      <td>En Micheo Boxing by Futeca somos una academia ...</td>\n",
       "      <td>Boxeo</td>\n",
       "    </tr>\n",
       "    <tr>\n",
       "      <th>3</th>\n",
       "      <td>Neurogym Antigua</td>\n",
       "      <td>Guatemala - Guatemala</td>\n",
       "      <td>5a. Avenida Norte #17</td>\n",
       "      <td>tel:(502) 7831-5210 | 5892-2527</td>\n",
       "      <td>https://directorio.guatemala.com/listing_repor...</td>\n",
       "      <td>Neurogym Antigua ofrece un programa de estimul...</td>\n",
       "      <td>Pesas</td>\n",
       "    </tr>\n",
       "    <tr>\n",
       "      <th>4</th>\n",
       "      <td>Ananda Yoga Estudio</td>\n",
       "      <td>Guatemala - Guatemala</td>\n",
       "      <td>Diagonal 6 13-63 Zona 10</td>\n",
       "      <td>tel:+(502) 3025-5117</td>\n",
       "      <td>https://directorio.guatemala.com/listing_repor...</td>\n",
       "      <td>Ananda proviene del sanscrito \"felicidad supre...</td>\n",
       "      <td>Yoga</td>\n",
       "    </tr>\n",
       "  </tbody>\n",
       "</table>\n",
       "</div>"
      ],
      "text/plain": [
       "                             names                   city  \\\n",
       "0           Zenith Training Center  Guatemala - Guatemala   \n",
       "1                       Active Mom  Guatemala - Guatemala   \n",
       "2  Micheo Boxing by Futeca Zona 14  Guatemala - Guatemala   \n",
       "3                 Neurogym Antigua  Guatemala - Guatemala   \n",
       "4              Ananda Yoga Estudio  Guatemala - Guatemala   \n",
       "\n",
       "                                          address  \\\n",
       "0  18 avenida \"A\", 1-17 Vista Hermosa II, Zona 15   \n",
       "1        13 calle A 7-19 Centro Comercial Tiffany   \n",
       "2                      10a Avenida 10-50 Zona 14    \n",
       "3                           5a. Avenida Norte #17   \n",
       "4                        Diagonal 6 13-63 Zona 10   \n",
       "\n",
       "                             phone  \\\n",
       "0             tel:+(502) 2310-0546   \n",
       "1             tel:+(502) 2363-6424   \n",
       "2             tel:+(502) 2366-8052   \n",
       "3  tel:(502) 7831-5210 | 5892-2527   \n",
       "4             tel:+(502) 3025-5117   \n",
       "\n",
       "                                                 web  \\\n",
       "0  https://directorio.guatemala.com/listing_repor...   \n",
       "1                                                NaN   \n",
       "2                                                NaN   \n",
       "3  https://directorio.guatemala.com/listing_repor...   \n",
       "4  https://directorio.guatemala.com/listing_repor...   \n",
       "\n",
       "                                         description  \\\n",
       "0  ¡Ya olvídate de los gimnasios convencionales! ...   \n",
       "1  Active Mom es un gimnasio diseñado para mujere...   \n",
       "2  En Micheo Boxing by Futeca somos una academia ...   \n",
       "3  Neurogym Antigua ofrece un programa de estimul...   \n",
       "4  Ananda proviene del sanscrito \"felicidad supre...   \n",
       "\n",
       "                                            category  \n",
       "0  TRX\\n                                    \\n\\n ...  \n",
       "1                                               Yoga  \n",
       "2                                              Boxeo  \n",
       "3                                              Pesas  \n",
       "4                                               Yoga  "
      ]
     },
     "execution_count": 110,
     "metadata": {},
     "output_type": "execute_result"
    }
   ],
   "source": [
    "gt.head()"
   ]
  },
  {
   "cell_type": "code",
   "execution_count": null,
   "metadata": {},
   "outputs": [],
   "source": []
  }
 ],
 "metadata": {
  "kernelspec": {
   "display_name": "Python 3",
   "language": "python",
   "name": "python3"
  },
  "language_info": {
   "codemirror_mode": {
    "name": "ipython",
    "version": 3
   },
   "file_extension": ".py",
   "mimetype": "text/x-python",
   "name": "python",
   "nbconvert_exporter": "python",
   "pygments_lexer": "ipython3",
   "version": "3.8.0"
  }
 },
 "nbformat": 4,
 "nbformat_minor": 4
}
