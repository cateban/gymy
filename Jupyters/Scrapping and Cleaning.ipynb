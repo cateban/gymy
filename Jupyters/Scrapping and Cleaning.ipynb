{
 "cells": [
  {
   "cell_type": "code",
   "execution_count": 1,
   "metadata": {},
   "outputs": [],
   "source": [
    "import re\n",
    "import requests\n",
    "from bs4 import BeautifulSoup\n",
    "import unidecode\n",
    "import numpy as np\n",
    "from selenium import webdriver\n",
    "from selenium.webdriver.common.keys import Keys\n",
    "from webdriver_manager.chrome import ChromeDriverManager\n",
    "import pandas as pd\n",
    "from tqdm import tqdm\n",
    "from tqdm import trange\n",
    "import time\n",
    "from slugify import slugify"
   ]
  },
  {
   "cell_type": "markdown",
   "metadata": {},
   "source": [
    "# Getting Data\n",
    "\n",
    "Each establishment will initially consist of following fields:\n",
    "- id\n",
    "- name\n",
    "- description\n",
    "- phone\n",
    "- website\n",
    "- hours\n",
    "- category\n",
    "- address\n",
    "- zip code\n",
    "- city\n",
    "- country\n",
    "- latitude\n",
    "- longitude"
   ]
  },
  {
   "cell_type": "markdown",
   "metadata": {},
   "source": [
    "### Yellow Pages"
   ]
  },
  {
   "cell_type": "code",
   "execution_count": 2,
   "metadata": {},
   "outputs": [],
   "source": [
    "def get_yellow_info(url,category):\n",
    "    \n",
    "    names=[]\n",
    "    city=[]\n",
    "    address=[]\n",
    "    phone=[]\n",
    "    web=[]\n",
    "    description=[]\n",
    "    \n",
    "    response = requests.get(url)\n",
    "    \n",
    "    #get soup\n",
    "    soup = BeautifulSoup(response.text,'lxml')\n",
    "    \n",
    "    #getting main box\n",
    "    general = soup.find_all('div', itemtype=\"https://schema.org/LocalBusiness\")\n",
    "\n",
    "    \n",
    "    if len(general)>0:\n",
    "        for i in range(len(general)):\n",
    "\n",
    "            #NAMES\n",
    "            try:\n",
    "                names.append(general[i].find('a', class_='companyName').text.split('\\n')[1].strip())\n",
    "            except:\n",
    "                names.append(np.nan)\n",
    "\n",
    "           #CITY\n",
    "            try:\n",
    "                city.append(general[i].find('span', class_='city').text.strip())\n",
    "            except:\n",
    "                city.append(np.nan)\n",
    "\n",
    "            #Address\n",
    "            try:\n",
    "                address.append(general[i].find('span', class_='directionFig').text.split('\\n')[1].strip())\n",
    "            except:\n",
    "                address.append(np.nan)\n",
    "\n",
    "\n",
    "            #phone\n",
    "            try:\n",
    "                phone.append(general[i].find('span', class_='phoneFig hide').text.strip())\n",
    "            except:\n",
    "                phone.append(np.nan)\n",
    "\n",
    "            #web\n",
    "            try:\n",
    "                web.append(general[i].find('a', class_='webLink').text.strip())\n",
    "\n",
    "            except:\n",
    "                web.append(np.nan)\n",
    "\n",
    "            #description\n",
    "            try:\n",
    "                description.append(general[i].find('div', class_='col-sm-12 infoBox').text.strip())\n",
    "            except:\n",
    "                description.append(np.nan)\n",
    "                \n",
    "        \n",
    "        #creating dataframe\n",
    "        df = pd.DataFrame(zip(names, city, address,phone,web,description),\n",
    "                              columns=['names','city','address','phone','web','description'])\n",
    "        \n",
    "        df['category'] = category\n",
    "        \n",
    "        return df\n",
    "                \n",
    "            \n",
    "    else:\n",
    "        return print('no se pudo, response:', response.status_code)"
   ]
  },
  {
   "cell_type": "code",
   "execution_count": 3,
   "metadata": {},
   "outputs": [],
   "source": [
    "lista_url = [\n",
    "        ['https://www.paginasamarillas.com.gt/servicios/gimnasios-de-educacion-fisica?page=1',\n",
    "         'Gimnasios de Educación Física'],\n",
    "    \n",
    "        ['https://www.paginasamarillas.com.gt/servicios/gimnasios-de-educacion-fisica?page=2',\n",
    "         'Gimnasios de Educación Física'],\n",
    "    \n",
    "        ['https://www.paginasamarillas.com.gt/servicios/gimnasios-de-educacion-fisica?page=3',\n",
    "         'Gimnasios de Educación Física'],\n",
    "    \n",
    "        ['https://www.paginasamarillas.com.gt/servicios/federaciones-deportivas',\n",
    "         'federaciones deportivas'],\n",
    "    \n",
    "        ['https://www.paginasamarillas.com.gt/servicios/federaciones',\n",
    "         'federaciones deportivas'],\n",
    "    \n",
    "        ['https://www.paginasamarillas.com.gt/servicios/academias-de-ballet', \n",
    "         'ballet'],\n",
    "    \n",
    "        ['https://www.paginasamarillas.com.gt/servicios/bolos',\n",
    "         'boliche'],\n",
    "    \n",
    "        ['https://www.paginasamarillas.com.gt/servicios/artes-marciales-ensenanza-de',\n",
    "         'artes marciales'],\n",
    "    \n",
    "        ['https://www.paginasamarillas.com.gt/servicios/deportes?page=1',\n",
    "         'deportes'],\n",
    "    \n",
    "        ['https://www.paginasamarillas.com.gt/servicios/deportes?page=2',\n",
    "         'deportes'],\n",
    "    \n",
    "        ['https://www.paginasamarillas.com.gt/servicios/deportes?page=3',\n",
    "         'deportes'],\n",
    "    \n",
    "        ['https://www.paginasamarillas.com.gt/servicios/deportes?page=4',\n",
    "         'deportes'],\n",
    "    \n",
    "        ['https://www.paginasamarillas.com.gt/servicios/entrenamiento-fisico',\n",
    "         'entrenamiento fisico'],\n",
    "        \n",
    "        ['https://www.paginasamarillas.com.gt/servicios/escuelas-de-artes-marciales',\n",
    "         'artes marciales'],\n",
    "\n",
    "        ['https://www.paginasamarillas.com.gt/servicios/escuelas-de-karate',\n",
    "         'artes marciales'],\n",
    "\n",
    "        ['https://www.paginasamarillas.com.gt/servicios/escuelas-de-natacion',\n",
    "         'natacion'],\n",
    "\n",
    "        ['https://www.paginasamarillas.com.gt/servicios/escuelas-de-vuelo-libre',\n",
    "         'aviacion'],\n",
    "\n",
    "        ['https://www.paginasamarillas.com.gt/servicios/escuelas-de-aviacion',\n",
    "         'aviacion'],\n",
    "\n",
    "        ['https://www.paginasamarillas.com.gt/servicios/golf',\n",
    "         'golf'],\n",
    "\n",
    "        ['https://www.paginasamarillas.com.gt/servicios/hipodromos',\n",
    "         'hipodromos']\n",
    "        ]"
   ]
  },
  {
   "cell_type": "code",
   "execution_count": 4,
   "metadata": {},
   "outputs": [],
   "source": [
    "yellow = pd.DataFrame()\n",
    "for url in lista_url:\n",
    "    bucle = get_yellow_info(url[0],url[1])\n",
    "    yellow = pd.concat([yellow,bucle],ignore_index=True)"
   ]
  },
  {
   "cell_type": "code",
   "execution_count": 5,
   "metadata": {},
   "outputs": [
    {
     "data": {
      "text/html": [
       "<div>\n",
       "<style scoped>\n",
       "    .dataframe tbody tr th:only-of-type {\n",
       "        vertical-align: middle;\n",
       "    }\n",
       "\n",
       "    .dataframe tbody tr th {\n",
       "        vertical-align: top;\n",
       "    }\n",
       "\n",
       "    .dataframe thead th {\n",
       "        text-align: right;\n",
       "    }\n",
       "</style>\n",
       "<table border=\"1\" class=\"dataframe\">\n",
       "  <thead>\n",
       "    <tr style=\"text-align: right;\">\n",
       "      <th></th>\n",
       "      <th>names</th>\n",
       "      <th>city</th>\n",
       "      <th>address</th>\n",
       "      <th>phone</th>\n",
       "      <th>web</th>\n",
       "      <th>description</th>\n",
       "      <th>category</th>\n",
       "    </tr>\n",
       "  </thead>\n",
       "  <tbody>\n",
       "    <tr>\n",
       "      <th>0</th>\n",
       "      <td>Full Contact Studio</td>\n",
       "      <td>Guatemala - Guatemala</td>\n",
       "      <td>2 C 10-06 Z-1</td>\n",
       "      <td>(+502) 2232 6575</td>\n",
       "      <td></td>\n",
       "      <td></td>\n",
       "      <td>Gimnasios de Educación Física</td>\n",
       "    </tr>\n",
       "    <tr>\n",
       "      <th>1</th>\n",
       "      <td>Club Atletico Atenas</td>\n",
       "      <td>Guatemala - Guatemala</td>\n",
       "      <td>Diagonal 14. 22-06 Zona 5</td>\n",
       "      <td>(+502) 2335 3680</td>\n",
       "      <td>http://www.clubatenas.com</td>\n",
       "      <td></td>\n",
       "      <td>Gimnasios de Educación Física</td>\n",
       "    </tr>\n",
       "    <tr>\n",
       "      <th>2</th>\n",
       "      <td>Le Petit Spa</td>\n",
       "      <td>Guatemala - Guatemala</td>\n",
       "      <td>Dg 6 14-86 Z 10</td>\n",
       "      <td>(+502) 2366 7508</td>\n",
       "      <td>http://www.lepetitspagt.com</td>\n",
       "      <td></td>\n",
       "      <td>Gimnasios de Educación Física</td>\n",
       "    </tr>\n",
       "    <tr>\n",
       "      <th>3</th>\n",
       "      <td>Madiel Spa</td>\n",
       "      <td>Guatemala - Guatemala</td>\n",
       "      <td>Av las Americas 7-30 Z 13 Edif Real América L ...</td>\n",
       "      <td>(+502) 2360 5070</td>\n",
       "      <td>http://www.madielspa.es.tl</td>\n",
       "      <td></td>\n",
       "      <td>Gimnasios de Educación Física</td>\n",
       "    </tr>\n",
       "    <tr>\n",
       "      <th>4</th>\n",
       "      <td>Armonia Colonial</td>\n",
       "      <td>Guatemala - Guatemala</td>\n",
       "      <td>Boulevard Principal 23 Calle 18-96 Col. Villa ...</td>\n",
       "      <td>(+502) 2448 2553</td>\n",
       "      <td>NaN</td>\n",
       "      <td></td>\n",
       "      <td>Gimnasios de Educación Física</td>\n",
       "    </tr>\n",
       "  </tbody>\n",
       "</table>\n",
       "</div>"
      ],
      "text/plain": [
       "                  names                   city  \\\n",
       "0   Full Contact Studio  Guatemala - Guatemala   \n",
       "1  Club Atletico Atenas  Guatemala - Guatemala   \n",
       "2          Le Petit Spa  Guatemala - Guatemala   \n",
       "3            Madiel Spa  Guatemala - Guatemala   \n",
       "4      Armonia Colonial  Guatemala - Guatemala   \n",
       "\n",
       "                                             address             phone  \\\n",
       "0                                      2 C 10-06 Z-1  (+502) 2232 6575   \n",
       "1                          Diagonal 14. 22-06 Zona 5  (+502) 2335 3680   \n",
       "2                                    Dg 6 14-86 Z 10  (+502) 2366 7508   \n",
       "3  Av las Americas 7-30 Z 13 Edif Real América L ...  (+502) 2360 5070   \n",
       "4  Boulevard Principal 23 Calle 18-96 Col. Villa ...  (+502) 2448 2553   \n",
       "\n",
       "                           web description                       category  \n",
       "0                                           Gimnasios de Educación Física  \n",
       "1    http://www.clubatenas.com              Gimnasios de Educación Física  \n",
       "2  http://www.lepetitspagt.com              Gimnasios de Educación Física  \n",
       "3   http://www.madielspa.es.tl              Gimnasios de Educación Física  \n",
       "4                          NaN              Gimnasios de Educación Física  "
      ]
     },
     "execution_count": 5,
     "metadata": {},
     "output_type": "execute_result"
    }
   ],
   "source": [
    "yellow.head()"
   ]
  },
  {
   "cell_type": "markdown",
   "metadata": {},
   "source": [
    "### Dance Academys"
   ]
  },
  {
   "cell_type": "code",
   "execution_count": 6,
   "metadata": {},
   "outputs": [],
   "source": [
    "url = 'https://www.guatemala.com/guias/pasatiempos/academias-de-baile-en-guatemala/scenic-dance-guatemala.html'"
   ]
  },
  {
   "cell_type": "code",
   "execution_count": 7,
   "metadata": {},
   "outputs": [],
   "source": [
    "def baile(url,category,web):\n",
    "    response = requests.get(url)\n",
    "    soup = BeautifulSoup(response.text, 'lxml')\n",
    "    names = [soup.find('h1').text]\n",
    "    city = ['Guatemala - Guatemala']\n",
    "    address = [soup.find('p',class_='address').text]\n",
    "    phone = [soup.find('div',class_='schedule-box span_mobile12 span_tablet3 span3').text.strip().split('\\n')[1]]\n",
    "    description = [soup.find('div',class_='single-content').p.text.strip()]\n",
    "    category = [category]\n",
    "    web = [web]\n",
    "    return pd.DataFrame(zip(names, city, address,phone,web,description,category),\n",
    "                              columns=['names','city','address','phone','web','description','category'])\n",
    "    \n",
    "    "
   ]
  },
  {
   "cell_type": "code",
   "execution_count": 8,
   "metadata": {},
   "outputs": [],
   "source": [
    "lista_url = [\n",
    "        ['https://www.guatemala.com/guias/pasatiempos/academias-de-baile-en-guatemala/scenic-dance-guatemala.html',\n",
    "         'Baile','https://es-la.facebook.com/ScenicDance/'],\n",
    "    \n",
    "        ['https://www.guatemala.com/guias/pasatiempos/academias-de-baile-en-guatemala/salsa-latin-guatemala.html',\n",
    "        'Baile','https://www.facebook.com/Salsa-Latin-Guatemala-178268719078/'],\n",
    "        \n",
    "        ['https://www.guatemala.com/guias/pasatiempos/academias-de-baile-en-guatemala/academia-dance-art.html',\n",
    "         'Baile','https://es-la.facebook.com/Danceartguatemala/'],\n",
    "    \n",
    "        ['https://www.guatemala.com/guias/pasatiempos/academias-de-baile-en-guatemala/academia-bellydance-rashida.html',\n",
    "        'Baile', 'https://es-la.facebook.com/Rashidaacademy/'],\n",
    "        \n",
    "        ['https://www.guatemala.com/guias/pasatiempos/academias-de-baile-en-guatemala/addiction-dance-studio.html',\n",
    "        'Baile','https://es-la.facebook.com/adsgt/'],\n",
    "    \n",
    "        ['https://www.guatemala.com/guias/pasatiempos/academias-de-baile-en-guatemala/escuela-cubana-de-baile-.html',\n",
    "        'Baile','https://es-la.facebook.com/Escuela-Cubana-de-Baile-110562958135/'],\n",
    "    \n",
    "        ['https://www.guatemala.com/guias/pasatiempos/academias-de-baile-en-guatemala/in-motion-dance-fitness-guatemala.html',\n",
    "        'Baile','http://www.inmotiongt.com/'],\n",
    "    \n",
    "        ['https://www.guatemala.com/guias/pasatiempos/academias-de-baile-en-guatemala/academia-de-ballet-danzarte.html',\n",
    "        'Baile','https://es-la.facebook.com/Danzarte.ballet/'],\n",
    "    \n",
    "        ['https://www.guatemala.com/guias/pasatiempos/academias-de-baile-en-guatemala/ritmo-y-sabor-guatemala.html',\n",
    "        'Baile','https://es-la.facebook.com/ritmoysaborgt/'],\n",
    "    \n",
    "        ['https://www.guatemala.com/guias/pasatiempos/academias-de-baile-en-guatemala/escuela-municipal-de-danza-clasica.html',\n",
    "        'Baile','https://es-la.facebook.com/EMDCgt/'],\n",
    "    \n",
    "        ['https://www.guatemala.com/guias/pasatiempos/academias-de-baile-en-guatemala/heroes-academy-guatemala-.html',\n",
    "        'Baile','https://es-la.facebook.com/HeroesCompanyGT/'],\n",
    "    \n",
    "        ['https://www.guatemala.com/guias/pasatiempos/academias-de-baile-en-guatemala/unidanza-guatemala-.html',\n",
    "        'Baile','http://unidanza.net/'],\n",
    "    \n",
    "        ['https://www.guatemala.com/guias/pasatiempos/academias-de-baile-en-guatemala/unlimited-dance-academy.html',\n",
    "        'Baile','https://unlimited-dance.com.gt/'],\n",
    "    \n",
    "        ['https://www.guatemala.com/guias/pasatiempos/academias-de-baile-en-guatemala/the-dance-factory.html',\n",
    "        'Baile','https://es-la.facebook.com/DanceFactoryGT/']\n",
    "    \n",
    "\n",
    "        ]"
   ]
  },
  {
   "cell_type": "code",
   "execution_count": 9,
   "metadata": {},
   "outputs": [],
   "source": [
    "df2=pd.DataFrame()\n",
    "for url in lista_url:\n",
    "    bucle = baile(url[0],url[1],url[2])\n",
    "    df2 = pd.concat([df2,bucle],ignore_index=True)"
   ]
  },
  {
   "cell_type": "code",
   "execution_count": 10,
   "metadata": {},
   "outputs": [
    {
     "data": {
      "text/html": [
       "<div>\n",
       "<style scoped>\n",
       "    .dataframe tbody tr th:only-of-type {\n",
       "        vertical-align: middle;\n",
       "    }\n",
       "\n",
       "    .dataframe tbody tr th {\n",
       "        vertical-align: top;\n",
       "    }\n",
       "\n",
       "    .dataframe thead th {\n",
       "        text-align: right;\n",
       "    }\n",
       "</style>\n",
       "<table border=\"1\" class=\"dataframe\">\n",
       "  <thead>\n",
       "    <tr style=\"text-align: right;\">\n",
       "      <th></th>\n",
       "      <th>names</th>\n",
       "      <th>city</th>\n",
       "      <th>address</th>\n",
       "      <th>phone</th>\n",
       "      <th>web</th>\n",
       "      <th>description</th>\n",
       "      <th>category</th>\n",
       "    </tr>\n",
       "  </thead>\n",
       "  <tbody>\n",
       "    <tr>\n",
       "      <th>0</th>\n",
       "      <td>Scenic Dance Guatemala</td>\n",
       "      <td>Guatemala - Guatemala</td>\n",
       "      <td>3a. avenida, 14-19 zona 14, Ciudad de Guatemal...</td>\n",
       "      <td>2368-0858 | 2478-4688</td>\n",
       "      <td>https://es-la.facebook.com/ScenicDance/</td>\n",
       "      <td>¿Listo para aprender nuevos pasos? Scenic Danc...</td>\n",
       "      <td>Baile</td>\n",
       "    </tr>\n",
       "    <tr>\n",
       "      <th>1</th>\n",
       "      <td>Salsa Latin Guatemala</td>\n",
       "      <td>Guatemala - Guatemala</td>\n",
       "      <td>18 calle 15-51, Zona 13 C.C. Paseo Real, Ciuda...</td>\n",
       "      <td>4217-2567 | 4008-6112</td>\n",
       "      <td>https://www.facebook.com/Salsa-Latin-Guatemala...</td>\n",
       "      <td>¡Atención amantes del baile! Salsa Latin Guate...</td>\n",
       "      <td>Baile</td>\n",
       "    </tr>\n",
       "    <tr>\n",
       "      <th>2</th>\n",
       "      <td>Academia Dance Art</td>\n",
       "      <td>Guatemala - Guatemala</td>\n",
       "      <td>Bulevar Vista Hermosa 25-80, zona 15 Vista Her...</td>\n",
       "      <td>3093-8434</td>\n",
       "      <td>https://es-la.facebook.com/Danceartguatemala/</td>\n",
       "      <td>La Academia Dance Art ofrece profesionales exp...</td>\n",
       "      <td>Baile</td>\n",
       "    </tr>\n",
       "    <tr>\n",
       "      <th>3</th>\n",
       "      <td>Academia BellyDance Rashida</td>\n",
       "      <td>Guatemala - Guatemala</td>\n",
       "      <td>Plaza Las Cañas, Local 201, zona 10, Ciudad de...</td>\n",
       "      <td>2337-0980</td>\n",
       "      <td>https://es-la.facebook.com/Rashidaacademy/</td>\n",
       "      <td>Esta academia de baile es ideal para las perso...</td>\n",
       "      <td>Baile</td>\n",
       "    </tr>\n",
       "    <tr>\n",
       "      <th>4</th>\n",
       "      <td>Addiction Dance Studio</td>\n",
       "      <td>Guatemala - Guatemala</td>\n",
       "      <td>Galerías Primma Locales 203 y 204, Ciudad de G...</td>\n",
       "      <td>5466-3773</td>\n",
       "      <td>https://es-la.facebook.com/adsgt/</td>\n",
       "      <td>¿Con ganas de bailar? Addiction Dance Studio e...</td>\n",
       "      <td>Baile</td>\n",
       "    </tr>\n",
       "  </tbody>\n",
       "</table>\n",
       "</div>"
      ],
      "text/plain": [
       "                         names                   city  \\\n",
       "0       Scenic Dance Guatemala  Guatemala - Guatemala   \n",
       "1        Salsa Latin Guatemala  Guatemala - Guatemala   \n",
       "2           Academia Dance Art  Guatemala - Guatemala   \n",
       "3  Academia BellyDance Rashida  Guatemala - Guatemala   \n",
       "4       Addiction Dance Studio  Guatemala - Guatemala   \n",
       "\n",
       "                                             address                  phone  \\\n",
       "0  3a. avenida, 14-19 zona 14, Ciudad de Guatemal...  2368-0858 | 2478-4688   \n",
       "1  18 calle 15-51, Zona 13 C.C. Paseo Real, Ciuda...  4217-2567 | 4008-6112   \n",
       "2  Bulevar Vista Hermosa 25-80, zona 15 Vista Her...              3093-8434   \n",
       "3  Plaza Las Cañas, Local 201, zona 10, Ciudad de...              2337-0980   \n",
       "4  Galerías Primma Locales 203 y 204, Ciudad de G...              5466-3773   \n",
       "\n",
       "                                                 web  \\\n",
       "0            https://es-la.facebook.com/ScenicDance/   \n",
       "1  https://www.facebook.com/Salsa-Latin-Guatemala...   \n",
       "2      https://es-la.facebook.com/Danceartguatemala/   \n",
       "3         https://es-la.facebook.com/Rashidaacademy/   \n",
       "4                  https://es-la.facebook.com/adsgt/   \n",
       "\n",
       "                                         description category  \n",
       "0  ¿Listo para aprender nuevos pasos? Scenic Danc...    Baile  \n",
       "1  ¡Atención amantes del baile! Salsa Latin Guate...    Baile  \n",
       "2  La Academia Dance Art ofrece profesionales exp...    Baile  \n",
       "3  Esta academia de baile es ideal para las perso...    Baile  \n",
       "4  ¿Con ganas de bailar? Addiction Dance Studio e...    Baile  "
      ]
     },
     "execution_count": 10,
     "metadata": {},
     "output_type": "execute_result"
    }
   ],
   "source": [
    "df2.head()"
   ]
  },
  {
   "cell_type": "markdown",
   "metadata": {},
   "source": [
    "### Crossfit"
   ]
  },
  {
   "cell_type": "code",
   "execution_count": 11,
   "metadata": {},
   "outputs": [],
   "source": [
    "url = 'https://www.guatemala.com/deportes/crossfit/gimnasios-box-para-hacer-crossfit-guatemala.html'"
   ]
  },
  {
   "cell_type": "code",
   "execution_count": 12,
   "metadata": {},
   "outputs": [],
   "source": [
    "response = requests.get(url)\n",
    "soup = BeautifulSoup(response.text,'lxml')"
   ]
  },
  {
   "cell_type": "code",
   "execution_count": 13,
   "metadata": {},
   "outputs": [],
   "source": [
    "names = [soup.find_all('h3')[i].text for i in range(len(soup.find_all('h3'))-2)]\n",
    "names.insert(2,'CrossFit 502')\n",
    "names.insert(4,'Crossfit FD6')\n",
    "names.insert(9,'CrossFit Spring City Once')"
   ]
  },
  {
   "cell_type": "code",
   "execution_count": 14,
   "metadata": {},
   "outputs": [],
   "source": [
    "address = [soup.find_all('ul')[i].li.text.strip() for i in range(2,len(soup.find_all('ul'))-3)]"
   ]
  },
  {
   "cell_type": "code",
   "execution_count": 15,
   "metadata": {},
   "outputs": [],
   "source": [
    "address.insert(1,address[1].split('|')[0])\n",
    "address[2] = address[2].split('|')[1]\n",
    "address.insert(3,address[3].split('|')[0])\n",
    "address[4] = address[4].split('|')[1]\n",
    "address.insert(8,address[8].split('|')[0])\n",
    "address[9] = address[9].split('|')[1]"
   ]
  },
  {
   "cell_type": "code",
   "execution_count": 16,
   "metadata": {},
   "outputs": [],
   "source": [
    "phone = [soup.find_all('ul')[i].find_all('li')[1].text.strip().split('Contacto:')[1].split('Facebook')[0].strip() for i in range(2,len(soup.find_all('ul'))-3)]\n",
    "phone.insert(1,phone[1].split('|')[0])\n",
    "phone[2] = phone[2].split('|')[1]\n",
    "phone.insert(3,phone[3].split('|')[0])\n",
    "phone[4] = phone[4].split('|')[1]\n",
    "phone.insert(8,phone[8].split('|')[0])\n",
    "phone[9] = phone[9].split('|')[1]"
   ]
  },
  {
   "cell_type": "code",
   "execution_count": 17,
   "metadata": {},
   "outputs": [
    {
     "data": {
      "text/plain": [
       "'https://www.facebook.com/invictusperformance/'"
      ]
     },
     "execution_count": 17,
     "metadata": {},
     "output_type": "execute_result"
    }
   ],
   "source": [
    "soup.find_all('a', href=True)[72]['href']"
   ]
  },
  {
   "cell_type": "code",
   "execution_count": 18,
   "metadata": {},
   "outputs": [],
   "source": [
    "web = [soup.find_all('a', href=True)[i]['href'] for i in range(72,79)]"
   ]
  },
  {
   "cell_type": "code",
   "execution_count": 19,
   "metadata": {},
   "outputs": [],
   "source": [
    "web.insert(2,'https://www.facebook.com/CF502/')\n",
    "web.insert(4,'https://www.facebook.com/d6lifechangingfitness/')\n",
    "web.insert(9,'https://www.facebook.com/crossfitspringcity7/')"
   ]
  },
  {
   "cell_type": "code",
   "execution_count": 20,
   "metadata": {},
   "outputs": [],
   "source": [
    "description = ['crossfit' for i in range(len(names))]\n",
    "category = ['crossfit' for i in range(len(names))]\n",
    "city = ['Guatemala - Guatemala' for i in range(len(names))]"
   ]
  },
  {
   "cell_type": "code",
   "execution_count": 21,
   "metadata": {},
   "outputs": [],
   "source": [
    "category = ['crossfit' for i in range(len(names))]"
   ]
  },
  {
   "cell_type": "code",
   "execution_count": 22,
   "metadata": {},
   "outputs": [],
   "source": [
    "city = ['Guatemala - Guatemala' for i in range(len(names))]"
   ]
  },
  {
   "cell_type": "code",
   "execution_count": 23,
   "metadata": {},
   "outputs": [],
   "source": [
    "crossfit = pd.DataFrame(zip(names, city, address,phone,web,description,category),\n",
    "                              columns=['names','city','address','phone','web','description','category'])"
   ]
  },
  {
   "cell_type": "code",
   "execution_count": 24,
   "metadata": {},
   "outputs": [],
   "source": [
    "def numero(x): #si la fecha tiene formaro de dd-mmm-aa devuelve únicamente el año\n",
    "    if re.search(r\"(\\d)\", x.lower()):\n",
    "        ye = re.search(r\"^\\d?\\d-\\w\\w\\w-(\\d\\d\\d?\\d?)$\", x.lower())\n",
    "        x = ye.group(1)\n",
    "        return x\n",
    "    else:\n",
    "        return x"
   ]
  },
  {
   "cell_type": "code",
   "execution_count": 25,
   "metadata": {},
   "outputs": [],
   "source": [
    "crossfit.phone = crossfit.phone.apply(lambda x: re.search(r\"(\\d+\\s\\d+)\",x).group(1))"
   ]
  },
  {
   "cell_type": "code",
   "execution_count": 26,
   "metadata": {},
   "outputs": [
    {
     "data": {
      "text/html": [
       "<div>\n",
       "<style scoped>\n",
       "    .dataframe tbody tr th:only-of-type {\n",
       "        vertical-align: middle;\n",
       "    }\n",
       "\n",
       "    .dataframe tbody tr th {\n",
       "        vertical-align: top;\n",
       "    }\n",
       "\n",
       "    .dataframe thead th {\n",
       "        text-align: right;\n",
       "    }\n",
       "</style>\n",
       "<table border=\"1\" class=\"dataframe\">\n",
       "  <thead>\n",
       "    <tr style=\"text-align: right;\">\n",
       "      <th></th>\n",
       "      <th>names</th>\n",
       "      <th>city</th>\n",
       "      <th>address</th>\n",
       "      <th>phone</th>\n",
       "      <th>web</th>\n",
       "      <th>description</th>\n",
       "      <th>category</th>\n",
       "    </tr>\n",
       "  </thead>\n",
       "  <tbody>\n",
       "    <tr>\n",
       "      <th>0</th>\n",
       "      <td>Invictus Performance Training</td>\n",
       "      <td>Guatemala - Guatemala</td>\n",
       "      <td>Ubicación: 8a. avenida 6-63, Zona 14</td>\n",
       "      <td>2367 1239</td>\n",
       "      <td>https://www.facebook.com/invictusperformance/</td>\n",
       "      <td>crossfit</td>\n",
       "      <td>crossfit</td>\n",
       "    </tr>\n",
       "    <tr>\n",
       "      <th>1</th>\n",
       "      <td>CrossFit 502</td>\n",
       "      <td>Guatemala - Guatemala</td>\n",
       "      <td>Ubicación:  Dinamia Cayalá, Zona 16</td>\n",
       "      <td>2368 5013</td>\n",
       "      <td>https://www.facebook.com/CF502/</td>\n",
       "      <td>crossfit</td>\n",
       "      <td>crossfit</td>\n",
       "    </tr>\n",
       "    <tr>\n",
       "      <th>2</th>\n",
       "      <td>CrossFit 502</td>\n",
       "      <td>Guatemala - Guatemala</td>\n",
       "      <td>C.C. Escala, Carretera a El Salvador</td>\n",
       "      <td>6637 3778</td>\n",
       "      <td>https://www.facebook.com/CF502/</td>\n",
       "      <td>crossfit</td>\n",
       "      <td>crossfit</td>\n",
       "    </tr>\n",
       "    <tr>\n",
       "      <th>3</th>\n",
       "      <td>CrossFit FD6</td>\n",
       "      <td>Guatemala - Guatemala</td>\n",
       "      <td>Ubicación: Plaza Futeca, Zona 14</td>\n",
       "      <td>2213 6900</td>\n",
       "      <td>https://www.facebook.com/d6lifechangingfitness/</td>\n",
       "      <td>crossfit</td>\n",
       "      <td>crossfit</td>\n",
       "    </tr>\n",
       "    <tr>\n",
       "      <th>4</th>\n",
       "      <td>Crossfit FD6</td>\n",
       "      <td>Guatemala - Guatemala</td>\n",
       "      <td>C.C. Miraflores, Zona 11</td>\n",
       "      <td>2225 3200</td>\n",
       "      <td>https://www.facebook.com/d6lifechangingfitness/</td>\n",
       "      <td>crossfit</td>\n",
       "      <td>crossfit</td>\n",
       "    </tr>\n",
       "  </tbody>\n",
       "</table>\n",
       "</div>"
      ],
      "text/plain": [
       "                           names                   city  \\\n",
       "0  Invictus Performance Training  Guatemala - Guatemala   \n",
       "1                   CrossFit 502  Guatemala - Guatemala   \n",
       "2                   CrossFit 502  Guatemala - Guatemala   \n",
       "3                   CrossFit FD6  Guatemala - Guatemala   \n",
       "4                   Crossfit FD6  Guatemala - Guatemala   \n",
       "\n",
       "                                 address      phone  \\\n",
       "0   Ubicación: 8a. avenida 6-63, Zona 14  2367 1239   \n",
       "1   Ubicación:  Dinamia Cayalá, Zona 16   2368 5013   \n",
       "2   C.C. Escala, Carretera a El Salvador  6637 3778   \n",
       "3      Ubicación: Plaza Futeca, Zona 14   2213 6900   \n",
       "4               C.C. Miraflores, Zona 11  2225 3200   \n",
       "\n",
       "                                               web description  category  \n",
       "0    https://www.facebook.com/invictusperformance/    crossfit  crossfit  \n",
       "1                  https://www.facebook.com/CF502/    crossfit  crossfit  \n",
       "2                  https://www.facebook.com/CF502/    crossfit  crossfit  \n",
       "3  https://www.facebook.com/d6lifechangingfitness/    crossfit  crossfit  \n",
       "4  https://www.facebook.com/d6lifechangingfitness/    crossfit  crossfit  "
      ]
     },
     "execution_count": 26,
     "metadata": {},
     "output_type": "execute_result"
    }
   ],
   "source": [
    "crossfit.head()"
   ]
  },
  {
   "cell_type": "markdown",
   "metadata": {},
   "source": [
    "### Futeca"
   ]
  },
  {
   "cell_type": "code",
   "execution_count": 27,
   "metadata": {},
   "outputs": [],
   "source": [
    "url = 'https://futecagym.com/sedes/'\n",
    "response = requests.get(url).text"
   ]
  },
  {
   "cell_type": "code",
   "execution_count": 28,
   "metadata": {},
   "outputs": [],
   "source": [
    "soup = BeautifulSoup(response,'lxml')"
   ]
  },
  {
   "cell_type": "code",
   "execution_count": 29,
   "metadata": {},
   "outputs": [],
   "source": [
    "general = soup.find_all('div', class_='column_attr clearfix')"
   ]
  },
  {
   "cell_type": "code",
   "execution_count": 30,
   "metadata": {},
   "outputs": [],
   "source": [
    "names= ['Futeca Gym - '+general[i].find_all('h4')[0].text for i in range(0,len(general),2) ]"
   ]
  },
  {
   "cell_type": "code",
   "execution_count": 31,
   "metadata": {},
   "outputs": [],
   "source": [
    "address = [general[i].find_all('p')[0].text.split('Dirección')[1].strip() for i in range(0,len(general),2) ]"
   ]
  },
  {
   "cell_type": "code",
   "execution_count": 32,
   "metadata": {},
   "outputs": [],
   "source": [
    "phone = [general[i].find_all('p')[1].text for i in range(0,len(general),2) ]"
   ]
  },
  {
   "cell_type": "code",
   "execution_count": 33,
   "metadata": {},
   "outputs": [],
   "source": [
    "df = pd.DataFrame(zip(names,address,phone),columns=['names','address','phone'])"
   ]
  },
  {
   "cell_type": "code",
   "execution_count": 34,
   "metadata": {},
   "outputs": [],
   "source": [
    "df['city'] = 'Guatemala - Guatemala'\n",
    "df['category'] = 'Gimnasios de Educación Física'\n",
    "df['web'] = 'https://futecagym.com/'\n",
    "df['description'] = '''Futeca Gym, es un gimnasio que nace en el 2010. Enfocado en mejorar la calidad de vida de sus socios, a través del ejercicio, una buena alimentación y la creación de comunidades estrechas entre socios.'''"
   ]
  },
  {
   "cell_type": "code",
   "execution_count": 35,
   "metadata": {},
   "outputs": [],
   "source": [
    "futeca = df[['names','city','address','phone','web','description','category']]"
   ]
  },
  {
   "cell_type": "code",
   "execution_count": 36,
   "metadata": {},
   "outputs": [
    {
     "data": {
      "text/html": [
       "<div>\n",
       "<style scoped>\n",
       "    .dataframe tbody tr th:only-of-type {\n",
       "        vertical-align: middle;\n",
       "    }\n",
       "\n",
       "    .dataframe tbody tr th {\n",
       "        vertical-align: top;\n",
       "    }\n",
       "\n",
       "    .dataframe thead th {\n",
       "        text-align: right;\n",
       "    }\n",
       "</style>\n",
       "<table border=\"1\" class=\"dataframe\">\n",
       "  <thead>\n",
       "    <tr style=\"text-align: right;\">\n",
       "      <th></th>\n",
       "      <th>names</th>\n",
       "      <th>city</th>\n",
       "      <th>address</th>\n",
       "      <th>phone</th>\n",
       "      <th>web</th>\n",
       "      <th>description</th>\n",
       "      <th>category</th>\n",
       "    </tr>\n",
       "  </thead>\n",
       "  <tbody>\n",
       "    <tr>\n",
       "      <th>0</th>\n",
       "      <td>Futeca Gym - Zona 14</td>\n",
       "      <td>Guatemala - Guatemala</td>\n",
       "      <td>10ma. Avenida 10-50 zona 14. Plaza Futeca, Loc...</td>\n",
       "      <td>Teléfono: +502 22136900</td>\n",
       "      <td>https://futecagym.com/</td>\n",
       "      <td>Futeca Gym, es un gimnasio que nace en el 2010...</td>\n",
       "      <td>Gimnasios de Educación Física</td>\n",
       "    </tr>\n",
       "    <tr>\n",
       "      <th>1</th>\n",
       "      <td>Futeca Gym - Pradera Concepción</td>\n",
       "      <td>Guatemala - Guatemala</td>\n",
       "      <td>Km. 15.5 Carretera a El Salvador, Finca Concep...</td>\n",
       "      <td>Teléfono: +502 66339866</td>\n",
       "      <td>https://futecagym.com/</td>\n",
       "      <td>Futeca Gym, es un gimnasio que nace en el 2010...</td>\n",
       "      <td>Gimnasios de Educación Física</td>\n",
       "    </tr>\n",
       "    <tr>\n",
       "      <th>2</th>\n",
       "      <td>Futeca Gym - Miraflores</td>\n",
       "      <td>Guatemala - Guatemala</td>\n",
       "      <td>22 avenida, 7ma. calle zona 11, Paseo Miraflores</td>\n",
       "      <td>Teléfono: +502 22253200</td>\n",
       "      <td>https://futecagym.com/</td>\n",
       "      <td>Futeca Gym, es un gimnasio que nace en el 2010...</td>\n",
       "      <td>Gimnasios de Educación Física</td>\n",
       "    </tr>\n",
       "    <tr>\n",
       "      <th>3</th>\n",
       "      <td>Futeca Gym - San Cristóbal</td>\n",
       "      <td>Guatemala - Guatemala</td>\n",
       "      <td>Blvd. Principal 19-65 sector B1 San Cristóbal ...</td>\n",
       "      <td>Teléfono +502 24796470</td>\n",
       "      <td>https://futecagym.com/</td>\n",
       "      <td>Futeca Gym, es un gimnasio que nace en el 2010...</td>\n",
       "      <td>Gimnasios de Educación Física</td>\n",
       "    </tr>\n",
       "    <tr>\n",
       "      <th>4</th>\n",
       "      <td>Futeca Gym - Naranjo</td>\n",
       "      <td>Guatemala - Guatemala</td>\n",
       "      <td>23 calle 10-00 Zona 4 Condado Naranjo , local ...</td>\n",
       "      <td>Whatsapp: +502 410001310</td>\n",
       "      <td>https://futecagym.com/</td>\n",
       "      <td>Futeca Gym, es un gimnasio que nace en el 2010...</td>\n",
       "      <td>Gimnasios de Educación Física</td>\n",
       "    </tr>\n",
       "  </tbody>\n",
       "</table>\n",
       "</div>"
      ],
      "text/plain": [
       "                             names                   city  \\\n",
       "0             Futeca Gym - Zona 14  Guatemala - Guatemala   \n",
       "1  Futeca Gym - Pradera Concepción  Guatemala - Guatemala   \n",
       "2          Futeca Gym - Miraflores  Guatemala - Guatemala   \n",
       "3       Futeca Gym - San Cristóbal  Guatemala - Guatemala   \n",
       "4             Futeca Gym - Naranjo  Guatemala - Guatemala   \n",
       "\n",
       "                                             address  \\\n",
       "0  10ma. Avenida 10-50 zona 14. Plaza Futeca, Loc...   \n",
       "1  Km. 15.5 Carretera a El Salvador, Finca Concep...   \n",
       "2   22 avenida, 7ma. calle zona 11, Paseo Miraflores   \n",
       "3  Blvd. Principal 19-65 sector B1 San Cristóbal ...   \n",
       "4  23 calle 10-00 Zona 4 Condado Naranjo , local ...   \n",
       "\n",
       "                      phone                     web  \\\n",
       "0   Teléfono: +502 22136900  https://futecagym.com/   \n",
       "1   Teléfono: +502 66339866  https://futecagym.com/   \n",
       "2   Teléfono: +502 22253200  https://futecagym.com/   \n",
       "3    Teléfono +502 24796470  https://futecagym.com/   \n",
       "4  Whatsapp: +502 410001310  https://futecagym.com/   \n",
       "\n",
       "                                         description  \\\n",
       "0  Futeca Gym, es un gimnasio que nace en el 2010...   \n",
       "1  Futeca Gym, es un gimnasio que nace en el 2010...   \n",
       "2  Futeca Gym, es un gimnasio que nace en el 2010...   \n",
       "3  Futeca Gym, es un gimnasio que nace en el 2010...   \n",
       "4  Futeca Gym, es un gimnasio que nace en el 2010...   \n",
       "\n",
       "                        category  \n",
       "0  Gimnasios de Educación Física  \n",
       "1  Gimnasios de Educación Física  \n",
       "2  Gimnasios de Educación Física  \n",
       "3  Gimnasios de Educación Física  \n",
       "4  Gimnasios de Educación Física  "
      ]
     },
     "execution_count": 36,
     "metadata": {},
     "output_type": "execute_result"
    }
   ],
   "source": [
    "futeca.head()"
   ]
  },
  {
   "cell_type": "markdown",
   "metadata": {},
   "source": [
    "### Fitness One"
   ]
  },
  {
   "cell_type": "code",
   "execution_count": 37,
   "metadata": {},
   "outputs": [],
   "source": [
    "url = 'https://fitnessone.com.gt/pradera/'\n",
    "response = requests.get(url).text\n",
    "soup = BeautifulSoup(response,'lxml')"
   ]
  },
  {
   "cell_type": "code",
   "execution_count": 38,
   "metadata": {},
   "outputs": [],
   "source": [
    "general = soup.find_all('h1')"
   ]
  },
  {
   "cell_type": "code",
   "execution_count": 39,
   "metadata": {},
   "outputs": [],
   "source": [
    "locations =['cayala','pradera','rus','sankrismall']\n",
    "names=[]\n",
    "city=[]\n",
    "address =[]\n",
    "phone =[]\n",
    "for location in locations:\n",
    "    url = 'https://fitnessone.com.gt/{}/'.format(location)\n",
    "    response = requests.get(url).text\n",
    "    soup = BeautifulSoup(response,'lxml')\n",
    "    general = soup.find_all('h1')\n",
    "    names.append('Fitness One - '+general[1].text)\n",
    "    city.append('Guatemala-Guatemala')\n",
    "    address.append(soup.find_all('div',class_='et_pb_text_inner')[4].find_all('p')[0].text)\n",
    "    phone.append(soup.find_all('div',class_='et_pb_text_inner')[4].find_all('p')[1].text)"
   ]
  },
  {
   "cell_type": "code",
   "execution_count": 40,
   "metadata": {},
   "outputs": [],
   "source": [
    "df = pd.DataFrame(zip(names,city,address,phone),columns=['names','city','address','phone'])"
   ]
  },
  {
   "cell_type": "code",
   "execution_count": 41,
   "metadata": {},
   "outputs": [],
   "source": [
    "df['city'] = 'Guatemala - Guatemala'\n",
    "df['category'] = 'Gimnasios de Educación Física'\n",
    "df['web'] = 'https://fitnessone.com.gt/'\n",
    "df['description'] = 'Todo lo que necesitas para transformar tu vida y tu cuerpo, las mejores ubicaciones, personal capacitado para hacer del ejercicio parte de tu vida.'\n",
    "fitnessone = df[['names','city','address','phone','web','description','category']]"
   ]
  },
  {
   "cell_type": "code",
   "execution_count": 42,
   "metadata": {},
   "outputs": [
    {
     "data": {
      "text/html": [
       "<div>\n",
       "<style scoped>\n",
       "    .dataframe tbody tr th:only-of-type {\n",
       "        vertical-align: middle;\n",
       "    }\n",
       "\n",
       "    .dataframe tbody tr th {\n",
       "        vertical-align: top;\n",
       "    }\n",
       "\n",
       "    .dataframe thead th {\n",
       "        text-align: right;\n",
       "    }\n",
       "</style>\n",
       "<table border=\"1\" class=\"dataframe\">\n",
       "  <thead>\n",
       "    <tr style=\"text-align: right;\">\n",
       "      <th></th>\n",
       "      <th>names</th>\n",
       "      <th>city</th>\n",
       "      <th>address</th>\n",
       "      <th>phone</th>\n",
       "      <th>web</th>\n",
       "      <th>description</th>\n",
       "      <th>category</th>\n",
       "    </tr>\n",
       "  </thead>\n",
       "  <tbody>\n",
       "    <tr>\n",
       "      <th>0</th>\n",
       "      <td>Fitness One - Cayalá</td>\n",
       "      <td>Guatemala - Guatemala</td>\n",
       "      <td>Diagonal 35 Boulevard Austriaco 16-25 Zona 16 ...</td>\n",
       "      <td>+502 2491-4333</td>\n",
       "      <td>https://fitnessone.com.gt/</td>\n",
       "      <td>Todo lo que necesitas para transformar tu vida...</td>\n",
       "      <td>Gimnasios de Educación Física</td>\n",
       "    </tr>\n",
       "    <tr>\n",
       "      <th>1</th>\n",
       "      <td>Fitness One - Pradera</td>\n",
       "      <td>Guatemala - Guatemala</td>\n",
       "      <td>Boulevar Los Próceres 25-74 Zona 10</td>\n",
       "      <td>+502 2423-6000</td>\n",
       "      <td>https://fitnessone.com.gt/</td>\n",
       "      <td>Todo lo que necesitas para transformar tu vida...</td>\n",
       "      <td>Gimnasios de Educación Física</td>\n",
       "    </tr>\n",
       "    <tr>\n",
       "      <th>2</th>\n",
       "      <td>Fitness One - RUS</td>\n",
       "      <td>Guatemala - Guatemala</td>\n",
       "      <td>Calzada Roosevelt 12-76 zona 7 C.C. RUS</td>\n",
       "      <td>+502 2226-2226</td>\n",
       "      <td>https://fitnessone.com.gt/</td>\n",
       "      <td>Todo lo que necesitas para transformar tu vida...</td>\n",
       "      <td>Gimnasios de Educación Física</td>\n",
       "    </tr>\n",
       "    <tr>\n",
       "      <th>3</th>\n",
       "      <td>Fitness One - Sankris Mall</td>\n",
       "      <td>Guatemala - Guatemala</td>\n",
       "      <td>3ra. Calle Sector A-3 Boulevard San Cristóbal ...</td>\n",
       "      <td>+502 2424-4848</td>\n",
       "      <td>https://fitnessone.com.gt/</td>\n",
       "      <td>Todo lo que necesitas para transformar tu vida...</td>\n",
       "      <td>Gimnasios de Educación Física</td>\n",
       "    </tr>\n",
       "  </tbody>\n",
       "</table>\n",
       "</div>"
      ],
      "text/plain": [
       "                        names                   city  \\\n",
       "0        Fitness One - Cayalá  Guatemala - Guatemala   \n",
       "1       Fitness One - Pradera  Guatemala - Guatemala   \n",
       "2           Fitness One - RUS  Guatemala - Guatemala   \n",
       "3  Fitness One - Sankris Mall  Guatemala - Guatemala   \n",
       "\n",
       "                                             address           phone  \\\n",
       "0  Diagonal 35 Boulevard Austriaco 16-25 Zona 16 ...  +502 2491-4333   \n",
       "1                Boulevar Los Próceres 25-74 Zona 10  +502 2423-6000   \n",
       "2            Calzada Roosevelt 12-76 zona 7 C.C. RUS  +502 2226-2226   \n",
       "3  3ra. Calle Sector A-3 Boulevard San Cristóbal ...  +502 2424-4848   \n",
       "\n",
       "                          web  \\\n",
       "0  https://fitnessone.com.gt/   \n",
       "1  https://fitnessone.com.gt/   \n",
       "2  https://fitnessone.com.gt/   \n",
       "3  https://fitnessone.com.gt/   \n",
       "\n",
       "                                         description  \\\n",
       "0  Todo lo que necesitas para transformar tu vida...   \n",
       "1  Todo lo que necesitas para transformar tu vida...   \n",
       "2  Todo lo que necesitas para transformar tu vida...   \n",
       "3  Todo lo que necesitas para transformar tu vida...   \n",
       "\n",
       "                        category  \n",
       "0  Gimnasios de Educación Física  \n",
       "1  Gimnasios de Educación Física  \n",
       "2  Gimnasios de Educación Física  \n",
       "3  Gimnasios de Educación Física  "
      ]
     },
     "execution_count": 42,
     "metadata": {},
     "output_type": "execute_result"
    }
   ],
   "source": [
    "fitnessone.head()"
   ]
  },
  {
   "cell_type": "markdown",
   "metadata": {},
   "source": [
    "### Scandinavia"
   ]
  },
  {
   "cell_type": "code",
   "execution_count": 43,
   "metadata": {},
   "outputs": [],
   "source": [
    "url = 'https://www.scandinaviagym.com/#gimnasios'\n",
    "#response = requests.get(url).text"
   ]
  },
  {
   "cell_type": "code",
   "execution_count": 44,
   "metadata": {},
   "outputs": [],
   "source": [
    "driver = webdriver.Chrome()\n",
    "\n",
    "driver.get(url)\n",
    "\n",
    "resp = driver.execute_script(\"return document.documentElement.outerHTML\")\n",
    "\n",
    "driver.quit()\n",
    "\n",
    "soup = BeautifulSoup(resp,'lxml')"
   ]
  },
  {
   "cell_type": "code",
   "execution_count": 45,
   "metadata": {},
   "outputs": [],
   "source": [
    "general = soup.find_all('h3')"
   ]
  },
  {
   "cell_type": "code",
   "execution_count": 46,
   "metadata": {},
   "outputs": [],
   "source": [
    "names = ['Scandinavia - '+name.text for name in general]"
   ]
  },
  {
   "cell_type": "code",
   "execution_count": 47,
   "metadata": {},
   "outputs": [],
   "source": [
    "address = [ad.h4.text for ad in soup.find_all('div',class_='team-detail')]"
   ]
  },
  {
   "cell_type": "code",
   "execution_count": 48,
   "metadata": {},
   "outputs": [],
   "source": [
    "phone= [phone.text for phone in soup.find_all('b')]"
   ]
  },
  {
   "cell_type": "code",
   "execution_count": 49,
   "metadata": {},
   "outputs": [],
   "source": [
    "phone = [tel for tel in phone if tel!='']"
   ]
  },
  {
   "cell_type": "code",
   "execution_count": 50,
   "metadata": {},
   "outputs": [],
   "source": [
    "phone[0] = 'Teléfonos: 2459-2586 y 2377-3013'\n",
    "phone[3] = 'Teléfonos: 2269 5605'\n",
    "phone[5] = 'Teléfonos: 3502 1704'\n",
    "phone[6] = 'Teléfonos: 7832 6763'\n",
    "phone[8] = 'Teléfonos: 2478 1566'\n",
    "phone[9] = 'Teléfonos: 2212 7513'\n",
    "phone[10] = 'Teléfonos: 2474 2815'\n",
    "phone[12] = 'Teléfonos: 2335 7683'\n",
    "phone[-3] = 'Teléfonos: 2211 0046'"
   ]
  },
  {
   "cell_type": "code",
   "execution_count": 51,
   "metadata": {},
   "outputs": [],
   "source": [
    "city = ['Guatemala - Guatemala' for i in range(len(phone))]"
   ]
  },
  {
   "cell_type": "code",
   "execution_count": 52,
   "metadata": {},
   "outputs": [],
   "source": [
    "df = pd.DataFrame(zip(names,city,address,phone),columns=['names','city','address','phone'])"
   ]
  },
  {
   "cell_type": "code",
   "execution_count": 53,
   "metadata": {},
   "outputs": [],
   "source": [
    "df['category'] = 'Gimnasios de Educación Física'\n",
    "df['city'] = 'Guatemala - Guatemala'\n",
    "df['web'] = 'https://www.scandinaviagym.com/'\n",
    "df['description'] = 'Cadena de 14 gimnasios. Siempre Cerca de Ti. Amplios Horarios. En las principales ciudades de Guatemala.'\n",
    "scandinavia = df[['names','city','address','phone','web','description','category']]"
   ]
  },
  {
   "cell_type": "code",
   "execution_count": 54,
   "metadata": {},
   "outputs": [
    {
     "data": {
      "text/html": [
       "<div>\n",
       "<style scoped>\n",
       "    .dataframe tbody tr th:only-of-type {\n",
       "        vertical-align: middle;\n",
       "    }\n",
       "\n",
       "    .dataframe tbody tr th {\n",
       "        vertical-align: top;\n",
       "    }\n",
       "\n",
       "    .dataframe thead th {\n",
       "        text-align: right;\n",
       "    }\n",
       "</style>\n",
       "<table border=\"1\" class=\"dataframe\">\n",
       "  <thead>\n",
       "    <tr style=\"text-align: right;\">\n",
       "      <th></th>\n",
       "      <th>names</th>\n",
       "      <th>city</th>\n",
       "      <th>address</th>\n",
       "      <th>phone</th>\n",
       "      <th>web</th>\n",
       "      <th>description</th>\n",
       "      <th>category</th>\n",
       "    </tr>\n",
       "  </thead>\n",
       "  <tbody>\n",
       "    <tr>\n",
       "      <th>0</th>\n",
       "      <td>Scandinavia - Aguilar Batres</td>\n",
       "      <td>Guatemala - Guatemala</td>\n",
       "      <td>Calzada Aguilar Batres14-07, Zona 12</td>\n",
       "      <td>Teléfonos: 2459-2586 y 2377-3013</td>\n",
       "      <td>https://www.scandinaviagym.com/</td>\n",
       "      <td>Cadena de 14 gimnasios. Siempre Cerca de Ti. A...</td>\n",
       "      <td>Gimnasios de Educación Física</td>\n",
       "    </tr>\n",
       "    <tr>\n",
       "      <th>1</th>\n",
       "      <td>Scandinavia - Vista Hermosa</td>\n",
       "      <td>Guatemala - Guatemala</td>\n",
       "      <td>Boulevard Vista Hermosa 21-95 zona 15</td>\n",
       "      <td>Teléfonos: 2277-9296 y 2369-1018</td>\n",
       "      <td>https://www.scandinaviagym.com/</td>\n",
       "      <td>Cadena de 14 gimnasios. Siempre Cerca de Ti. A...</td>\n",
       "      <td>Gimnasios de Educación Física</td>\n",
       "    </tr>\n",
       "    <tr>\n",
       "      <th>2</th>\n",
       "      <td>Scandinavia - Carretera a El Salvador</td>\n",
       "      <td>Guatemala - Guatemala</td>\n",
       "      <td>Km. 16.5, Carretera a El Salvador Salida a San...</td>\n",
       "      <td>Teléfonos: 2277-9297 y 6634-0633</td>\n",
       "      <td>https://www.scandinaviagym.com/</td>\n",
       "      <td>Cadena de 14 gimnasios. Siempre Cerca de Ti. A...</td>\n",
       "      <td>Gimnasios de Educación Física</td>\n",
       "    </tr>\n",
       "    <tr>\n",
       "      <th>3</th>\n",
       "      <td>Scandinavia - Metronorte</td>\n",
       "      <td>Guatemala - Guatemala</td>\n",
       "      <td>Centro Comercial Metronorte</td>\n",
       "      <td>Teléfonos: 2269 5605</td>\n",
       "      <td>https://www.scandinaviagym.com/</td>\n",
       "      <td>Cadena de 14 gimnasios. Siempre Cerca de Ti. A...</td>\n",
       "      <td>Gimnasios de Educación Física</td>\n",
       "    </tr>\n",
       "    <tr>\n",
       "      <th>4</th>\n",
       "      <td>Scandinavia - San Rafael</td>\n",
       "      <td>Guatemala - Guatemala</td>\n",
       "      <td>km. 7.5 Carretera a El Atlántico zona 18, c.c....</td>\n",
       "      <td>Teléfonos: 2267 2919</td>\n",
       "      <td>https://www.scandinaviagym.com/</td>\n",
       "      <td>Cadena de 14 gimnasios. Siempre Cerca de Ti. A...</td>\n",
       "      <td>Gimnasios de Educación Física</td>\n",
       "    </tr>\n",
       "  </tbody>\n",
       "</table>\n",
       "</div>"
      ],
      "text/plain": [
       "                                   names                   city  \\\n",
       "0           Scandinavia - Aguilar Batres  Guatemala - Guatemala   \n",
       "1            Scandinavia - Vista Hermosa  Guatemala - Guatemala   \n",
       "2  Scandinavia - Carretera a El Salvador  Guatemala - Guatemala   \n",
       "3              Scandinavia - Metronorte   Guatemala - Guatemala   \n",
       "4               Scandinavia - San Rafael  Guatemala - Guatemala   \n",
       "\n",
       "                                             address  \\\n",
       "0               Calzada Aguilar Batres14-07, Zona 12   \n",
       "1              Boulevard Vista Hermosa 21-95 zona 15   \n",
       "2  Km. 16.5, Carretera a El Salvador Salida a San...   \n",
       "3                        Centro Comercial Metronorte   \n",
       "4  km. 7.5 Carretera a El Atlántico zona 18, c.c....   \n",
       "\n",
       "                              phone                              web  \\\n",
       "0  Teléfonos: 2459-2586 y 2377-3013  https://www.scandinaviagym.com/   \n",
       "1  Teléfonos: 2277-9296 y 2369-1018  https://www.scandinaviagym.com/   \n",
       "2  Teléfonos: 2277-9297 y 6634-0633  https://www.scandinaviagym.com/   \n",
       "3              Teléfonos: 2269 5605  https://www.scandinaviagym.com/   \n",
       "4              Teléfonos: 2267 2919  https://www.scandinaviagym.com/   \n",
       "\n",
       "                                         description  \\\n",
       "0  Cadena de 14 gimnasios. Siempre Cerca de Ti. A...   \n",
       "1  Cadena de 14 gimnasios. Siempre Cerca de Ti. A...   \n",
       "2  Cadena de 14 gimnasios. Siempre Cerca de Ti. A...   \n",
       "3  Cadena de 14 gimnasios. Siempre Cerca de Ti. A...   \n",
       "4  Cadena de 14 gimnasios. Siempre Cerca de Ti. A...   \n",
       "\n",
       "                        category  \n",
       "0  Gimnasios de Educación Física  \n",
       "1  Gimnasios de Educación Física  \n",
       "2  Gimnasios de Educación Física  \n",
       "3  Gimnasios de Educación Física  \n",
       "4  Gimnasios de Educación Física  "
      ]
     },
     "execution_count": 54,
     "metadata": {},
     "output_type": "execute_result"
    }
   ],
   "source": [
    "scandinavia.head()"
   ]
  },
  {
   "cell_type": "markdown",
   "metadata": {},
   "source": [
    "### Smart Fit"
   ]
  },
  {
   "cell_type": "code",
   "execution_count": 55,
   "metadata": {},
   "outputs": [],
   "source": [
    "url = 'https://www.smartfit.com.gt/gimnasios'\n",
    "response = requests.get(url).text\n",
    "soup = BeautifulSoup(response,'lxml')"
   ]
  },
  {
   "cell_type": "code",
   "execution_count": 56,
   "metadata": {},
   "outputs": [],
   "source": [
    "names = ['Smart Fit - '+soup.find_all('h3')[name].text for name in range(1,len(soup.find_all('h3'))-1)]"
   ]
  },
  {
   "cell_type": "code",
   "execution_count": 57,
   "metadata": {},
   "outputs": [],
   "source": [
    "dires = soup.find_all('p',class_='Text')\n",
    "address = [dires[add].text.split('-',1)[1] for add in range(len(dires))]"
   ]
  },
  {
   "cell_type": "code",
   "execution_count": 58,
   "metadata": {},
   "outputs": [],
   "source": [
    "phone = [np.nan for i in range(len(address))]"
   ]
  },
  {
   "cell_type": "code",
   "execution_count": 59,
   "metadata": {},
   "outputs": [],
   "source": [
    "city = ['Guatemala - Guatemala' for i in range(len(phone))]"
   ]
  },
  {
   "cell_type": "code",
   "execution_count": 60,
   "metadata": {},
   "outputs": [],
   "source": [
    "df = pd.DataFrame(zip(names,city,address,phone),columns=['names','city','address','phone'])"
   ]
  },
  {
   "cell_type": "code",
   "execution_count": 61,
   "metadata": {},
   "outputs": [],
   "source": [
    "df['category'] = 'Gimnasios de Educación Física'\n",
    "df['city'] = 'Guatemala - Guatemala'\n",
    "df['web'] = 'https://www.smartfit.com.gt/'\n",
    "df['description'] = 'Inaugurada en 2009, Smart Fit fue creada con el propósito de democratizar el acceso a la práctica de actividad física de alto nivel, con planes accesibles y adhesión facilitada.'\n",
    "smartfit = df[['names','city','address','phone','web','description','category']]"
   ]
  },
  {
   "cell_type": "code",
   "execution_count": 62,
   "metadata": {},
   "outputs": [
    {
     "data": {
      "text/html": [
       "<div>\n",
       "<style scoped>\n",
       "    .dataframe tbody tr th:only-of-type {\n",
       "        vertical-align: middle;\n",
       "    }\n",
       "\n",
       "    .dataframe tbody tr th {\n",
       "        vertical-align: top;\n",
       "    }\n",
       "\n",
       "    .dataframe thead th {\n",
       "        text-align: right;\n",
       "    }\n",
       "</style>\n",
       "<table border=\"1\" class=\"dataframe\">\n",
       "  <thead>\n",
       "    <tr style=\"text-align: right;\">\n",
       "      <th></th>\n",
       "      <th>names</th>\n",
       "      <th>city</th>\n",
       "      <th>address</th>\n",
       "      <th>phone</th>\n",
       "      <th>web</th>\n",
       "      <th>description</th>\n",
       "      <th>category</th>\n",
       "    </tr>\n",
       "  </thead>\n",
       "  <tbody>\n",
       "    <tr>\n",
       "      <th>0</th>\n",
       "      <td>Smart Fit - El Naranjo</td>\n",
       "      <td>Guatemala - Guatemala</td>\n",
       "      <td>Plaza Kalú, locales R2-R5 - 23 calle 14-50 Zo...</td>\n",
       "      <td>NaN</td>\n",
       "      <td>https://www.smartfit.com.gt/</td>\n",
       "      <td>Inaugurada en 2009, Smart Fit fue creada con e...</td>\n",
       "      <td>Gimnasios de Educación Física</td>\n",
       "    </tr>\n",
       "    <tr>\n",
       "      <th>1</th>\n",
       "      <td>Smart Fit - Tikal Futura</td>\n",
       "      <td>Guatemala - Guatemala</td>\n",
       "      <td>Calzada Roosevelt 23-43 -  Ciudad de Guatemal...</td>\n",
       "      <td>NaN</td>\n",
       "      <td>https://www.smartfit.com.gt/</td>\n",
       "      <td>Inaugurada en 2009, Smart Fit fue creada con e...</td>\n",
       "      <td>Gimnasios de Educación Física</td>\n",
       "    </tr>\n",
       "    <tr>\n",
       "      <th>2</th>\n",
       "      <td>Smart Fit - QUO Zona 4</td>\n",
       "      <td>Guatemala - Guatemala</td>\n",
       "      <td>Via 7, 4-20, Zona 4, Torre Q, Segundo Nivel, ...</td>\n",
       "      <td>NaN</td>\n",
       "      <td>https://www.smartfit.com.gt/</td>\n",
       "      <td>Inaugurada en 2009, Smart Fit fue creada con e...</td>\n",
       "      <td>Gimnasios de Educación Física</td>\n",
       "    </tr>\n",
       "    <tr>\n",
       "      <th>3</th>\n",
       "      <td>Smart Fit - Los Próceres</td>\n",
       "      <td>Guatemala - Guatemala</td>\n",
       "      <td>3ª Avenida 16-52, Z.10 -  Centro Comercial L...</td>\n",
       "      <td>NaN</td>\n",
       "      <td>https://www.smartfit.com.gt/</td>\n",
       "      <td>Inaugurada en 2009, Smart Fit fue creada con e...</td>\n",
       "      <td>Gimnasios de Educación Física</td>\n",
       "    </tr>\n",
       "    <tr>\n",
       "      <th>4</th>\n",
       "      <td>Smart Fit - Rambla</td>\n",
       "      <td>Guatemala - Guatemala</td>\n",
       "      <td>Centro Comercial Rambla 10 - Boulevar Los Pró...</td>\n",
       "      <td>NaN</td>\n",
       "      <td>https://www.smartfit.com.gt/</td>\n",
       "      <td>Inaugurada en 2009, Smart Fit fue creada con e...</td>\n",
       "      <td>Gimnasios de Educación Física</td>\n",
       "    </tr>\n",
       "  </tbody>\n",
       "</table>\n",
       "</div>"
      ],
      "text/plain": [
       "                      names                   city  \\\n",
       "0    Smart Fit - El Naranjo  Guatemala - Guatemala   \n",
       "1  Smart Fit - Tikal Futura  Guatemala - Guatemala   \n",
       "2   Smart Fit - QUO Zona 4   Guatemala - Guatemala   \n",
       "3  Smart Fit - Los Próceres  Guatemala - Guatemala   \n",
       "4        Smart Fit - Rambla  Guatemala - Guatemala   \n",
       "\n",
       "                                             address  phone  \\\n",
       "0   Plaza Kalú, locales R2-R5 - 23 calle 14-50 Zo...    NaN   \n",
       "1   Calzada Roosevelt 23-43 -  Ciudad de Guatemal...    NaN   \n",
       "2   Via 7, 4-20, Zona 4, Torre Q, Segundo Nivel, ...    NaN   \n",
       "3    3ª Avenida 16-52, Z.10 -  Centro Comercial L...    NaN   \n",
       "4   Centro Comercial Rambla 10 - Boulevar Los Pró...    NaN   \n",
       "\n",
       "                            web  \\\n",
       "0  https://www.smartfit.com.gt/   \n",
       "1  https://www.smartfit.com.gt/   \n",
       "2  https://www.smartfit.com.gt/   \n",
       "3  https://www.smartfit.com.gt/   \n",
       "4  https://www.smartfit.com.gt/   \n",
       "\n",
       "                                         description  \\\n",
       "0  Inaugurada en 2009, Smart Fit fue creada con e...   \n",
       "1  Inaugurada en 2009, Smart Fit fue creada con e...   \n",
       "2  Inaugurada en 2009, Smart Fit fue creada con e...   \n",
       "3  Inaugurada en 2009, Smart Fit fue creada con e...   \n",
       "4  Inaugurada en 2009, Smart Fit fue creada con e...   \n",
       "\n",
       "                        category  \n",
       "0  Gimnasios de Educación Física  \n",
       "1  Gimnasios de Educación Física  \n",
       "2  Gimnasios de Educación Física  \n",
       "3  Gimnasios de Educación Física  \n",
       "4  Gimnasios de Educación Física  "
      ]
     },
     "execution_count": 62,
     "metadata": {},
     "output_type": "execute_result"
    }
   ],
   "source": [
    "smartfit.head()"
   ]
  },
  {
   "cell_type": "markdown",
   "metadata": {},
   "source": [
    "### Poltec "
   ]
  },
  {
   "cell_type": "code",
   "execution_count": 63,
   "metadata": {},
   "outputs": [],
   "source": [
    "url = 'http://www.poltecgym.com/'\n",
    "#response = requests.get(url).text\n",
    "#soup = BeautifulSoup(response,'lxml')"
   ]
  },
  {
   "cell_type": "code",
   "execution_count": 64,
   "metadata": {},
   "outputs": [],
   "source": [
    "driver = webdriver.Chrome()\n",
    "\n",
    "driver.get(url)\n",
    "\n",
    "resp = driver.execute_script(\"return document.documentElement.outerHTML\")\n",
    "\n",
    "driver.quit()\n",
    "\n",
    "soup = BeautifulSoup(resp,'lxml')"
   ]
  },
  {
   "cell_type": "code",
   "execution_count": 65,
   "metadata": {},
   "outputs": [],
   "source": [
    "nombres = soup.find_all('h3')\n",
    "\n",
    "names = ['Poltec - '+nombres[i].text.strip() for i in range(4,len(nombres)) ]"
   ]
  },
  {
   "cell_type": "code",
   "execution_count": 66,
   "metadata": {},
   "outputs": [],
   "source": [
    "tel = soup.find_all('address')\n",
    "phone = [tel[i].text.strip().split('T.')[1].split('\\n')[0] for i in range(1,len(tel)-1) ]"
   ]
  },
  {
   "cell_type": "code",
   "execution_count": 67,
   "metadata": {},
   "outputs": [],
   "source": [
    "address = [i for i in range(6)]\n",
    "address[0]='Km. 5 Carretera al Atlántico Zona 17, Guatemala Guatemala'\n",
    "address[1]='Ruta al Atlántico CC. Plaza San Rafael Zona 18 Guatemala'\n",
    "address[2]='45 Calle 19-40, zona 12, C. C. Gran Portal Petapa '\n",
    "address[3]='Calzada Roosevelt 13-88'\n",
    "address[4]='Km. 17.5 Pacifico, Terreno #6, C.C. Santa Clara, Villa Nueva., Guatemala 01011, Guatemala'\n",
    "address[5]='Dirección: Km. 17.9 Carretera a San Jose Pinula, Centro Comercial Local 14, El Faro'"
   ]
  },
  {
   "cell_type": "code",
   "execution_count": 68,
   "metadata": {},
   "outputs": [],
   "source": [
    "df = pd.DataFrame(zip(names,city,address,phone),columns=['names','city','address','phone'])"
   ]
  },
  {
   "cell_type": "code",
   "execution_count": 69,
   "metadata": {},
   "outputs": [],
   "source": [
    "df['category'] = 'Gimnasios de Educación Física'\n",
    "df['city'] = 'Guatemala - Guatemala'\n",
    "df['web'] = 'http://www.poltecgym.com/'\n",
    "df['description'] = 'El ejercicio es parte importante de un estilo de vida saludable. El ejercicio previene los problemas de salud, desarrolla resistencia, brinda más energía y puede ayudar a reducir el estrés.'\n",
    "poltec = df[['names','city','address','phone','web','description','category']]\n"
   ]
  },
  {
   "cell_type": "code",
   "execution_count": 70,
   "metadata": {},
   "outputs": [
    {
     "data": {
      "text/html": [
       "<div>\n",
       "<style scoped>\n",
       "    .dataframe tbody tr th:only-of-type {\n",
       "        vertical-align: middle;\n",
       "    }\n",
       "\n",
       "    .dataframe tbody tr th {\n",
       "        vertical-align: top;\n",
       "    }\n",
       "\n",
       "    .dataframe thead th {\n",
       "        text-align: right;\n",
       "    }\n",
       "</style>\n",
       "<table border=\"1\" class=\"dataframe\">\n",
       "  <thead>\n",
       "    <tr style=\"text-align: right;\">\n",
       "      <th></th>\n",
       "      <th>names</th>\n",
       "      <th>city</th>\n",
       "      <th>address</th>\n",
       "      <th>phone</th>\n",
       "      <th>web</th>\n",
       "      <th>description</th>\n",
       "      <th>category</th>\n",
       "    </tr>\n",
       "  </thead>\n",
       "  <tbody>\n",
       "    <tr>\n",
       "      <th>0</th>\n",
       "      <td>Poltec - CC METRONORTE</td>\n",
       "      <td>Guatemala - Guatemala</td>\n",
       "      <td>Km. 5 Carretera al Atlántico Zona 17, Guatemal...</td>\n",
       "      <td>2256-0882</td>\n",
       "      <td>http://www.poltecgym.com/</td>\n",
       "      <td>El ejercicio es parte importante de un estilo ...</td>\n",
       "      <td>Gimnasios de Educación Física</td>\n",
       "    </tr>\n",
       "    <tr>\n",
       "      <th>1</th>\n",
       "      <td>Poltec - CC PLAZA SAN RAFAEL</td>\n",
       "      <td>Guatemala - Guatemala</td>\n",
       "      <td>Ruta al Atlántico CC. Plaza San Rafael Zona 18...</td>\n",
       "      <td>2261-6391</td>\n",
       "      <td>http://www.poltecgym.com/</td>\n",
       "      <td>El ejercicio es parte importante de un estilo ...</td>\n",
       "      <td>Gimnasios de Educación Física</td>\n",
       "    </tr>\n",
       "    <tr>\n",
       "      <th>2</th>\n",
       "      <td>Poltec - CC GRAN PORTAL PETAPA</td>\n",
       "      <td>Guatemala - Guatemala</td>\n",
       "      <td>45 Calle 19-40, zona 12, C. C. Gran Portal Pet...</td>\n",
       "      <td>2460-3185</td>\n",
       "      <td>http://www.poltecgym.com/</td>\n",
       "      <td>El ejercicio es parte importante de un estilo ...</td>\n",
       "      <td>Gimnasios de Educación Física</td>\n",
       "    </tr>\n",
       "    <tr>\n",
       "      <th>3</th>\n",
       "      <td>Poltec - CC ASIA MALL (ROOSEVELT)</td>\n",
       "      <td>Guatemala - Guatemala</td>\n",
       "      <td>Calzada Roosevelt 13-88</td>\n",
       "      <td>24743214</td>\n",
       "      <td>http://www.poltecgym.com/</td>\n",
       "      <td>El ejercicio es parte importante de un estilo ...</td>\n",
       "      <td>Gimnasios de Educación Física</td>\n",
       "    </tr>\n",
       "    <tr>\n",
       "      <th>4</th>\n",
       "      <td>Poltec - CC SANTA CLARA</td>\n",
       "      <td>Guatemala - Guatemala</td>\n",
       "      <td>Km. 17.5 Pacifico, Terreno #6, C.C. Santa Clar...</td>\n",
       "      <td>6644-8279</td>\n",
       "      <td>http://www.poltecgym.com/</td>\n",
       "      <td>El ejercicio es parte importante de un estilo ...</td>\n",
       "      <td>Gimnasios de Educación Física</td>\n",
       "    </tr>\n",
       "  </tbody>\n",
       "</table>\n",
       "</div>"
      ],
      "text/plain": [
       "                               names                   city  \\\n",
       "0             Poltec - CC METRONORTE  Guatemala - Guatemala   \n",
       "1       Poltec - CC PLAZA SAN RAFAEL  Guatemala - Guatemala   \n",
       "2     Poltec - CC GRAN PORTAL PETAPA  Guatemala - Guatemala   \n",
       "3  Poltec - CC ASIA MALL (ROOSEVELT)  Guatemala - Guatemala   \n",
       "4            Poltec - CC SANTA CLARA  Guatemala - Guatemala   \n",
       "\n",
       "                                             address        phone  \\\n",
       "0  Km. 5 Carretera al Atlántico Zona 17, Guatemal...   2256-0882    \n",
       "1  Ruta al Atlántico CC. Plaza San Rafael Zona 18...    2261-6391   \n",
       "2  45 Calle 19-40, zona 12, C. C. Gran Portal Pet...    2460-3185   \n",
       "3                            Calzada Roosevelt 13-88    24743214    \n",
       "4  Km. 17.5 Pacifico, Terreno #6, C.C. Santa Clar...   6644-8279    \n",
       "\n",
       "                         web  \\\n",
       "0  http://www.poltecgym.com/   \n",
       "1  http://www.poltecgym.com/   \n",
       "2  http://www.poltecgym.com/   \n",
       "3  http://www.poltecgym.com/   \n",
       "4  http://www.poltecgym.com/   \n",
       "\n",
       "                                         description  \\\n",
       "0  El ejercicio es parte importante de un estilo ...   \n",
       "1  El ejercicio es parte importante de un estilo ...   \n",
       "2  El ejercicio es parte importante de un estilo ...   \n",
       "3  El ejercicio es parte importante de un estilo ...   \n",
       "4  El ejercicio es parte importante de un estilo ...   \n",
       "\n",
       "                        category  \n",
       "0  Gimnasios de Educación Física  \n",
       "1  Gimnasios de Educación Física  \n",
       "2  Gimnasios de Educación Física  \n",
       "3  Gimnasios de Educación Física  \n",
       "4  Gimnasios de Educación Física  "
      ]
     },
     "execution_count": 70,
     "metadata": {},
     "output_type": "execute_result"
    }
   ],
   "source": [
    "poltec.head()"
   ]
  },
  {
   "cell_type": "markdown",
   "metadata": {},
   "source": [
    "### Curves"
   ]
  },
  {
   "cell_type": "code",
   "execution_count": 71,
   "metadata": {},
   "outputs": [],
   "source": [
    "url = 'https://www.curveslatinoamerica.com/guatemala.html#'\n",
    "driver = webdriver.Chrome()\n",
    "\n",
    "driver.get(url)\n",
    "\n",
    "resp = driver.execute_script(\"return document.documentElement.outerHTML\")\n",
    "\n",
    "driver.quit()\n",
    "\n",
    "soup = BeautifulSoup(resp,'lxml')"
   ]
  },
  {
   "cell_type": "code",
   "execution_count": 72,
   "metadata": {},
   "outputs": [],
   "source": [
    "general = soup.find_all('div', class_='col-xs-12 col-sm-12 col-md-6 col-lg-6')"
   ]
  },
  {
   "cell_type": "code",
   "execution_count": 73,
   "metadata": {},
   "outputs": [],
   "source": [
    "names = ['Curves - '+general[i].find('p').text.strip() for i in range(len(general)) ]"
   ]
  },
  {
   "cell_type": "code",
   "execution_count": 74,
   "metadata": {},
   "outputs": [],
   "source": [
    "address = [general[i].find('small').text.strip().split('\\n')[0] for i in range(len(general)) ]"
   ]
  },
  {
   "cell_type": "code",
   "execution_count": 75,
   "metadata": {},
   "outputs": [],
   "source": [
    "phone = [general[i].find('small').text.strip().split('\\n')[1].strip() for i in range(len(general)) ]"
   ]
  },
  {
   "cell_type": "code",
   "execution_count": 76,
   "metadata": {},
   "outputs": [],
   "source": [
    "city = ['Guatemala - Guatemala', 'Quetzaltenango']"
   ]
  },
  {
   "cell_type": "code",
   "execution_count": 77,
   "metadata": {},
   "outputs": [],
   "source": [
    "df = pd.DataFrame(zip(names,city,address,phone),columns=['names','city','address','phone'])"
   ]
  },
  {
   "cell_type": "code",
   "execution_count": 78,
   "metadata": {},
   "outputs": [],
   "source": [
    "df['category'] = 'Gimnasios de Educación Física'\n",
    "df['city'] = 'Guatemala - Guatemala'\n",
    "df['web'] = 'https://www.curveslatinoamerica.com/guatemala.html#'\n",
    "df['description'] = 'Curves es un gimnasio para mujeres, la franquicia ofrece un programa de perdida de peso saludable y razonable.'\n",
    "curves = df[['names','city','address','phone','web','description','category']]"
   ]
  },
  {
   "cell_type": "code",
   "execution_count": 79,
   "metadata": {},
   "outputs": [
    {
     "data": {
      "text/html": [
       "<div>\n",
       "<style scoped>\n",
       "    .dataframe tbody tr th:only-of-type {\n",
       "        vertical-align: middle;\n",
       "    }\n",
       "\n",
       "    .dataframe tbody tr th {\n",
       "        vertical-align: top;\n",
       "    }\n",
       "\n",
       "    .dataframe thead th {\n",
       "        text-align: right;\n",
       "    }\n",
       "</style>\n",
       "<table border=\"1\" class=\"dataframe\">\n",
       "  <thead>\n",
       "    <tr style=\"text-align: right;\">\n",
       "      <th></th>\n",
       "      <th>names</th>\n",
       "      <th>city</th>\n",
       "      <th>address</th>\n",
       "      <th>phone</th>\n",
       "      <th>web</th>\n",
       "      <th>description</th>\n",
       "      <th>category</th>\n",
       "    </tr>\n",
       "  </thead>\n",
       "  <tbody>\n",
       "    <tr>\n",
       "      <th>0</th>\n",
       "      <td>Curves - Reforma Zona 15</td>\n",
       "      <td>Guatemala - Guatemala</td>\n",
       "      <td>1a calle 22-13 zona 15 Vista Hermosa II C.P. 1...</td>\n",
       "      <td>Teléfonos: (502) 2369 2622 | (502) 2369 2644 |...</td>\n",
       "      <td>https://www.curveslatinoamerica.com/guatemala....</td>\n",
       "      <td>Curves es un gimnasio para mujeres, la franqui...</td>\n",
       "      <td>Gimnasios de Educación Física</td>\n",
       "    </tr>\n",
       "    <tr>\n",
       "      <th>1</th>\n",
       "      <td>Curves - Quetzaltenango</td>\n",
       "      <td>Guatemala - Guatemala</td>\n",
       "      <td>Avenida 9-66 Zona 3, Plaza Delco C.P. 9001</td>\n",
       "      <td>Teléfono: (502) 7763 6831</td>\n",
       "      <td>https://www.curveslatinoamerica.com/guatemala....</td>\n",
       "      <td>Curves es un gimnasio para mujeres, la franqui...</td>\n",
       "      <td>Gimnasios de Educación Física</td>\n",
       "    </tr>\n",
       "  </tbody>\n",
       "</table>\n",
       "</div>"
      ],
      "text/plain": [
       "                      names                   city  \\\n",
       "0  Curves - Reforma Zona 15  Guatemala - Guatemala   \n",
       "1   Curves - Quetzaltenango  Guatemala - Guatemala   \n",
       "\n",
       "                                             address  \\\n",
       "0  1a calle 22-13 zona 15 Vista Hermosa II C.P. 1...   \n",
       "1        Avenida 9-66 Zona 3, Plaza Delco C.P. 9001    \n",
       "\n",
       "                                               phone  \\\n",
       "0  Teléfonos: (502) 2369 2622 | (502) 2369 2644 |...   \n",
       "1                          Teléfono: (502) 7763 6831   \n",
       "\n",
       "                                                 web  \\\n",
       "0  https://www.curveslatinoamerica.com/guatemala....   \n",
       "1  https://www.curveslatinoamerica.com/guatemala....   \n",
       "\n",
       "                                         description  \\\n",
       "0  Curves es un gimnasio para mujeres, la franqui...   \n",
       "1  Curves es un gimnasio para mujeres, la franqui...   \n",
       "\n",
       "                        category  \n",
       "0  Gimnasios de Educación Física  \n",
       "1  Gimnasios de Educación Física  "
      ]
     },
     "execution_count": 79,
     "metadata": {},
     "output_type": "execute_result"
    }
   ],
   "source": [
    "curves"
   ]
  },
  {
   "cell_type": "markdown",
   "metadata": {},
   "source": [
    "### Dinamic Fitness"
   ]
  },
  {
   "cell_type": "code",
   "execution_count": 80,
   "metadata": {},
   "outputs": [],
   "source": [
    "dinamic_fitness_url= ['https://dinamic.com.gt/naranjo/',\n",
    "                      'https://dinamic.com.gt/forum-zona-10/',\n",
    "                      'https://dinamic.com.gt/san-juan/',\n",
    "                      'https://dinamic.com.gt/villa-hermosa/',\n",
    "                      'https://dinamic.com.gt/portales/',\n",
    "                      'https://dinamic.com.gt/roosevelt/']"
   ]
  },
  {
   "cell_type": "code",
   "execution_count": 81,
   "metadata": {},
   "outputs": [],
   "source": [
    "def dinamic_fitness(url):\n",
    "    response = requests.get(url)\n",
    "    soup = BeautifulSoup(response.text,'lxml')\n",
    "    names = ['Dinamic Fitness - ' + soup.find('h2').text]\n",
    "    city = ['Guatemala - Guatemala']\n",
    "    \n",
    "    if len(soup.find_all('h3'))<=2:\n",
    "        address = soup.find_all('h3')[0]\n",
    "        phone = soup.find_all('h3')[1]\n",
    "    elif len(soup.find_all('h3'))==4:\n",
    "        address = soup.find_all('h3')[0]\n",
    "        phone = soup.find_all('h3')[3]\n",
    "    else:\n",
    "        address = soup.find_all('h3')[0]\n",
    "        phone = soup.find_all('h3')[2]\n",
    "        \n",
    "    web = ['https://dinamic.com.gt/']\n",
    "    description = ['Somos un nuevo tipo de gym, un lugar para ponerte en forma. ¡Un lugar para ser feliz!Nuestros programas de ejercicios están diseñados bajo una planificación de entrenamiento cardiovascular y de fuerza. Todo con un soporte científico que garantiza que obtendrás resultados de forma segura.']\n",
    "    category = ['Gimnasios de Educación Física']\n",
    "    return pd.DataFrame(zip(names, city, address,phone,web,description,category),\n",
    "                              columns=['names','city','address','phone','web','description','category'])"
   ]
  },
  {
   "cell_type": "code",
   "execution_count": 82,
   "metadata": {},
   "outputs": [],
   "source": [
    "dinamicfitness=pd.DataFrame()\n",
    "for url in dinamic_fitness_url:\n",
    "    bucle = dinamic_fitness(url)\n",
    "    dinamicfitness = pd.concat([dinamicfitness,bucle],ignore_index=True)"
   ]
  },
  {
   "cell_type": "code",
   "execution_count": 83,
   "metadata": {},
   "outputs": [],
   "source": [
    "dinamicfitness.phone[0] = np.nan"
   ]
  },
  {
   "cell_type": "code",
   "execution_count": 84,
   "metadata": {},
   "outputs": [
    {
     "data": {
      "text/html": [
       "<div>\n",
       "<style scoped>\n",
       "    .dataframe tbody tr th:only-of-type {\n",
       "        vertical-align: middle;\n",
       "    }\n",
       "\n",
       "    .dataframe tbody tr th {\n",
       "        vertical-align: top;\n",
       "    }\n",
       "\n",
       "    .dataframe thead th {\n",
       "        text-align: right;\n",
       "    }\n",
       "</style>\n",
       "<table border=\"1\" class=\"dataframe\">\n",
       "  <thead>\n",
       "    <tr style=\"text-align: right;\">\n",
       "      <th></th>\n",
       "      <th>names</th>\n",
       "      <th>city</th>\n",
       "      <th>address</th>\n",
       "      <th>phone</th>\n",
       "      <th>web</th>\n",
       "      <th>description</th>\n",
       "      <th>category</th>\n",
       "    </tr>\n",
       "  </thead>\n",
       "  <tbody>\n",
       "    <tr>\n",
       "      <th>0</th>\n",
       "      <td>Dinamic Fitness - PASAJE NARANJO</td>\n",
       "      <td>Guatemala - Guatemala</td>\n",
       "      <td>10 avenida 18-58 zona 4 de mixco Condado Naran...</td>\n",
       "      <td>NaN</td>\n",
       "      <td>https://dinamic.com.gt/</td>\n",
       "      <td>Somos un nuevo tipo de gym, un lugar para pone...</td>\n",
       "      <td>Gimnasios de Educación Física</td>\n",
       "    </tr>\n",
       "    <tr>\n",
       "      <th>1</th>\n",
       "      <td>Dinamic Fitness - FORUM ZONA 10</td>\n",
       "      <td>Guatemala - Guatemala</td>\n",
       "      <td>3ra ave 10-80 Zona 10 Edificio Forum Zona Viva...</td>\n",
       "      <td>TEL: 2214-0707</td>\n",
       "      <td>https://dinamic.com.gt/</td>\n",
       "      <td>Somos un nuevo tipo de gym, un lugar para pone...</td>\n",
       "      <td>Gimnasios de Educación Física</td>\n",
       "    </tr>\n",
       "    <tr>\n",
       "      <th>2</th>\n",
       "      <td>Dinamic Fitness - CENTRO 21</td>\n",
       "      <td>Guatemala - Guatemala</td>\n",
       "      <td>[CALZADA SAN JUAN 21-14 ]</td>\n",
       "      <td>[TEL: 2243-0003]</td>\n",
       "      <td>https://dinamic.com.gt/</td>\n",
       "      <td>Somos un nuevo tipo de gym, un lugar para pone...</td>\n",
       "      <td>Gimnasios de Educación Física</td>\n",
       "    </tr>\n",
       "    <tr>\n",
       "      <th>3</th>\n",
       "      <td>Dinamic Fitness - VILLA HERMOSA</td>\n",
       "      <td>Guatemala - Guatemala</td>\n",
       "      <td>CENTRO COMERCIAL PACIFIC VILLA HERMOSA</td>\n",
       "      <td>TEL: 2214-0505</td>\n",
       "      <td>https://dinamic.com.gt/</td>\n",
       "      <td>Somos un nuevo tipo de gym, un lugar para pone...</td>\n",
       "      <td>Gimnasios de Educación Física</td>\n",
       "    </tr>\n",
       "    <tr>\n",
       "      <th>4</th>\n",
       "      <td>Dinamic Fitness - ZONA PORTALES</td>\n",
       "      <td>Guatemala - Guatemala</td>\n",
       "      <td>3ra. Av. 10-10 Zona 17 km. 4.5 Ruta al Atlanti...</td>\n",
       "      <td>TEL: 2217-1111</td>\n",
       "      <td>https://dinamic.com.gt/</td>\n",
       "      <td>Somos un nuevo tipo de gym, un lugar para pone...</td>\n",
       "      <td>Gimnasios de Educación Física</td>\n",
       "    </tr>\n",
       "  </tbody>\n",
       "</table>\n",
       "</div>"
      ],
      "text/plain": [
       "                              names                   city  \\\n",
       "0  Dinamic Fitness - PASAJE NARANJO  Guatemala - Guatemala   \n",
       "1   Dinamic Fitness - FORUM ZONA 10  Guatemala - Guatemala   \n",
       "2       Dinamic Fitness - CENTRO 21  Guatemala - Guatemala   \n",
       "3   Dinamic Fitness - VILLA HERMOSA  Guatemala - Guatemala   \n",
       "4   Dinamic Fitness - ZONA PORTALES  Guatemala - Guatemala   \n",
       "\n",
       "                                             address             phone  \\\n",
       "0  10 avenida 18-58 zona 4 de mixco Condado Naran...               NaN   \n",
       "1  3ra ave 10-80 Zona 10 Edificio Forum Zona Viva...    TEL: 2214-0707   \n",
       "2                          [CALZADA SAN JUAN 21-14 ]  [TEL: 2243-0003]   \n",
       "3             CENTRO COMERCIAL PACIFIC VILLA HERMOSA    TEL: 2214-0505   \n",
       "4  3ra. Av. 10-10 Zona 17 km. 4.5 Ruta al Atlanti...    TEL: 2217-1111   \n",
       "\n",
       "                       web                                        description  \\\n",
       "0  https://dinamic.com.gt/  Somos un nuevo tipo de gym, un lugar para pone...   \n",
       "1  https://dinamic.com.gt/  Somos un nuevo tipo de gym, un lugar para pone...   \n",
       "2  https://dinamic.com.gt/  Somos un nuevo tipo de gym, un lugar para pone...   \n",
       "3  https://dinamic.com.gt/  Somos un nuevo tipo de gym, un lugar para pone...   \n",
       "4  https://dinamic.com.gt/  Somos un nuevo tipo de gym, un lugar para pone...   \n",
       "\n",
       "                        category  \n",
       "0  Gimnasios de Educación Física  \n",
       "1  Gimnasios de Educación Física  \n",
       "2  Gimnasios de Educación Física  \n",
       "3  Gimnasios de Educación Física  \n",
       "4  Gimnasios de Educación Física  "
      ]
     },
     "execution_count": 84,
     "metadata": {},
     "output_type": "execute_result"
    }
   ],
   "source": [
    "dinamicfitness.head()"
   ]
  },
  {
   "cell_type": "markdown",
   "metadata": {},
   "source": [
    "### GT "
   ]
  },
  {
   "cell_type": "code",
   "execution_count": 86,
   "metadata": {},
   "outputs": [],
   "source": [
    "paginas = [i for i in range(1,12)]"
   ]
  },
  {
   "cell_type": "code",
   "execution_count": 87,
   "metadata": {},
   "outputs": [],
   "source": [
    "h2s=[]\n",
    "for p in paginas:\n",
    "    response = requests.get('https://directorio.guatemala.com/listado/guia/gimnasios/pagina/{}'.format(p))\n",
    "    h2s.append(BeautifulSoup(response.text,'lxml').find_all('h2'))"
   ]
  },
  {
   "cell_type": "code",
   "execution_count": 88,
   "metadata": {},
   "outputs": [],
   "source": [
    "directorio = []\n",
    "for h2 in h2s:\n",
    "    for h in h2:\n",
    "        directorio.append(h.text.strip())"
   ]
  },
  {
   "cell_type": "code",
   "execution_count": 89,
   "metadata": {},
   "outputs": [],
   "source": [
    "directorio = set(directorio)\n",
    "directorio = list(directorio)"
   ]
  },
  {
   "cell_type": "code",
   "execution_count": 90,
   "metadata": {},
   "outputs": [],
   "source": [
    "slug = [slugify(i) for i in directorio]"
   ]
  },
  {
   "cell_type": "code",
   "execution_count": 91,
   "metadata": {},
   "outputs": [],
   "source": [
    "url = 'https://directorio.guatemala.com/listado/{}.html'.format(slug[0])\n",
    "response = requests.get(url)\n",
    "soup = BeautifulSoup(response.text,'lxml')"
   ]
  },
  {
   "cell_type": "code",
   "execution_count": 92,
   "metadata": {},
   "outputs": [],
   "source": [
    "def gtcom(url):\n",
    "    malos=[]\n",
    "    response = requests.get(url)\n",
    "    soup = BeautifulSoup(response.text,'lxml')\n",
    "    business = soup.find('div',class_='content-info-business')\n",
    "    try:\n",
    "        names = [business.find('h1').text]\n",
    "    except:\n",
    "        names = [np.nan]\n",
    "        malos.append(sl)\n",
    "    try:\n",
    "        address = [business.find('span').text]\n",
    "        city = ['Guatemala - Guatemala']\n",
    "    except:\n",
    "        address =[np.nan]\n",
    "        city=[np.nan]\n",
    "    try:\n",
    "        phone = [soup.find('div',class_='business-buttons').find('a',href=True)['href']]\n",
    "    except:\n",
    "        phone=[np.nan]\n",
    "    try:\n",
    "        web = [soup.find('div',class_='business-buttons').find_all('a',href=True)[2]['href']]\n",
    "    except:\n",
    "        web=[np.nan]\n",
    "    try:\n",
    "        description = [soup.find('div',class_='info-description').text.strip().split('Sobre la empresa\\n')[1].strip()]\n",
    "    except:\n",
    "        description =[np.nan]\n",
    "    try:\n",
    "        category = [soup.find('div',class_='business-categories').text.strip().split('Listado en: \\n\\n')[1].strip()]\n",
    "    except:\n",
    "        category=[np.nan]\n",
    "    \n",
    "    return pd.DataFrame(zip(names, city, address,phone,web,description,category),\n",
    "                              columns=['names','city','address','phone','web','description','category'])"
   ]
  },
  {
   "cell_type": "code",
   "execution_count": 102,
   "metadata": {},
   "outputs": [
    {
     "name": "stderr",
     "output_type": "stream",
     "text": [
      " 99%|█████████▉| 99.01960784313727/100 [00:54<00:00,  2.07it/s] /Library/Frameworks/Python.framework/Versions/3.8/lib/python3.8/site-packages/tqdm/std.py:480: TqdmWarning: clamping frac to range [0, 1]\n",
      "  full_bar = Bar(\n",
      "100%|██████████| 100.00000000000001/100 [00:54<00:00,  1.82it/s]\n"
     ]
    }
   ],
   "source": [
    "gt = pd.DataFrame()\n",
    "with tqdm(total=100) as pbar:\n",
    "    for sl in slug:\n",
    "        bucle = gtcom('https://directorio.guatemala.com/listado/{}.html'.format(sl))\n",
    "\n",
    "        gt = pd.concat([gt,bucle],ignore_index=True)\n",
    "        pbar.update(100/len(slug))\n"
   ]
  },
  {
   "cell_type": "code",
   "execution_count": 94,
   "metadata": {},
   "outputs": [
    {
     "data": {
      "text/html": [
       "<div>\n",
       "<style scoped>\n",
       "    .dataframe tbody tr th:only-of-type {\n",
       "        vertical-align: middle;\n",
       "    }\n",
       "\n",
       "    .dataframe tbody tr th {\n",
       "        vertical-align: top;\n",
       "    }\n",
       "\n",
       "    .dataframe thead th {\n",
       "        text-align: right;\n",
       "    }\n",
       "</style>\n",
       "<table border=\"1\" class=\"dataframe\">\n",
       "  <thead>\n",
       "    <tr style=\"text-align: right;\">\n",
       "      <th></th>\n",
       "      <th>names</th>\n",
       "      <th>city</th>\n",
       "      <th>address</th>\n",
       "      <th>phone</th>\n",
       "      <th>web</th>\n",
       "      <th>description</th>\n",
       "      <th>category</th>\n",
       "    </tr>\n",
       "  </thead>\n",
       "  <tbody>\n",
       "    <tr>\n",
       "      <th>0</th>\n",
       "      <td>World Gym Pradera</td>\n",
       "      <td>Guatemala - Guatemala</td>\n",
       "      <td>Blvd. Los Próceres 25-74 Zona 10</td>\n",
       "      <td>tel:+(502) 2423-6000</td>\n",
       "      <td>https://directorio.guatemala.com/listing_repor...</td>\n",
       "      <td>En World Gym contamos con un centro de orienta...</td>\n",
       "      <td>Pesas</td>\n",
       "    </tr>\n",
       "    <tr>\n",
       "      <th>1</th>\n",
       "      <td>Akasha Yoga Centro Holístico</td>\n",
       "      <td>Guatemala - Guatemala</td>\n",
       "      <td>8a. Calle 28-00 Zona 11</td>\n",
       "      <td>tel:+(502) 2473-7844</td>\n",
       "      <td>https://directorio.guatemala.com/listing_repor...</td>\n",
       "      <td>Akasha Yoga Centro Holístico, abre las puertas...</td>\n",
       "      <td>Yoga\\n                                    \\n\\n...</td>\n",
       "    </tr>\n",
       "    <tr>\n",
       "      <th>2</th>\n",
       "      <td>Scandinavia Gym Vista Hermosa</td>\n",
       "      <td>Guatemala - Guatemala</td>\n",
       "      <td>Blvd. Vista Hermosa, 21-95 Zona 15</td>\n",
       "      <td>tel:+(502) 2369-1018</td>\n",
       "      <td>https://directorio.guatemala.com/listing_repor...</td>\n",
       "      <td>Scandinavia Gym inicó en 1992 atentiendo a la ...</td>\n",
       "      <td>Pesas\\n                                    \\n\\...</td>\n",
       "    </tr>\n",
       "    <tr>\n",
       "      <th>3</th>\n",
       "      <td>Zardoz Fitness</td>\n",
       "      <td>Guatemala - Guatemala</td>\n",
       "      <td>16 Calle final 41-85 Zona 5</td>\n",
       "      <td>tel:+(502) 2336-0091</td>\n",
       "      <td>https://directorio.guatemala.com/listing_repor...</td>\n",
       "      <td>Zardoz Fitness es un centro de entrenamiento e...</td>\n",
       "      <td>Pesas</td>\n",
       "    </tr>\n",
       "    <tr>\n",
       "      <th>4</th>\n",
       "      <td>NaN</td>\n",
       "      <td>NaN</td>\n",
       "      <td>NaN</td>\n",
       "      <td>NaN</td>\n",
       "      <td>NaN</td>\n",
       "      <td>NaN</td>\n",
       "      <td>NaN</td>\n",
       "    </tr>\n",
       "  </tbody>\n",
       "</table>\n",
       "</div>"
      ],
      "text/plain": [
       "                           names                   city  \\\n",
       "0              World Gym Pradera  Guatemala - Guatemala   \n",
       "1   Akasha Yoga Centro Holístico  Guatemala - Guatemala   \n",
       "2  Scandinavia Gym Vista Hermosa  Guatemala - Guatemala   \n",
       "3                 Zardoz Fitness  Guatemala - Guatemala   \n",
       "4                            NaN                    NaN   \n",
       "\n",
       "                              address                 phone  \\\n",
       "0    Blvd. Los Próceres 25-74 Zona 10  tel:+(502) 2423-6000   \n",
       "1             8a. Calle 28-00 Zona 11  tel:+(502) 2473-7844   \n",
       "2  Blvd. Vista Hermosa, 21-95 Zona 15  tel:+(502) 2369-1018   \n",
       "3         16 Calle final 41-85 Zona 5  tel:+(502) 2336-0091   \n",
       "4                                 NaN                   NaN   \n",
       "\n",
       "                                                 web  \\\n",
       "0  https://directorio.guatemala.com/listing_repor...   \n",
       "1  https://directorio.guatemala.com/listing_repor...   \n",
       "2  https://directorio.guatemala.com/listing_repor...   \n",
       "3  https://directorio.guatemala.com/listing_repor...   \n",
       "4                                                NaN   \n",
       "\n",
       "                                         description  \\\n",
       "0  En World Gym contamos con un centro de orienta...   \n",
       "1  Akasha Yoga Centro Holístico, abre las puertas...   \n",
       "2  Scandinavia Gym inicó en 1992 atentiendo a la ...   \n",
       "3  Zardoz Fitness es un centro de entrenamiento e...   \n",
       "4                                                NaN   \n",
       "\n",
       "                                            category  \n",
       "0                                              Pesas  \n",
       "1  Yoga\\n                                    \\n\\n...  \n",
       "2  Pesas\\n                                    \\n\\...  \n",
       "3                                              Pesas  \n",
       "4                                                NaN  "
      ]
     },
     "execution_count": 94,
     "metadata": {},
     "output_type": "execute_result"
    }
   ],
   "source": [
    "gt.head()"
   ]
  },
  {
   "cell_type": "code",
   "execution_count": 103,
   "metadata": {},
   "outputs": [
    {
     "data": {
      "text/html": [
       "<div>\n",
       "<style scoped>\n",
       "    .dataframe tbody tr th:only-of-type {\n",
       "        vertical-align: middle;\n",
       "    }\n",
       "\n",
       "    .dataframe tbody tr th {\n",
       "        vertical-align: top;\n",
       "    }\n",
       "\n",
       "    .dataframe thead th {\n",
       "        text-align: right;\n",
       "    }\n",
       "</style>\n",
       "<table border=\"1\" class=\"dataframe\">\n",
       "  <thead>\n",
       "    <tr style=\"text-align: right;\">\n",
       "      <th></th>\n",
       "      <th>id</th>\n",
       "      <th>names</th>\n",
       "      <th>address</th>\n",
       "      <th>area code</th>\n",
       "      <th>phone</th>\n",
       "      <th>web</th>\n",
       "      <th>description</th>\n",
       "      <th>category</th>\n",
       "      <th>city</th>\n",
       "      <th>link</th>\n",
       "      <th>openstreetmap</th>\n",
       "    </tr>\n",
       "  </thead>\n",
       "  <tbody>\n",
       "    <tr>\n",
       "      <th>0</th>\n",
       "      <td>1</td>\n",
       "      <td>180 Grados Fitness</td>\n",
       "      <td>Km. 22.5 Carretera a El Salvador. Portal del B...</td>\n",
       "      <td>502.0</td>\n",
       "      <td>6662-5087</td>\n",
       "      <td>https://www.180gradosfitness.com/</td>\n",
       "      <td>180 Grados Fitness tiene como objetivo fundame...</td>\n",
       "      <td>Crossfit, Funcional, Yoga, Pilates</td>\n",
       "      <td>Guatemala - Guatemala</td>\n",
       "      <td>https://www.google.com.ar/maps/place/180+grado...</td>\n",
       "      <td>geo:14.49796,-90.48129?z=19</td>\n",
       "    </tr>\n",
       "  </tbody>\n",
       "</table>\n",
       "</div>"
      ],
      "text/plain": [
       "   id               names                                            address  \\\n",
       "0   1  180 Grados Fitness  Km. 22.5 Carretera a El Salvador. Portal del B...   \n",
       "\n",
       "   area code      phone                                web  \\\n",
       "0      502.0  6662-5087  https://www.180gradosfitness.com/   \n",
       "\n",
       "                                         description  \\\n",
       "0  180 Grados Fitness tiene como objetivo fundame...   \n",
       "\n",
       "                             category                   city  \\\n",
       "0  Crossfit, Funcional, Yoga, Pilates  Guatemala - Guatemala   \n",
       "\n",
       "                                                link  \\\n",
       "0  https://www.google.com.ar/maps/place/180+grado...   \n",
       "\n",
       "                 openstreetmap  \n",
       "0  geo:14.49796,-90.48129?z=19  "
      ]
     },
     "execution_count": 103,
     "metadata": {},
     "output_type": "execute_result"
    }
   ],
   "source": [
    "gymy = pd.read_csv('../../gymy_V3 - gymy_V3.csv')\n",
    "gymy.head(1)"
   ]
  },
  {
   "cell_type": "code",
   "execution_count": 106,
   "metadata": {},
   "outputs": [],
   "source": [
    "gymy['lat'] = gymy.openstreetmap.apply(lambda x : float(re.search(r'(\\d+\\.\\d+),(-?\\d+\\.\\d+)',x).group(1)))\n",
    "gymy['long'] = gymy.openstreetmap.apply(lambda x : float(re.search(r'(\\d+\\.\\d+),(-?\\d+\\.\\d+)',x).group(2)))\n",
    "gymy['latlong'] = tuple(list(zip((gymy.lat), (gymy.long))))\n"
   ]
  },
  {
   "cell_type": "code",
   "execution_count": 126,
   "metadata": {},
   "outputs": [],
   "source": [
    "gymy.phone = gymy.phone.str.replace('-','')\n",
    "gymy.phone = gymy.phone.str.replace(' ','')\n",
    "gymy.phone = gymy.phone.str.strip()\n",
    "gymy.phone.fillna('0', inplace=True)\n"
   ]
  },
  {
   "cell_type": "code",
   "execution_count": 212,
   "metadata": {},
   "outputs": [],
   "source": [
    "gymy.category = gymy.category.str.replace('Natacion','Natación')"
   ]
  },
  {
   "cell_type": "code",
   "execution_count": 213,
   "metadata": {},
   "outputs": [],
   "source": [
    "gymy.category = gymy.category.str.strip()"
   ]
  },
  {
   "cell_type": "code",
   "execution_count": 214,
   "metadata": {},
   "outputs": [
    {
     "data": {
      "text/plain": [
       "0      66625087\n",
       "1      23370980\n",
       "2      30938434\n",
       "3      40445174\n",
       "4      46626874\n",
       "         ...   \n",
       "155    23798195\n",
       "156    23758195\n",
       "157    24769841\n",
       "158    22961976\n",
       "159    23360091\n",
       "Name: phone, Length: 160, dtype: int32"
      ]
     },
     "execution_count": 214,
     "metadata": {},
     "output_type": "execute_result"
    }
   ],
   "source": [
    "gymy.phone.astype('int32')\n"
   ]
  },
  {
   "cell_type": "code",
   "execution_count": 215,
   "metadata": {},
   "outputs": [
    {
     "data": {
      "text/plain": [
       "0      502\n",
       "1      502\n",
       "2      502\n",
       "3      502\n",
       "4      502\n",
       "      ... \n",
       "155    502\n",
       "156    502\n",
       "157    502\n",
       "158    502\n",
       "159    502\n",
       "Name: area code, Length: 160, dtype: int32"
      ]
     },
     "execution_count": 215,
     "metadata": {},
     "output_type": "execute_result"
    }
   ],
   "source": [
    "gymy['area code'].fillna('0', inplace=True)\n",
    "gymy['area code'].astype('int32')"
   ]
  },
  {
   "cell_type": "code",
   "execution_count": 216,
   "metadata": {},
   "outputs": [
    {
     "data": {
      "text/plain": [
       "tuple"
      ]
     },
     "execution_count": 216,
     "metadata": {},
     "output_type": "execute_result"
    }
   ],
   "source": [
    "type(gymy.latlong[0])"
   ]
  },
  {
   "cell_type": "code",
   "execution_count": 217,
   "metadata": {},
   "outputs": [
    {
     "data": {
      "text/plain": [
       "14.49796"
      ]
     },
     "execution_count": 217,
     "metadata": {},
     "output_type": "execute_result"
    }
   ],
   "source": [
    "gymy.latlong[0][0]"
   ]
  },
  {
   "cell_type": "code",
   "execution_count": 218,
   "metadata": {},
   "outputs": [
    {
     "name": "stderr",
     "output_type": "stream",
     "text": [
      "<ipython-input-218-afaa65e12987>:1: SettingWithCopyWarning: \n",
      "A value is trying to be set on a copy of a slice from a DataFrame\n",
      "\n",
      "See the caveats in the documentation: https://pandas.pydata.org/pandas-docs/stable/user_guide/indexing.html#returning-a-view-versus-a-copy\n",
      "  gymy.category[gymy.names == 'Bilanz'] = 'Pilates, TRX'\n"
     ]
    }
   ],
   "source": [
    "gymy.category[gymy.names == 'Bilanz'] = 'Pilates, TRX'"
   ]
  },
  {
   "cell_type": "code",
   "execution_count": 234,
   "metadata": {},
   "outputs": [],
   "source": [
    "gymy.drop(34, inplace=True)"
   ]
  },
  {
   "cell_type": "code",
   "execution_count": 235,
   "metadata": {},
   "outputs": [
    {
     "data": {
      "text/html": [
       "<div>\n",
       "<style scoped>\n",
       "    .dataframe tbody tr th:only-of-type {\n",
       "        vertical-align: middle;\n",
       "    }\n",
       "\n",
       "    .dataframe tbody tr th {\n",
       "        vertical-align: top;\n",
       "    }\n",
       "\n",
       "    .dataframe thead th {\n",
       "        text-align: right;\n",
       "    }\n",
       "</style>\n",
       "<table border=\"1\" class=\"dataframe\">\n",
       "  <thead>\n",
       "    <tr style=\"text-align: right;\">\n",
       "      <th></th>\n",
       "      <th>id</th>\n",
       "      <th>names</th>\n",
       "      <th>address</th>\n",
       "      <th>area code</th>\n",
       "      <th>phone</th>\n",
       "      <th>web</th>\n",
       "      <th>description</th>\n",
       "      <th>category</th>\n",
       "      <th>city</th>\n",
       "      <th>link</th>\n",
       "      <th>openstreetmap</th>\n",
       "      <th>lat</th>\n",
       "      <th>long</th>\n",
       "      <th>latlong</th>\n",
       "    </tr>\n",
       "  </thead>\n",
       "  <tbody>\n",
       "  </tbody>\n",
       "</table>\n",
       "</div>"
      ],
      "text/plain": [
       "Empty DataFrame\n",
       "Columns: [id, names, address, area code, phone, web, description, category, city, link, openstreetmap, lat, long, latlong]\n",
       "Index: []"
      ]
     },
     "execution_count": 235,
     "metadata": {},
     "output_type": "execute_result"
    }
   ],
   "source": [
    "gymy[gymy.category == 'Gimnasios de Educación Física']"
   ]
  },
  {
   "cell_type": "code",
   "execution_count": 236,
   "metadata": {},
   "outputs": [],
   "source": [
    "gymy.to_csv('/Users/EstebanCardona/Documents/gymy/csv/gymy_final.csv')"
   ]
  },
  {
   "cell_type": "code",
   "execution_count": 237,
   "metadata": {},
   "outputs": [],
   "source": [
    "categorias = gymy.category.unique()"
   ]
  },
  {
   "cell_type": "code",
   "execution_count": 238,
   "metadata": {},
   "outputs": [
    {
     "data": {
      "text/plain": [
       "numpy.ndarray"
      ]
     },
     "execution_count": 238,
     "metadata": {},
     "output_type": "execute_result"
    }
   ],
   "source": [
    "type(categorias)"
   ]
  },
  {
   "cell_type": "code",
   "execution_count": 239,
   "metadata": {},
   "outputs": [],
   "source": [
    "cat = categorias.tolist()"
   ]
  },
  {
   "cell_type": "code",
   "execution_count": 240,
   "metadata": {},
   "outputs": [],
   "source": [
    "cat_ind = [item for sublist in cat for item in sublist]\n",
    "listas = [elemento.split(', ') for elemento in cat]\n"
   ]
  },
  {
   "cell_type": "code",
   "execution_count": 241,
   "metadata": {},
   "outputs": [],
   "source": [
    "cat_ind = []\n",
    "for elemento in listas:\n",
    "    for nombre in elemento:\n",
    "        cat_ind.append(nombre)"
   ]
  },
  {
   "cell_type": "code",
   "execution_count": 242,
   "metadata": {},
   "outputs": [
    {
     "name": "stdout",
     "output_type": "stream",
     "text": [
      "['Crossfit', 'Funcional', 'Yoga', 'Pilates', 'Baile', 'Funcional', 'Yoga', 'Pilates', 'TRX', 'Baile', 'Spinning', 'Yoga', 'Yoga', 'Funcional', 'Crossfit', 'Artes Marciales', 'Gimnasia', 'Natación', 'Pentatlon moderno', 'Aviacion', 'Escalada', 'Pilates', 'TRX', 'Billar', 'Pilates', 'Yoga', 'Zumba', 'Yoga', 'Zumba', 'Pilates', 'Pesas', 'Pesas', 'Baile', 'Tenis', 'Ajedrez', 'Baloncesto', 'Beisbol', 'Boxeo', 'Ciclismo', 'Esgrima', 'Remo', 'Voleibol', 'Tenis de mesa', 'Pesas', 'Natación', 'Pole Fitness', 'Pesas', 'Funcional', 'Baile', 'Crossfit', 'Pesas', 'Funcional', 'Baile', 'Crossfit', 'Natación', 'Golf', 'Boliche', 'Calistenia', 'Futbol', 'Pesas', 'Baile', 'Natación', 'Funcional', 'Natación', 'Pesas', 'Funcional', 'Pesas', 'Pilates', 'Funcional', 'Pesas', 'Crossfit']\n"
     ]
    }
   ],
   "source": [
    "print(cat_ind)"
   ]
  },
  {
   "cell_type": "code",
   "execution_count": 243,
   "metadata": {},
   "outputs": [],
   "source": [
    "cat_ind = set(cat_ind)"
   ]
  },
  {
   "cell_type": "code",
   "execution_count": 244,
   "metadata": {},
   "outputs": [],
   "source": [
    "cat_ind = list(cat_ind)"
   ]
  },
  {
   "cell_type": "code",
   "execution_count": 245,
   "metadata": {},
   "outputs": [
    {
     "data": {
      "text/plain": [
       "['Ajedrez',\n",
       " 'Artes Marciales',\n",
       " 'Aviacion',\n",
       " 'Baile',\n",
       " 'Baloncesto',\n",
       " 'Beisbol',\n",
       " 'Billar',\n",
       " 'Boliche',\n",
       " 'Boxeo',\n",
       " 'Calistenia',\n",
       " 'Ciclismo',\n",
       " 'Crossfit',\n",
       " 'Escalada',\n",
       " 'Esgrima',\n",
       " 'Funcional',\n",
       " 'Futbol',\n",
       " 'Gimnasia',\n",
       " 'Golf',\n",
       " 'Natación',\n",
       " 'Pentatlon moderno',\n",
       " 'Pesas',\n",
       " 'Pilates',\n",
       " 'Pole Fitness',\n",
       " 'Remo',\n",
       " 'Spinning',\n",
       " 'TRX',\n",
       " 'Tenis',\n",
       " 'Tenis de mesa',\n",
       " 'Voleibol',\n",
       " 'Yoga',\n",
       " 'Zumba']"
      ]
     },
     "execution_count": 245,
     "metadata": {},
     "output_type": "execute_result"
    }
   ],
   "source": [
    "cat_ind.sort()\n",
    "cat_ind"
   ]
  },
  {
   "cell_type": "code",
   "execution_count": 246,
   "metadata": {},
   "outputs": [],
   "source": [
    "cats = ['Ajedrez', 'Artes Marciales', 'Aviacion', 'Baile', 'Baloncesto', 'Beisbol', 'Billar', 'Boliche',\n",
    "        'Boxeo', 'Calistenia', 'Ciclismo', 'Crossfit', 'Escalada', 'Esgrima', 'Funcional', 'Futbol',\n",
    "        'Gimnasia', 'Golf', 'Natación', 'Pentatlon moderno', 'Pesas', 'Pilates', 'Pole Fitness', 'Remo', \n",
    "        'Spinning', 'TRX', 'Tenis', 'Tenis de mesa', 'Voleibol', 'Yoga', 'Zumba']"
   ]
  },
  {
   "cell_type": "code",
   "execution_count": 256,
   "metadata": {},
   "outputs": [],
   "source": []
  },
  {
   "cell_type": "code",
   "execution_count": 251,
   "metadata": {},
   "outputs": [
    {
     "data": {
      "text/plain": [
       "False"
      ]
     },
     "execution_count": 251,
     "metadata": {},
     "output_type": "execute_result"
    }
   ],
   "source": [
    "string.split(', ') in cats"
   ]
  },
  {
   "cell_type": "code",
   "execution_count": 262,
   "metadata": {},
   "outputs": [
    {
     "ename": "IndexError",
     "evalue": "list index out of range",
     "output_type": "error",
     "traceback": [
      "\u001b[0;31m---------------------------------------------------------------------------\u001b[0m",
      "\u001b[0;31mIndexError\u001b[0m                                Traceback (most recent call last)",
      "\u001b[0;32m<ipython-input-262-1de83386b702>\u001b[0m in \u001b[0;36m<module>\u001b[0;34m\u001b[0m\n\u001b[0;32m----> 1\u001b[0;31m \u001b[0mprint\u001b[0m\u001b[0;34m(\u001b[0m\u001b[0mstring\u001b[0m\u001b[0;34m.\u001b[0m\u001b[0msplit\u001b[0m\u001b[0;34m(\u001b[0m\u001b[0;34m', '\u001b[0m\u001b[0;34m)\u001b[0m\u001b[0;34m[\u001b[0m\u001b[0;36m4\u001b[0m\u001b[0;34m]\u001b[0m\u001b[0;34m)\u001b[0m\u001b[0;34m\u001b[0m\u001b[0;34m\u001b[0m\u001b[0m\n\u001b[0m",
      "\u001b[0;31mIndexError\u001b[0m: list index out of range"
     ]
    }
   ],
   "source": [
    "print(string.split(', ')[4])"
   ]
  },
  {
   "cell_type": "code",
   "execution_count": 263,
   "metadata": {},
   "outputs": [
    {
     "data": {
      "text/plain": [
       "'Crossfit, Funcional, Yoga, Pilates'"
      ]
     },
     "execution_count": 263,
     "metadata": {},
     "output_type": "execute_result"
    }
   ],
   "source": [
    "string"
   ]
  },
  {
   "cell_type": "code",
   "execution_count": 285,
   "metadata": {},
   "outputs": [],
   "source": [
    "string = 'Crossfit, Funcional, Yoga, Pilates, Pesas'\n",
    "pesas = ['Pesas']\n",
    "\n"
   ]
  },
  {
   "cell_type": "code",
   "execution_count": 286,
   "metadata": {},
   "outputs": [
    {
     "name": "stdout",
     "output_type": "stream",
     "text": [
      "Pesas\n"
     ]
    }
   ],
   "source": [
    "for s in string.split(', '):\n",
    "    if s in pesas:\n",
    "        print(s)"
   ]
  },
  {
   "cell_type": "code",
   "execution_count": 307,
   "metadata": {},
   "outputs": [],
   "source": [
    "def filtro(string,user_input):\n",
    "    for s in string.split(', '):\n",
    "        if s in user_input:\n",
    "            return True\n",
    "    return False"
   ]
  },
  {
   "cell_type": "code",
   "execution_count": 308,
   "metadata": {},
   "outputs": [
    {
     "data": {
      "text/plain": [
       "True"
      ]
     },
     "execution_count": 308,
     "metadata": {},
     "output_type": "execute_result"
    }
   ],
   "source": [
    "filtro(string,pesas)"
   ]
  },
  {
   "cell_type": "code",
   "execution_count": 309,
   "metadata": {},
   "outputs": [],
   "source": [
    "user = 'Pesas'"
   ]
  },
  {
   "cell_type": "code",
   "execution_count": 310,
   "metadata": {},
   "outputs": [],
   "source": [
    "gymy['filtro'] = gymy.category.apply(filtro, user_input=user)"
   ]
  },
  {
   "cell_type": "code",
   "execution_count": 311,
   "metadata": {},
   "outputs": [
    {
     "data": {
      "text/html": [
       "<div>\n",
       "<style scoped>\n",
       "    .dataframe tbody tr th:only-of-type {\n",
       "        vertical-align: middle;\n",
       "    }\n",
       "\n",
       "    .dataframe tbody tr th {\n",
       "        vertical-align: top;\n",
       "    }\n",
       "\n",
       "    .dataframe thead th {\n",
       "        text-align: right;\n",
       "    }\n",
       "</style>\n",
       "<table border=\"1\" class=\"dataframe\">\n",
       "  <thead>\n",
       "    <tr style=\"text-align: right;\">\n",
       "      <th></th>\n",
       "      <th>id</th>\n",
       "      <th>names</th>\n",
       "      <th>address</th>\n",
       "      <th>area code</th>\n",
       "      <th>phone</th>\n",
       "      <th>web</th>\n",
       "      <th>description</th>\n",
       "      <th>category</th>\n",
       "      <th>city</th>\n",
       "      <th>link</th>\n",
       "      <th>openstreetmap</th>\n",
       "      <th>lat</th>\n",
       "      <th>long</th>\n",
       "      <th>latlong</th>\n",
       "      <th>filtro</th>\n",
       "    </tr>\n",
       "  </thead>\n",
       "  <tbody>\n",
       "    <tr>\n",
       "      <th>0</th>\n",
       "      <td>1</td>\n",
       "      <td>180 Grados Fitness</td>\n",
       "      <td>Km. 22.5 Carretera a El Salvador. Portal del B...</td>\n",
       "      <td>502</td>\n",
       "      <td>66625087</td>\n",
       "      <td>https://www.180gradosfitness.com/</td>\n",
       "      <td>180 Grados Fitness tiene como objetivo fundame...</td>\n",
       "      <td>Crossfit, Funcional, Yoga, Pilates</td>\n",
       "      <td>Guatemala - Guatemala</td>\n",
       "      <td>https://www.google.com.ar/maps/place/180+grado...</td>\n",
       "      <td>geo:14.49796,-90.48129?z=19</td>\n",
       "      <td>14.49796</td>\n",
       "      <td>-90.48129</td>\n",
       "      <td>(14.49796, -90.48129)</td>\n",
       "      <td>False</td>\n",
       "    </tr>\n",
       "    <tr>\n",
       "      <th>1</th>\n",
       "      <td>2</td>\n",
       "      <td>Academia BellyDance Rashida</td>\n",
       "      <td>Plaza Las Cañas, Local 201, zona 10</td>\n",
       "      <td>502</td>\n",
       "      <td>23370980</td>\n",
       "      <td>https://es-la.facebook.com/Rashidaacademy/</td>\n",
       "      <td>Esta academia de baile es ideal para las perso...</td>\n",
       "      <td>Baile</td>\n",
       "      <td>Guatemala - Guatemala</td>\n",
       "      <td>https://www.google.com.ar/maps/place/Academia+...</td>\n",
       "      <td>geo:14.58151,-90.49617?z=19</td>\n",
       "      <td>14.58151</td>\n",
       "      <td>-90.49617</td>\n",
       "      <td>(14.58151, -90.49617)</td>\n",
       "      <td>False</td>\n",
       "    </tr>\n",
       "    <tr>\n",
       "      <th>2</th>\n",
       "      <td>3</td>\n",
       "      <td>Academia Dance Art</td>\n",
       "      <td>Bulevar Vista Hermosa 25-80, zona 15 Vista Her...</td>\n",
       "      <td>502</td>\n",
       "      <td>30938434</td>\n",
       "      <td>https://es-la.facebook.com/Danceartguatemala/</td>\n",
       "      <td>La Academia Dance Art ofrece profesionales exp...</td>\n",
       "      <td>Baile</td>\n",
       "      <td>Guatemala - Guatemala</td>\n",
       "      <td>https://www.google.com.ar/maps/place/edificio+...</td>\n",
       "      <td>geo:14.58096,-90.48487?z=19</td>\n",
       "      <td>14.58096</td>\n",
       "      <td>-90.48487</td>\n",
       "      <td>(14.58096, -90.48487)</td>\n",
       "      <td>False</td>\n",
       "    </tr>\n",
       "    <tr>\n",
       "      <th>3</th>\n",
       "      <td>4</td>\n",
       "      <td>Academia de Baile Español Mary Farrington</td>\n",
       "      <td>19 calle 12-34 zona 10</td>\n",
       "      <td>502</td>\n",
       "      <td>40445174</td>\n",
       "      <td>https://www.facebook.com/acamaryfarrrington/</td>\n",
       "      <td>Academia de Baile Español Mary Farrington te i...</td>\n",
       "      <td>Baile</td>\n",
       "      <td>Guatemala - Guatemala</td>\n",
       "      <td>https://www.google.com/maps/place/19+Calle+123...</td>\n",
       "      <td>geo:14.59010,-90.50806?z=19</td>\n",
       "      <td>14.59010</td>\n",
       "      <td>-90.50806</td>\n",
       "      <td>(14.5901, -90.50806)</td>\n",
       "      <td>False</td>\n",
       "    </tr>\n",
       "    <tr>\n",
       "      <th>4</th>\n",
       "      <td>5</td>\n",
       "      <td>Academia de Ballet DanzArte</td>\n",
       "      <td>Avenida Elena 3-31 zona 1</td>\n",
       "      <td>502</td>\n",
       "      <td>46626874</td>\n",
       "      <td>http://academia-danzarte.com/</td>\n",
       "      <td>La Academia de Ballet DanzArte cuenta con tres...</td>\n",
       "      <td>Baile</td>\n",
       "      <td>Guatemala - Guatemala</td>\n",
       "      <td>https://www.google.com/maps/place/Avenida+Elen...</td>\n",
       "      <td>geo:14.64664,-90.52080?z=17</td>\n",
       "      <td>14.64664</td>\n",
       "      <td>-90.52080</td>\n",
       "      <td>(14.64664, -90.5208)</td>\n",
       "      <td>False</td>\n",
       "    </tr>\n",
       "    <tr>\n",
       "      <th>...</th>\n",
       "      <td>...</td>\n",
       "      <td>...</td>\n",
       "      <td>...</td>\n",
       "      <td>...</td>\n",
       "      <td>...</td>\n",
       "      <td>...</td>\n",
       "      <td>...</td>\n",
       "      <td>...</td>\n",
       "      <td>...</td>\n",
       "      <td>...</td>\n",
       "      <td>...</td>\n",
       "      <td>...</td>\n",
       "      <td>...</td>\n",
       "      <td>...</td>\n",
       "      <td>...</td>\n",
       "    </tr>\n",
       "    <tr>\n",
       "      <th>155</th>\n",
       "      <td>156</td>\n",
       "      <td>Waterproof Swim Academy</td>\n",
       "      <td>12 calle 16-02 zona 16, Blvd San Isidro, Acatán</td>\n",
       "      <td>502</td>\n",
       "      <td>23798195</td>\n",
       "      <td>https://www.giselamorales.com.gt</td>\n",
       "      <td>Natacion</td>\n",
       "      <td>Natación</td>\n",
       "      <td>NaN</td>\n",
       "      <td>https://www.google.com.ar/maps/place/Waterproo...</td>\n",
       "      <td>geo:14.61550,-90.46963?z=18</td>\n",
       "      <td>14.61550</td>\n",
       "      <td>-90.46963</td>\n",
       "      <td>(14.6155, -90.46963)</td>\n",
       "      <td>False</td>\n",
       "    </tr>\n",
       "    <tr>\n",
       "      <th>156</th>\n",
       "      <td>157</td>\n",
       "      <td>Waterproof Swim Academy</td>\n",
       "      <td>15 avenida A y 3 calle D, zona 8, San Cristóbal</td>\n",
       "      <td>502</td>\n",
       "      <td>23758195</td>\n",
       "      <td>https://www.giselamorales.com.gt</td>\n",
       "      <td>Natacion</td>\n",
       "      <td>Natación</td>\n",
       "      <td>NaN</td>\n",
       "      <td>NaN</td>\n",
       "      <td>geo:14.58914,-90.59433?z=18</td>\n",
       "      <td>14.58914</td>\n",
       "      <td>-90.59433</td>\n",
       "      <td>(14.58914, -90.59433)</td>\n",
       "      <td>False</td>\n",
       "    </tr>\n",
       "    <tr>\n",
       "      <th>157</th>\n",
       "      <td>158</td>\n",
       "      <td>Xsport Fitness Center</td>\n",
       "      <td>Calz. Aguilar Batres, 37-95 Zona 12</td>\n",
       "      <td>502</td>\n",
       "      <td>24769841</td>\n",
       "      <td>https://www.facebook.com/xsportfitnesscenter</td>\n",
       "      <td>Ofrecemos servicio de gimnasio completo. Conta...</td>\n",
       "      <td>Pesas, Crossfit</td>\n",
       "      <td>Guatemala - Guatemala</td>\n",
       "      <td>https://www.google.com.ar/maps/place/Xsport+Fi...</td>\n",
       "      <td>geo:14.58745,-90.56182?z=17</td>\n",
       "      <td>14.58745</td>\n",
       "      <td>-90.56182</td>\n",
       "      <td>(14.58745, -90.56182)</td>\n",
       "      <td>True</td>\n",
       "    </tr>\n",
       "    <tr>\n",
       "      <th>158</th>\n",
       "      <td>159</td>\n",
       "      <td>Xtream Gym</td>\n",
       "      <td>6a. Avenida 6-63 Zona 10</td>\n",
       "      <td>502</td>\n",
       "      <td>22961976</td>\n",
       "      <td>https://www.facebook.com/Xtreamgymguate</td>\n",
       "      <td>Nuestro gimnasio ofrece un entrenamiento por m...</td>\n",
       "      <td>Artes Marciales</td>\n",
       "      <td>Guatemala - Guatemala</td>\n",
       "      <td>https://www.google.com.ar/maps/place/XTREAM+GY...</td>\n",
       "      <td>geo:14.60688,-90.50995?z=18</td>\n",
       "      <td>14.60688</td>\n",
       "      <td>-90.50995</td>\n",
       "      <td>(14.60688, -90.50995)</td>\n",
       "      <td>False</td>\n",
       "    </tr>\n",
       "    <tr>\n",
       "      <th>159</th>\n",
       "      <td>160</td>\n",
       "      <td>Zardoz Fitness</td>\n",
       "      <td>16 Calle final 41-85 Zona 5</td>\n",
       "      <td>502</td>\n",
       "      <td>23360091</td>\n",
       "      <td>https://zardozgym.com/</td>\n",
       "      <td>Zardoz Fitness es un centro de entrenamiento e...</td>\n",
       "      <td>Pesas</td>\n",
       "      <td>Guatemala - Guatemala</td>\n",
       "      <td>https://www.google.com.ar/maps/place/ZarDoz+Gy...</td>\n",
       "      <td>geo:14.62818,-90.49256?z=18</td>\n",
       "      <td>14.62818</td>\n",
       "      <td>-90.49256</td>\n",
       "      <td>(14.62818, -90.49256)</td>\n",
       "      <td>True</td>\n",
       "    </tr>\n",
       "  </tbody>\n",
       "</table>\n",
       "<p>159 rows × 15 columns</p>\n",
       "</div>"
      ],
      "text/plain": [
       "      id                                      names  \\\n",
       "0      1                         180 Grados Fitness   \n",
       "1      2                Academia BellyDance Rashida   \n",
       "2      3                         Academia Dance Art   \n",
       "3      4  Academia de Baile Español Mary Farrington   \n",
       "4      5                Academia de Ballet DanzArte   \n",
       "..   ...                                        ...   \n",
       "155  156                    Waterproof Swim Academy   \n",
       "156  157                    Waterproof Swim Academy   \n",
       "157  158                      Xsport Fitness Center   \n",
       "158  159                                 Xtream Gym   \n",
       "159  160                             Zardoz Fitness   \n",
       "\n",
       "                                               address area code     phone  \\\n",
       "0    Km. 22.5 Carretera a El Salvador. Portal del B...       502  66625087   \n",
       "1                  Plaza Las Cañas, Local 201, zona 10       502  23370980   \n",
       "2    Bulevar Vista Hermosa 25-80, zona 15 Vista Her...       502  30938434   \n",
       "3                               19 calle 12-34 zona 10       502  40445174   \n",
       "4                            Avenida Elena 3-31 zona 1       502  46626874   \n",
       "..                                                 ...       ...       ...   \n",
       "155    12 calle 16-02 zona 16, Blvd San Isidro, Acatán       502  23798195   \n",
       "156    15 avenida A y 3 calle D, zona 8, San Cristóbal       502  23758195   \n",
       "157                Calz. Aguilar Batres, 37-95 Zona 12       502  24769841   \n",
       "158                           6a. Avenida 6-63 Zona 10       502  22961976   \n",
       "159                        16 Calle final 41-85 Zona 5       502  23360091   \n",
       "\n",
       "                                               web  \\\n",
       "0                https://www.180gradosfitness.com/   \n",
       "1       https://es-la.facebook.com/Rashidaacademy/   \n",
       "2    https://es-la.facebook.com/Danceartguatemala/   \n",
       "3     https://www.facebook.com/acamaryfarrrington/   \n",
       "4                    http://academia-danzarte.com/   \n",
       "..                                             ...   \n",
       "155               https://www.giselamorales.com.gt   \n",
       "156               https://www.giselamorales.com.gt   \n",
       "157   https://www.facebook.com/xsportfitnesscenter   \n",
       "158        https://www.facebook.com/Xtreamgymguate   \n",
       "159                         https://zardozgym.com/   \n",
       "\n",
       "                                           description  \\\n",
       "0    180 Grados Fitness tiene como objetivo fundame...   \n",
       "1    Esta academia de baile es ideal para las perso...   \n",
       "2    La Academia Dance Art ofrece profesionales exp...   \n",
       "3    Academia de Baile Español Mary Farrington te i...   \n",
       "4    La Academia de Ballet DanzArte cuenta con tres...   \n",
       "..                                                 ...   \n",
       "155                                           Natacion   \n",
       "156                                           Natacion   \n",
       "157  Ofrecemos servicio de gimnasio completo. Conta...   \n",
       "158  Nuestro gimnasio ofrece un entrenamiento por m...   \n",
       "159  Zardoz Fitness es un centro de entrenamiento e...   \n",
       "\n",
       "                               category                   city  \\\n",
       "0    Crossfit, Funcional, Yoga, Pilates  Guatemala - Guatemala   \n",
       "1                                 Baile  Guatemala - Guatemala   \n",
       "2                                 Baile  Guatemala - Guatemala   \n",
       "3                                 Baile  Guatemala - Guatemala   \n",
       "4                                 Baile  Guatemala - Guatemala   \n",
       "..                                  ...                    ...   \n",
       "155                            Natación                    NaN   \n",
       "156                            Natación                    NaN   \n",
       "157                     Pesas, Crossfit  Guatemala - Guatemala   \n",
       "158                     Artes Marciales  Guatemala - Guatemala   \n",
       "159                               Pesas  Guatemala - Guatemala   \n",
       "\n",
       "                                                  link  \\\n",
       "0    https://www.google.com.ar/maps/place/180+grado...   \n",
       "1    https://www.google.com.ar/maps/place/Academia+...   \n",
       "2    https://www.google.com.ar/maps/place/edificio+...   \n",
       "3    https://www.google.com/maps/place/19+Calle+123...   \n",
       "4    https://www.google.com/maps/place/Avenida+Elen...   \n",
       "..                                                 ...   \n",
       "155  https://www.google.com.ar/maps/place/Waterproo...   \n",
       "156                                                NaN   \n",
       "157  https://www.google.com.ar/maps/place/Xsport+Fi...   \n",
       "158  https://www.google.com.ar/maps/place/XTREAM+GY...   \n",
       "159  https://www.google.com.ar/maps/place/ZarDoz+Gy...   \n",
       "\n",
       "                   openstreetmap       lat      long                latlong  \\\n",
       "0    geo:14.49796,-90.48129?z=19  14.49796 -90.48129  (14.49796, -90.48129)   \n",
       "1    geo:14.58151,-90.49617?z=19  14.58151 -90.49617  (14.58151, -90.49617)   \n",
       "2    geo:14.58096,-90.48487?z=19  14.58096 -90.48487  (14.58096, -90.48487)   \n",
       "3    geo:14.59010,-90.50806?z=19  14.59010 -90.50806   (14.5901, -90.50806)   \n",
       "4    geo:14.64664,-90.52080?z=17  14.64664 -90.52080   (14.64664, -90.5208)   \n",
       "..                           ...       ...       ...                    ...   \n",
       "155  geo:14.61550,-90.46963?z=18  14.61550 -90.46963   (14.6155, -90.46963)   \n",
       "156  geo:14.58914,-90.59433?z=18  14.58914 -90.59433  (14.58914, -90.59433)   \n",
       "157  geo:14.58745,-90.56182?z=17  14.58745 -90.56182  (14.58745, -90.56182)   \n",
       "158  geo:14.60688,-90.50995?z=18  14.60688 -90.50995  (14.60688, -90.50995)   \n",
       "159  geo:14.62818,-90.49256?z=18  14.62818 -90.49256  (14.62818, -90.49256)   \n",
       "\n",
       "     filtro  \n",
       "0     False  \n",
       "1     False  \n",
       "2     False  \n",
       "3     False  \n",
       "4     False  \n",
       "..      ...  \n",
       "155   False  \n",
       "156   False  \n",
       "157    True  \n",
       "158   False  \n",
       "159    True  \n",
       "\n",
       "[159 rows x 15 columns]"
      ]
     },
     "execution_count": 311,
     "metadata": {},
     "output_type": "execute_result"
    }
   ],
   "source": [
    "gymy"
   ]
  },
  {
   "cell_type": "code",
   "execution_count": null,
   "metadata": {},
   "outputs": [],
   "source": []
  }
 ],
 "metadata": {
  "kernelspec": {
   "display_name": "Python 3",
   "language": "python",
   "name": "python3"
  },
  "language_info": {
   "codemirror_mode": {
    "name": "ipython",
    "version": 3
   },
   "file_extension": ".py",
   "mimetype": "text/x-python",
   "name": "python",
   "nbconvert_exporter": "python",
   "pygments_lexer": "ipython3",
   "version": "3.8.0"
  }
 },
 "nbformat": 4,
 "nbformat_minor": 4
}
