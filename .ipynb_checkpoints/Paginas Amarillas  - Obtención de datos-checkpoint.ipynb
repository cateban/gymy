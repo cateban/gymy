{
 "cells": [
  {
   "cell_type": "markdown",
   "metadata": {},
   "source": [
    "# Obtención de información\n",
    "\n",
    "Each establishment will initially consist of following fields:\n",
    "- id\n",
    "- name\n",
    "- description\n",
    "- phone\n",
    "- website\n",
    "- hours\n",
    "- category\n",
    "- address\n",
    "- zip code\n",
    "- city\n",
    "- country\n",
    "- latitude\n",
    "- longitude"
   ]
  },
  {
   "cell_type": "code",
   "execution_count": 327,
   "metadata": {},
   "outputs": [],
   "source": [
    "import re\n",
    "import requests\n",
    "from bs4 import BeautifulSoup\n",
    "import unidecode\n",
    "import numpy as np\n",
    "from selenium import webdriver\n",
    "from webdriver_manager.chrome import ChromeDriverManager\n",
    "import pandas as pd"
   ]
  },
  {
   "cell_type": "markdown",
   "metadata": {},
   "source": [
    "### Scraping yellow pages \"gimnasios de educación física\" "
   ]
  },
  {
   "cell_type": "code",
   "execution_count": 52,
   "metadata": {},
   "outputs": [],
   "source": [
    "url = 'https://www.paginasamarillas.com.gt/servicios/gimnasios-de-educacion-fisica?page=1'"
   ]
  },
  {
   "cell_type": "code",
   "execution_count": 53,
   "metadata": {},
   "outputs": [],
   "source": [
    "driver = webdriver.Chrome()\n",
    "\n",
    "driver.get(url)\n",
    "\n",
    "response = driver.execute_script(\"return document.documentElement.outerHTML\")\n",
    "\n",
    "driver.quit()"
   ]
  },
  {
   "cell_type": "code",
   "execution_count": 54,
   "metadata": {},
   "outputs": [],
   "source": [
    "#response = requests.get(url).text\n",
    "soup = BeautifulSoup(response,'lxml')"
   ]
  },
  {
   "cell_type": "code",
   "execution_count": 83,
   "metadata": {},
   "outputs": [],
   "source": [
    "companyname = soup.find_all('a', class_='companyName')"
   ]
  },
  {
   "cell_type": "code",
   "execution_count": 105,
   "metadata": {},
   "outputs": [],
   "source": [
    "names = [companyname[x].text.split('\\n')[1].strip() for x in range(len(companyname))]"
   ]
  },
  {
   "cell_type": "code",
   "execution_count": 106,
   "metadata": {},
   "outputs": [
    {
     "name": "stdout",
     "output_type": "stream",
     "text": [
      "['Full Contact Studio', 'Club Atletico Atenas', 'Le Petit Spa', 'Madiel Spa', 'Armonia Colonial', 'Fitness One', 'Dr. Spa', 'Zona Libre', 'Solaz Sauna Y Masaje', 'Massage Spa', 'Squash Zone', 'Sforzo Gym', 'La Farfalla', 'Nova Spa Estetico', 'San Silvestre Spa Sauna Y Jacuzzi', 'Sporta Guatemala S.A.', 'Vmedical Spa', 'Fiore', 'Hostal Los Volcanes', 'Prodepsa Gimnasio'] \n",
      "\n",
      " 20\n"
     ]
    }
   ],
   "source": [
    "print(names,'\\n\\n',len(names))"
   ]
  },
  {
   "cell_type": "code",
   "execution_count": 90,
   "metadata": {},
   "outputs": [],
   "source": [
    "city = soup.find_all('span', class_='city')"
   ]
  },
  {
   "cell_type": "code",
   "execution_count": 91,
   "metadata": {},
   "outputs": [],
   "source": [
    "city = [city[x].text.strip() for x in range(len(city))]"
   ]
  },
  {
   "cell_type": "code",
   "execution_count": 102,
   "metadata": {},
   "outputs": [
    {
     "name": "stdout",
     "output_type": "stream",
     "text": [
      "['Guatemala - Guatemala', 'Guatemala - Guatemala', 'Guatemala - Guatemala', 'Guatemala - Guatemala', 'Guatemala - Guatemala', 'Guatemala - Guatemala', 'Amatitlán - Guatemala', 'Huehuetenango - Huehuetenango', 'Jocotenango - Sacatepequez', 'Guatemala - Guatemala', 'Guatemala - Guatemala', 'Guatemala - Guatemala', 'Guatemala - Guatemala', 'Guatemala - Guatemala', 'Guatemala - Guatemala', 'Guatemala - Guatemala', 'Guatemala - Guatemala', 'Guatemala - Guatemala', 'Guatemala - Guatemala', 'Guatemala - Guatemala'] \n",
      "\n",
      " 20\n"
     ]
    }
   ],
   "source": [
    "print(city,'\\n\\n',len(city))"
   ]
  },
  {
   "cell_type": "code",
   "execution_count": 95,
   "metadata": {},
   "outputs": [],
   "source": [
    "address = soup.find_all('span', class_='directionFig')"
   ]
  },
  {
   "cell_type": "code",
   "execution_count": 96,
   "metadata": {},
   "outputs": [],
   "source": [
    "address = [address[x].text.strip() for x in range(len(address))]"
   ]
  },
  {
   "cell_type": "code",
   "execution_count": 99,
   "metadata": {},
   "outputs": [
    {
     "name": "stdout",
     "output_type": "stream",
     "text": [
      "['2 C 10-06 Z-1', 'Diagonal 14. 22-06 Zona 5', 'Dg 6 14-86 Z 10', 'Av las Americas 7-30 Z 13 Edif Real América L 3d 3 Nivel', 'Boulevard Principal 23 Calle 18-96 Zona 7 Centro Comercial Paseo', 'Boulevard Los Próceres 25-74 Zona 10', 'Kilómetro 29.5 Centro Comercial Flores del Lago Nivel 3 Local 4 Amatitlán', '2 Avenida A 1-53 zona 3 Huehuetenango', 'Diagonal 1 Número 34 Zona 4 Jocotenango Sacatepequez', '3 Calle 8-76 Zona 8 De Mixco Boulevard Principal Edicifio Centro Empresarial', '10 Avenida 10-50 Zona 14', 'Calzada Roosevelt 12-25 Zona 11', 'Boulevard Principal 3 Calle 8-88 Zona 8 Mixco Cd. San Cristobal', 'Boulevar Los Proceres 25-74, zona 10 Guatemala', '1 Av Cl A 4-64 Z 7 Almolonga Quetzaltenango', 'KM 18.5 CARRET A EL SALVADOR', '3 Cl A 8-38 Edif Renova Z 10 3 Nivel', 'Av Americas 9-55 Plaza Oro L 10', '16 Calle 8-00 Zona 13 Aurora 1', '10 Av 10-50 Z 14 C.C. Plaza Futeca L 21'] \n",
      "\n",
      " 20\n"
     ]
    }
   ],
   "source": [
    "print(address,'\\n\\n',len(address))"
   ]
  },
  {
   "cell_type": "code",
   "execution_count": 100,
   "metadata": {},
   "outputs": [],
   "source": [
    "phone = soup.find_all('span', class_='phoneFig')\n",
    "phone = [phone[x].text.strip() for x in range(len(phone))]\n"
   ]
  },
  {
   "cell_type": "code",
   "execution_count": 101,
   "metadata": {},
   "outputs": [
    {
     "name": "stdout",
     "output_type": "stream",
     "text": [
      "['(+502) 2232 6575', '(+502) 2335 3680', '(+502) 2366 7508', '(+502) 2360 5070', '(+502) 5632 6476', '(+502) 2423 6000', '(+502) 6632 9534', '(+502) 4284 9059', '(+502) 5588 2533', '(+502) 2480 7042', '(+502) 5580 1015', '(+502) 2440 2489', '(+502) 2322 3100', '(+502) 4110 3089', '(+502) 7766 8587', '(+502) 6625 9100', '(+502) 3006 3604', '(+502) 2366 7166', '(+502) 2360 3232', '(+502) 2366 8054'] \n",
      "\n",
      " 20\n"
     ]
    }
   ],
   "source": [
    "print(phone,'\\n\\n',len(phone))"
   ]
  },
  {
   "cell_type": "code",
   "execution_count": 115,
   "metadata": {},
   "outputs": [
    {
     "data": {
      "text/plain": [
       "'\\nhttp://www.lepetitspagt.com \\n'"
      ]
     },
     "execution_count": 115,
     "metadata": {},
     "output_type": "execute_result"
    }
   ],
   "source": [
    "web = soup.find_all('div', class_='url')\n",
    "\n",
    "web[2].text"
   ]
  },
  {
   "cell_type": "code",
   "execution_count": 111,
   "metadata": {},
   "outputs": [
    {
     "data": {
      "text/plain": [
       "5"
      ]
     },
     "execution_count": 111,
     "metadata": {},
     "output_type": "execute_result"
    }
   ],
   "source": [
    "len(web)"
   ]
  },
  {
   "cell_type": "code",
   "execution_count": 142,
   "metadata": {},
   "outputs": [],
   "source": [
    "web = [web[x].text.strip() for x in range(len(web))]"
   ]
  },
  {
   "cell_type": "code",
   "execution_count": 143,
   "metadata": {},
   "outputs": [
    {
     "name": "stdout",
     "output_type": "stream",
     "text": [
      "['', 'http://www.clubatenas.com', 'http://www.lepetitspagt.com', 'http://www.madielspa.es.tl', 'http://www.facebook.com/spa.farfalla'] \n",
      "\n",
      " 5\n"
     ]
    }
   ],
   "source": [
    "print(web,'\\n\\n',len(web))"
   ]
  },
  {
   "cell_type": "code",
   "execution_count": 117,
   "metadata": {},
   "outputs": [
    {
     "name": "stdout",
     "output_type": "stream",
     "text": [
      "1\n",
      "2\n",
      "3\n"
     ]
    }
   ],
   "source": [
    "for i in range(1,4):\n",
    "    print(i)"
   ]
  },
  {
   "cell_type": "code",
   "execution_count": 146,
   "metadata": {},
   "outputs": [],
   "source": [
    "gymy = pd.DataFrame(zip(names, city, address,phone),columns=['names','city','address','phone'])"
   ]
  },
  {
   "cell_type": "code",
   "execution_count": 200,
   "metadata": {},
   "outputs": [],
   "source": [
    "def get_yellow_info(url):\n",
    "    #start chrome web driver\n",
    "    driver = webdriver.Chrome()\n",
    "    \n",
    "    #request html info\n",
    "    driver.get(url)\n",
    "    \n",
    "    #get everything from dynamic html\n",
    "    response = driver.execute_script(\"return document.documentElement.outerHTML\")\n",
    "    \n",
    "    #get soup\n",
    "    soup = BeautifulSoup(response,'lxml')\n",
    "    \n",
    "    #get names\n",
    "    names = soup.find_all('a', class_='companyName')\n",
    "    names = [names[x].text.split('\\n')[1].strip() for x in range(len(names))]\n",
    "    \n",
    "    #get city\n",
    "    city = soup.find_all('span', class_='city')\n",
    "    city = [city[x].text.strip() for x in range(len(city))]\n",
    "    \n",
    "    #get address\n",
    "    address = soup.find_all('span', class_='directionFig')\n",
    "    address = [address[x].text.strip() for x in range(len(address))]\n",
    "    \n",
    "    #get phone\n",
    "    phone = soup.find_all('span', class_='phoneFig')\n",
    "    phone = [phone[x].text.strip() for x in range(len(phone))]\n",
    "    \n",
    "    #get websites\n",
    "    web = soup.find_all('div', class_='url')\n",
    "    web = [web[x].text.strip() for x in range(len(web))]\n",
    "    \n",
    "    return [names, city, address,phone,web]"
   ]
  },
  {
   "cell_type": "code",
   "execution_count": 266,
   "metadata": {},
   "outputs": [],
   "source": [
    "def check_size(lista_retorno):\n",
    "    return print(len(lista_retorno[0]),len(lista_retorno[1]),len(lista_retorno[2]),len(lista_retorno[3]),len(lista_retorno[4]))"
   ]
  },
  {
   "cell_type": "code",
   "execution_count": 202,
   "metadata": {},
   "outputs": [],
   "source": [
    "test1 = get_yellow_info(url)"
   ]
  },
  {
   "cell_type": "code",
   "execution_count": 203,
   "metadata": {},
   "outputs": [
    {
     "name": "stdout",
     "output_type": "stream",
     "text": [
      "20 20 20 20 5\n"
     ]
    }
   ],
   "source": [
    "check_size(test1)"
   ]
  },
  {
   "cell_type": "code",
   "execution_count": 204,
   "metadata": {},
   "outputs": [],
   "source": [
    "paginas_web += test1[-1]"
   ]
  },
  {
   "cell_type": "code",
   "execution_count": 205,
   "metadata": {},
   "outputs": [],
   "source": [
    "gymy = pd.DataFrame(zip(test1[0], test1[1], test1[2],test1[3]),columns=['names','city','address','phone'])"
   ]
  },
  {
   "cell_type": "code",
   "execution_count": 208,
   "metadata": {},
   "outputs": [
    {
     "data": {
      "text/html": [
       "<div>\n",
       "<style scoped>\n",
       "    .dataframe tbody tr th:only-of-type {\n",
       "        vertical-align: middle;\n",
       "    }\n",
       "\n",
       "    .dataframe tbody tr th {\n",
       "        vertical-align: top;\n",
       "    }\n",
       "\n",
       "    .dataframe thead th {\n",
       "        text-align: right;\n",
       "    }\n",
       "</style>\n",
       "<table border=\"1\" class=\"dataframe\">\n",
       "  <thead>\n",
       "    <tr style=\"text-align: right;\">\n",
       "      <th></th>\n",
       "      <th>names</th>\n",
       "      <th>city</th>\n",
       "      <th>address</th>\n",
       "      <th>phone</th>\n",
       "    </tr>\n",
       "  </thead>\n",
       "  <tbody>\n",
       "    <tr>\n",
       "      <th>0</th>\n",
       "      <td>Full Contact Studio</td>\n",
       "      <td>Guatemala - Guatemala</td>\n",
       "      <td>2 C 10-06 Z-1</td>\n",
       "      <td>(+502) 2232 6575</td>\n",
       "    </tr>\n",
       "    <tr>\n",
       "      <th>1</th>\n",
       "      <td>Club Atletico Atenas</td>\n",
       "      <td>Guatemala - Guatemala</td>\n",
       "      <td>Diagonal 14. 22-06 Zona 5</td>\n",
       "      <td>(+502) 2335 3680</td>\n",
       "    </tr>\n",
       "    <tr>\n",
       "      <th>2</th>\n",
       "      <td>Le Petit Spa</td>\n",
       "      <td>Guatemala - Guatemala</td>\n",
       "      <td>Dg 6 14-86 Z 10</td>\n",
       "      <td>(+502) 2366 7508</td>\n",
       "    </tr>\n",
       "    <tr>\n",
       "      <th>3</th>\n",
       "      <td>Madiel Spa</td>\n",
       "      <td>Guatemala - Guatemala</td>\n",
       "      <td>Av las Americas 7-30 Z 13 Edif Real América L ...</td>\n",
       "      <td>(+502) 2360 5070</td>\n",
       "    </tr>\n",
       "    <tr>\n",
       "      <th>4</th>\n",
       "      <td>Armonia Colonial</td>\n",
       "      <td>Guatemala - Guatemala</td>\n",
       "      <td>Boulevard Principal 23 Calle 18-96 Zona 7 Cent...</td>\n",
       "      <td>(+502) 5632 6476</td>\n",
       "    </tr>\n",
       "    <tr>\n",
       "      <th>5</th>\n",
       "      <td>Fitness One</td>\n",
       "      <td>Guatemala - Guatemala</td>\n",
       "      <td>Boulevard Los Próceres 25-74 Zona 10</td>\n",
       "      <td>(+502) 2423 6000</td>\n",
       "    </tr>\n",
       "    <tr>\n",
       "      <th>6</th>\n",
       "      <td>Dr. Spa</td>\n",
       "      <td>Amatitlán - Guatemala</td>\n",
       "      <td>Kilómetro 29.5 Centro Comercial Flores del Lag...</td>\n",
       "      <td>(+502) 6632 9534</td>\n",
       "    </tr>\n",
       "    <tr>\n",
       "      <th>7</th>\n",
       "      <td>Zona Libre</td>\n",
       "      <td>Huehuetenango - Huehuetenango</td>\n",
       "      <td>2 Avenida A 1-53 zona 3 Huehuetenango</td>\n",
       "      <td>(+502) 4284 9059</td>\n",
       "    </tr>\n",
       "    <tr>\n",
       "      <th>8</th>\n",
       "      <td>Solaz Sauna Y Masaje</td>\n",
       "      <td>Jocotenango - Sacatepequez</td>\n",
       "      <td>Diagonal 1 Número 34 Zona 4 Jocotenango Sacate...</td>\n",
       "      <td>(+502) 5588 2533</td>\n",
       "    </tr>\n",
       "    <tr>\n",
       "      <th>9</th>\n",
       "      <td>Massage Spa</td>\n",
       "      <td>Guatemala - Guatemala</td>\n",
       "      <td>3 Calle 8-76 Zona 8 De Mixco Boulevard Princip...</td>\n",
       "      <td>(+502) 2480 7042</td>\n",
       "    </tr>\n",
       "    <tr>\n",
       "      <th>10</th>\n",
       "      <td>Squash Zone</td>\n",
       "      <td>Guatemala - Guatemala</td>\n",
       "      <td>10 Avenida 10-50 Zona 14</td>\n",
       "      <td>(+502) 5580 1015</td>\n",
       "    </tr>\n",
       "    <tr>\n",
       "      <th>11</th>\n",
       "      <td>Sforzo Gym</td>\n",
       "      <td>Guatemala - Guatemala</td>\n",
       "      <td>Calzada Roosevelt 12-25 Zona 11</td>\n",
       "      <td>(+502) 2440 2489</td>\n",
       "    </tr>\n",
       "    <tr>\n",
       "      <th>12</th>\n",
       "      <td>La Farfalla</td>\n",
       "      <td>Guatemala - Guatemala</td>\n",
       "      <td>Boulevard Principal 3 Calle 8-88 Zona 8 Mixco ...</td>\n",
       "      <td>(+502) 2322 3100</td>\n",
       "    </tr>\n",
       "    <tr>\n",
       "      <th>13</th>\n",
       "      <td>Nova Spa Estetico</td>\n",
       "      <td>Guatemala - Guatemala</td>\n",
       "      <td>Boulevar Los Proceres 25-74, zona 10 Guatemala</td>\n",
       "      <td>(+502) 4110 3089</td>\n",
       "    </tr>\n",
       "    <tr>\n",
       "      <th>14</th>\n",
       "      <td>San Silvestre Spa Sauna Y Jacuzzi</td>\n",
       "      <td>Guatemala - Guatemala</td>\n",
       "      <td>1 Av Cl A 4-64 Z 7 Almolonga Quetzaltenango</td>\n",
       "      <td>(+502) 7766 8587</td>\n",
       "    </tr>\n",
       "    <tr>\n",
       "      <th>15</th>\n",
       "      <td>Sporta Guatemala S.A.</td>\n",
       "      <td>Guatemala - Guatemala</td>\n",
       "      <td>KM 18.5 CARRET A EL SALVADOR</td>\n",
       "      <td>(+502) 6625 9100</td>\n",
       "    </tr>\n",
       "    <tr>\n",
       "      <th>16</th>\n",
       "      <td>Vmedical Spa</td>\n",
       "      <td>Guatemala - Guatemala</td>\n",
       "      <td>3 Cl A 8-38 Edif Renova Z 10 3 Nivel</td>\n",
       "      <td>(+502) 3006 3604</td>\n",
       "    </tr>\n",
       "    <tr>\n",
       "      <th>17</th>\n",
       "      <td>Fiore</td>\n",
       "      <td>Guatemala - Guatemala</td>\n",
       "      <td>Av Americas 9-55 Plaza Oro L 10</td>\n",
       "      <td>(+502) 2366 7166</td>\n",
       "    </tr>\n",
       "    <tr>\n",
       "      <th>18</th>\n",
       "      <td>Hostal Los Volcanes</td>\n",
       "      <td>Guatemala - Guatemala</td>\n",
       "      <td>16 Calle 8-00 Zona 13 Aurora 1</td>\n",
       "      <td>(+502) 2360 3232</td>\n",
       "    </tr>\n",
       "    <tr>\n",
       "      <th>19</th>\n",
       "      <td>Prodepsa Gimnasio</td>\n",
       "      <td>Guatemala - Guatemala</td>\n",
       "      <td>10 Av 10-50 Z 14 C.C. Plaza Futeca L 21</td>\n",
       "      <td>(+502) 2366 8054</td>\n",
       "    </tr>\n",
       "  </tbody>\n",
       "</table>\n",
       "</div>"
      ],
      "text/plain": [
       "                                names                           city  \\\n",
       "0                 Full Contact Studio          Guatemala - Guatemala   \n",
       "1                Club Atletico Atenas          Guatemala - Guatemala   \n",
       "2                        Le Petit Spa          Guatemala - Guatemala   \n",
       "3                          Madiel Spa          Guatemala - Guatemala   \n",
       "4                    Armonia Colonial          Guatemala - Guatemala   \n",
       "5                         Fitness One          Guatemala - Guatemala   \n",
       "6                             Dr. Spa          Amatitlán - Guatemala   \n",
       "7                          Zona Libre  Huehuetenango - Huehuetenango   \n",
       "8                Solaz Sauna Y Masaje     Jocotenango - Sacatepequez   \n",
       "9                         Massage Spa          Guatemala - Guatemala   \n",
       "10                        Squash Zone          Guatemala - Guatemala   \n",
       "11                         Sforzo Gym          Guatemala - Guatemala   \n",
       "12                        La Farfalla          Guatemala - Guatemala   \n",
       "13                  Nova Spa Estetico          Guatemala - Guatemala   \n",
       "14  San Silvestre Spa Sauna Y Jacuzzi          Guatemala - Guatemala   \n",
       "15              Sporta Guatemala S.A.          Guatemala - Guatemala   \n",
       "16                       Vmedical Spa          Guatemala - Guatemala   \n",
       "17                              Fiore          Guatemala - Guatemala   \n",
       "18                Hostal Los Volcanes          Guatemala - Guatemala   \n",
       "19                  Prodepsa Gimnasio          Guatemala - Guatemala   \n",
       "\n",
       "                                              address             phone  \n",
       "0                                       2 C 10-06 Z-1  (+502) 2232 6575  \n",
       "1                           Diagonal 14. 22-06 Zona 5  (+502) 2335 3680  \n",
       "2                                     Dg 6 14-86 Z 10  (+502) 2366 7508  \n",
       "3   Av las Americas 7-30 Z 13 Edif Real América L ...  (+502) 2360 5070  \n",
       "4   Boulevard Principal 23 Calle 18-96 Zona 7 Cent...  (+502) 5632 6476  \n",
       "5                Boulevard Los Próceres 25-74 Zona 10  (+502) 2423 6000  \n",
       "6   Kilómetro 29.5 Centro Comercial Flores del Lag...  (+502) 6632 9534  \n",
       "7               2 Avenida A 1-53 zona 3 Huehuetenango  (+502) 4284 9059  \n",
       "8   Diagonal 1 Número 34 Zona 4 Jocotenango Sacate...  (+502) 5588 2533  \n",
       "9   3 Calle 8-76 Zona 8 De Mixco Boulevard Princip...  (+502) 2480 7042  \n",
       "10                           10 Avenida 10-50 Zona 14  (+502) 5580 1015  \n",
       "11                    Calzada Roosevelt 12-25 Zona 11  (+502) 2440 2489  \n",
       "12  Boulevard Principal 3 Calle 8-88 Zona 8 Mixco ...  (+502) 2322 3100  \n",
       "13     Boulevar Los Proceres 25-74, zona 10 Guatemala  (+502) 4110 3089  \n",
       "14        1 Av Cl A 4-64 Z 7 Almolonga Quetzaltenango  (+502) 7766 8587  \n",
       "15                       KM 18.5 CARRET A EL SALVADOR  (+502) 6625 9100  \n",
       "16               3 Cl A 8-38 Edif Renova Z 10 3 Nivel  (+502) 3006 3604  \n",
       "17                    Av Americas 9-55 Plaza Oro L 10  (+502) 2366 7166  \n",
       "18                     16 Calle 8-00 Zona 13 Aurora 1  (+502) 2360 3232  \n",
       "19            10 Av 10-50 Z 14 C.C. Plaza Futeca L 21  (+502) 2366 8054  "
      ]
     },
     "execution_count": 208,
     "metadata": {},
     "output_type": "execute_result"
    }
   ],
   "source": [
    "gymy"
   ]
  },
  {
   "cell_type": "code",
   "execution_count": 206,
   "metadata": {},
   "outputs": [],
   "source": [
    "url2 = 'https://www.paginasamarillas.com.gt/servicios/gimnasios-de-educacion-fisica?page=2'"
   ]
  },
  {
   "cell_type": "code",
   "execution_count": 209,
   "metadata": {},
   "outputs": [],
   "source": [
    "test2 = get_yellow_info(url2)"
   ]
  },
  {
   "cell_type": "code",
   "execution_count": 210,
   "metadata": {},
   "outputs": [
    {
     "name": "stdout",
     "output_type": "stream",
     "text": [
      "20 20 20 19 2\n"
     ]
    }
   ],
   "source": [
    "check_size(test2)"
   ]
  },
  {
   "cell_type": "code",
   "execution_count": 211,
   "metadata": {},
   "outputs": [],
   "source": [
    "paginas_web += test2[-1]"
   ]
  },
  {
   "cell_type": "code",
   "execution_count": 216,
   "metadata": {},
   "outputs": [
    {
     "data": {
      "text/plain": [
       "16"
      ]
     },
     "execution_count": 216,
     "metadata": {},
     "output_type": "execute_result"
    }
   ],
   "source": [
    "test2[0].index('Evolution Gym')"
   ]
  },
  {
   "cell_type": "code",
   "execution_count": 217,
   "metadata": {},
   "outputs": [
    {
     "data": {
      "text/plain": [
       "'5a Cl - 8a Av'"
      ]
     },
     "execution_count": 217,
     "metadata": {},
     "output_type": "execute_result"
    }
   ],
   "source": [
    "test2[0].pop(16)\n",
    "test2[1].pop(16)\n",
    "test2[2].pop(16)\n"
   ]
  },
  {
   "cell_type": "code",
   "execution_count": 218,
   "metadata": {},
   "outputs": [
    {
     "name": "stdout",
     "output_type": "stream",
     "text": [
      "19 19 19 19 2\n"
     ]
    }
   ],
   "source": [
    "check_size(test2)"
   ]
  },
  {
   "cell_type": "code",
   "execution_count": 220,
   "metadata": {},
   "outputs": [],
   "source": [
    "df = pd.DataFrame(zip(test2[0], test2[1], test2[2],test2[3]),columns=['names','city','address','phone'])"
   ]
  },
  {
   "cell_type": "code",
   "execution_count": 222,
   "metadata": {},
   "outputs": [],
   "source": [
    "gymy = pd.concat([gymy,df], ignore_index=True)"
   ]
  },
  {
   "cell_type": "code",
   "execution_count": 223,
   "metadata": {},
   "outputs": [],
   "source": [
    "url = 'https://www.paginasamarillas.com.gt/servicios/gimnasios-de-educacion-fisica?page=3'"
   ]
  },
  {
   "cell_type": "code",
   "execution_count": 224,
   "metadata": {},
   "outputs": [],
   "source": [
    "info = get_yellow_info(url)"
   ]
  },
  {
   "cell_type": "code",
   "execution_count": 225,
   "metadata": {},
   "outputs": [
    {
     "name": "stdout",
     "output_type": "stream",
     "text": [
      "2 2 2 2 0\n"
     ]
    }
   ],
   "source": [
    "check_size(info)"
   ]
  },
  {
   "cell_type": "code",
   "execution_count": 226,
   "metadata": {},
   "outputs": [],
   "source": [
    "paginas_web += info[-1]"
   ]
  },
  {
   "cell_type": "code",
   "execution_count": 227,
   "metadata": {},
   "outputs": [],
   "source": [
    "df = pd.DataFrame(zip(info[0], info[1], info[2],info[3]),columns=['names','city','address','phone'])"
   ]
  },
  {
   "cell_type": "code",
   "execution_count": 228,
   "metadata": {},
   "outputs": [
    {
     "data": {
      "text/plain": [
       "(39, 4)"
      ]
     },
     "execution_count": 228,
     "metadata": {},
     "output_type": "execute_result"
    }
   ],
   "source": [
    "gymy.shape"
   ]
  },
  {
   "cell_type": "code",
   "execution_count": 229,
   "metadata": {},
   "outputs": [],
   "source": [
    "gymy = pd.concat([gymy,df], ignore_index=True)"
   ]
  },
  {
   "cell_type": "code",
   "execution_count": 230,
   "metadata": {},
   "outputs": [
    {
     "data": {
      "text/plain": [
       "(41, 4)"
      ]
     },
     "execution_count": 230,
     "metadata": {},
     "output_type": "execute_result"
    }
   ],
   "source": [
    "gymy.shape"
   ]
  },
  {
   "cell_type": "code",
   "execution_count": 232,
   "metadata": {},
   "outputs": [],
   "source": [
    "gymy['categoria'] = 'Gimnasios de Educación Física'"
   ]
  },
  {
   "cell_type": "code",
   "execution_count": 234,
   "metadata": {},
   "outputs": [
    {
     "data": {
      "text/html": [
       "<div>\n",
       "<style scoped>\n",
       "    .dataframe tbody tr th:only-of-type {\n",
       "        vertical-align: middle;\n",
       "    }\n",
       "\n",
       "    .dataframe tbody tr th {\n",
       "        vertical-align: top;\n",
       "    }\n",
       "\n",
       "    .dataframe thead th {\n",
       "        text-align: right;\n",
       "    }\n",
       "</style>\n",
       "<table border=\"1\" class=\"dataframe\">\n",
       "  <thead>\n",
       "    <tr style=\"text-align: right;\">\n",
       "      <th></th>\n",
       "      <th>names</th>\n",
       "      <th>city</th>\n",
       "      <th>address</th>\n",
       "      <th>phone</th>\n",
       "      <th>categoria</th>\n",
       "    </tr>\n",
       "  </thead>\n",
       "  <tbody>\n",
       "    <tr>\n",
       "      <th>0</th>\n",
       "      <td>Full Contact Studio</td>\n",
       "      <td>Guatemala - Guatemala</td>\n",
       "      <td>2 C 10-06 Z-1</td>\n",
       "      <td>(+502) 2232 6575</td>\n",
       "      <td>Gimnasios de Educación Física</td>\n",
       "    </tr>\n",
       "    <tr>\n",
       "      <th>1</th>\n",
       "      <td>Club Atletico Atenas</td>\n",
       "      <td>Guatemala - Guatemala</td>\n",
       "      <td>Diagonal 14. 22-06 Zona 5</td>\n",
       "      <td>(+502) 2335 3680</td>\n",
       "      <td>Gimnasios de Educación Física</td>\n",
       "    </tr>\n",
       "    <tr>\n",
       "      <th>2</th>\n",
       "      <td>Le Petit Spa</td>\n",
       "      <td>Guatemala - Guatemala</td>\n",
       "      <td>Dg 6 14-86 Z 10</td>\n",
       "      <td>(+502) 2366 7508</td>\n",
       "      <td>Gimnasios de Educación Física</td>\n",
       "    </tr>\n",
       "    <tr>\n",
       "      <th>3</th>\n",
       "      <td>Madiel Spa</td>\n",
       "      <td>Guatemala - Guatemala</td>\n",
       "      <td>Av las Americas 7-30 Z 13 Edif Real América L ...</td>\n",
       "      <td>(+502) 2360 5070</td>\n",
       "      <td>Gimnasios de Educación Física</td>\n",
       "    </tr>\n",
       "    <tr>\n",
       "      <th>4</th>\n",
       "      <td>Armonia Colonial</td>\n",
       "      <td>Guatemala - Guatemala</td>\n",
       "      <td>Boulevard Principal 23 Calle 18-96 Zona 7 Cent...</td>\n",
       "      <td>(+502) 5632 6476</td>\n",
       "      <td>Gimnasios de Educación Física</td>\n",
       "    </tr>\n",
       "  </tbody>\n",
       "</table>\n",
       "</div>"
      ],
      "text/plain": [
       "                  names                   city  \\\n",
       "0   Full Contact Studio  Guatemala - Guatemala   \n",
       "1  Club Atletico Atenas  Guatemala - Guatemala   \n",
       "2          Le Petit Spa  Guatemala - Guatemala   \n",
       "3            Madiel Spa  Guatemala - Guatemala   \n",
       "4      Armonia Colonial  Guatemala - Guatemala   \n",
       "\n",
       "                                             address             phone  \\\n",
       "0                                      2 C 10-06 Z-1  (+502) 2232 6575   \n",
       "1                          Diagonal 14. 22-06 Zona 5  (+502) 2335 3680   \n",
       "2                                    Dg 6 14-86 Z 10  (+502) 2366 7508   \n",
       "3  Av las Americas 7-30 Z 13 Edif Real América L ...  (+502) 2360 5070   \n",
       "4  Boulevard Principal 23 Calle 18-96 Zona 7 Cent...  (+502) 5632 6476   \n",
       "\n",
       "                       categoria  \n",
       "0  Gimnasios de Educación Física  \n",
       "1  Gimnasios de Educación Física  \n",
       "2  Gimnasios de Educación Física  \n",
       "3  Gimnasios de Educación Física  \n",
       "4  Gimnasios de Educación Física  "
      ]
     },
     "execution_count": 234,
     "metadata": {},
     "output_type": "execute_result"
    }
   ],
   "source": [
    "gymy.head()"
   ]
  },
  {
   "cell_type": "code",
   "execution_count": 235,
   "metadata": {},
   "outputs": [],
   "source": [
    "url = 'https://www.paginasamarillas.com.gt/servicios/federaciones-deportivas'"
   ]
  },
  {
   "cell_type": "code",
   "execution_count": 236,
   "metadata": {},
   "outputs": [],
   "source": [
    "info = get_yellow_info(url)"
   ]
  },
  {
   "cell_type": "code",
   "execution_count": 237,
   "metadata": {},
   "outputs": [
    {
     "name": "stdout",
     "output_type": "stream",
     "text": [
      "12 12 12 12 1\n"
     ]
    }
   ],
   "source": [
    "check_size(info)"
   ]
  },
  {
   "cell_type": "code",
   "execution_count": 238,
   "metadata": {},
   "outputs": [],
   "source": [
    "paginas_web += info[-1]"
   ]
  },
  {
   "cell_type": "code",
   "execution_count": 239,
   "metadata": {},
   "outputs": [],
   "source": [
    "df = pd.DataFrame(zip(info[0], info[1], info[2],info[3]),columns=['names','city','address','phone'])"
   ]
  },
  {
   "cell_type": "code",
   "execution_count": 241,
   "metadata": {},
   "outputs": [],
   "source": [
    "df['categoria'] = 'Federaciones Deportivas'"
   ]
  },
  {
   "cell_type": "code",
   "execution_count": 242,
   "metadata": {},
   "outputs": [],
   "source": [
    "gymy = pd.concat([gymy,df], ignore_index=True)"
   ]
  },
  {
   "cell_type": "code",
   "execution_count": 243,
   "metadata": {},
   "outputs": [
    {
     "data": {
      "text/html": [
       "<div>\n",
       "<style scoped>\n",
       "    .dataframe tbody tr th:only-of-type {\n",
       "        vertical-align: middle;\n",
       "    }\n",
       "\n",
       "    .dataframe tbody tr th {\n",
       "        vertical-align: top;\n",
       "    }\n",
       "\n",
       "    .dataframe thead th {\n",
       "        text-align: right;\n",
       "    }\n",
       "</style>\n",
       "<table border=\"1\" class=\"dataframe\">\n",
       "  <thead>\n",
       "    <tr style=\"text-align: right;\">\n",
       "      <th></th>\n",
       "      <th>names</th>\n",
       "      <th>city</th>\n",
       "      <th>address</th>\n",
       "      <th>phone</th>\n",
       "      <th>categoria</th>\n",
       "    </tr>\n",
       "  </thead>\n",
       "  <tbody>\n",
       "    <tr>\n",
       "      <th>0</th>\n",
       "      <td>Full Contact Studio</td>\n",
       "      <td>Guatemala - Guatemala</td>\n",
       "      <td>2 C 10-06 Z-1</td>\n",
       "      <td>(+502) 2232 6575</td>\n",
       "      <td>Gimnasios de Educación Física</td>\n",
       "    </tr>\n",
       "    <tr>\n",
       "      <th>1</th>\n",
       "      <td>Club Atletico Atenas</td>\n",
       "      <td>Guatemala - Guatemala</td>\n",
       "      <td>Diagonal 14. 22-06 Zona 5</td>\n",
       "      <td>(+502) 2335 3680</td>\n",
       "      <td>Gimnasios de Educación Física</td>\n",
       "    </tr>\n",
       "    <tr>\n",
       "      <th>2</th>\n",
       "      <td>Le Petit Spa</td>\n",
       "      <td>Guatemala - Guatemala</td>\n",
       "      <td>Dg 6 14-86 Z 10</td>\n",
       "      <td>(+502) 2366 7508</td>\n",
       "      <td>Gimnasios de Educación Física</td>\n",
       "    </tr>\n",
       "    <tr>\n",
       "      <th>3</th>\n",
       "      <td>Madiel Spa</td>\n",
       "      <td>Guatemala - Guatemala</td>\n",
       "      <td>Av las Americas 7-30 Z 13 Edif Real América L ...</td>\n",
       "      <td>(+502) 2360 5070</td>\n",
       "      <td>Gimnasios de Educación Física</td>\n",
       "    </tr>\n",
       "    <tr>\n",
       "      <th>4</th>\n",
       "      <td>Armonia Colonial</td>\n",
       "      <td>Guatemala - Guatemala</td>\n",
       "      <td>Boulevard Principal 23 Calle 18-96 Zona 7 Cent...</td>\n",
       "      <td>(+502) 5632 6476</td>\n",
       "      <td>Gimnasios de Educación Física</td>\n",
       "    </tr>\n",
       "    <tr>\n",
       "      <th>5</th>\n",
       "      <td>Fitness One</td>\n",
       "      <td>Guatemala - Guatemala</td>\n",
       "      <td>Boulevard Los Próceres 25-74 Zona 10</td>\n",
       "      <td>(+502) 2423 6000</td>\n",
       "      <td>Gimnasios de Educación Física</td>\n",
       "    </tr>\n",
       "    <tr>\n",
       "      <th>6</th>\n",
       "      <td>Dr. Spa</td>\n",
       "      <td>Amatitlán - Guatemala</td>\n",
       "      <td>Kilómetro 29.5 Centro Comercial Flores del Lag...</td>\n",
       "      <td>(+502) 6632 9534</td>\n",
       "      <td>Gimnasios de Educación Física</td>\n",
       "    </tr>\n",
       "    <tr>\n",
       "      <th>7</th>\n",
       "      <td>Zona Libre</td>\n",
       "      <td>Huehuetenango - Huehuetenango</td>\n",
       "      <td>2 Avenida A 1-53 zona 3 Huehuetenango</td>\n",
       "      <td>(+502) 4284 9059</td>\n",
       "      <td>Gimnasios de Educación Física</td>\n",
       "    </tr>\n",
       "    <tr>\n",
       "      <th>8</th>\n",
       "      <td>Solaz Sauna Y Masaje</td>\n",
       "      <td>Jocotenango - Sacatepequez</td>\n",
       "      <td>Diagonal 1 Número 34 Zona 4 Jocotenango Sacate...</td>\n",
       "      <td>(+502) 5588 2533</td>\n",
       "      <td>Gimnasios de Educación Física</td>\n",
       "    </tr>\n",
       "    <tr>\n",
       "      <th>9</th>\n",
       "      <td>Massage Spa</td>\n",
       "      <td>Guatemala - Guatemala</td>\n",
       "      <td>3 Calle 8-76 Zona 8 De Mixco Boulevard Princip...</td>\n",
       "      <td>(+502) 2480 7042</td>\n",
       "      <td>Gimnasios de Educación Física</td>\n",
       "    </tr>\n",
       "    <tr>\n",
       "      <th>10</th>\n",
       "      <td>Squash Zone</td>\n",
       "      <td>Guatemala - Guatemala</td>\n",
       "      <td>10 Avenida 10-50 Zona 14</td>\n",
       "      <td>(+502) 5580 1015</td>\n",
       "      <td>Gimnasios de Educación Física</td>\n",
       "    </tr>\n",
       "    <tr>\n",
       "      <th>11</th>\n",
       "      <td>Sforzo Gym</td>\n",
       "      <td>Guatemala - Guatemala</td>\n",
       "      <td>Calzada Roosevelt 12-25 Zona 11</td>\n",
       "      <td>(+502) 2440 2489</td>\n",
       "      <td>Gimnasios de Educación Física</td>\n",
       "    </tr>\n",
       "    <tr>\n",
       "      <th>12</th>\n",
       "      <td>La Farfalla</td>\n",
       "      <td>Guatemala - Guatemala</td>\n",
       "      <td>Boulevard Principal 3 Calle 8-88 Zona 8 Mixco ...</td>\n",
       "      <td>(+502) 2322 3100</td>\n",
       "      <td>Gimnasios de Educación Física</td>\n",
       "    </tr>\n",
       "    <tr>\n",
       "      <th>13</th>\n",
       "      <td>Nova Spa Estetico</td>\n",
       "      <td>Guatemala - Guatemala</td>\n",
       "      <td>Boulevar Los Proceres 25-74, zona 10 Guatemala</td>\n",
       "      <td>(+502) 4110 3089</td>\n",
       "      <td>Gimnasios de Educación Física</td>\n",
       "    </tr>\n",
       "    <tr>\n",
       "      <th>14</th>\n",
       "      <td>San Silvestre Spa Sauna Y Jacuzzi</td>\n",
       "      <td>Guatemala - Guatemala</td>\n",
       "      <td>1 Av Cl A 4-64 Z 7 Almolonga Quetzaltenango</td>\n",
       "      <td>(+502) 7766 8587</td>\n",
       "      <td>Gimnasios de Educación Física</td>\n",
       "    </tr>\n",
       "    <tr>\n",
       "      <th>15</th>\n",
       "      <td>Sporta Guatemala S.A.</td>\n",
       "      <td>Guatemala - Guatemala</td>\n",
       "      <td>KM 18.5 CARRET A EL SALVADOR</td>\n",
       "      <td>(+502) 6625 9100</td>\n",
       "      <td>Gimnasios de Educación Física</td>\n",
       "    </tr>\n",
       "    <tr>\n",
       "      <th>16</th>\n",
       "      <td>Vmedical Spa</td>\n",
       "      <td>Guatemala - Guatemala</td>\n",
       "      <td>3 Cl A 8-38 Edif Renova Z 10 3 Nivel</td>\n",
       "      <td>(+502) 3006 3604</td>\n",
       "      <td>Gimnasios de Educación Física</td>\n",
       "    </tr>\n",
       "    <tr>\n",
       "      <th>17</th>\n",
       "      <td>Fiore</td>\n",
       "      <td>Guatemala - Guatemala</td>\n",
       "      <td>Av Americas 9-55 Plaza Oro L 10</td>\n",
       "      <td>(+502) 2366 7166</td>\n",
       "      <td>Gimnasios de Educación Física</td>\n",
       "    </tr>\n",
       "    <tr>\n",
       "      <th>18</th>\n",
       "      <td>Hostal Los Volcanes</td>\n",
       "      <td>Guatemala - Guatemala</td>\n",
       "      <td>16 Calle 8-00 Zona 13 Aurora 1</td>\n",
       "      <td>(+502) 2360 3232</td>\n",
       "      <td>Gimnasios de Educación Física</td>\n",
       "    </tr>\n",
       "    <tr>\n",
       "      <th>19</th>\n",
       "      <td>Prodepsa Gimnasio</td>\n",
       "      <td>Guatemala - Guatemala</td>\n",
       "      <td>10 Av 10-50 Z 14 C.C. Plaza Futeca L 21</td>\n",
       "      <td>(+502) 2366 8054</td>\n",
       "      <td>Gimnasios de Educación Física</td>\n",
       "    </tr>\n",
       "    <tr>\n",
       "      <th>20</th>\n",
       "      <td>San Gregorio Hotel Y Spa</td>\n",
       "      <td>Guatemala - Guatemala</td>\n",
       "      <td>Km 30.5 Carrt A Santa Elena Barillas Lt 50 Lot...</td>\n",
       "      <td>(+502) 6634 3666</td>\n",
       "      <td>Gimnasios de Educación Física</td>\n",
       "    </tr>\n",
       "    <tr>\n",
       "      <th>21</th>\n",
       "      <td>World Gym (San Cristobal)</td>\n",
       "      <td>Guatemala - Guatemala</td>\n",
       "      <td>3a Cl 62-72 Sector A 3 Boulevar San Cristobal ...</td>\n",
       "      <td>(+502) 2423 6000</td>\n",
       "      <td>Gimnasios de Educación Física</td>\n",
       "    </tr>\n",
       "    <tr>\n",
       "      <th>22</th>\n",
       "      <td>Carla S Salón &amp; Day Spa</td>\n",
       "      <td>Guatemala - Guatemala</td>\n",
       "      <td>Av 21 A 0-97 Z 15 Vista Hermosa 2</td>\n",
       "      <td>(+502) 2365 7944</td>\n",
       "      <td>Gimnasios de Educación Física</td>\n",
       "    </tr>\n",
       "    <tr>\n",
       "      <th>23</th>\n",
       "      <td>Beauty Clinic Salon Y Day Spa</td>\n",
       "      <td>Guatemala - Guatemala</td>\n",
       "      <td>Av 21 9-05 Z 11 Mirador 1</td>\n",
       "      <td>(+502) 2474 3609</td>\n",
       "      <td>Gimnasios de Educación Física</td>\n",
       "    </tr>\n",
       "    <tr>\n",
       "      <th>24</th>\n",
       "      <td>Cy Sport</td>\n",
       "      <td>Guatemala - Guatemala</td>\n",
       "      <td>5 Cl Z 6 V. Nueva Czda Concepcion Plz Villa Nueva</td>\n",
       "      <td>(+502) 6636 6452</td>\n",
       "      <td>Gimnasios de Educación Física</td>\n",
       "    </tr>\n",
       "    <tr>\n",
       "      <th>25</th>\n",
       "      <td>Fut Y Pub</td>\n",
       "      <td>Quetzaltenango - Quetzaltenango</td>\n",
       "      <td>C.C. Las Americas Int. Profutbol Xela 8 Calle ...</td>\n",
       "      <td>(+502) 7763 5077</td>\n",
       "      <td>Gimnasios de Educación Física</td>\n",
       "    </tr>\n",
       "    <tr>\n",
       "      <th>26</th>\n",
       "      <td>Icom Hitech</td>\n",
       "      <td>Guatemala - Guatemala</td>\n",
       "      <td>C.C. Gran Via Local 01 Zona 07</td>\n",
       "      <td>(+502) 2475 2508</td>\n",
       "      <td>Gimnasios de Educación Física</td>\n",
       "    </tr>\n",
       "    <tr>\n",
       "      <th>27</th>\n",
       "      <td>Libreria Y P.A.P. Oscar De León P.A.L.A. No. 5</td>\n",
       "      <td>Guatemala - Guatemala</td>\n",
       "      <td>7 Avenida 9-35 Zona 1</td>\n",
       "      <td>(+502) 2232 5060</td>\n",
       "      <td>Gimnasios de Educación Física</td>\n",
       "    </tr>\n",
       "    <tr>\n",
       "      <th>28</th>\n",
       "      <td>Pet Shop Don Diego</td>\n",
       "      <td>Guatemala - Guatemala</td>\n",
       "      <td>Manzana 2 Lote 8A San Rafael Buenavista Zona 18</td>\n",
       "      <td>(+502) 2242 6645</td>\n",
       "      <td>Gimnasios de Educación Física</td>\n",
       "    </tr>\n",
       "    <tr>\n",
       "      <th>29</th>\n",
       "      <td>Serviicasa</td>\n",
       "      <td>Escuintla - Escuintla</td>\n",
       "      <td>4 Av. 3-44 Zona 1</td>\n",
       "      <td>(+502) 7889 2196</td>\n",
       "      <td>Gimnasios de Educación Física</td>\n",
       "    </tr>\n",
       "    <tr>\n",
       "      <th>30</th>\n",
       "      <td>Wirenet (Quetzaltenango)</td>\n",
       "      <td>Quetzaltenango - Quetzaltenango</td>\n",
       "      <td>29 Av. 8 A-26 Zona 7 Quetzaltenango</td>\n",
       "      <td>(+502) 7763 7474</td>\n",
       "      <td>Gimnasios de Educación Física</td>\n",
       "    </tr>\n",
       "    <tr>\n",
       "      <th>31</th>\n",
       "      <td>Accounting Auditores &amp; Consultores, S.A.</td>\n",
       "      <td>Guatemala - Guatemala</td>\n",
       "      <td>Diagonal 6, 16-21 Zona 10 Guatemala</td>\n",
       "      <td>(+502) 2366 7342</td>\n",
       "      <td>Gimnasios de Educación Física</td>\n",
       "    </tr>\n",
       "    <tr>\n",
       "      <th>32</th>\n",
       "      <td>Alive Smart Fitness</td>\n",
       "      <td>Guatemala - Guatemala</td>\n",
       "      <td>Dg 6 12-42 Zona 10 Design Center L 211</td>\n",
       "      <td>(+502) 2206 8000</td>\n",
       "      <td>Gimnasios de Educación Física</td>\n",
       "    </tr>\n",
       "    <tr>\n",
       "      <th>33</th>\n",
       "      <td>Escuela Manejarte</td>\n",
       "      <td>Guatemala - Guatemala</td>\n",
       "      <td>Aguilar Batres 37-95 Local 5 y 6 Plaza Solana ...</td>\n",
       "      <td>(+502) 2476 9841</td>\n",
       "      <td>Gimnasios de Educación Física</td>\n",
       "    </tr>\n",
       "    <tr>\n",
       "      <th>34</th>\n",
       "      <td>Lainfiesta Godoy S.A.</td>\n",
       "      <td>Guatemala - Guatemala</td>\n",
       "      <td>Aguilar Batres 37-95 Local 5 y 6 Plaza Solana ...</td>\n",
       "      <td>(+502) 2476 9841</td>\n",
       "      <td>Gimnasios de Educación Física</td>\n",
       "    </tr>\n",
       "    <tr>\n",
       "      <th>35</th>\n",
       "      <td>Sistemas Litográficos</td>\n",
       "      <td>Guatemala - Guatemala</td>\n",
       "      <td>Aguilar Batres 37-95 Local 5 y 6 Plaza Solana ...</td>\n",
       "      <td>(+502) 2476 9841</td>\n",
       "      <td>Gimnasios de Educación Física</td>\n",
       "    </tr>\n",
       "    <tr>\n",
       "      <th>36</th>\n",
       "      <td>Salud Y Belleza Integral</td>\n",
       "      <td>Guatemala - Guatemala</td>\n",
       "      <td>15 Calle 1-11 Edificio Terra Esperanza Nivel 1...</td>\n",
       "      <td>(+502) 2300 0510</td>\n",
       "      <td>Gimnasios de Educación Física</td>\n",
       "    </tr>\n",
       "    <tr>\n",
       "      <th>37</th>\n",
       "      <td>Renueva Tu Figura Hoy</td>\n",
       "      <td>Guatemala - Guatemala</td>\n",
       "      <td>8 Avenida 40-59 Zona 8</td>\n",
       "      <td>(+502) 4207 8637</td>\n",
       "      <td>Gimnasios de Educación Física</td>\n",
       "    </tr>\n",
       "    <tr>\n",
       "      <th>38</th>\n",
       "      <td>Gimnasio Mega Gym</td>\n",
       "      <td>San Marcos - San Marcos</td>\n",
       "      <td>3 Av Zona 1 Cantón Pueblo Nuevo Pajapita</td>\n",
       "      <td>(+502) 4837 4071</td>\n",
       "      <td>Gimnasios de Educación Física</td>\n",
       "    </tr>\n",
       "    <tr>\n",
       "      <th>39</th>\n",
       "      <td>Monkey Business Calisthenics</td>\n",
       "      <td>Guatemala - Guatemala</td>\n",
       "      <td>5 Av 5-55 Z 14</td>\n",
       "      <td>(+502) 2366 5759</td>\n",
       "      <td>Gimnasios de Educación Física</td>\n",
       "    </tr>\n",
       "    <tr>\n",
       "      <th>40</th>\n",
       "      <td>Golden Clinic</td>\n",
       "      <td>Guatemala - Guatemala</td>\n",
       "      <td>9a Cl 24-38, Zna 7 Plaza Castilla 2do. Nivel</td>\n",
       "      <td>(+502) 3526 5337</td>\n",
       "      <td>Gimnasios de Educación Física</td>\n",
       "    </tr>\n",
       "    <tr>\n",
       "      <th>41</th>\n",
       "      <td>Asociación De Pentatlon Moderno</td>\n",
       "      <td>Guatemala - Guatemala</td>\n",
       "      <td>3A Cl 16-15 Zona 15</td>\n",
       "      <td>(+502) 2369 4468</td>\n",
       "      <td>Federaciones Deportivas</td>\n",
       "    </tr>\n",
       "    <tr>\n",
       "      <th>42</th>\n",
       "      <td>Comite Olimpico Guatemalteco</td>\n",
       "      <td>Guatemala - Guatemala</td>\n",
       "      <td>10 Cl 2-28 Zona 9</td>\n",
       "      <td>(+502) 2223 9500</td>\n",
       "      <td>Federaciones Deportivas</td>\n",
       "    </tr>\n",
       "    <tr>\n",
       "      <th>43</th>\n",
       "      <td>Federación Nacional De Beisbol</td>\n",
       "      <td>Guatemala - Guatemala</td>\n",
       "      <td>Av Simeon Cañas Final Zona 2</td>\n",
       "      <td>(+502) 2254 1119</td>\n",
       "      <td>Federaciones Deportivas</td>\n",
       "    </tr>\n",
       "    <tr>\n",
       "      <th>44</th>\n",
       "      <td>Federación Nacional De Boxeo De Guatemala</td>\n",
       "      <td>Guatemala - Guatemala</td>\n",
       "      <td>24 Cl Palacio De Los Deportes 9-31 Zona 4</td>\n",
       "      <td>(+502) 2361 8263</td>\n",
       "      <td>Federaciones Deportivas</td>\n",
       "    </tr>\n",
       "    <tr>\n",
       "      <th>45</th>\n",
       "      <td>Federación Nacional De Esgrima C.D.A.G.</td>\n",
       "      <td>Guatemala - Guatemala</td>\n",
       "      <td>12 Av 25 Cl Zona 5</td>\n",
       "      <td>(+502) 2331 2680</td>\n",
       "      <td>Federaciones Deportivas</td>\n",
       "    </tr>\n",
       "    <tr>\n",
       "      <th>46</th>\n",
       "      <td>Federación Nacional De Remo Y Canotaje De Guat...</td>\n",
       "      <td>Guatemala - Guatemala</td>\n",
       "      <td>26 Cl 9-31 Zona 5</td>\n",
       "      <td>(+502) 2339 3376</td>\n",
       "      <td>Federaciones Deportivas</td>\n",
       "    </tr>\n",
       "    <tr>\n",
       "      <th>47</th>\n",
       "      <td>Federación Nacional De Voleibol</td>\n",
       "      <td>Guatemala - Guatemala</td>\n",
       "      <td>Gimnacio 7 De Diciembre Zona 5</td>\n",
       "      <td>(+502) 2434 4006</td>\n",
       "      <td>Federaciones Deportivas</td>\n",
       "    </tr>\n",
       "    <tr>\n",
       "      <th>48</th>\n",
       "      <td>Direccion General De Educacion Fisica</td>\n",
       "      <td>Guatemala - Guatemala</td>\n",
       "      <td>32 Cl 9-10 Zona 11</td>\n",
       "      <td>(+502) 2422 6800</td>\n",
       "      <td>Federaciones Deportivas</td>\n",
       "    </tr>\n",
       "    <tr>\n",
       "      <th>49</th>\n",
       "      <td>Federacion Nacional De Futbol</td>\n",
       "      <td>Guatemala - Guatemala</td>\n",
       "      <td>2 Cl 15-57 Zona 15</td>\n",
       "      <td>(+502) 2422 7777</td>\n",
       "      <td>Federaciones Deportivas</td>\n",
       "    </tr>\n",
       "    <tr>\n",
       "      <th>50</th>\n",
       "      <td>Federacion Nacional De Ciclismo De Guatemala</td>\n",
       "      <td>Guatemala - Guatemala</td>\n",
       "      <td>26 Cl 9-31 Z.5</td>\n",
       "      <td>(+502) 2332 3979</td>\n",
       "      <td>Federaciones Deportivas</td>\n",
       "    </tr>\n",
       "    <tr>\n",
       "      <th>51</th>\n",
       "      <td>Federación Nacional De Balonmano</td>\n",
       "      <td>Guatemala - Guatemala</td>\n",
       "      <td>Av 14 18-13 Zona 13</td>\n",
       "      <td>(+502) 2493 4200</td>\n",
       "      <td>Federaciones Deportivas</td>\n",
       "    </tr>\n",
       "    <tr>\n",
       "      <th>52</th>\n",
       "      <td>Federacion Nacional De Baloncesto</td>\n",
       "      <td>Guatemala - Guatemala</td>\n",
       "      <td>Gimnasio Nacional Teodoro Palacios Flores Z.5</td>\n",
       "      <td>(+502) 2361 9851</td>\n",
       "      <td>Federaciones Deportivas</td>\n",
       "    </tr>\n",
       "  </tbody>\n",
       "</table>\n",
       "</div>"
      ],
      "text/plain": [
       "                                                names  \\\n",
       "0                                 Full Contact Studio   \n",
       "1                                Club Atletico Atenas   \n",
       "2                                        Le Petit Spa   \n",
       "3                                          Madiel Spa   \n",
       "4                                    Armonia Colonial   \n",
       "5                                         Fitness One   \n",
       "6                                             Dr. Spa   \n",
       "7                                          Zona Libre   \n",
       "8                                Solaz Sauna Y Masaje   \n",
       "9                                         Massage Spa   \n",
       "10                                        Squash Zone   \n",
       "11                                         Sforzo Gym   \n",
       "12                                        La Farfalla   \n",
       "13                                  Nova Spa Estetico   \n",
       "14                  San Silvestre Spa Sauna Y Jacuzzi   \n",
       "15                              Sporta Guatemala S.A.   \n",
       "16                                       Vmedical Spa   \n",
       "17                                              Fiore   \n",
       "18                                Hostal Los Volcanes   \n",
       "19                                  Prodepsa Gimnasio   \n",
       "20                           San Gregorio Hotel Y Spa   \n",
       "21                          World Gym (San Cristobal)   \n",
       "22                            Carla S Salón & Day Spa   \n",
       "23                      Beauty Clinic Salon Y Day Spa   \n",
       "24                                           Cy Sport   \n",
       "25                                          Fut Y Pub   \n",
       "26                                        Icom Hitech   \n",
       "27     Libreria Y P.A.P. Oscar De León P.A.L.A. No. 5   \n",
       "28                                 Pet Shop Don Diego   \n",
       "29                                         Serviicasa   \n",
       "30                           Wirenet (Quetzaltenango)   \n",
       "31           Accounting Auditores & Consultores, S.A.   \n",
       "32                                Alive Smart Fitness   \n",
       "33                                  Escuela Manejarte   \n",
       "34                              Lainfiesta Godoy S.A.   \n",
       "35                              Sistemas Litográficos   \n",
       "36                           Salud Y Belleza Integral   \n",
       "37                              Renueva Tu Figura Hoy   \n",
       "38                                  Gimnasio Mega Gym   \n",
       "39                       Monkey Business Calisthenics   \n",
       "40                                      Golden Clinic   \n",
       "41                    Asociación De Pentatlon Moderno   \n",
       "42                       Comite Olimpico Guatemalteco   \n",
       "43                     Federación Nacional De Beisbol   \n",
       "44          Federación Nacional De Boxeo De Guatemala   \n",
       "45            Federación Nacional De Esgrima C.D.A.G.   \n",
       "46  Federación Nacional De Remo Y Canotaje De Guat...   \n",
       "47                    Federación Nacional De Voleibol   \n",
       "48              Direccion General De Educacion Fisica   \n",
       "49                      Federacion Nacional De Futbol   \n",
       "50       Federacion Nacional De Ciclismo De Guatemala   \n",
       "51                   Federación Nacional De Balonmano   \n",
       "52                  Federacion Nacional De Baloncesto   \n",
       "\n",
       "                               city  \\\n",
       "0             Guatemala - Guatemala   \n",
       "1             Guatemala - Guatemala   \n",
       "2             Guatemala - Guatemala   \n",
       "3             Guatemala - Guatemala   \n",
       "4             Guatemala - Guatemala   \n",
       "5             Guatemala - Guatemala   \n",
       "6             Amatitlán - Guatemala   \n",
       "7     Huehuetenango - Huehuetenango   \n",
       "8        Jocotenango - Sacatepequez   \n",
       "9             Guatemala - Guatemala   \n",
       "10            Guatemala - Guatemala   \n",
       "11            Guatemala - Guatemala   \n",
       "12            Guatemala - Guatemala   \n",
       "13            Guatemala - Guatemala   \n",
       "14            Guatemala - Guatemala   \n",
       "15            Guatemala - Guatemala   \n",
       "16            Guatemala - Guatemala   \n",
       "17            Guatemala - Guatemala   \n",
       "18            Guatemala - Guatemala   \n",
       "19            Guatemala - Guatemala   \n",
       "20            Guatemala - Guatemala   \n",
       "21            Guatemala - Guatemala   \n",
       "22            Guatemala - Guatemala   \n",
       "23            Guatemala - Guatemala   \n",
       "24            Guatemala - Guatemala   \n",
       "25  Quetzaltenango - Quetzaltenango   \n",
       "26            Guatemala - Guatemala   \n",
       "27            Guatemala - Guatemala   \n",
       "28            Guatemala - Guatemala   \n",
       "29            Escuintla - Escuintla   \n",
       "30  Quetzaltenango - Quetzaltenango   \n",
       "31            Guatemala - Guatemala   \n",
       "32            Guatemala - Guatemala   \n",
       "33            Guatemala - Guatemala   \n",
       "34            Guatemala - Guatemala   \n",
       "35            Guatemala - Guatemala   \n",
       "36            Guatemala - Guatemala   \n",
       "37            Guatemala - Guatemala   \n",
       "38          San Marcos - San Marcos   \n",
       "39            Guatemala - Guatemala   \n",
       "40            Guatemala - Guatemala   \n",
       "41            Guatemala - Guatemala   \n",
       "42            Guatemala - Guatemala   \n",
       "43            Guatemala - Guatemala   \n",
       "44            Guatemala - Guatemala   \n",
       "45            Guatemala - Guatemala   \n",
       "46            Guatemala - Guatemala   \n",
       "47            Guatemala - Guatemala   \n",
       "48            Guatemala - Guatemala   \n",
       "49            Guatemala - Guatemala   \n",
       "50            Guatemala - Guatemala   \n",
       "51            Guatemala - Guatemala   \n",
       "52            Guatemala - Guatemala   \n",
       "\n",
       "                                              address             phone  \\\n",
       "0                                       2 C 10-06 Z-1  (+502) 2232 6575   \n",
       "1                           Diagonal 14. 22-06 Zona 5  (+502) 2335 3680   \n",
       "2                                     Dg 6 14-86 Z 10  (+502) 2366 7508   \n",
       "3   Av las Americas 7-30 Z 13 Edif Real América L ...  (+502) 2360 5070   \n",
       "4   Boulevard Principal 23 Calle 18-96 Zona 7 Cent...  (+502) 5632 6476   \n",
       "5                Boulevard Los Próceres 25-74 Zona 10  (+502) 2423 6000   \n",
       "6   Kilómetro 29.5 Centro Comercial Flores del Lag...  (+502) 6632 9534   \n",
       "7               2 Avenida A 1-53 zona 3 Huehuetenango  (+502) 4284 9059   \n",
       "8   Diagonal 1 Número 34 Zona 4 Jocotenango Sacate...  (+502) 5588 2533   \n",
       "9   3 Calle 8-76 Zona 8 De Mixco Boulevard Princip...  (+502) 2480 7042   \n",
       "10                           10 Avenida 10-50 Zona 14  (+502) 5580 1015   \n",
       "11                    Calzada Roosevelt 12-25 Zona 11  (+502) 2440 2489   \n",
       "12  Boulevard Principal 3 Calle 8-88 Zona 8 Mixco ...  (+502) 2322 3100   \n",
       "13     Boulevar Los Proceres 25-74, zona 10 Guatemala  (+502) 4110 3089   \n",
       "14        1 Av Cl A 4-64 Z 7 Almolonga Quetzaltenango  (+502) 7766 8587   \n",
       "15                       KM 18.5 CARRET A EL SALVADOR  (+502) 6625 9100   \n",
       "16               3 Cl A 8-38 Edif Renova Z 10 3 Nivel  (+502) 3006 3604   \n",
       "17                    Av Americas 9-55 Plaza Oro L 10  (+502) 2366 7166   \n",
       "18                     16 Calle 8-00 Zona 13 Aurora 1  (+502) 2360 3232   \n",
       "19            10 Av 10-50 Z 14 C.C. Plaza Futeca L 21  (+502) 2366 8054   \n",
       "20  Km 30.5 Carrt A Santa Elena Barillas Lt 50 Lot...  (+502) 6634 3666   \n",
       "21  3a Cl 62-72 Sector A 3 Boulevar San Cristobal ...  (+502) 2423 6000   \n",
       "22                  Av 21 A 0-97 Z 15 Vista Hermosa 2  (+502) 2365 7944   \n",
       "23                          Av 21 9-05 Z 11 Mirador 1  (+502) 2474 3609   \n",
       "24  5 Cl Z 6 V. Nueva Czda Concepcion Plz Villa Nueva  (+502) 6636 6452   \n",
       "25  C.C. Las Americas Int. Profutbol Xela 8 Calle ...  (+502) 7763 5077   \n",
       "26                     C.C. Gran Via Local 01 Zona 07  (+502) 2475 2508   \n",
       "27                              7 Avenida 9-35 Zona 1  (+502) 2232 5060   \n",
       "28    Manzana 2 Lote 8A San Rafael Buenavista Zona 18  (+502) 2242 6645   \n",
       "29                                  4 Av. 3-44 Zona 1  (+502) 7889 2196   \n",
       "30                29 Av. 8 A-26 Zona 7 Quetzaltenango  (+502) 7763 7474   \n",
       "31                Diagonal 6, 16-21 Zona 10 Guatemala  (+502) 2366 7342   \n",
       "32             Dg 6 12-42 Zona 10 Design Center L 211  (+502) 2206 8000   \n",
       "33  Aguilar Batres 37-95 Local 5 y 6 Plaza Solana ...  (+502) 2476 9841   \n",
       "34  Aguilar Batres 37-95 Local 5 y 6 Plaza Solana ...  (+502) 2476 9841   \n",
       "35  Aguilar Batres 37-95 Local 5 y 6 Plaza Solana ...  (+502) 2476 9841   \n",
       "36  15 Calle 1-11 Edificio Terra Esperanza Nivel 1...  (+502) 2300 0510   \n",
       "37                             8 Avenida 40-59 Zona 8  (+502) 4207 8637   \n",
       "38           3 Av Zona 1 Cantón Pueblo Nuevo Pajapita  (+502) 4837 4071   \n",
       "39                                     5 Av 5-55 Z 14  (+502) 2366 5759   \n",
       "40       9a Cl 24-38, Zna 7 Plaza Castilla 2do. Nivel  (+502) 3526 5337   \n",
       "41                                3A Cl 16-15 Zona 15  (+502) 2369 4468   \n",
       "42                                  10 Cl 2-28 Zona 9  (+502) 2223 9500   \n",
       "43                       Av Simeon Cañas Final Zona 2  (+502) 2254 1119   \n",
       "44          24 Cl Palacio De Los Deportes 9-31 Zona 4  (+502) 2361 8263   \n",
       "45                                 12 Av 25 Cl Zona 5  (+502) 2331 2680   \n",
       "46                                  26 Cl 9-31 Zona 5  (+502) 2339 3376   \n",
       "47                     Gimnacio 7 De Diciembre Zona 5  (+502) 2434 4006   \n",
       "48                                 32 Cl 9-10 Zona 11  (+502) 2422 6800   \n",
       "49                                 2 Cl 15-57 Zona 15  (+502) 2422 7777   \n",
       "50                                     26 Cl 9-31 Z.5  (+502) 2332 3979   \n",
       "51                                Av 14 18-13 Zona 13  (+502) 2493 4200   \n",
       "52      Gimnasio Nacional Teodoro Palacios Flores Z.5  (+502) 2361 9851   \n",
       "\n",
       "                        categoria  \n",
       "0   Gimnasios de Educación Física  \n",
       "1   Gimnasios de Educación Física  \n",
       "2   Gimnasios de Educación Física  \n",
       "3   Gimnasios de Educación Física  \n",
       "4   Gimnasios de Educación Física  \n",
       "5   Gimnasios de Educación Física  \n",
       "6   Gimnasios de Educación Física  \n",
       "7   Gimnasios de Educación Física  \n",
       "8   Gimnasios de Educación Física  \n",
       "9   Gimnasios de Educación Física  \n",
       "10  Gimnasios de Educación Física  \n",
       "11  Gimnasios de Educación Física  \n",
       "12  Gimnasios de Educación Física  \n",
       "13  Gimnasios de Educación Física  \n",
       "14  Gimnasios de Educación Física  \n",
       "15  Gimnasios de Educación Física  \n",
       "16  Gimnasios de Educación Física  \n",
       "17  Gimnasios de Educación Física  \n",
       "18  Gimnasios de Educación Física  \n",
       "19  Gimnasios de Educación Física  \n",
       "20  Gimnasios de Educación Física  \n",
       "21  Gimnasios de Educación Física  \n",
       "22  Gimnasios de Educación Física  \n",
       "23  Gimnasios de Educación Física  \n",
       "24  Gimnasios de Educación Física  \n",
       "25  Gimnasios de Educación Física  \n",
       "26  Gimnasios de Educación Física  \n",
       "27  Gimnasios de Educación Física  \n",
       "28  Gimnasios de Educación Física  \n",
       "29  Gimnasios de Educación Física  \n",
       "30  Gimnasios de Educación Física  \n",
       "31  Gimnasios de Educación Física  \n",
       "32  Gimnasios de Educación Física  \n",
       "33  Gimnasios de Educación Física  \n",
       "34  Gimnasios de Educación Física  \n",
       "35  Gimnasios de Educación Física  \n",
       "36  Gimnasios de Educación Física  \n",
       "37  Gimnasios de Educación Física  \n",
       "38  Gimnasios de Educación Física  \n",
       "39  Gimnasios de Educación Física  \n",
       "40  Gimnasios de Educación Física  \n",
       "41        Federaciones Deportivas  \n",
       "42        Federaciones Deportivas  \n",
       "43        Federaciones Deportivas  \n",
       "44        Federaciones Deportivas  \n",
       "45        Federaciones Deportivas  \n",
       "46        Federaciones Deportivas  \n",
       "47        Federaciones Deportivas  \n",
       "48        Federaciones Deportivas  \n",
       "49        Federaciones Deportivas  \n",
       "50        Federaciones Deportivas  \n",
       "51        Federaciones Deportivas  \n",
       "52        Federaciones Deportivas  "
      ]
     },
     "execution_count": 243,
     "metadata": {},
     "output_type": "execute_result"
    }
   ],
   "source": [
    "gymy"
   ]
  },
  {
   "cell_type": "code",
   "execution_count": 244,
   "metadata": {},
   "outputs": [
    {
     "name": "stdout",
     "output_type": "stream",
     "text": [
      "12 12 12 12 1\n",
      "None\n"
     ]
    }
   ],
   "source": [
    "info = get_yellow_info('https://www.paginasamarillas.com.gt/servicios/federaciones')\n",
    "print(check_size(info))\n",
    "paginas_web += info[-1]\n",
    "print(paginas_web)"
   ]
  },
  {
   "cell_type": "code",
   "execution_count": 249,
   "metadata": {},
   "outputs": [
    {
     "data": {
      "text/html": [
       "<div>\n",
       "<style scoped>\n",
       "    .dataframe tbody tr th:only-of-type {\n",
       "        vertical-align: middle;\n",
       "    }\n",
       "\n",
       "    .dataframe tbody tr th {\n",
       "        vertical-align: top;\n",
       "    }\n",
       "\n",
       "    .dataframe thead th {\n",
       "        text-align: right;\n",
       "    }\n",
       "</style>\n",
       "<table border=\"1\" class=\"dataframe\">\n",
       "  <thead>\n",
       "    <tr style=\"text-align: right;\">\n",
       "      <th></th>\n",
       "      <th>names</th>\n",
       "      <th>city</th>\n",
       "      <th>address</th>\n",
       "      <th>phone</th>\n",
       "      <th>categoria</th>\n",
       "    </tr>\n",
       "  </thead>\n",
       "  <tbody>\n",
       "    <tr>\n",
       "      <th>0</th>\n",
       "      <td>Asociación De Pentatlon Moderno</td>\n",
       "      <td>Guatemala - Guatemala</td>\n",
       "      <td>3A Cl 16-15 Zona 15</td>\n",
       "      <td>(+502) 2369 4468</td>\n",
       "      <td>Federaciones Deportivas</td>\n",
       "    </tr>\n",
       "    <tr>\n",
       "      <th>1</th>\n",
       "      <td>Comite Olimpico Guatemalteco</td>\n",
       "      <td>Guatemala - Guatemala</td>\n",
       "      <td>10 Cl 2-28 Zona 9</td>\n",
       "      <td>(+502) 2223 9500</td>\n",
       "      <td>Federaciones Deportivas</td>\n",
       "    </tr>\n",
       "    <tr>\n",
       "      <th>2</th>\n",
       "      <td>Federación Nacional De Beisbol</td>\n",
       "      <td>Guatemala - Guatemala</td>\n",
       "      <td>Av Simeon Cañas Final Zona 2</td>\n",
       "      <td>(+502) 2254 1119</td>\n",
       "      <td>Federaciones Deportivas</td>\n",
       "    </tr>\n",
       "    <tr>\n",
       "      <th>3</th>\n",
       "      <td>Federación Nacional De Boxeo De Guatemala</td>\n",
       "      <td>Guatemala - Guatemala</td>\n",
       "      <td>24 Cl Palacio De Los Deportes 9-31 Zona 4</td>\n",
       "      <td>(+502) 2361 8263</td>\n",
       "      <td>Federaciones Deportivas</td>\n",
       "    </tr>\n",
       "    <tr>\n",
       "      <th>4</th>\n",
       "      <td>Federación Nacional De Esgrima C.D.A.G.</td>\n",
       "      <td>Guatemala - Guatemala</td>\n",
       "      <td>12 Av 25 Cl Zona 5</td>\n",
       "      <td>(+502) 2331 2680</td>\n",
       "      <td>Federaciones Deportivas</td>\n",
       "    </tr>\n",
       "  </tbody>\n",
       "</table>\n",
       "</div>"
      ],
      "text/plain": [
       "                                       names                   city  \\\n",
       "0            Asociación De Pentatlon Moderno  Guatemala - Guatemala   \n",
       "1               Comite Olimpico Guatemalteco  Guatemala - Guatemala   \n",
       "2             Federación Nacional De Beisbol  Guatemala - Guatemala   \n",
       "3  Federación Nacional De Boxeo De Guatemala  Guatemala - Guatemala   \n",
       "4    Federación Nacional De Esgrima C.D.A.G.  Guatemala - Guatemala   \n",
       "\n",
       "                                     address             phone  \\\n",
       "0                        3A Cl 16-15 Zona 15  (+502) 2369 4468   \n",
       "1                          10 Cl 2-28 Zona 9  (+502) 2223 9500   \n",
       "2               Av Simeon Cañas Final Zona 2  (+502) 2254 1119   \n",
       "3  24 Cl Palacio De Los Deportes 9-31 Zona 4  (+502) 2361 8263   \n",
       "4                         12 Av 25 Cl Zona 5  (+502) 2331 2680   \n",
       "\n",
       "                 categoria  \n",
       "0  Federaciones Deportivas  \n",
       "1  Federaciones Deportivas  \n",
       "2  Federaciones Deportivas  \n",
       "3  Federaciones Deportivas  \n",
       "4  Federaciones Deportivas  "
      ]
     },
     "execution_count": 249,
     "metadata": {},
     "output_type": "execute_result"
    }
   ],
   "source": [
    "df = pd.DataFrame(zip(info[0], info[1], info[2],info[3]),columns=['names','city','address','phone'])\n",
    "df['categoria'] = 'Federaciones Deportivas'\n",
    "df.head()"
   ]
  },
  {
   "cell_type": "code",
   "execution_count": 250,
   "metadata": {},
   "outputs": [],
   "source": [
    "gymy = pd.concat([gymy,df], ignore_index=True)"
   ]
  },
  {
   "cell_type": "code",
   "execution_count": 251,
   "metadata": {},
   "outputs": [
    {
     "data": {
      "text/plain": [
       "(65, 5)"
      ]
     },
     "execution_count": 251,
     "metadata": {},
     "output_type": "execute_result"
    }
   ],
   "source": [
    "gymy.shape"
   ]
  },
  {
   "cell_type": "code",
   "execution_count": 252,
   "metadata": {},
   "outputs": [
    {
     "name": "stdout",
     "output_type": "stream",
     "text": [
      "11 11 11 11 5\n",
      "None\n",
      "['', 'http://www.clubatenas.com', 'http://www.lepetitspagt.com', 'http://www.madielspa.es.tl', 'http://www.facebook.com/spa.farfalla', 'http://www.sangregoriospa.com', 'http://www.fitnessone.com', 'http://www.guatemalasnbalonmano.com', 'http://www.guatemalasnbalonmano.com', 'http://www.guatemalasnbalonmano.com', 'http://www.dancestudio.com.gt', 'http://www.scenicdance.com', 'http://www.dancestudio.com.gt', 'http://balletnacionaldeguatemala.blogspot.com', 'http://www.skydancegt.com']\n"
     ]
    }
   ],
   "source": [
    "info = get_yellow_info('https://www.paginasamarillas.com.gt/servicios/academias-de-ballet')\n",
    "print(check_size(info))\n",
    "paginas_web += info[-1]\n",
    "print(paginas_web)"
   ]
  },
  {
   "cell_type": "code",
   "execution_count": 254,
   "metadata": {},
   "outputs": [
    {
     "data": {
      "text/html": [
       "<div>\n",
       "<style scoped>\n",
       "    .dataframe tbody tr th:only-of-type {\n",
       "        vertical-align: middle;\n",
       "    }\n",
       "\n",
       "    .dataframe tbody tr th {\n",
       "        vertical-align: top;\n",
       "    }\n",
       "\n",
       "    .dataframe thead th {\n",
       "        text-align: right;\n",
       "    }\n",
       "</style>\n",
       "<table border=\"1\" class=\"dataframe\">\n",
       "  <thead>\n",
       "    <tr style=\"text-align: right;\">\n",
       "      <th></th>\n",
       "      <th>names</th>\n",
       "      <th>city</th>\n",
       "      <th>address</th>\n",
       "      <th>phone</th>\n",
       "      <th>categoria</th>\n",
       "    </tr>\n",
       "  </thead>\n",
       "  <tbody>\n",
       "    <tr>\n",
       "      <th>0</th>\n",
       "      <td>Full Contact Studio</td>\n",
       "      <td>Guatemala - Guatemala</td>\n",
       "      <td>2 C 10-06 Z-1</td>\n",
       "      <td>(+502) 2232 6575</td>\n",
       "      <td>Gimnasios de Educación Física</td>\n",
       "    </tr>\n",
       "    <tr>\n",
       "      <th>1</th>\n",
       "      <td>Club Atletico Atenas</td>\n",
       "      <td>Guatemala - Guatemala</td>\n",
       "      <td>Diagonal 14. 22-06 Zona 5</td>\n",
       "      <td>(+502) 2335 3680</td>\n",
       "      <td>Gimnasios de Educación Física</td>\n",
       "    </tr>\n",
       "    <tr>\n",
       "      <th>2</th>\n",
       "      <td>Le Petit Spa</td>\n",
       "      <td>Guatemala - Guatemala</td>\n",
       "      <td>Dg 6 14-86 Z 10</td>\n",
       "      <td>(+502) 2366 7508</td>\n",
       "      <td>Gimnasios de Educación Física</td>\n",
       "    </tr>\n",
       "    <tr>\n",
       "      <th>3</th>\n",
       "      <td>Madiel Spa</td>\n",
       "      <td>Guatemala - Guatemala</td>\n",
       "      <td>Av las Americas 7-30 Z 13 Edif Real América L ...</td>\n",
       "      <td>(+502) 2360 5070</td>\n",
       "      <td>Gimnasios de Educación Física</td>\n",
       "    </tr>\n",
       "    <tr>\n",
       "      <th>4</th>\n",
       "      <td>Armonia Colonial</td>\n",
       "      <td>Guatemala - Guatemala</td>\n",
       "      <td>Boulevard Principal 23 Calle 18-96 Zona 7 Cent...</td>\n",
       "      <td>(+502) 5632 6476</td>\n",
       "      <td>Gimnasios de Educación Física</td>\n",
       "    </tr>\n",
       "  </tbody>\n",
       "</table>\n",
       "</div>"
      ],
      "text/plain": [
       "                  names                   city  \\\n",
       "0   Full Contact Studio  Guatemala - Guatemala   \n",
       "1  Club Atletico Atenas  Guatemala - Guatemala   \n",
       "2          Le Petit Spa  Guatemala - Guatemala   \n",
       "3            Madiel Spa  Guatemala - Guatemala   \n",
       "4      Armonia Colonial  Guatemala - Guatemala   \n",
       "\n",
       "                                             address             phone  \\\n",
       "0                                      2 C 10-06 Z-1  (+502) 2232 6575   \n",
       "1                          Diagonal 14. 22-06 Zona 5  (+502) 2335 3680   \n",
       "2                                    Dg 6 14-86 Z 10  (+502) 2366 7508   \n",
       "3  Av las Americas 7-30 Z 13 Edif Real América L ...  (+502) 2360 5070   \n",
       "4  Boulevard Principal 23 Calle 18-96 Zona 7 Cent...  (+502) 5632 6476   \n",
       "\n",
       "                       categoria  \n",
       "0  Gimnasios de Educación Física  \n",
       "1  Gimnasios de Educación Física  \n",
       "2  Gimnasios de Educación Física  \n",
       "3  Gimnasios de Educación Física  \n",
       "4  Gimnasios de Educación Física  "
      ]
     },
     "metadata": {},
     "output_type": "display_data"
    },
    {
     "data": {
      "text/plain": [
       "(87, 5)"
      ]
     },
     "execution_count": 254,
     "metadata": {},
     "output_type": "execute_result"
    }
   ],
   "source": [
    "df = pd.DataFrame(zip(info[0], info[1], info[2],info[3]),columns=['names','city','address','phone'])\n",
    "df['categoria'] = 'Baile'\n",
    "gymy = pd.concat([gymy,df], ignore_index=True)\n",
    "display(gymy.head())\n",
    "gymy.shape"
   ]
  },
  {
   "cell_type": "code",
   "execution_count": 255,
   "metadata": {},
   "outputs": [
    {
     "name": "stdout",
     "output_type": "stream",
     "text": [
      "sí se puede\n",
      "None\n",
      "['', 'http://www.clubatenas.com', 'http://www.lepetitspagt.com', 'http://www.madielspa.es.tl', 'http://www.facebook.com/spa.farfalla', 'http://www.sangregoriospa.com', 'http://www.fitnessone.com', 'http://www.guatemalasnbalonmano.com', 'http://www.guatemalasnbalonmano.com', 'http://www.guatemalasnbalonmano.com', 'http://www.dancestudio.com.gt', 'http://www.scenicdance.com', 'http://www.dancestudio.com.gt', 'http://balletnacionaldeguatemala.blogspot.com', 'http://www.skydancegt.com', 'http://www.metrobowl.com.gt']\n"
     ]
    }
   ],
   "source": [
    "info = get_yellow_info('https://www.paginasamarillas.com.gt/servicios/bolos')\n",
    "print(check_size(info))\n",
    "paginas_web += info[-1]\n",
    "print(paginas_web)"
   ]
  },
  {
   "cell_type": "code",
   "execution_count": 256,
   "metadata": {},
   "outputs": [
    {
     "data": {
      "text/html": [
       "<div>\n",
       "<style scoped>\n",
       "    .dataframe tbody tr th:only-of-type {\n",
       "        vertical-align: middle;\n",
       "    }\n",
       "\n",
       "    .dataframe tbody tr th {\n",
       "        vertical-align: top;\n",
       "    }\n",
       "\n",
       "    .dataframe thead th {\n",
       "        text-align: right;\n",
       "    }\n",
       "</style>\n",
       "<table border=\"1\" class=\"dataframe\">\n",
       "  <thead>\n",
       "    <tr style=\"text-align: right;\">\n",
       "      <th></th>\n",
       "      <th>names</th>\n",
       "      <th>city</th>\n",
       "      <th>address</th>\n",
       "      <th>phone</th>\n",
       "      <th>categoria</th>\n",
       "    </tr>\n",
       "  </thead>\n",
       "  <tbody>\n",
       "    <tr>\n",
       "      <th>0</th>\n",
       "      <td>Full Contact Studio</td>\n",
       "      <td>Guatemala - Guatemala</td>\n",
       "      <td>2 C 10-06 Z-1</td>\n",
       "      <td>(+502) 2232 6575</td>\n",
       "      <td>Gimnasios de Educación Física</td>\n",
       "    </tr>\n",
       "    <tr>\n",
       "      <th>1</th>\n",
       "      <td>Club Atletico Atenas</td>\n",
       "      <td>Guatemala - Guatemala</td>\n",
       "      <td>Diagonal 14. 22-06 Zona 5</td>\n",
       "      <td>(+502) 2335 3680</td>\n",
       "      <td>Gimnasios de Educación Física</td>\n",
       "    </tr>\n",
       "    <tr>\n",
       "      <th>2</th>\n",
       "      <td>Le Petit Spa</td>\n",
       "      <td>Guatemala - Guatemala</td>\n",
       "      <td>Dg 6 14-86 Z 10</td>\n",
       "      <td>(+502) 2366 7508</td>\n",
       "      <td>Gimnasios de Educación Física</td>\n",
       "    </tr>\n",
       "    <tr>\n",
       "      <th>3</th>\n",
       "      <td>Madiel Spa</td>\n",
       "      <td>Guatemala - Guatemala</td>\n",
       "      <td>Av las Americas 7-30 Z 13 Edif Real América L ...</td>\n",
       "      <td>(+502) 2360 5070</td>\n",
       "      <td>Gimnasios de Educación Física</td>\n",
       "    </tr>\n",
       "    <tr>\n",
       "      <th>4</th>\n",
       "      <td>Armonia Colonial</td>\n",
       "      <td>Guatemala - Guatemala</td>\n",
       "      <td>Boulevard Principal 23 Calle 18-96 Zona 7 Cent...</td>\n",
       "      <td>(+502) 5632 6476</td>\n",
       "      <td>Gimnasios de Educación Física</td>\n",
       "    </tr>\n",
       "  </tbody>\n",
       "</table>\n",
       "</div>"
      ],
      "text/plain": [
       "                  names                   city  \\\n",
       "0   Full Contact Studio  Guatemala - Guatemala   \n",
       "1  Club Atletico Atenas  Guatemala - Guatemala   \n",
       "2          Le Petit Spa  Guatemala - Guatemala   \n",
       "3            Madiel Spa  Guatemala - Guatemala   \n",
       "4      Armonia Colonial  Guatemala - Guatemala   \n",
       "\n",
       "                                             address             phone  \\\n",
       "0                                      2 C 10-06 Z-1  (+502) 2232 6575   \n",
       "1                          Diagonal 14. 22-06 Zona 5  (+502) 2335 3680   \n",
       "2                                    Dg 6 14-86 Z 10  (+502) 2366 7508   \n",
       "3  Av las Americas 7-30 Z 13 Edif Real América L ...  (+502) 2360 5070   \n",
       "4  Boulevard Principal 23 Calle 18-96 Zona 7 Cent...  (+502) 5632 6476   \n",
       "\n",
       "                       categoria  \n",
       "0  Gimnasios de Educación Física  \n",
       "1  Gimnasios de Educación Física  \n",
       "2  Gimnasios de Educación Física  \n",
       "3  Gimnasios de Educación Física  \n",
       "4  Gimnasios de Educación Física  "
      ]
     },
     "metadata": {},
     "output_type": "display_data"
    },
    {
     "data": {
      "text/plain": [
       "(88, 5)"
      ]
     },
     "execution_count": 256,
     "metadata": {},
     "output_type": "execute_result"
    }
   ],
   "source": [
    "df = pd.DataFrame(zip(info[0], info[1], info[2],info[3]),columns=['names','city','address','phone'])\n",
    "df['categoria'] = 'Bolos'\n",
    "gymy = pd.concat([gymy,df], ignore_index=True)\n",
    "display(gymy.head())\n",
    "gymy.shape\n"
   ]
  },
  {
   "cell_type": "code",
   "execution_count": 257,
   "metadata": {},
   "outputs": [],
   "source": [
    "gymy.to_csv('gymy.csv')"
   ]
  },
  {
   "cell_type": "code",
   "execution_count": 260,
   "metadata": {},
   "outputs": [
    {
     "name": "stdout",
     "output_type": "stream",
     "text": [
      "sí se puede\n",
      "None\n",
      "['', 'http://www.clubatenas.com', 'http://www.lepetitspagt.com', 'http://www.madielspa.es.tl', 'http://www.facebook.com/spa.farfalla', 'http://www.sangregoriospa.com', 'http://www.fitnessone.com', 'http://www.guatemalasnbalonmano.com', 'http://www.guatemalasnbalonmano.com', 'http://www.guatemalasnbalonmano.com', 'http://www.dancestudio.com.gt', 'http://www.scenicdance.com', 'http://www.dancestudio.com.gt', 'http://balletnacionaldeguatemala.blogspot.com', 'http://www.skydancegt.com', 'http://www.metrobowl.com.gt', 'www.cosenzaacademy.com']\n"
     ]
    }
   ],
   "source": [
    "info = get_yellow_info('https://www.paginasamarillas.com.gt/servicios/artes-marciales-ensenanza-de')\n",
    "print(check_size(info))\n",
    "paginas_web += info[-1]\n",
    "print(paginas_web)"
   ]
  },
  {
   "cell_type": "code",
   "execution_count": 261,
   "metadata": {},
   "outputs": [
    {
     "data": {
      "text/html": [
       "<div>\n",
       "<style scoped>\n",
       "    .dataframe tbody tr th:only-of-type {\n",
       "        vertical-align: middle;\n",
       "    }\n",
       "\n",
       "    .dataframe tbody tr th {\n",
       "        vertical-align: top;\n",
       "    }\n",
       "\n",
       "    .dataframe thead th {\n",
       "        text-align: right;\n",
       "    }\n",
       "</style>\n",
       "<table border=\"1\" class=\"dataframe\">\n",
       "  <thead>\n",
       "    <tr style=\"text-align: right;\">\n",
       "      <th></th>\n",
       "      <th>names</th>\n",
       "      <th>city</th>\n",
       "      <th>address</th>\n",
       "      <th>phone</th>\n",
       "      <th>categoria</th>\n",
       "    </tr>\n",
       "  </thead>\n",
       "  <tbody>\n",
       "    <tr>\n",
       "      <th>0</th>\n",
       "      <td>Full Contact Studio</td>\n",
       "      <td>Guatemala - Guatemala</td>\n",
       "      <td>2 C 10-06 Z-1</td>\n",
       "      <td>(+502) 2232 6575</td>\n",
       "      <td>Gimnasios de Educación Física</td>\n",
       "    </tr>\n",
       "    <tr>\n",
       "      <th>1</th>\n",
       "      <td>Club Atletico Atenas</td>\n",
       "      <td>Guatemala - Guatemala</td>\n",
       "      <td>Diagonal 14. 22-06 Zona 5</td>\n",
       "      <td>(+502) 2335 3680</td>\n",
       "      <td>Gimnasios de Educación Física</td>\n",
       "    </tr>\n",
       "    <tr>\n",
       "      <th>2</th>\n",
       "      <td>Le Petit Spa</td>\n",
       "      <td>Guatemala - Guatemala</td>\n",
       "      <td>Dg 6 14-86 Z 10</td>\n",
       "      <td>(+502) 2366 7508</td>\n",
       "      <td>Gimnasios de Educación Física</td>\n",
       "    </tr>\n",
       "    <tr>\n",
       "      <th>3</th>\n",
       "      <td>Madiel Spa</td>\n",
       "      <td>Guatemala - Guatemala</td>\n",
       "      <td>Av las Americas 7-30 Z 13 Edif Real América L ...</td>\n",
       "      <td>(+502) 2360 5070</td>\n",
       "      <td>Gimnasios de Educación Física</td>\n",
       "    </tr>\n",
       "    <tr>\n",
       "      <th>4</th>\n",
       "      <td>Armonia Colonial</td>\n",
       "      <td>Guatemala - Guatemala</td>\n",
       "      <td>Boulevard Principal 23 Calle 18-96 Zona 7 Cent...</td>\n",
       "      <td>(+502) 5632 6476</td>\n",
       "      <td>Gimnasios de Educación Física</td>\n",
       "    </tr>\n",
       "  </tbody>\n",
       "</table>\n",
       "</div>"
      ],
      "text/plain": [
       "                  names                   city  \\\n",
       "0   Full Contact Studio  Guatemala - Guatemala   \n",
       "1  Club Atletico Atenas  Guatemala - Guatemala   \n",
       "2          Le Petit Spa  Guatemala - Guatemala   \n",
       "3            Madiel Spa  Guatemala - Guatemala   \n",
       "4      Armonia Colonial  Guatemala - Guatemala   \n",
       "\n",
       "                                             address             phone  \\\n",
       "0                                      2 C 10-06 Z-1  (+502) 2232 6575   \n",
       "1                          Diagonal 14. 22-06 Zona 5  (+502) 2335 3680   \n",
       "2                                    Dg 6 14-86 Z 10  (+502) 2366 7508   \n",
       "3  Av las Americas 7-30 Z 13 Edif Real América L ...  (+502) 2360 5070   \n",
       "4  Boulevard Principal 23 Calle 18-96 Zona 7 Cent...  (+502) 5632 6476   \n",
       "\n",
       "                       categoria  \n",
       "0  Gimnasios de Educación Física  \n",
       "1  Gimnasios de Educación Física  \n",
       "2  Gimnasios de Educación Física  \n",
       "3  Gimnasios de Educación Física  \n",
       "4  Gimnasios de Educación Física  "
      ]
     },
     "metadata": {},
     "output_type": "display_data"
    },
    {
     "data": {
      "text/plain": [
       "(89, 5)"
      ]
     },
     "execution_count": 261,
     "metadata": {},
     "output_type": "execute_result"
    }
   ],
   "source": [
    "df = pd.DataFrame(zip(info[0], info[1], info[2],info[3]),columns=['names','city','address','phone'])\n",
    "df['categoria'] = 'Artes Marciales'\n",
    "gymy = pd.concat([gymy,df], ignore_index=True)\n",
    "gymy.to_csv('gymy.csv')\n",
    "display(gymy.tail())\n",
    "gymy.shape"
   ]
  },
  {
   "cell_type": "code",
   "execution_count": null,
   "metadata": {},
   "outputs": [],
   "source": [
    "url = ''"
   ]
  },
  {
   "cell_type": "code",
   "execution_count": 301,
   "metadata": {},
   "outputs": [
    {
     "name": "stdout",
     "output_type": "stream",
     "text": [
      "20 20 20 18 7\n",
      "None\n",
      "['', 'http://www.clubatenas.com', 'http://www.lepetitspagt.com', 'http://www.madielspa.es.tl', 'http://www.facebook.com/spa.farfalla', 'http://www.sangregoriospa.com', 'http://www.fitnessone.com', 'http://www.guatemalasnbalonmano.com', 'http://www.guatemalasnbalonmano.com', 'http://www.guatemalasnbalonmano.com', 'http://www.dancestudio.com.gt', 'http://www.scenicdance.com', 'http://www.dancestudio.com.gt', 'http://balletnacionaldeguatemala.blogspot.com', 'http://www.skydancegt.com', 'http://www.metrobowl.com.gt', 'www.cosenzaacademy.com', 'www.trofeosfinos.com', 'eurobikegt.com', 'www.cosenzaacademy.com', 'www.forrestrunningshop.com', 'bdmsupercicles.wixsite.com/bike', 'http://wwwwdelfinesguatemala.com', 'http://www.haciendanueva.gt', 'www.trofeosfinos.com', 'eurobikegt.com', 'www.cosenzaacademy.com', 'www.forrestrunningshop.com', 'bdmsupercicles.wixsite.com/bike', 'http://wwwwdelfinesguatemala.com', 'http://www.haciendanueva.gt', 'www.trofeosfinos.com', 'eurobikegt.com', 'www.cosenzaacademy.com', 'www.forrestrunningshop.com', 'bdmsupercicles.wixsite.com/bike', 'http://wwwwdelfinesguatemala.com', 'http://www.haciendanueva.gt']\n"
     ]
    }
   ],
   "source": [
    "info = get_yellow_info('https://www.paginasamarillas.com.gt/servicios/deportes?page=1')\n",
    "print(check_size(info))\n",
    "paginas_web += info[-1]\n",
    "print(paginas_web)"
   ]
  },
  {
   "cell_type": "code",
   "execution_count": 302,
   "metadata": {},
   "outputs": [
    {
     "data": {
      "text/plain": [
       "3"
      ]
     },
     "execution_count": 302,
     "metadata": {},
     "output_type": "execute_result"
    }
   ],
   "source": [
    "info[0].index('Forrest Running Shop')"
   ]
  },
  {
   "cell_type": "code",
   "execution_count": 308,
   "metadata": {},
   "outputs": [
    {
     "data": {
      "text/plain": [
       "'Av, las Americas 6-78 Edificio \"el Uno\" Zona 13 Local 3'"
      ]
     },
     "execution_count": 308,
     "metadata": {},
     "output_type": "execute_result"
    }
   ],
   "source": [
    "info[0].pop(3)\n",
    "info[1].pop(3)\n",
    "info[2].pop(3)"
   ]
  },
  {
   "cell_type": "code",
   "execution_count": 309,
   "metadata": {},
   "outputs": [
    {
     "data": {
      "text/plain": [
       "18"
      ]
     },
     "execution_count": 309,
     "metadata": {},
     "output_type": "execute_result"
    }
   ],
   "source": [
    "info[0].index('Gimnasio Fitness Extreme')"
   ]
  },
  {
   "cell_type": "code",
   "execution_count": 310,
   "metadata": {},
   "outputs": [
    {
     "data": {
      "text/plain": [
       "'14av 19-50 Z4'"
      ]
     },
     "execution_count": 310,
     "metadata": {},
     "output_type": "execute_result"
    }
   ],
   "source": [
    "info[0].pop(18)\n",
    "info[1].pop(18)\n",
    "info[2].pop(18)"
   ]
  },
  {
   "cell_type": "code",
   "execution_count": 311,
   "metadata": {},
   "outputs": [
    {
     "name": "stdout",
     "output_type": "stream",
     "text": [
      "18 18 18 18 7\n",
      "None\n"
     ]
    }
   ],
   "source": [
    "print(check_size(info))"
   ]
  },
  {
   "cell_type": "code",
   "execution_count": 312,
   "metadata": {},
   "outputs": [
    {
     "data": {
      "text/html": [
       "<div>\n",
       "<style scoped>\n",
       "    .dataframe tbody tr th:only-of-type {\n",
       "        vertical-align: middle;\n",
       "    }\n",
       "\n",
       "    .dataframe tbody tr th {\n",
       "        vertical-align: top;\n",
       "    }\n",
       "\n",
       "    .dataframe thead th {\n",
       "        text-align: right;\n",
       "    }\n",
       "</style>\n",
       "<table border=\"1\" class=\"dataframe\">\n",
       "  <thead>\n",
       "    <tr style=\"text-align: right;\">\n",
       "      <th></th>\n",
       "      <th>names</th>\n",
       "      <th>city</th>\n",
       "      <th>address</th>\n",
       "      <th>phone</th>\n",
       "      <th>categoria</th>\n",
       "    </tr>\n",
       "  </thead>\n",
       "  <tbody>\n",
       "    <tr>\n",
       "      <th>102</th>\n",
       "      <td>Club La Villa</td>\n",
       "      <td>Guatemala - Guatemala</td>\n",
       "      <td>20 Avenida 8-81</td>\n",
       "      <td>(+502) 2333 7324</td>\n",
       "      <td>Deportes</td>\n",
       "    </tr>\n",
       "    <tr>\n",
       "      <th>103</th>\n",
       "      <td>Club Municipal</td>\n",
       "      <td>Guatemala - Guatemala</td>\n",
       "      <td>1 Avenida 2-40 Zona 01 Aldea Don Justo</td>\n",
       "      <td>(+502) 2333 0037</td>\n",
       "      <td>Deportes</td>\n",
       "    </tr>\n",
       "    <tr>\n",
       "      <th>104</th>\n",
       "      <td>Escandinavia Gym</td>\n",
       "      <td>Guatemala - Guatemala</td>\n",
       "      <td>Búl Vista Hermosa 2195 Z 15</td>\n",
       "      <td>(+502) 2369 1018</td>\n",
       "      <td>Deportes</td>\n",
       "    </tr>\n",
       "    <tr>\n",
       "      <th>105</th>\n",
       "      <td>Fed. Nac. De Tenis De Campo De Guatemala</td>\n",
       "      <td>Guatemala - Guatemala</td>\n",
       "      <td>3 Calle 16-75 Zona 15 Colonia Minerva</td>\n",
       "      <td>(+502) 2369 8771</td>\n",
       "      <td>Deportes</td>\n",
       "    </tr>\n",
       "    <tr>\n",
       "      <th>106</th>\n",
       "      <td>Futeca Playball</td>\n",
       "      <td>Guatemala - Guatemala</td>\n",
       "      <td>Km20.8 Carr A El Salvador Fraijanes</td>\n",
       "      <td>(+502) 2424 3939</td>\n",
       "      <td>Deportes</td>\n",
       "    </tr>\n",
       "  </tbody>\n",
       "</table>\n",
       "</div>"
      ],
      "text/plain": [
       "                                        names                   city  \\\n",
       "102                             Club La Villa  Guatemala - Guatemala   \n",
       "103                            Club Municipal  Guatemala - Guatemala   \n",
       "104                          Escandinavia Gym  Guatemala - Guatemala   \n",
       "105  Fed. Nac. De Tenis De Campo De Guatemala  Guatemala - Guatemala   \n",
       "106                           Futeca Playball  Guatemala - Guatemala   \n",
       "\n",
       "                                    address             phone categoria  \n",
       "102                         20 Avenida 8-81  (+502) 2333 7324  Deportes  \n",
       "103  1 Avenida 2-40 Zona 01 Aldea Don Justo  (+502) 2333 0037  Deportes  \n",
       "104             Búl Vista Hermosa 2195 Z 15  (+502) 2369 1018  Deportes  \n",
       "105   3 Calle 16-75 Zona 15 Colonia Minerva  (+502) 2369 8771  Deportes  \n",
       "106     Km20.8 Carr A El Salvador Fraijanes  (+502) 2424 3939  Deportes  "
      ]
     },
     "metadata": {},
     "output_type": "display_data"
    },
    {
     "data": {
      "text/plain": [
       "(107, 5)"
      ]
     },
     "execution_count": 312,
     "metadata": {},
     "output_type": "execute_result"
    }
   ],
   "source": [
    "df = pd.DataFrame(zip(info[0], info[1], info[2],info[3]),columns=['names','city','address','phone'])\n",
    "df['categoria'] = 'Deportes'\n",
    "gymy = pd.concat([gymy,df], ignore_index=True)\n",
    "gymy.to_csv('gymy.csv')\n",
    "display(gymy.tail())\n",
    "gymy.shape"
   ]
  },
  {
   "cell_type": "code",
   "execution_count": 314,
   "metadata": {},
   "outputs": [
    {
     "name": "stdout",
     "output_type": "stream",
     "text": [
      "20 20 20 19 1\n",
      "None\n",
      "['', 'http://www.clubatenas.com', 'http://www.lepetitspagt.com', 'http://www.madielspa.es.tl', 'http://www.facebook.com/spa.farfalla', 'http://www.sangregoriospa.com', 'http://www.fitnessone.com', 'http://www.guatemalasnbalonmano.com', 'http://www.guatemalasnbalonmano.com', 'http://www.guatemalasnbalonmano.com', 'http://www.dancestudio.com.gt', 'http://www.scenicdance.com', 'http://www.dancestudio.com.gt', 'http://balletnacionaldeguatemala.blogspot.com', 'http://www.skydancegt.com', 'http://www.metrobowl.com.gt', 'www.cosenzaacademy.com', 'www.trofeosfinos.com', 'eurobikegt.com', 'www.cosenzaacademy.com', 'www.forrestrunningshop.com', 'bdmsupercicles.wixsite.com/bike', 'http://wwwwdelfinesguatemala.com', 'http://www.haciendanueva.gt', 'www.trofeosfinos.com', 'eurobikegt.com', 'www.cosenzaacademy.com', 'www.forrestrunningshop.com', 'bdmsupercicles.wixsite.com/bike', 'http://wwwwdelfinesguatemala.com', 'http://www.haciendanueva.gt', 'www.trofeosfinos.com', 'eurobikegt.com', 'www.cosenzaacademy.com', 'www.forrestrunningshop.com', 'bdmsupercicles.wixsite.com/bike', 'http://wwwwdelfinesguatemala.com', 'http://www.haciendanueva.gt', 'http://www.conader.com.gt']\n"
     ]
    }
   ],
   "source": [
    "info = get_yellow_info('https://www.paginasamarillas.com.gt/servicios/deportes?page=2')\n",
    "print(check_size(info))\n",
    "paginas_web += info[-1]\n",
    "print(paginas_web)"
   ]
  },
  {
   "cell_type": "code",
   "execution_count": 315,
   "metadata": {},
   "outputs": [
    {
     "data": {
      "text/plain": [
       "1"
      ]
     },
     "execution_count": 315,
     "metadata": {},
     "output_type": "execute_result"
    }
   ],
   "source": [
    "info[0].index('Hotel Lobby Bar')"
   ]
  },
  {
   "cell_type": "code",
   "execution_count": 316,
   "metadata": {},
   "outputs": [
    {
     "data": {
      "text/plain": [
       "'Hotel Tikal Futura Casco Finca Rio Lindo Casa 5 La Gomera'"
      ]
     },
     "execution_count": 316,
     "metadata": {},
     "output_type": "execute_result"
    }
   ],
   "source": [
    "info[0].pop(1)\n",
    "info[1].pop(1)\n",
    "info[2].pop(1)"
   ]
  },
  {
   "cell_type": "code",
   "execution_count": 317,
   "metadata": {},
   "outputs": [
    {
     "name": "stdout",
     "output_type": "stream",
     "text": [
      "19 19 19 19 1\n",
      "None\n"
     ]
    }
   ],
   "source": [
    "print(check_size(info))"
   ]
  },
  {
   "cell_type": "code",
   "execution_count": 318,
   "metadata": {},
   "outputs": [
    {
     "data": {
      "text/html": [
       "<div>\n",
       "<style scoped>\n",
       "    .dataframe tbody tr th:only-of-type {\n",
       "        vertical-align: middle;\n",
       "    }\n",
       "\n",
       "    .dataframe tbody tr th {\n",
       "        vertical-align: top;\n",
       "    }\n",
       "\n",
       "    .dataframe thead th {\n",
       "        text-align: right;\n",
       "    }\n",
       "</style>\n",
       "<table border=\"1\" class=\"dataframe\">\n",
       "  <thead>\n",
       "    <tr style=\"text-align: right;\">\n",
       "      <th></th>\n",
       "      <th>names</th>\n",
       "      <th>city</th>\n",
       "      <th>address</th>\n",
       "      <th>phone</th>\n",
       "      <th>categoria</th>\n",
       "    </tr>\n",
       "  </thead>\n",
       "  <tbody>\n",
       "    <tr>\n",
       "      <th>121</th>\n",
       "      <td>Gimnasio Shadday</td>\n",
       "      <td>Quetzaltenango - Quetzaltenango</td>\n",
       "      <td>4A Calle 15 Ave 3-51 Z.1 Quetgo</td>\n",
       "      <td>(+502) 7761 9720</td>\n",
       "      <td>Deportes</td>\n",
       "    </tr>\n",
       "    <tr>\n",
       "      <th>122</th>\n",
       "      <td>Seguridad Maxima-A Semax-A</td>\n",
       "      <td>Jutiapa - Jutiapa</td>\n",
       "      <td>9 Av. 5-75 Zona 3 Barrio Cerro Colorado</td>\n",
       "      <td>(+502) 4220 2024</td>\n",
       "      <td>Deportes</td>\n",
       "    </tr>\n",
       "    <tr>\n",
       "      <th>123</th>\n",
       "      <td>Tenis Todo</td>\n",
       "      <td>Guatemala - Guatemala</td>\n",
       "      <td>12 Avenida 5-16 Zona 1</td>\n",
       "      <td>(+502) 2361 2467</td>\n",
       "      <td>Deportes</td>\n",
       "    </tr>\n",
       "    <tr>\n",
       "      <th>124</th>\n",
       "      <td>Xfit Gym Y Spa</td>\n",
       "      <td>Guatemala - Guatemala</td>\n",
       "      <td>15 Av. 0-95 Monte Real Zona 4 De Mixco</td>\n",
       "      <td>(+502) 5455 0521</td>\n",
       "      <td>Deportes</td>\n",
       "    </tr>\n",
       "    <tr>\n",
       "      <th>125</th>\n",
       "      <td>Conader</td>\n",
       "      <td>Guatemala - Guatemala</td>\n",
       "      <td>Av 7a 6-31 Z 13</td>\n",
       "      <td>(+502) 2475 4743</td>\n",
       "      <td>Deportes</td>\n",
       "    </tr>\n",
       "  </tbody>\n",
       "</table>\n",
       "</div>"
      ],
      "text/plain": [
       "                          names                             city  \\\n",
       "121            Gimnasio Shadday  Quetzaltenango - Quetzaltenango   \n",
       "122  Seguridad Maxima-A Semax-A                Jutiapa - Jutiapa   \n",
       "123                  Tenis Todo            Guatemala - Guatemala   \n",
       "124              Xfit Gym Y Spa            Guatemala - Guatemala   \n",
       "125                     Conader            Guatemala - Guatemala   \n",
       "\n",
       "                                     address             phone categoria  \n",
       "121          4A Calle 15 Ave 3-51 Z.1 Quetgo  (+502) 7761 9720  Deportes  \n",
       "122  9 Av. 5-75 Zona 3 Barrio Cerro Colorado  (+502) 4220 2024  Deportes  \n",
       "123                   12 Avenida 5-16 Zona 1  (+502) 2361 2467  Deportes  \n",
       "124   15 Av. 0-95 Monte Real Zona 4 De Mixco  (+502) 5455 0521  Deportes  \n",
       "125                          Av 7a 6-31 Z 13  (+502) 2475 4743  Deportes  "
      ]
     },
     "metadata": {},
     "output_type": "display_data"
    },
    {
     "data": {
      "text/plain": [
       "(126, 5)"
      ]
     },
     "execution_count": 318,
     "metadata": {},
     "output_type": "execute_result"
    }
   ],
   "source": [
    "df = pd.DataFrame(zip(info[0], info[1], info[2],info[3]),columns=['names','city','address','phone'])\n",
    "df['categoria'] = 'Deportes'\n",
    "gymy = pd.concat([gymy,df], ignore_index=True)\n",
    "gymy.to_csv('gymy.csv')\n",
    "display(gymy.tail())\n",
    "gymy.shape"
   ]
  },
  {
   "cell_type": "code",
   "execution_count": 320,
   "metadata": {},
   "outputs": [
    {
     "name": "stdout",
     "output_type": "stream",
     "text": [
      "20 20 20 20 1\n",
      "None\n",
      "['', 'http://www.clubatenas.com', 'http://www.lepetitspagt.com', 'http://www.madielspa.es.tl', 'http://www.facebook.com/spa.farfalla', 'http://www.sangregoriospa.com', 'http://www.fitnessone.com', 'http://www.guatemalasnbalonmano.com', 'http://www.guatemalasnbalonmano.com', 'http://www.guatemalasnbalonmano.com', 'http://www.dancestudio.com.gt', 'http://www.scenicdance.com', 'http://www.dancestudio.com.gt', 'http://balletnacionaldeguatemala.blogspot.com', 'http://www.skydancegt.com', 'http://www.metrobowl.com.gt', 'www.cosenzaacademy.com', 'www.trofeosfinos.com', 'eurobikegt.com', 'www.cosenzaacademy.com', 'www.forrestrunningshop.com', 'bdmsupercicles.wixsite.com/bike', 'http://wwwwdelfinesguatemala.com', 'http://www.haciendanueva.gt', 'www.trofeosfinos.com', 'eurobikegt.com', 'www.cosenzaacademy.com', 'www.forrestrunningshop.com', 'bdmsupercicles.wixsite.com/bike', 'http://wwwwdelfinesguatemala.com', 'http://www.haciendanueva.gt', 'www.trofeosfinos.com', 'eurobikegt.com', 'www.cosenzaacademy.com', 'www.forrestrunningshop.com', 'bdmsupercicles.wixsite.com/bike', 'http://wwwwdelfinesguatemala.com', 'http://www.haciendanueva.gt', 'http://www.conader.com.gt', 'http://www.segundadivisiondenoaficionados.com']\n"
     ]
    }
   ],
   "source": [
    "info = get_yellow_info('https://www.paginasamarillas.com.gt/servicios/deportes?page=3')\n",
    "print(check_size(info))\n",
    "paginas_web += info[-1]\n",
    "print(paginas_web)"
   ]
  },
  {
   "cell_type": "code",
   "execution_count": 321,
   "metadata": {},
   "outputs": [
    {
     "data": {
      "text/html": [
       "<div>\n",
       "<style scoped>\n",
       "    .dataframe tbody tr th:only-of-type {\n",
       "        vertical-align: middle;\n",
       "    }\n",
       "\n",
       "    .dataframe tbody tr th {\n",
       "        vertical-align: top;\n",
       "    }\n",
       "\n",
       "    .dataframe thead th {\n",
       "        text-align: right;\n",
       "    }\n",
       "</style>\n",
       "<table border=\"1\" class=\"dataframe\">\n",
       "  <thead>\n",
       "    <tr style=\"text-align: right;\">\n",
       "      <th></th>\n",
       "      <th>names</th>\n",
       "      <th>city</th>\n",
       "      <th>address</th>\n",
       "      <th>phone</th>\n",
       "      <th>categoria</th>\n",
       "    </tr>\n",
       "  </thead>\n",
       "  <tbody>\n",
       "    <tr>\n",
       "      <th>141</th>\n",
       "      <td>Centro Deportivo Werner</td>\n",
       "      <td>Cuilapa - Santa Rosa</td>\n",
       "      <td>Cl 1-53 Zona 1 Colonia El Centro Cuilapa</td>\n",
       "      <td>(+502) 7886 5147</td>\n",
       "      <td>Deportes</td>\n",
       "    </tr>\n",
       "    <tr>\n",
       "      <th>142</th>\n",
       "      <td>Champs City</td>\n",
       "      <td>Escuintla - Escuintla</td>\n",
       "      <td>Av Local 26 Zona 2 Escuintla</td>\n",
       "      <td>(+502) 7889 3740</td>\n",
       "      <td>Deportes</td>\n",
       "    </tr>\n",
       "    <tr>\n",
       "      <th>143</th>\n",
       "      <td>Creaciones Leomara</td>\n",
       "      <td>Totonicapán - Totonicapan</td>\n",
       "      <td>Km. 189 Canton Nimapa Paraje Chipatris Totonic...</td>\n",
       "      <td>(+502) 5801 0368</td>\n",
       "      <td>Deportes</td>\n",
       "    </tr>\n",
       "    <tr>\n",
       "      <th>144</th>\n",
       "      <td>Deportes Saga</td>\n",
       "      <td>Santa Cruz Del Quiché - Quiche</td>\n",
       "      <td>Av 3-18 Zona 5 Santa Cruz Del Quiche</td>\n",
       "      <td>(+502) 7755 3474</td>\n",
       "      <td>Deportes</td>\n",
       "    </tr>\n",
       "    <tr>\n",
       "      <th>145</th>\n",
       "      <td>Deporticentro Jose</td>\n",
       "      <td>Chiquimulilla - Santa Rosa</td>\n",
       "      <td>Cl Principal Zona 3 Colonia Santiag Chiquimulilla</td>\n",
       "      <td>(+502) 7885 0863</td>\n",
       "      <td>Deportes</td>\n",
       "    </tr>\n",
       "  </tbody>\n",
       "</table>\n",
       "</div>"
      ],
      "text/plain": [
       "                       names                            city  \\\n",
       "141  Centro Deportivo Werner            Cuilapa - Santa Rosa   \n",
       "142              Champs City           Escuintla - Escuintla   \n",
       "143       Creaciones Leomara       Totonicapán - Totonicapan   \n",
       "144            Deportes Saga  Santa Cruz Del Quiché - Quiche   \n",
       "145       Deporticentro Jose      Chiquimulilla - Santa Rosa   \n",
       "\n",
       "                                               address             phone  \\\n",
       "141           Cl 1-53 Zona 1 Colonia El Centro Cuilapa  (+502) 7886 5147   \n",
       "142                       Av Local 26 Zona 2 Escuintla  (+502) 7889 3740   \n",
       "143  Km. 189 Canton Nimapa Paraje Chipatris Totonic...  (+502) 5801 0368   \n",
       "144               Av 3-18 Zona 5 Santa Cruz Del Quiche  (+502) 7755 3474   \n",
       "145  Cl Principal Zona 3 Colonia Santiag Chiquimulilla  (+502) 7885 0863   \n",
       "\n",
       "    categoria  \n",
       "141  Deportes  \n",
       "142  Deportes  \n",
       "143  Deportes  \n",
       "144  Deportes  \n",
       "145  Deportes  "
      ]
     },
     "metadata": {},
     "output_type": "display_data"
    },
    {
     "data": {
      "text/plain": [
       "(146, 5)"
      ]
     },
     "execution_count": 321,
     "metadata": {},
     "output_type": "execute_result"
    }
   ],
   "source": [
    "df = pd.DataFrame(zip(info[0], info[1], info[2],info[3]),columns=['names','city','address','phone'])\n",
    "df['categoria'] = 'Deportes'\n",
    "gymy = pd.concat([gymy,df], ignore_index=True)\n",
    "gymy.to_csv('gymy.csv')\n",
    "display(gymy.tail())\n",
    "gymy.shape"
   ]
  },
  {
   "cell_type": "code",
   "execution_count": 322,
   "metadata": {},
   "outputs": [
    {
     "name": "stdout",
     "output_type": "stream",
     "text": [
      "10 10 10 10 0\n",
      "None\n",
      "['', 'http://www.clubatenas.com', 'http://www.lepetitspagt.com', 'http://www.madielspa.es.tl', 'http://www.facebook.com/spa.farfalla', 'http://www.sangregoriospa.com', 'http://www.fitnessone.com', 'http://www.guatemalasnbalonmano.com', 'http://www.guatemalasnbalonmano.com', 'http://www.guatemalasnbalonmano.com', 'http://www.dancestudio.com.gt', 'http://www.scenicdance.com', 'http://www.dancestudio.com.gt', 'http://balletnacionaldeguatemala.blogspot.com', 'http://www.skydancegt.com', 'http://www.metrobowl.com.gt', 'www.cosenzaacademy.com', 'www.trofeosfinos.com', 'eurobikegt.com', 'www.cosenzaacademy.com', 'www.forrestrunningshop.com', 'bdmsupercicles.wixsite.com/bike', 'http://wwwwdelfinesguatemala.com', 'http://www.haciendanueva.gt', 'www.trofeosfinos.com', 'eurobikegt.com', 'www.cosenzaacademy.com', 'www.forrestrunningshop.com', 'bdmsupercicles.wixsite.com/bike', 'http://wwwwdelfinesguatemala.com', 'http://www.haciendanueva.gt', 'www.trofeosfinos.com', 'eurobikegt.com', 'www.cosenzaacademy.com', 'www.forrestrunningshop.com', 'bdmsupercicles.wixsite.com/bike', 'http://wwwwdelfinesguatemala.com', 'http://www.haciendanueva.gt', 'http://www.conader.com.gt', 'http://www.segundadivisiondenoaficionados.com']\n"
     ]
    }
   ],
   "source": [
    "info = get_yellow_info('https://www.paginasamarillas.com.gt/servicios/deportes?page=4')\n",
    "print(check_size(info))\n",
    "paginas_web += info[-1]\n",
    "print(paginas_web)"
   ]
  },
  {
   "cell_type": "code",
   "execution_count": 323,
   "metadata": {},
   "outputs": [
    {
     "data": {
      "text/html": [
       "<div>\n",
       "<style scoped>\n",
       "    .dataframe tbody tr th:only-of-type {\n",
       "        vertical-align: middle;\n",
       "    }\n",
       "\n",
       "    .dataframe tbody tr th {\n",
       "        vertical-align: top;\n",
       "    }\n",
       "\n",
       "    .dataframe thead th {\n",
       "        text-align: right;\n",
       "    }\n",
       "</style>\n",
       "<table border=\"1\" class=\"dataframe\">\n",
       "  <thead>\n",
       "    <tr style=\"text-align: right;\">\n",
       "      <th></th>\n",
       "      <th>names</th>\n",
       "      <th>city</th>\n",
       "      <th>address</th>\n",
       "      <th>phone</th>\n",
       "      <th>categoria</th>\n",
       "    </tr>\n",
       "  </thead>\n",
       "  <tbody>\n",
       "    <tr>\n",
       "      <th>151</th>\n",
       "      <td>Multideportes</td>\n",
       "      <td>Guatemala - Guatemala</td>\n",
       "      <td>Calzada Aguilar Batres 34-70 Zona 11 Centro Co...</td>\n",
       "      <td>(+502) 2476 3943</td>\n",
       "      <td>Deportes</td>\n",
       "    </tr>\n",
       "    <tr>\n",
       "      <th>152</th>\n",
       "      <td>Mundo Deportivo Fetzer</td>\n",
       "      <td>Cobán - Alta Verapaz</td>\n",
       "      <td>Zona 2 Coban</td>\n",
       "      <td>(+502) 7951 0616</td>\n",
       "      <td>Deportes</td>\n",
       "    </tr>\n",
       "    <tr>\n",
       "      <th>153</th>\n",
       "      <td>Olimpus Gym</td>\n",
       "      <td>Zacapa - Zacapa</td>\n",
       "      <td>Cl 13-36 Zona 1 Colonia La Sociedad Zacapa</td>\n",
       "      <td>(+502) 7941 5145</td>\n",
       "      <td>Deportes</td>\n",
       "    </tr>\n",
       "    <tr>\n",
       "      <th>154</th>\n",
       "      <td>Soccer Express</td>\n",
       "      <td>Guatemala - Guatemala</td>\n",
       "      <td>Av 13-38 Zona 1 Guatemala Ciudad</td>\n",
       "      <td>(+502) 2221 0347</td>\n",
       "      <td>Deportes</td>\n",
       "    </tr>\n",
       "    <tr>\n",
       "      <th>155</th>\n",
       "      <td>Vida Sana</td>\n",
       "      <td>Guatemala - Guatemala</td>\n",
       "      <td>Calzada Aguilar Batres 34-70 Zona 11 Centro Co...</td>\n",
       "      <td>(+502) 2476 8145</td>\n",
       "      <td>Deportes</td>\n",
       "    </tr>\n",
       "  </tbody>\n",
       "</table>\n",
       "</div>"
      ],
      "text/plain": [
       "                      names                   city  \\\n",
       "151           Multideportes  Guatemala - Guatemala   \n",
       "152  Mundo Deportivo Fetzer   Cobán - Alta Verapaz   \n",
       "153             Olimpus Gym        Zacapa - Zacapa   \n",
       "154          Soccer Express  Guatemala - Guatemala   \n",
       "155               Vida Sana  Guatemala - Guatemala   \n",
       "\n",
       "                                               address             phone  \\\n",
       "151  Calzada Aguilar Batres 34-70 Zona 11 Centro Co...  (+502) 2476 3943   \n",
       "152                                       Zona 2 Coban  (+502) 7951 0616   \n",
       "153         Cl 13-36 Zona 1 Colonia La Sociedad Zacapa  (+502) 7941 5145   \n",
       "154                   Av 13-38 Zona 1 Guatemala Ciudad  (+502) 2221 0347   \n",
       "155  Calzada Aguilar Batres 34-70 Zona 11 Centro Co...  (+502) 2476 8145   \n",
       "\n",
       "    categoria  \n",
       "151  Deportes  \n",
       "152  Deportes  \n",
       "153  Deportes  \n",
       "154  Deportes  \n",
       "155  Deportes  "
      ]
     },
     "metadata": {},
     "output_type": "display_data"
    },
    {
     "data": {
      "text/plain": [
       "(156, 5)"
      ]
     },
     "execution_count": 323,
     "metadata": {},
     "output_type": "execute_result"
    }
   ],
   "source": [
    "df = pd.DataFrame(zip(info[0], info[1], info[2],info[3]),columns=['names','city','address','phone'])\n",
    "df['categoria'] = 'Deportes'\n",
    "gymy = pd.concat([gymy,df], ignore_index=True)\n",
    "gymy.to_csv('gymy.csv')\n",
    "display(gymy.tail())\n",
    "gymy.shape"
   ]
  },
  {
   "cell_type": "code",
   "execution_count": 420,
   "metadata": {},
   "outputs": [],
   "source": [
    "names=[]\n",
    "city=[]\n",
    "address=[]\n",
    "phone=[]\n",
    "web=[]\n",
    "description=[]"
   ]
  },
  {
   "cell_type": "code",
   "execution_count": 437,
   "metadata": {},
   "outputs": [],
   "source": [
    "def get_yellow_info_improved(url):\n",
    "    \n",
    "    response = requests.get(url)\n",
    "    \n",
    "    #get soup\n",
    "    soup = BeautifulSoup(response.text,'lxml')\n",
    "    \n",
    "    #getting main box\n",
    "    general = soup.find_all('div', itemtype=\"https://schema.org/LocalBusiness\")\n",
    "\n",
    "    \n",
    "    for i in range(len(general)):\n",
    "        \n",
    "        #NAMES\n",
    "        try:\n",
    "            names.append(general[i].find('a', class_='companyName').text.split('\\n')[1].strip())\n",
    "        except:\n",
    "            names.append(np.nan)\n",
    "            \n",
    "       #CITY\n",
    "        try:\n",
    "            city.append(general[i].find('span', class_='city').text.strip())\n",
    "        except:\n",
    "            city.append(np.nan)\n",
    "            \n",
    "        #Address\n",
    "        try:\n",
    "            address.append(general[i].find('span', class_='directionFig').text.split('\\n')[1].strip())\n",
    "        except:\n",
    "            address.append(np.nan)\n",
    "            \n",
    "        \n",
    "        #phone\n",
    "        try:\n",
    "            phone.append(general[i].find('span', class_='phoneFig hide').text.strip())\n",
    "        except:\n",
    "            phone.append(np.nan)\n",
    "        \n",
    "        #web\n",
    "        try:\n",
    "            web.append(general[i].find('a', class_='webLink').text.strip())\n",
    "            \n",
    "        except:\n",
    "            web.append(np.nan)\n",
    "            \n",
    "        #description\n",
    "        try:\n",
    "            description.append(general[i].find('div', class_='col-sm-12 infoBox').text.strip())\n",
    "        except:\n",
    "            description.append(np.nan)\n",
    "   \n",
    "    \n",
    "    return [names, city, address,phone,web,description,response.status_code]"
   ]
  },
  {
   "cell_type": "code",
   "execution_count": 442,
   "metadata": {},
   "outputs": [],
   "source": [
    "def check_size(lista_retorno):\n",
    "    return print(len(lista_retorno[0]),len(lista_retorno[1]),len(lista_retorno[2]),len(lista_retorno[3]),len(lista_retorno[4]),len(lista_retorno[5]))"
   ]
  },
  {
   "cell_type": "code",
   "execution_count": 453,
   "metadata": {},
   "outputs": [],
   "source": [
    "url = 'https://www.paginasamarillas.com.gt/servicios/entrenamiento-fisico'\n",
    "\n",
    "response = requests.get(url)\n",
    "soup = BeautifulSoup(response.text,'lxml')\n",
    "general = soup.find_all('div', itemtype=\"https://schema.org/LocalBusiness\")"
   ]
  },
  {
   "cell_type": "code",
   "execution_count": 457,
   "metadata": {},
   "outputs": [],
   "source": [
    "test = get_yellow_info_improved(url)"
   ]
  },
  {
   "cell_type": "code",
   "execution_count": 458,
   "metadata": {},
   "outputs": [
    {
     "name": "stdout",
     "output_type": "stream",
     "text": [
      "20 20 20 20 20 20\n"
     ]
    }
   ],
   "source": [
    "check_size(test)"
   ]
  },
  {
   "cell_type": "code",
   "execution_count": 459,
   "metadata": {},
   "outputs": [
    {
     "data": {
      "text/plain": [
       "200"
      ]
     },
     "execution_count": 459,
     "metadata": {},
     "output_type": "execute_result"
    }
   ],
   "source": [
    "test[6]"
   ]
  },
  {
   "cell_type": "code",
   "execution_count": 400,
   "metadata": {},
   "outputs": [
    {
     "data": {
      "text/plain": [
       "'Todo en materiales para construcción, ferretería en general, pisos, sanitarios, lavatrastos, hierro, laminas, cemento, y mucho más.\\nOpciones de financiamiento,  visa cuotas,  servicio a domicilio,  herramienta manual y eléctrica,  tubería de PVC,  depósitos y cisternas,  pilas plásticas,  grifería,  electricidad e iluminación,  cerrajería y accesorios y mucho más!…'"
      ]
     },
     "execution_count": 400,
     "metadata": {},
     "output_type": "execute_result"
    }
   ],
   "source": [
    "general[0].find('div', class_='col-sm-12 infoBox').text.strip()"
   ]
  },
  {
   "cell_type": "code",
   "execution_count": 337,
   "metadata": {},
   "outputs": [],
   "source": []
  },
  {
   "cell_type": "code",
   "execution_count": 338,
   "metadata": {},
   "outputs": [
    {
     "data": {
      "text/plain": [
       "20"
      ]
     },
     "execution_count": 338,
     "metadata": {},
     "output_type": "execute_result"
    }
   ],
   "source": [
    "len(general)"
   ]
  },
  {
   "cell_type": "code",
   "execution_count": 345,
   "metadata": {},
   "outputs": [
    {
     "data": {
      "text/plain": [
       "[<a class=\"companyName\" href=\"https://www.paginasamarillas.com.gt/empresas/distribuidora-carrillo/guatemala-16361190?ad=27685504\" onclick=\"return clickNameIntegration(this,TipoClick.CLIC_WEB,'27685504','16361190',LOCALITY_ID,LOCALITY_TERM,CATEGORY_ID,Pagina.PAGE_RESULTADOS,'');\"><span class=\"semibold indexFig\">1.</span>\n",
       " <span class=\"semibold\" data-adname=\"\">Distribuidora Carrillo</span> </a>]"
      ]
     },
     "execution_count": 345,
     "metadata": {},
     "output_type": "execute_result"
    }
   ],
   "source": [
    "general[0].find_all('a', class_='companyName')"
   ]
  },
  {
   "cell_type": "code",
   "execution_count": 358,
   "metadata": {},
   "outputs": [],
   "source": [
    "names = [general[i].find_all('a', class_='companyName')[0].text.split('\\n')[1].strip() for i in range(len(general))]"
   ]
  },
  {
   "cell_type": "code",
   "execution_count": 356,
   "metadata": {},
   "outputs": [
    {
     "data": {
      "text/plain": [
       "'Distribuidora Carrillo'"
      ]
     },
     "execution_count": 356,
     "metadata": {},
     "output_type": "execute_result"
    }
   ],
   "source": [
    "general[0].find_all('a', class_='companyName')[0].text.split('\\n')[1].strip()"
   ]
  },
  {
   "cell_type": "code",
   "execution_count": 370,
   "metadata": {},
   "outputs": [],
   "source": [
    "address = [ for i in range(len(general))]"
   ]
  },
  {
   "cell_type": "code",
   "execution_count": 361,
   "metadata": {},
   "outputs": [
    {
     "data": {
      "text/plain": [
       "'Manzana 10 L 699 Zona 18 Colonia Maya'"
      ]
     },
     "execution_count": 361,
     "metadata": {},
     "output_type": "execute_result"
    }
   ],
   "source": [
    "general[0].find_all('span', class_='directionFig')[0].text.split('\\n')[1].strip()"
   ]
  },
  {
   "cell_type": "code",
   "execution_count": 371,
   "metadata": {},
   "outputs": [],
   "source": []
  },
  {
   "cell_type": "code",
   "execution_count": 372,
   "metadata": {},
   "outputs": [
    {
     "data": {
      "text/plain": [
       "['Guatemala - Guatemala',\n",
       " 'Guatemala - Guatemala',\n",
       " 'Guatemala - Guatemala',\n",
       " 'Guatemala - Guatemala',\n",
       " 'Guatemala - Guatemala',\n",
       " 'Guatemala - Guatemala',\n",
       " 'Guatemala - Guatemala',\n",
       " 'Amatitlán - Guatemala',\n",
       " 'Huehuetenango - Huehuetenango',\n",
       " 'Jocotenango - Sacatepequez',\n",
       " 'Guatemala - Guatemala',\n",
       " 'Guatemala - Guatemala',\n",
       " 'Guatemala - Guatemala',\n",
       " 'Guatemala - Guatemala',\n",
       " 'Guatemala - Guatemala',\n",
       " 'Guatemala - Guatemala',\n",
       " 'Guatemala - Guatemala',\n",
       " 'Guatemala - Guatemala',\n",
       " 'Guatemala - Guatemala',\n",
       " 'Guatemala - Guatemala']"
      ]
     },
     "execution_count": 372,
     "metadata": {},
     "output_type": "execute_result"
    }
   ],
   "source": [
    "city"
   ]
  },
  {
   "cell_type": "code",
   "execution_count": null,
   "metadata": {},
   "outputs": [],
   "source": [
    "col-sm-12 infoBox"
   ]
  },
  {
   "cell_type": "code",
   "execution_count": 374,
   "metadata": {},
   "outputs": [],
   "source": [
    "description = [ for i in range(len(general))]"
   ]
  },
  {
   "cell_type": "code",
   "execution_count": 378,
   "metadata": {},
   "outputs": [],
   "source": [
    "phone = [general[i].find_all('span', class_='phoneFig hide')[0].text.strip() for i in range(len(general))]"
   ]
  },
  {
   "cell_type": "code",
   "execution_count": 377,
   "metadata": {},
   "outputs": [
    {
     "data": {
      "text/plain": [
       "'(+502) 2492 4141'"
      ]
     },
     "execution_count": 377,
     "metadata": {},
     "output_type": "execute_result"
    }
   ],
   "source": [
    "general[0].find_all('span', class_='phoneFig hide')[0].text.strip()"
   ]
  },
  {
   "cell_type": "code",
   "execution_count": 382,
   "metadata": {},
   "outputs": [
    {
     "ename": "IndexError",
     "evalue": "list index out of range",
     "output_type": "error",
     "traceback": [
      "\u001b[0;31m---------------------------------------------------------------------------\u001b[0m",
      "\u001b[0;31mIndexError\u001b[0m                                Traceback (most recent call last)",
      "\u001b[0;32m<ipython-input-382-d6b4bfbd3635>\u001b[0m in \u001b[0;36m<module>\u001b[0;34m\u001b[0m\n\u001b[0;32m----> 1\u001b[0;31m \u001b[0mwebsite\u001b[0m \u001b[0;34m=\u001b[0m \u001b[0;34m[\u001b[0m\u001b[0mgeneral\u001b[0m\u001b[0;34m[\u001b[0m\u001b[0mi\u001b[0m\u001b[0;34m]\u001b[0m\u001b[0;34m.\u001b[0m\u001b[0mfind_all\u001b[0m\u001b[0;34m(\u001b[0m\u001b[0;34m'a'\u001b[0m\u001b[0;34m,\u001b[0m \u001b[0mclass_\u001b[0m\u001b[0;34m=\u001b[0m\u001b[0;34m'webLink'\u001b[0m\u001b[0;34m)\u001b[0m\u001b[0;34m[\u001b[0m\u001b[0;36m0\u001b[0m\u001b[0;34m]\u001b[0m\u001b[0;34m.\u001b[0m\u001b[0mtext\u001b[0m\u001b[0;34m.\u001b[0m\u001b[0mstrip\u001b[0m\u001b[0;34m(\u001b[0m\u001b[0;34m)\u001b[0m \u001b[0;32mfor\u001b[0m \u001b[0mi\u001b[0m \u001b[0;32min\u001b[0m \u001b[0mrange\u001b[0m\u001b[0;34m(\u001b[0m\u001b[0mlen\u001b[0m\u001b[0;34m(\u001b[0m\u001b[0mgeneral\u001b[0m\u001b[0;34m)\u001b[0m\u001b[0;34m)\u001b[0m\u001b[0;34m]\u001b[0m\u001b[0;34m\u001b[0m\u001b[0;34m\u001b[0m\u001b[0m\n\u001b[0m",
      "\u001b[0;32m<ipython-input-382-d6b4bfbd3635>\u001b[0m in \u001b[0;36m<listcomp>\u001b[0;34m(.0)\u001b[0m\n\u001b[0;32m----> 1\u001b[0;31m \u001b[0mwebsite\u001b[0m \u001b[0;34m=\u001b[0m \u001b[0;34m[\u001b[0m\u001b[0mgeneral\u001b[0m\u001b[0;34m[\u001b[0m\u001b[0mi\u001b[0m\u001b[0;34m]\u001b[0m\u001b[0;34m.\u001b[0m\u001b[0mfind_all\u001b[0m\u001b[0;34m(\u001b[0m\u001b[0;34m'a'\u001b[0m\u001b[0;34m,\u001b[0m \u001b[0mclass_\u001b[0m\u001b[0;34m=\u001b[0m\u001b[0;34m'webLink'\u001b[0m\u001b[0;34m)\u001b[0m\u001b[0;34m[\u001b[0m\u001b[0;36m0\u001b[0m\u001b[0;34m]\u001b[0m\u001b[0;34m.\u001b[0m\u001b[0mtext\u001b[0m\u001b[0;34m.\u001b[0m\u001b[0mstrip\u001b[0m\u001b[0;34m(\u001b[0m\u001b[0;34m)\u001b[0m \u001b[0;32mfor\u001b[0m \u001b[0mi\u001b[0m \u001b[0;32min\u001b[0m \u001b[0mrange\u001b[0m\u001b[0;34m(\u001b[0m\u001b[0mlen\u001b[0m\u001b[0;34m(\u001b[0m\u001b[0mgeneral\u001b[0m\u001b[0;34m)\u001b[0m\u001b[0;34m)\u001b[0m\u001b[0;34m]\u001b[0m\u001b[0;34m\u001b[0m\u001b[0;34m\u001b[0m\u001b[0m\n\u001b[0m",
      "\u001b[0;31mIndexError\u001b[0m: list index out of range"
     ]
    }
   ],
   "source": [
    "website = [ for i in range(len(general))]"
   ]
  },
  {
   "cell_type": "code",
   "execution_count": 397,
   "metadata": {},
   "outputs": [
    {
     "ename": "IndexError",
     "evalue": "list index out of range",
     "output_type": "error",
     "traceback": [
      "\u001b[0;31m---------------------------------------------------------------------------\u001b[0m",
      "\u001b[0;31mIndexError\u001b[0m                                Traceback (most recent call last)",
      "\u001b[0;32m<ipython-input-397-bce2af237001>\u001b[0m in \u001b[0;36m<module>\u001b[0;34m\u001b[0m\n\u001b[0;32m----> 1\u001b[0;31m \u001b[0mgeneral\u001b[0m\u001b[0;34m[\u001b[0m\u001b[0;36m5\u001b[0m\u001b[0;34m]\u001b[0m\u001b[0;34m.\u001b[0m\u001b[0mfind_all\u001b[0m\u001b[0;34m(\u001b[0m\u001b[0;34m'a'\u001b[0m\u001b[0;34m,\u001b[0m \u001b[0mclass_\u001b[0m\u001b[0;34m=\u001b[0m\u001b[0;34m'webLink'\u001b[0m\u001b[0;34m)\u001b[0m\u001b[0;34m[\u001b[0m\u001b[0;36m0\u001b[0m\u001b[0;34m]\u001b[0m\u001b[0;34m.\u001b[0m\u001b[0mtext\u001b[0m\u001b[0;34m.\u001b[0m\u001b[0mstrip\u001b[0m\u001b[0;34m(\u001b[0m\u001b[0;34m)\u001b[0m\u001b[0;34m\u001b[0m\u001b[0;34m\u001b[0m\u001b[0m\n\u001b[0m",
      "\u001b[0;31mIndexError\u001b[0m: list index out of range"
     ]
    }
   ],
   "source": [
    "general[5].find_all('a', class_='webLink')[0].text.strip()"
   ]
  },
  {
   "cell_type": "code",
   "execution_count": 388,
   "metadata": {},
   "outputs": [
    {
     "ename": "AttributeError",
     "evalue": "ResultSet object has no attribute 'find_all'. You're probably treating a list of elements like a single element. Did you call find_all() when you meant to call find()?",
     "output_type": "error",
     "traceback": [
      "\u001b[0;31m---------------------------------------------------------------------------\u001b[0m",
      "\u001b[0;31mAttributeError\u001b[0m                            Traceback (most recent call last)",
      "\u001b[0;32m<ipython-input-388-a12747e7e117>\u001b[0m in \u001b[0;36m<module>\u001b[0;34m\u001b[0m\n\u001b[0;32m----> 1\u001b[0;31m \u001b[0mlen\u001b[0m\u001b[0;34m(\u001b[0m\u001b[0mgeneral\u001b[0m\u001b[0;34m.\u001b[0m\u001b[0mfind_all\u001b[0m\u001b[0;34m(\u001b[0m\u001b[0;34m'a'\u001b[0m\u001b[0;34m,\u001b[0m \u001b[0mclass_\u001b[0m\u001b[0;34m=\u001b[0m\u001b[0;34m'webLink'\u001b[0m\u001b[0;34m)\u001b[0m\u001b[0;34m)\u001b[0m\u001b[0;34m\u001b[0m\u001b[0;34m\u001b[0m\u001b[0m\n\u001b[0m",
      "\u001b[0;32m/Library/Frameworks/Python.framework/Versions/3.8/lib/python3.8/site-packages/bs4/element.py\u001b[0m in \u001b[0;36m__getattr__\u001b[0;34m(self, key)\u001b[0m\n\u001b[1;32m   2125\u001b[0m     \u001b[0;32mdef\u001b[0m \u001b[0m__getattr__\u001b[0m\u001b[0;34m(\u001b[0m\u001b[0mself\u001b[0m\u001b[0;34m,\u001b[0m \u001b[0mkey\u001b[0m\u001b[0;34m)\u001b[0m\u001b[0;34m:\u001b[0m\u001b[0;34m\u001b[0m\u001b[0;34m\u001b[0m\u001b[0m\n\u001b[1;32m   2126\u001b[0m         \u001b[0;34m\"\"\"Raise a helpful exception to explain a common code fix.\"\"\"\u001b[0m\u001b[0;34m\u001b[0m\u001b[0;34m\u001b[0m\u001b[0m\n\u001b[0;32m-> 2127\u001b[0;31m         raise AttributeError(\n\u001b[0m\u001b[1;32m   2128\u001b[0m             \u001b[0;34m\"ResultSet object has no attribute '%s'. You're probably treating a list of elements like a single element. Did you call find_all() when you meant to call find()?\"\u001b[0m \u001b[0;34m%\u001b[0m \u001b[0mkey\u001b[0m\u001b[0;34m\u001b[0m\u001b[0;34m\u001b[0m\u001b[0m\n\u001b[1;32m   2129\u001b[0m         )\n",
      "\u001b[0;31mAttributeError\u001b[0m: ResultSet object has no attribute 'find_all'. You're probably treating a list of elements like a single element. Did you call find_all() when you meant to call find()?"
     ]
    }
   ],
   "source": [
    "len(general.find_all('a', class_='webLink'))"
   ]
  },
  {
   "cell_type": "code",
   "execution_count": 390,
   "metadata": {},
   "outputs": [
    {
     "data": {
      "text/plain": [
       "[<a class=\"webLink\" href=\"http://ww.distribuidoracarrillogt.com\" id=\"Web\" itemprop=\"url\" onclick=\"return clickLinkIntegration(this,TipoClick.CLIC_WEB,'27685504','16361190',LOCALITY_ID,LOCALITY_TERM,CATEGORY_ID,Pagina.PAGE_RESULTADOS,'');\" rel=\"nofollow\" target=\"_blank\" title=\"Visita la página web de Distribuidora Carrillo\">ww.distribuidoracarrillogt.com </a>]"
      ]
     },
     "execution_count": 390,
     "metadata": {},
     "output_type": "execute_result"
    }
   ],
   "source": [
    "general[0].find_all('a', class_='webLink')"
   ]
  },
  {
   "cell_type": "code",
   "execution_count": 392,
   "metadata": {},
   "outputs": [
    {
     "data": {
      "text/plain": [
       "20"
      ]
     },
     "execution_count": 392,
     "metadata": {},
     "output_type": "execute_result"
    }
   ],
   "source": [
    "len(general)"
   ]
  },
  {
   "cell_type": "code",
   "execution_count": null,
   "metadata": {},
   "outputs": [],
   "source": []
  }
 ],
 "metadata": {
  "kernelspec": {
   "display_name": "Python 3",
   "language": "python",
   "name": "python3"
  },
  "language_info": {
   "codemirror_mode": {
    "name": "ipython",
    "version": 3
   },
   "file_extension": ".py",
   "mimetype": "text/x-python",
   "name": "python",
   "nbconvert_exporter": "python",
   "pygments_lexer": "ipython3",
   "version": "3.8.0"
  }
 },
 "nbformat": 4,
 "nbformat_minor": 4
}
