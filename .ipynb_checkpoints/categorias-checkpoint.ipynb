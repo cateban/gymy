{
 "cells": [
  {
   "cell_type": "code",
   "execution_count": 1,
   "metadata": {},
   "outputs": [],
   "source": [
    "import re\n",
    "import requests\n",
    "from bs4 import BeautifulSoup\n",
    "import unidecode\n",
    "import numpy as np\n",
    "from selenium import webdriver\n",
    "from webdriver_manager.chrome import ChromeDriverManager"
   ]
  },
  {
   "cell_type": "code",
   "execution_count": 2,
   "metadata": {},
   "outputs": [],
   "source": [
    "scrap = 'https://www.gympass.com/mx/gimnasios'"
   ]
  },
  {
   "cell_type": "code",
   "execution_count": 3,
   "metadata": {},
   "outputs": [],
   "source": [
    "#inicializo chrome\n",
    "driver = webdriver.Chrome()\n",
    "\n",
    "driver.get(scrap)\n",
    "\n",
    "dropdown = driver.find_element_by_xpath('//*[@id=\"gyms_search\"]/div/div[1]/div[1]/div/div[2]/div/div/span/span[1]/span/span[2]')\n",
    "\n",
    "dropdown.click()\n",
    "\n",
    "resp = driver.execute_script(\"return document.documentElement.outerHTML\")\n",
    "\n",
    "driver.quit()\n",
    "\n",
    "soup = BeautifulSoup(resp,'lxml')"
   ]
  },
  {
   "cell_type": "code",
   "execution_count": 4,
   "metadata": {},
   "outputs": [],
   "source": [
    "general = soup.find_all('span', class_='select2-results')"
   ]
  },
  {
   "cell_type": "code",
   "execution_count": 5,
   "metadata": {},
   "outputs": [],
   "source": [
    "categorias = general[0].find_all('li')"
   ]
  },
  {
   "cell_type": "code",
   "execution_count": 6,
   "metadata": {},
   "outputs": [],
   "source": [
    "listacat = [categorias[i].text for i in range(len(categorias))]"
   ]
  },
  {
   "cell_type": "code",
   "execution_count": 7,
   "metadata": {},
   "outputs": [
    {
     "data": {
      "text/plain": [
       "219"
      ]
     },
     "execution_count": 7,
     "metadata": {},
     "output_type": "execute_result"
    }
   ],
   "source": [
    "len(listacat)"
   ]
  },
  {
   "cell_type": "code",
   "execution_count": 8,
   "metadata": {},
   "outputs": [],
   "source": [
    "listacatr = listacat"
   ]
  },
  {
   "cell_type": "code",
   "execution_count": 9,
   "metadata": {},
   "outputs": [],
   "source": [
    "#listacatr = list(map(lambda x : 'yoga' if bool(re.search(r\"\\byoga\\b\", x.lower())) else x, listacatr))"
   ]
  },
  {
   "cell_type": "code",
   "execution_count": 10,
   "metadata": {},
   "outputs": [
    {
     "data": {
      "text/plain": [
       "'def baile(x): #si la string tiene or devuelve unknown\\n    baile = [\\'dance\\' , \\'salsa\\', \\'funk\\', \\'rhythm\\', \\'jazz\\',\\'latino\\', \\'zumba\\', \\'danza\\', \\'hip\\', \\'hop\\', \\n         \\'merengue\\', \\'twerk\\', \\'reggaeton\\', \\'breakdance\\', \\'ballet\\', \\'baile\\' , \\'bachata\\', \\'tango\\']\\n    for b in baile:\\n        if bool(re.search(r\"{}\".format(b), x.lower())):\\n            return \"baile\"\\n        \\n    return x\\n \\nfor i in range(len(listacatr)):\\n     listacatr[i] = listacatr[i].replace(listacatr[i],baile(listacatr[i]))'"
      ]
     },
     "execution_count": 10,
     "metadata": {},
     "output_type": "execute_result"
    }
   ],
   "source": [
    "\"\"\"def baile(x): #si la string tiene or devuelve unknown\n",
    "    baile = ['dance' , 'salsa', 'funk', 'rhythm', 'jazz','latino', 'zumba', 'danza', 'hip', 'hop', \n",
    "         'merengue', 'twerk', 'reggaeton', 'breakdance', 'ballet', 'baile' , 'bachata', 'tango']\n",
    "    for b in baile:\n",
    "        if bool(re.search(r\"{}\".format(b), x.lower())):\n",
    "            return \"baile\"\n",
    "        \n",
    "    return x\n",
    " \n",
    "for i in range(len(listacatr)):\n",
    "     listacatr[i] = listacatr[i].replace(listacatr[i],baile(listacatr[i]))\"\"\""
   ]
  },
  {
   "cell_type": "code",
   "execution_count": 17,
   "metadata": {},
   "outputs": [
    {
     "name": "stdout",
     "output_type": "stream",
     "text": [
      "['Abdominales', 'Acondicionamiento Físico', 'Acro Yoga', 'Acrobacias', 'Aero Boxeo', 'Aero Pilates', 'Aero danza', 'Aero-Zumba', 'Afromix', 'Aqua Zumba', 'Aquaerobic', 'Artes Marciales', 'Artes Marciales Tradicionales', 'Ashtanga Yoga', 'Bachata', 'Baile de salón', 'Bailes callejeros', 'Ballet', 'Ballet clásico', 'Ballet fitness', 'Ballet para niños', 'Baloncesto', 'Barra con pesas', 'Barrafit', 'Barre la aptitud', 'Bellydance Tribal Fusion', 'Bici', 'Bike Power', 'Bikram Yoga', 'Body Attack', 'Body Balance', 'Body Combat', 'Body Pump', 'Body Step', 'Bodyjam', 'Bootcamp', 'Boulderen', 'Boxeo', 'Boxeo funcional', 'Breakdance', 'Buceo', 'Calistenia', 'Capoeira', 'Capoeira para adultos', 'Capoeira para niños', 'Cardio', 'Cardio Boxing', 'Cardio MMA', 'Cardio dance', 'Chair Dance', 'Ciclismo', 'Ciclo Indoor', 'Circuito', 'Circuito funcional', 'Clase de bebé', 'Clases - Estimulación y desarrollo cognitivo y motor para bebes', 'Clases full body', 'Core', 'Core con bosu', 'Crioterapia', 'Cross Combat', 'Cross Training', 'Crossfit', 'Cuatro Pole Fitness', 'Cxworx', 'Dance Mix', 'Danza', 'Danza Contemporánea', 'Danza Folclórica', 'Danza Libre', 'Danza Moderna', 'Danza Pop', 'Danza africana', 'Danza aérea', 'Danza clásica china', 'Danza del vientre', 'Danza árabe', 'Defensa Personal', 'Deportes - Niños', 'Ejercicios educativos', 'Electroestimulación', 'Entrenador Personal - Danza', 'Entrenador Personal - Entrenamiento funcional', 'Entrenador Personal - Natación', 'Entrenador Personal - Pilates', 'Entrenador personal', 'Entrenamiento Funcional', 'Entrenamiento Integrado', 'Entrenamiento de fuerza y \\u200b\\u200bacondicionamiento muscular', 'Entrenamiento duro', 'Entrenamientos para grupos', 'Escalada', 'Estiramiento', 'Fit Training', 'Fit box', 'Fitball', 'Fitness Twerk', 'Flexibilidad', 'Flyng Cords', 'Full Contact', 'Funcional', 'Funk', 'Funk Jazz', 'Fusión', 'Fútbol', 'GLT Sculpt', 'Gap', 'Gimnasia', 'Gimnasia Artística', 'Gimnasia Olímpica', 'Gimnasia para niños', 'Gimnasia rítmica', 'Gyrotonic', 'HIIT', 'Hapkido - Niño', 'Hatha Yoga', 'Hip-Hop', 'Hot Yoga', 'Insanity fitness', 'Instructor de campo', 'Isostretching', 'Iyengar Yoga', 'Jazz', 'Jazz dance', 'Jiu-jitsu', 'Jiu-jitsu brasilero', 'Jiu-jitsu para niños', 'Judo', 'Juego de láser', 'Jujutsu', 'Jump Fit', 'Karate', 'Karate Shubu Dô', 'Karate para niños', 'Karate-Do - Kobudo', 'Kendo', 'Kickboxing', 'Kizomba', 'Krav Maga', 'Kundalini Yoga', 'Kung Fu Tai Chi', 'Kung-Fu', 'LIFT', 'La reducción de la gimnasia', 'Lucha', 'Lucha Libre', 'MMA', 'Meditación', 'Merengue', 'Mexe Fitness', 'Move fitness', 'Muay Thai', 'Musculación', 'Natación', 'Natación para niños', 'Parkour', 'Patines', 'Pesas libres', 'Pilates', 'Pilates Fit', 'Pilates Power', 'Pilates con Bola', 'Pilates sobre colchonetas', 'Pole Dance', 'Power Fight', 'Power Stretch Danza', 'Power Training', 'Power Yoga', 'Power ball', 'Power jump', 'Programa de acondicionamiento físico', 'RCycling', 'RPM', 'Reducción de Peso', 'Reggaeton', 'Relajación', 'Rhythms', 'Ritmos Latinos', 'Salsa', 'Salsa Cubana', 'Saltos', 'Sexy Dance', 'Shotokan Karate', 'Squash', 'Step', 'TRX', 'Tae Bo', 'Taekwon-do', 'Taekwondo', 'Tai Chi Chuan', 'Tango', 'Teatro libre', 'Tela Acrobática', 'Tenis', 'Tonificación del CORE', 'Training camp', 'Triatlón', 'Urban Dance', 'Vinyasana Yoga', 'Voleibol', 'Workout', 'Xtend Barre', 'Yin Yang Yoga', 'Yoga', 'Yoga - Vinyasa Flow', 'Yoga para niños', 'Yoga prenatal', 'Yoga restaurativo', 'Zouk', 'Zumba', 'Zumba Toning', 'barra de Flex', 'clases de niños', 'cumbias', 'gyrokinesis', 'hankumdo', 'lucha olimpica', 'rapel', 'reformador de Pilates']\n"
     ]
    }
   ],
   "source": [
    "print(sorted(listacatr))"
   ]
  },
  {
   "cell_type": "code",
   "execution_count": null,
   "metadata": {},
   "outputs": [],
   "source": []
  }
 ],
 "metadata": {
  "kernelspec": {
   "display_name": "Python 3",
   "language": "python",
   "name": "python3"
  },
  "language_info": {
   "codemirror_mode": {
    "name": "ipython",
    "version": 3
   },
   "file_extension": ".py",
   "mimetype": "text/x-python",
   "name": "python",
   "nbconvert_exporter": "python",
   "pygments_lexer": "ipython3",
   "version": "3.8.0"
  }
 },
 "nbformat": 4,
 "nbformat_minor": 4
}
